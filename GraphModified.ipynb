{
  "nbformat": 4,
  "nbformat_minor": 0,
  "metadata": {
    "colab": {
      "provenance": [],
      "include_colab_link": true
    },
    "kernelspec": {
      "name": "python3",
      "display_name": "Python 3"
    },
    "language_info": {
      "name": "python"
    }
  },
  "cells": [
    {
      "cell_type": "markdown",
      "metadata": {
        "id": "view-in-github",
        "colab_type": "text"
      },
      "source": [
        "<a href=\"https://colab.research.google.com/github/ChacoGolden/Stat-Data-Science/blob/main/GraphModified.ipynb\" target=\"_parent\"><img src=\"https://colab.research.google.com/assets/colab-badge.svg\" alt=\"Open In Colab\"/></a>"
      ]
    },
    {
      "cell_type": "code",
      "execution_count": 7,
      "metadata": {
        "colab": {
          "base_uri": "https://localhost:8080/"
        },
        "id": "OImUSGFmHyWb",
        "outputId": "4856ac4d-978e-4393-fb02-9e235762352c"
      },
      "outputs": [
        {
          "output_type": "stream",
          "name": "stdout",
          "text": [
            "        Country  Year       Waste   Income  Education  Women  Household   Age  \\\n",
            "184     Czechia  2021  490.559030  10625.0       23.4   72.1        2.3  43.6   \n",
            "185     Denmark  2021  588.134798  32088.0       34.8   75.5        2.0  42.2   \n",
            "186     Germany  2021  449.527947  24946.0       28.0   75.6        2.0  45.9   \n",
            "187     Estonia  2021  425.269999  12623.0       36.0   77.5        2.1  42.5   \n",
            "188     Ireland  2021  372.181172  28762.0       45.4   69.9        2.7  38.4   \n",
            "189       Spain  2021  487.408274  15892.0       36.2   62.1        2.5  44.6   \n",
            "190      France  2021  503.980795  22732.0       36.3   70.2        2.2  42.0   \n",
            "191       Italy  2021  488.772983  17532.0       17.8   53.2        2.3  47.6   \n",
            "192      Cyprus  2021  424.001706  16686.0       41.9   70.8        2.6  38.0   \n",
            "193      Latvia  2021  355.723710   9437.0       34.2   72.9        2.3  43.9   \n",
            "194   Lithuania  2021  500.626299   9669.0       39.8   76.7        2.1  44.5   \n",
            "195  Luxembourg  2021  364.897787  42482.0       44.5   70.3        2.2  39.6   \n",
            "196     Hungary  2021  499.689319   6619.0       25.4   73.6        2.3  43.7   \n",
            "197       Malta  2021  381.139569  17036.0       29.6   68.4        2.4  40.2   \n",
            "198     Austria  2021  508.271927  27428.0       31.8   71.3        2.2  43.6   \n",
            "199      Poland  2021  362.866172   8297.0       29.4   68.5        2.8  41.9   \n",
            "200    Portugal  2021  509.780389  11089.0       26.2   72.7        2.5  46.3   \n",
            "201     Romania  2021  228.223079   4830.0       16.4   56.9        2.5  43.0   \n",
            "202    Slovenia  2021  304.043494  15415.0       35.4   72.6        2.5  44.4   \n",
            "203    Slovakia  2021  455.313593   8473.0       24.7   70.4        2.9  41.4   \n",
            "204     Finland  2021  375.005129  25456.0       35.5   75.8        1.9  43.3   \n",
            "205      Sweden  2021  430.328950  25498.0       39.6   77.7        2.0  40.6   \n",
            "206      Norway  2021  446.883787  35911.0       40.6   77.5        2.0  40.2   \n",
            "207     Türkiye  2021  329.606017   2771.0       20.4   34.2        3.2  32.8   \n",
            "208     Belgium  2022  413.802548  27314.0       40.2   68.1        2.3  41.9   \n",
            "209    Bulgaria  2022  389.527533   5378.0       26.3   72.1        2.3  46.7   \n",
            "210     Czechia  2022  409.918523  12146.0       23.5   73.7        2.3  43.8   \n",
            "211     Denmark  2022  554.926602  33260.0       35.0   77.4        2.0  42.3   \n",
            "212     Germany  2022  436.442903  24925.0       27.9   76.7        2.0  45.8   \n",
            "213     Estonia  2022  436.438464  14827.0       36.7   80.4        2.1  42.6   \n",
            "214     Ireland  2022  356.990321  30063.0       46.1   72.6        2.7  38.8   \n",
            "215       Spain  2022  499.113597  16814.0       36.5   63.7        2.5  45.1   \n",
            "216      France  2022  510.826271  23053.0       36.9   71.2        2.2  42.2   \n",
            "217       Italy  2022  492.227876  18592.0       18.1   55.0        2.2  48.0   \n",
            "218      Cyprus  2022  421.899956  17856.0       43.3   73.4        2.6  38.3   \n",
            "219      Latvia  2022  373.659275  10258.0       34.5   75.5        2.2  44.0   \n",
            "220   Lithuania  2022  504.089098  10195.0       41.3   78.6        2.0  44.5   \n",
            "221  Luxembourg  2022  406.768237  45310.0       46.0   71.5        2.3  39.7   \n",
            "222     Hungary  2022  510.002130   6975.0       25.5   75.4        2.3  43.9   \n",
            "223       Malta  2022  378.600238  18155.0       29.4   72.9        2.4  40.5   \n",
            "224     Austria  2022  496.347504  27844.0       32.5   73.4        2.2  43.6   \n",
            "225      Poland  2022  377.198757   8946.0       30.0   70.3        2.9  42.2   \n",
            "226    Portugal  2022  510.808870  11014.0       26.8   74.3        2.5  46.7   \n",
            "227     Romania  2022  236.211035   5512.0       17.1   59.1        2.5  43.5   \n",
            "228    Slovenia  2022  307.464953  16544.0       35.1   74.3        2.4  44.7   \n",
            "229    Slovakia  2022  477.938297   8819.0       26.0   72.6        3.1  41.8   \n",
            "230     Finland  2022  301.988144  26541.0       35.9   77.8        1.9  43.4   \n",
            "231      Sweden  2022  410.815832  26738.0       41.1   79.1        2.0  40.7   \n",
            "232      Norway  2022  412.204001  39206.0       41.1   78.0        2.0  40.4   \n",
            "233     Türkiye  2022  316.603254   2804.0       21.0   37.0        3.2  32.9   \n",
            "\n",
            "        Urban  \n",
            "184  0.742140  \n",
            "185  0.882400  \n",
            "186  0.775440  \n",
            "187  0.694150  \n",
            "188  0.639120  \n",
            "189  0.810560  \n",
            "190  0.812420  \n",
            "191  0.713460  \n",
            "192  0.668560  \n",
            "193  0.684210  \n",
            "194  0.682490  \n",
            "195  0.916719  \n",
            "196  0.722450  \n",
            "197  0.948100  \n",
            "198  0.589950  \n",
            "199  0.600750  \n",
            "200  0.668490  \n",
            "201  0.543290  \n",
            "202  0.554270  \n",
            "203  0.538200  \n",
            "204  0.855960  \n",
            "205  0.882380  \n",
            "206  0.833230  \n",
            "207  0.765690  \n",
            "208  0.981530  \n",
            "209  0.763630  \n",
            "210  0.743770  \n",
            "211  0.883670  \n",
            "212  0.776480  \n",
            "213  0.696090  \n",
            "214  0.641830  \n",
            "215  0.813040  \n",
            "216  0.815090  \n",
            "217  0.716570  \n",
            "218  0.669110  \n",
            "219  0.685400  \n",
            "220  0.684650  \n",
            "221  0.918811  \n",
            "222  0.725520  \n",
            "223  0.948749  \n",
            "224  0.592560  \n",
            "225  0.601340  \n",
            "226  0.673810  \n",
            "227  0.544890  \n",
            "228  0.557510  \n",
            "229  0.539090  \n",
            "230  0.856810  \n",
            "231  0.884920  \n",
            "232  0.836640  \n",
            "233  0.770220  \n"
          ]
        }
      ],
      "source": [
        "import pandas as pd\n",
        "from statsmodels.tools import add_constant\n",
        "import numpy as np\n",
        "import matplotlib.pyplot as plt\n",
        "# Importing our merged and cleaned database\n",
        "data = pd.read_csv('https://raw.githubusercontent.com/ChacoGolden/Stat-Data-Science/refs/heads/main/Panel_Data_Inc_Edu_Infl_Wm_Hh_Age_Urb.csv')\n",
        "print(data.tail(50))"
      ]
    },
    {
      "cell_type": "code",
      "source": [
        "# Calculate the average for each country across all years\n",
        "country_averages = data.groupby('Country')[['Waste', 'Income']].mean().reset_index()\n",
        "\n",
        "# Print the result\n",
        "print(country_averages)"
      ],
      "metadata": {
        "colab": {
          "base_uri": "https://localhost:8080/"
        },
        "id": "4JiS3ggsca-a",
        "outputId": "407784a7-02b5-4738-9356-6afbb2938062"
      },
      "execution_count": 8,
      "outputs": [
        {
          "output_type": "stream",
          "name": "stdout",
          "text": [
            "       Country       Waste        Income\n",
            "0      Austria  500.048367  25294.333333\n",
            "1      Belgium  447.059027  23946.888889\n",
            "2     Bulgaria  400.376196   4038.333333\n",
            "3       Cyprus  430.789771  15500.777778\n",
            "4      Czechia  443.899034   9294.000000\n",
            "5      Denmark  607.350966  30124.777778\n",
            "6      Estonia  390.796239  10533.111111\n",
            "7      Finland  353.595952  24668.000000\n",
            "8       France  462.729633  22110.777778\n",
            "9      Germany  452.967933  22855.888889\n",
            "10     Hungary  372.030191   5574.666667\n",
            "11     Ireland  344.346995  24795.111111\n",
            "12       Italy  494.832967  16954.888889\n",
            "13      Latvia  360.954535   7560.555556\n",
            "14   Lithuania  457.427194   7192.555556\n",
            "15  Luxembourg  353.960882  37245.333333\n",
            "16       Malta  377.915842  15118.222222\n",
            "17      Norway  460.603874  39691.444444\n",
            "18      Poland  288.234894   6853.777778\n",
            "19    Portugal  490.404314   9643.222222\n",
            "20     Romania  213.875671   3489.333333\n",
            "21    Slovakia  398.547065   7716.555556\n",
            "22    Slovenia  301.811638  13702.777778\n",
            "23       Spain  473.136909  14783.777778\n",
            "24      Sweden  438.964085  25403.777778\n",
            "25     Türkiye  340.108812   3302.666667\n"
          ]
        }
      ]
    },
    {
      "cell_type": "code",
      "source": [
        "new_data = data[['Country', 'Year', 'Waste', 'Income']]\n",
        "print(new_data.head())"
      ],
      "metadata": {
        "colab": {
          "base_uri": "https://localhost:8080/"
        },
        "id": "LTIpl0RPpvHi",
        "outputId": "ed934f1e-1f7e-4886-c336-8fa948a58b22"
      },
      "execution_count": 9,
      "outputs": [
        {
          "output_type": "stream",
          "name": "stdout",
          "text": [
            "    Country  Year       Waste   Income\n",
            "0   Belgium  2014  484.672171  21705.0\n",
            "1  Bulgaria  2014  376.962939   3311.0\n",
            "2   Czechia  2014  310.164578   7622.0\n",
            "3   Denmark  2014  636.289226  27861.0\n",
            "4   Germany  2014  456.714036  19733.0\n"
          ]
        }
      ]
    },
    {
      "cell_type": "code",
      "source": [
        "# Define the countries for each cluster\n",
        "cluster1_countries = ['Romania', 'Bulgaria', 'Türkiye', 'Hungary', 'Poland', 'Lithuania','Lativa']\n",
        "cluster2_countries = ['Slovakia', 'Czechia', 'Portugal','Estonia','Slovenia','Spain']\n",
        "cluster3_countries = ['Malta', 'Cyprus', 'Italy','France','Germany','Belgium','Finland']\n",
        "cluster4_countries = ['Denmark', 'Austria', 'Sweden', 'Ireland', 'Luxembourg','Norway']\n",
        "\n",
        "# Create a new column 'Cluster' in the DataFrame\n",
        "data['Cluster'] = 0  # Initialize with 0\n",
        "\n",
        "# Assign cluster numbers based on country\n",
        "data.loc[data['Country'].isin(cluster1_countries), 'Cluster'] = 0\n",
        "data.loc[data['Country'].isin(cluster2_countries), 'Cluster'] = 1\n",
        "data.loc[data['Country'].isin(cluster3_countries), 'Cluster'] = 2\n",
        "data.loc[data['Country'].isin(cluster4_countries), 'Cluster'] = 3\n",
        "\n",
        "cluster_means = data.groupby('Cluster')[['Waste', 'Income']].mean()\n",
        "\n"
      ],
      "metadata": {
        "id": "ajsvQp8h0Iog"
      },
      "execution_count": 10,
      "outputs": []
    },
    {
      "cell_type": "code",
      "source": [
        "print(cluster_means)"
      ],
      "metadata": {
        "colab": {
          "base_uri": "https://localhost:8080/"
        },
        "id": "dNVdgwgR07E6",
        "outputId": "8594ed75-2558-4d4a-dfa3-b2c95c74c27e"
      },
      "execution_count": 11,
      "outputs": [
        {
          "output_type": "stream",
          "name": "stdout",
          "text": [
            "              Waste        Income\n",
            "Cluster                          \n",
            "0        347.572499   5430.269841\n",
            "1        416.432533  10945.574074\n",
            "2        431.413018  20165.063492\n",
            "3        450.879195  30425.796296\n"
          ]
        }
      ]
    },
    {
      "cell_type": "code",
      "source": [
        "\n",
        "# ... (your existing code to define clusters and calculate means) ...\n",
        "\n",
        "# Create bar chart for Waste with custom cluster names\n",
        "cluster_means['Waste'].plot(kind='bar', figsize=(10, 6))\n",
        "plt.title('Comparison of household waste across income clusters')\n",
        "plt.xlabel('Mean of income per capita')\n",
        "plt.ylabel('Mean of household waste per capita')\n",
        "plt.xticks(rotation=45, ha='right')  # Rotate x-axis labels for better readability\n",
        "\n",
        "# Custom cluster names\n",
        "cluster_names = ['<7\\'500 euros', '7\\'501-15\\'000 euros', '15\\'001 - 25\\'000 euros', '>25\\'001 euros']\n",
        "plt.xticks(range(len(cluster_names)), cluster_names, rotation = 0, ha='center')  # Set custom x-axis labels\n",
        "\n",
        "plt.ylim(200, 500)\n",
        "plt.show()"
      ],
      "metadata": {
        "colab": {
          "base_uri": "https://localhost:8080/",
          "height": 564
        },
        "id": "gI9SK-PL6dsU",
        "outputId": "1fad39fb-e569-4637-c20a-e0ea0fa73c08"
      },
      "execution_count": 12,
      "outputs": [
        {
          "output_type": "display_data",
          "data": {
            "text/plain": [
              "<Figure size 1000x600 with 1 Axes>"
            ],
            "image/png": "[encoded data removed]"
          },
          "metadata": {}
        }
      ]
    }
  ]
}