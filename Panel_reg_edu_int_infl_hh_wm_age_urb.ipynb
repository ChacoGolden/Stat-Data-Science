{
  "nbformat": 4,
  "nbformat_minor": 0,
  "metadata": {
    "colab": {
      "provenance": [],
      "name": "Panel_reg_edu_int_infl_hh_wm_age_urb.ipynb",
      "include_colab_link": true
    },
    "kernelspec": {
      "name": "python3",
      "display_name": "Python 3"
    },
    "language_info": {
      "name": "python"
    }
  },
  "cells": [
    {
      "cell_type": "markdown",
      "metadata": {
        "id": "view-in-github",
        "colab_type": "text"
      },
      "source": [
        "<a href=\"https://colab.research.google.com/github/ChacoGolden/Stat-Data-Science/blob/main/Panel_reg_edu_int_infl_hh_wm_age_urb.ipynb\" target=\"_parent\"><img src=\"https://colab.research.google.com/assets/colab-badge.svg\" alt=\"Open In Colab\"/></a>"
      ]
    },
    {
      "cell_type": "code",
      "source": [
        "!pip install linearmodels"
      ],
      "metadata": {
        "colab": {
          "base_uri": "https://localhost:8080/"
        },
        "id": "0K5ueD0Qc5X1",
        "outputId": "20a40249-baea-4b56-eac6-76482b8eb529"
      },
      "execution_count": null,
      "outputs": [
        {
          "output_type": "stream",
          "name": "stdout",
          "text": [
            "Collecting linearmodels\n",
            "  Downloading linearmodels-6.1-cp310-cp310-manylinux_2_17_x86_64.manylinux2014_x86_64.whl.metadata (7.9 kB)\n",
            "Requirement already satisfied: numpy<3,>=1.22.3 in /usr/local/lib/python3.10/dist-packages (from linearmodels) (1.26.4)\n",
            "Requirement already satisfied: pandas>=1.4.0 in /usr/local/lib/python3.10/dist-packages (from linearmodels) (2.2.2)\n",
            "Requirement already satisfied: scipy>=1.8.0 in /usr/local/lib/python3.10/dist-packages (from linearmodels) (1.13.1)\n",
            "Requirement already satisfied: statsmodels>=0.13.0 in /usr/local/lib/python3.10/dist-packages (from linearmodels) (0.14.4)\n",
            "Collecting mypy-extensions>=0.4 (from linearmodels)\n",
            "  Downloading mypy_extensions-1.0.0-py3-none-any.whl.metadata (1.1 kB)\n",
            "Requirement already satisfied: Cython>=3.0.10 in /usr/local/lib/python3.10/dist-packages (from linearmodels) (3.0.11)\n",
            "Collecting pyhdfe>=0.1 (from linearmodels)\n",
            "  Downloading pyhdfe-0.2.0-py3-none-any.whl.metadata (4.0 kB)\n",
            "Collecting formulaic>=1.0.0 (from linearmodels)\n",
            "  Downloading formulaic-1.0.2-py3-none-any.whl.metadata (6.8 kB)\n",
            "Collecting setuptools-scm<9.0.0,>=8.0.0 (from setuptools-scm[toml]<9.0.0,>=8.0.0->linearmodels)\n",
            "  Downloading setuptools_scm-8.1.0-py3-none-any.whl.metadata (6.6 kB)\n",
            "Collecting interface-meta>=1.2.0 (from formulaic>=1.0.0->linearmodels)\n",
            "  Downloading interface_meta-1.3.0-py3-none-any.whl.metadata (6.7 kB)\n",
            "Requirement already satisfied: typing-extensions>=4.2.0 in /usr/local/lib/python3.10/dist-packages (from formulaic>=1.0.0->linearmodels) (4.12.2)\n",
            "Requirement already satisfied: wrapt>=1.0 in /usr/local/lib/python3.10/dist-packages (from formulaic>=1.0.0->linearmodels) (1.16.0)\n",
            "Requirement already satisfied: python-dateutil>=2.8.2 in /usr/local/lib/python3.10/dist-packages (from pandas>=1.4.0->linearmodels) (2.8.2)\n",
            "Requirement already satisfied: pytz>=2020.1 in /usr/local/lib/python3.10/dist-packages (from pandas>=1.4.0->linearmodels) (2024.2)\n",
            "Requirement already satisfied: tzdata>=2022.7 in /usr/local/lib/python3.10/dist-packages (from pandas>=1.4.0->linearmodels) (2024.2)\n",
            "Requirement already satisfied: packaging>=20 in /usr/local/lib/python3.10/dist-packages (from setuptools-scm<9.0.0,>=8.0.0->setuptools-scm[toml]<9.0.0,>=8.0.0->linearmodels) (24.2)\n",
            "Requirement already satisfied: setuptools in /usr/local/lib/python3.10/dist-packages (from setuptools-scm<9.0.0,>=8.0.0->setuptools-scm[toml]<9.0.0,>=8.0.0->linearmodels) (75.1.0)\n",
            "Requirement already satisfied: tomli>=1 in /usr/local/lib/python3.10/dist-packages (from setuptools-scm<9.0.0,>=8.0.0->setuptools-scm[toml]<9.0.0,>=8.0.0->linearmodels) (2.1.0)\n",
            "Requirement already satisfied: patsy>=0.5.6 in /usr/local/lib/python3.10/dist-packages (from statsmodels>=0.13.0->linearmodels) (1.0.1)\n",
            "Requirement already satisfied: six>=1.5 in /usr/local/lib/python3.10/dist-packages (from python-dateutil>=2.8.2->pandas>=1.4.0->linearmodels) (1.16.0)\n",
            "Downloading linearmodels-6.1-cp310-cp310-manylinux_2_17_x86_64.manylinux2014_x86_64.whl (1.7 MB)\n",
            "\u001b[2K   \u001b[90m━━━━━━━━━━━━━━━━━━━━━━━━━━━━━━━━━━━━━━━━\u001b[0m \u001b[32m1.7/1.7 MB\u001b[0m \u001b[31m17.3 MB/s\u001b[0m eta \u001b[36m0:00:00\u001b[0m\n",
            "\u001b[?25hDownloading formulaic-1.0.2-py3-none-any.whl (94 kB)\n",
            "\u001b[2K   \u001b[90m━━━━━━━━━━━━━━━━━━━━━━━━━━━━━━━━━━━━━━━━\u001b[0m \u001b[32m94.5/94.5 kB\u001b[0m \u001b[31m4.7 MB/s\u001b[0m eta \u001b[36m0:00:00\u001b[0m\n",
            "\u001b[?25hDownloading mypy_extensions-1.0.0-py3-none-any.whl (4.7 kB)\n",
            "Downloading pyhdfe-0.2.0-py3-none-any.whl (19 kB)\n",
            "Downloading setuptools_scm-8.1.0-py3-none-any.whl (43 kB)\n",
            "\u001b[2K   \u001b[90m━━━━━━━━━━━━━━━━━━━━━━━━━━━━━━━━━━━━━━━━\u001b[0m \u001b[32m43.7/43.7 kB\u001b[0m \u001b[31m2.4 MB/s\u001b[0m eta \u001b[36m0:00:00\u001b[0m\n",
            "\u001b[?25hDownloading interface_meta-1.3.0-py3-none-any.whl (14 kB)\n",
            "Installing collected packages: setuptools-scm, mypy-extensions, interface-meta, pyhdfe, formulaic, linearmodels\n",
            "Successfully installed formulaic-1.0.2 interface-meta-1.3.0 linearmodels-6.1 mypy-extensions-1.0.0 pyhdfe-0.2.0 setuptools-scm-8.1.0\n"
          ]
        }
      ]
    },
    {
      "cell_type": "code",
      "source": [
        "import pandas as pd\n",
        "from linearmodels.panel import PanelOLS\n",
        "from statsmodels.tools import add_constant"
      ],
      "metadata": {
        "id": "t9S1-w-xcco2"
      },
      "execution_count": null,
      "outputs": []
    },
    {
      "cell_type": "code",
      "execution_count": null,
      "metadata": {
        "colab": {
          "base_uri": "https://localhost:8080/"
        },
        "id": "LuZmaAolb2RG",
        "outputId": "b6ac981d-ef84-4a53-c9c4-a75cc2062470"
      },
      "outputs": [
        {
          "output_type": "stream",
          "name": "stdout",
          "text": [
            "    Country  Year       Waste   Income  Education  Inflation  Women  \\\n",
            "0   Belgium  2014  484.672171  21705.0       32.6        0.5   62.9   \n",
            "1  Bulgaria  2014  376.962939   3311.0       23.6       -1.6   61.5   \n",
            "2   Czechia  2014  310.164578   7622.0       19.1        0.4   64.7   \n",
            "3   Denmark  2014  636.289226  27861.0       29.4        0.4   71.0   \n",
            "4   Germany  2014  456.714036  19733.0       23.2        0.8   72.1   \n",
            "\n",
            "   Household   Age    Urban  \n",
            "0        2.3  41.3  0.97833  \n",
            "1        2.6  43.7  0.73651  \n",
            "2        2.4  40.8  0.73384  \n",
            "3        2.0  41.3  0.87410  \n",
            "4        2.0  45.6  0.77190  \n"
          ]
        }
      ],
      "source": [
        "# Load the CSV file\n",
        "data = pd.read_csv('https://raw.githubusercontent.com/ChacoGolden/Stat-Data-Science/refs/heads/main/Panel_Data_Inc_Edu_Infl_Wm_Hh_Age_Urb.csv')\n",
        "# Convert 'Waste' from tons to kilograms\n",
        "data['Waste'] = data['Waste'] * 1000\n",
        "# Inspect the first few rows of the data\n",
        "print(data.head())"
      ]
    },
    {
      "cell_type": "code",
      "source": [
        "# Convert 'Country' and 'Year' to categorical variables (if not already)\n",
        "data['Country'] = data['Country'].astype('category')\n",
        "data['Year'] = data['Year'].astype('category')\n",
        "\n",
        "# Check for missing values\n",
        "print(data.isnull().sum())\n",
        "print(data.head())\n",
        "num_countries = data['Country'].nunique()\n",
        "print(f\"Number of different countries: {num_countries}\")"
      ],
      "metadata": {
        "colab": {
          "base_uri": "https://localhost:8080/"
        },
        "id": "BGKmCctocvWs",
        "outputId": "e68429ed-797e-422a-ce0f-a042dd5bc93e"
      },
      "execution_count": null,
      "outputs": [
        {
          "output_type": "stream",
          "name": "stdout",
          "text": [
            "Country      0\n",
            "Year         0\n",
            "Waste        0\n",
            "Income       0\n",
            "Education    0\n",
            "Inflation    0\n",
            "Women        0\n",
            "Household    0\n",
            "Age          1\n",
            "Urban        0\n",
            "dtype: int64\n",
            "    Country  Year       Waste   Income  Education  Inflation  Women  \\\n",
            "0   Belgium  2014  484.672171  21705.0       32.6        0.5   62.9   \n",
            "1  Bulgaria  2014  376.962939   3311.0       23.6       -1.6   61.5   \n",
            "2   Czechia  2014  310.164578   7622.0       19.1        0.4   64.7   \n",
            "3   Denmark  2014  636.289226  27861.0       29.4        0.4   71.0   \n",
            "4   Germany  2014  456.714036  19733.0       23.2        0.8   72.1   \n",
            "\n",
            "   Household   Age    Urban  \n",
            "0        2.3  41.3  0.97833  \n",
            "1        2.6  43.7  0.73651  \n",
            "2        2.4  40.8  0.73384  \n",
            "3        2.0  41.3  0.87410  \n",
            "4        2.0  45.6  0.77190  \n",
            "Number of different countries: 26\n"
          ]
        }
      ]
    },
    {
      "cell_type": "markdown",
      "source": [
        "Il manque les data pour l'âge moyen en Turquie"
      ],
      "metadata": {
        "id": "wkRGFy8gqYeV"
      }
    },
    {
      "cell_type": "code",
      "source": [
        "data['Year'] = data['Year'].astype(int)  # Or float if years are not integers\n",
        "\n"
      ],
      "metadata": {
        "id": "OboFOvaCeGQQ"
      },
      "execution_count": null,
      "outputs": []
    },
    {
      "cell_type": "code",
      "source": [
        "# Set 'Country' and 'Year' as index to create a MultiIndex\n",
        "data = data.set_index(['Country', 'Year'])"
      ],
      "metadata": {
        "id": "DuXR4kbAfEua"
      },
      "execution_count": null,
      "outputs": []
    },
    {
      "cell_type": "code",
      "source": [
        "# Define the dependent variable (Y) and independent variables (X)\n",
        "Y = data['Waste']\n",
        "X = data[['Income', 'Education', 'Inflation', 'Women', 'Household', 'Age', 'Urban']]\n",
        "\n",
        "# Add a constant term to the independent variables\n",
        "X = add_constant(X)"
      ],
      "metadata": {
        "id": "cCatAL2oeMM9"
      },
      "execution_count": null,
      "outputs": []
    },
    {
      "cell_type": "code",
      "source": [
        "# Run the fixed effects model\n",
        "model = PanelOLS(dependent=Y, exog=X, entity_effects=True, time_effects=True)\n",
        "results = model.fit(cov_type='robust')\n",
        "\n",
        "# Display the results\n",
        "print(results.summary)"
      ],
      "metadata": {
        "colab": {
          "base_uri": "https://localhost:8080/"
        },
        "id": "0yOckbs0dEx_",
        "outputId": "ccd67fb6-65fd-4288-cb53-2e09f9285431"
      },
      "execution_count": null,
      "outputs": [
        {
          "output_type": "stream",
          "name": "stdout",
          "text": [
            "                          PanelOLS Estimation Summary                           \n",
            "================================================================================\n",
            "Dep. Variable:                  Waste   R-squared:                        0.2628\n",
            "Estimator:                   PanelOLS   R-squared (Between):             -4.8431\n",
            "No. Observations:                 233   R-squared (Within):              -0.2728\n",
            "Date:                Wed, Dec 04 2024   R-squared (Overall):             -3.9052\n",
            "Time:                        12:38:04   Log-likelihood                   -1130.7\n",
            "Cov. Estimator:                Robust                                           \n",
            "                                        F-statistic:                      9.7798\n",
            "Entities:                          26   P-value                           0.0000\n",
            "Avg Obs:                       8.9615   Distribution:                   F(7,192)\n",
            "Min Obs:                       8.0000                                           \n",
            "Max Obs:                       9.0000   F-statistic (robust):             14.367\n",
            "                                        P-value                           0.0000\n",
            "Time periods:                       9   Distribution:                   F(7,192)\n",
            "Avg Obs:                       25.889                                           \n",
            "Min Obs:                       25.000                                           \n",
            "Max Obs:                       26.000                                           \n",
            "                                                                                \n",
            "                             Parameter Estimates                              \n",
            "==============================================================================\n",
            "            Parameter  Std. Err.     T-stat    P-value    Lower CI    Upper CI\n",
            "------------------------------------------------------------------------------\n",
            "const         -797.44     518.00    -1.5395     0.1253     -1819.1      224.26\n",
            "Income         0.0002     0.0022     0.0712     0.9433     -0.0042      0.0045\n",
            "Education      6.9580     2.3750     2.9296     0.0038      2.2735      11.643\n",
            "Inflation      5.1135     1.6536     3.0923     0.0023      1.8519      8.3751\n",
            "Women          3.3188     1.7016     1.9504     0.0526     -0.0374      6.6750\n",
            "Household      132.33     44.605     2.9667     0.0034      44.351      220.31\n",
            "Age            30.111     5.7719     5.2169     0.0000      18.727      41.496\n",
            "Urban         -1103.4     644.97    -1.7108     0.0887     -2375.5      168.74\n",
            "==============================================================================\n",
            "\n",
            "F-test for Poolability: 28.044\n",
            "P-value: 0.0000\n",
            "Distribution: F(33,192)\n",
            "\n",
            "Included effects: Entity, Time\n"
          ]
        },
        {
          "output_type": "stream",
          "name": "stderr",
          "text": [
            "/usr/local/lib/python3.10/dist-packages/linearmodels/panel/model.py:1260: MissingValueWarning: \n",
            "Inputs contain missing values. Dropping rows with missing observations.\n",
            "  super().__init__(dependent, exog, weights=weights, check_rank=check_rank)\n",
            "/usr/local/lib/python3.10/dist-packages/linearmodels/panel/data.py:590: FutureWarning: The default of observed=False is deprecated and will be changed to True in a future version of pandas. Pass observed=False to retain current behavior or observed=True to adopt the future default and silence this warning.\n",
            "  group_mu = self._frame.groupby(level=level).transform(\"mean\")\n",
            "/usr/local/lib/python3.10/dist-packages/linearmodels/panel/data.py:590: FutureWarning: The default of observed=False is deprecated and will be changed to True in a future version of pandas. Pass observed=False to retain current behavior or observed=True to adopt the future default and silence this warning.\n",
            "  group_mu = self._frame.groupby(level=level).transform(\"mean\")\n",
            "/usr/local/lib/python3.10/dist-packages/linearmodels/panel/data.py:590: FutureWarning: The default of observed=False is deprecated and will be changed to True in a future version of pandas. Pass observed=False to retain current behavior or observed=True to adopt the future default and silence this warning.\n",
            "  group_mu = self._frame.groupby(level=level).transform(\"mean\")\n",
            "/usr/local/lib/python3.10/dist-packages/linearmodels/panel/data.py:590: FutureWarning: The default of observed=False is deprecated and will be changed to True in a future version of pandas. Pass observed=False to retain current behavior or observed=True to adopt the future default and silence this warning.\n",
            "  group_mu = self._frame.groupby(level=level).transform(\"mean\")\n",
            "/usr/local/lib/python3.10/dist-packages/linearmodels/panel/data.py:680: FutureWarning: The default of observed=False is deprecated and will be changed to True in a future version of pandas. Pass observed=False to retain current behavior or observed=True to adopt the future default and silence this warning.\n",
            "  mu = self._frame.groupby(level=level).mean()\n",
            "/usr/local/lib/python3.10/dist-packages/linearmodels/panel/data.py:680: FutureWarning: The default of observed=False is deprecated and will be changed to True in a future version of pandas. Pass observed=False to retain current behavior or observed=True to adopt the future default and silence this warning.\n",
            "  mu = self._frame.groupby(level=level).mean()\n",
            "/usr/local/lib/python3.10/dist-packages/linearmodels/panel/data.py:640: FutureWarning: The default of observed=False is deprecated and will be changed to True in a future version of pandas. Pass observed=False to retain current behavior or observed=True to adopt the future default and silence this warning.\n",
            "  out = self._frame.groupby(level=level).count()\n",
            "/usr/local/lib/python3.10/dist-packages/linearmodels/panel/data.py:680: FutureWarning: The default of observed=False is deprecated and will be changed to True in a future version of pandas. Pass observed=False to retain current behavior or observed=True to adopt the future default and silence this warning.\n",
            "  mu = self._frame.groupby(level=level).mean()\n",
            "/usr/local/lib/python3.10/dist-packages/linearmodels/panel/data.py:590: FutureWarning: The default of observed=False is deprecated and will be changed to True in a future version of pandas. Pass observed=False to retain current behavior or observed=True to adopt the future default and silence this warning.\n",
            "  group_mu = self._frame.groupby(level=level).transform(\"mean\")\n",
            "/usr/local/lib/python3.10/dist-packages/linearmodels/panel/data.py:680: FutureWarning: The default of observed=False is deprecated and will be changed to True in a future version of pandas. Pass observed=False to retain current behavior or observed=True to adopt the future default and silence this warning.\n",
            "  mu = self._frame.groupby(level=level).mean()\n",
            "/usr/local/lib/python3.10/dist-packages/linearmodels/panel/data.py:680: FutureWarning: The default of observed=False is deprecated and will be changed to True in a future version of pandas. Pass observed=False to retain current behavior or observed=True to adopt the future default and silence this warning.\n",
            "  mu = self._frame.groupby(level=level).mean()\n",
            "/usr/local/lib/python3.10/dist-packages/linearmodels/panel/data.py:590: FutureWarning: The default of observed=False is deprecated and will be changed to True in a future version of pandas. Pass observed=False to retain current behavior or observed=True to adopt the future default and silence this warning.\n",
            "  group_mu = self._frame.groupby(level=level).transform(\"mean\")\n"
          ]
        }
      ]
    },
    {
      "cell_type": "code",
      "source": [
        "# Create the interaction term\n",
        "data['Income_Education'] = data['Income'] * data['Education']"
      ],
      "metadata": {
        "id": "MfehmKVMgTQc"
      },
      "execution_count": null,
      "outputs": []
    },
    {
      "cell_type": "code",
      "source": [
        "# Define the dependent variable (Y) and independent variables (X)\n",
        "Y = data['Waste']\n",
        "X = data[['Income', 'Education', 'Inflation', 'Income_Education', 'Women', 'Household', 'Age', 'Urban']]\n",
        "\n",
        "# Add a constant term to the independent variables\n",
        "X = add_constant(X)\n",
        "\n",
        "# Run the fixed effects model with interaction term\n",
        "model = PanelOLS(dependent=Y, exog=X, entity_effects=True, time_effects=True)\n",
        "results = model.fit(cov_type='robust')\n",
        "\n",
        "# Display the results\n",
        "print(results.summary)"
      ],
      "metadata": {
        "colab": {
          "base_uri": "https://localhost:8080/"
        },
        "id": "6fhO_uQhgU4d",
        "outputId": "98ae1b26-bcf9-4522-d38e-942c7d737b67"
      },
      "execution_count": null,
      "outputs": [
        {
          "output_type": "stream",
          "name": "stdout",
          "text": [
            "                          PanelOLS Estimation Summary                           \n",
            "================================================================================\n",
            "Dep. Variable:                  Waste   R-squared:                        0.2632\n",
            "Estimator:                   PanelOLS   R-squared (Between):             -4.3343\n",
            "No. Observations:                 233   R-squared (Within):              -0.2570\n",
            "Date:                Wed, Dec 04 2024   R-squared (Overall):             -3.4936\n",
            "Time:                        12:39:19   Log-likelihood                   -1130.7\n",
            "Cov. Estimator:                Robust                                           \n",
            "                                        F-statistic:                      8.5306\n",
            "Entities:                          26   P-value                           0.0000\n",
            "Avg Obs:                       8.9615   Distribution:                   F(8,191)\n",
            "Min Obs:                       8.0000                                           \n",
            "Max Obs:                       9.0000   F-statistic (robust):             12.671\n",
            "                                        P-value                           0.0000\n",
            "Time periods:                       9   Distribution:                   F(8,191)\n",
            "Avg Obs:                       25.889                                           \n",
            "Min Obs:                       25.000                                           \n",
            "Max Obs:                       26.000                                           \n",
            "                                                                                \n",
            "                                Parameter Estimates                                 \n",
            "====================================================================================\n",
            "                  Parameter  Std. Err.     T-stat    P-value    Lower CI    Upper CI\n",
            "------------------------------------------------------------------------------------\n",
            "const               -816.38     524.84    -1.5555     0.1215     -1851.6      218.85\n",
            "Income               0.0017     0.0042     0.4009     0.6889     -0.0065      0.0099\n",
            "Education            7.6850     3.0216     2.5434     0.0118      1.7251      13.645\n",
            "Inflation            4.9332     1.6363     3.0149     0.0029      1.7057      8.1607\n",
            "Income_Education -3.267e-05   9.38e-05    -0.3483     0.7280     -0.0002      0.0002\n",
            "Women                3.0654     1.8086     1.6949     0.0917     -0.5020      6.6328\n",
            "Household            131.83     44.981     2.9308     0.0038      43.107      220.55\n",
            "Age                  29.453     5.8096     5.0697     0.0000      17.994      40.912\n",
            "Urban               -1054.0     657.51    -1.6029     0.1106     -2350.9      242.96\n",
            "====================================================================================\n",
            "\n",
            "F-test for Poolability: 21.804\n",
            "P-value: 0.0000\n",
            "Distribution: F(33,191)\n",
            "\n",
            "Included effects: Entity, Time\n"
          ]
        },
        {
          "output_type": "stream",
          "name": "stderr",
          "text": [
            "/usr/local/lib/python3.10/dist-packages/linearmodels/panel/model.py:1260: MissingValueWarning: \n",
            "Inputs contain missing values. Dropping rows with missing observations.\n",
            "  super().__init__(dependent, exog, weights=weights, check_rank=check_rank)\n",
            "/usr/local/lib/python3.10/dist-packages/linearmodels/panel/data.py:590: FutureWarning: The default of observed=False is deprecated and will be changed to True in a future version of pandas. Pass observed=False to retain current behavior or observed=True to adopt the future default and silence this warning.\n",
            "  group_mu = self._frame.groupby(level=level).transform(\"mean\")\n",
            "/usr/local/lib/python3.10/dist-packages/linearmodels/panel/data.py:590: FutureWarning: The default of observed=False is deprecated and will be changed to True in a future version of pandas. Pass observed=False to retain current behavior or observed=True to adopt the future default and silence this warning.\n",
            "  group_mu = self._frame.groupby(level=level).transform(\"mean\")\n",
            "/usr/local/lib/python3.10/dist-packages/linearmodels/panel/data.py:590: FutureWarning: The default of observed=False is deprecated and will be changed to True in a future version of pandas. Pass observed=False to retain current behavior or observed=True to adopt the future default and silence this warning.\n",
            "  group_mu = self._frame.groupby(level=level).transform(\"mean\")\n",
            "/usr/local/lib/python3.10/dist-packages/linearmodels/panel/data.py:590: FutureWarning: The default of observed=False is deprecated and will be changed to True in a future version of pandas. Pass observed=False to retain current behavior or observed=True to adopt the future default and silence this warning.\n",
            "  group_mu = self._frame.groupby(level=level).transform(\"mean\")\n",
            "/usr/local/lib/python3.10/dist-packages/linearmodels/panel/data.py:680: FutureWarning: The default of observed=False is deprecated and will be changed to True in a future version of pandas. Pass observed=False to retain current behavior or observed=True to adopt the future default and silence this warning.\n",
            "  mu = self._frame.groupby(level=level).mean()\n",
            "/usr/local/lib/python3.10/dist-packages/linearmodels/panel/data.py:680: FutureWarning: The default of observed=False is deprecated and will be changed to True in a future version of pandas. Pass observed=False to retain current behavior or observed=True to adopt the future default and silence this warning.\n",
            "  mu = self._frame.groupby(level=level).mean()\n",
            "/usr/local/lib/python3.10/dist-packages/linearmodels/panel/data.py:640: FutureWarning: The default of observed=False is deprecated and will be changed to True in a future version of pandas. Pass observed=False to retain current behavior or observed=True to adopt the future default and silence this warning.\n",
            "  out = self._frame.groupby(level=level).count()\n",
            "/usr/local/lib/python3.10/dist-packages/linearmodels/panel/data.py:680: FutureWarning: The default of observed=False is deprecated and will be changed to True in a future version of pandas. Pass observed=False to retain current behavior or observed=True to adopt the future default and silence this warning.\n",
            "  mu = self._frame.groupby(level=level).mean()\n",
            "/usr/local/lib/python3.10/dist-packages/linearmodels/panel/data.py:590: FutureWarning: The default of observed=False is deprecated and will be changed to True in a future version of pandas. Pass observed=False to retain current behavior or observed=True to adopt the future default and silence this warning.\n",
            "  group_mu = self._frame.groupby(level=level).transform(\"mean\")\n",
            "/usr/local/lib/python3.10/dist-packages/linearmodels/panel/data.py:680: FutureWarning: The default of observed=False is deprecated and will be changed to True in a future version of pandas. Pass observed=False to retain current behavior or observed=True to adopt the future default and silence this warning.\n",
            "  mu = self._frame.groupby(level=level).mean()\n",
            "/usr/local/lib/python3.10/dist-packages/linearmodels/panel/data.py:680: FutureWarning: The default of observed=False is deprecated and will be changed to True in a future version of pandas. Pass observed=False to retain current behavior or observed=True to adopt the future default and silence this warning.\n",
            "  mu = self._frame.groupby(level=level).mean()\n",
            "/usr/local/lib/python3.10/dist-packages/linearmodels/panel/data.py:590: FutureWarning: The default of observed=False is deprecated and will be changed to True in a future version of pandas. Pass observed=False to retain current behavior or observed=True to adopt the future default and silence this warning.\n",
            "  group_mu = self._frame.groupby(level=level).transform(\"mean\")\n"
          ]
        }
      ]
    },
    {
      "cell_type": "markdown",
      "source": [
        "The interaction is negative and significant, meaning the relationship between Income and Waste weakens as Education increases."
      ],
      "metadata": {
        "id": "OK0SDLiMhBSX"
      }
    },
    {
      "cell_type": "code",
      "source": [
        "import numpy as np\n",
        "\n",
        "# Transform 'Income' to its logarithm\n",
        "data['Log_Income'] = np.log(data['Income'])\n"
      ],
      "metadata": {
        "id": "WHMY42NKiL2E"
      },
      "execution_count": null,
      "outputs": []
    },
    {
      "cell_type": "code",
      "source": [
        "# Update the interaction term to reflect the log transformation\n",
        "data['Log_Income_Education'] = data['Log_Income'] * data['Education']\n",
        "X['Log_Income_Education'] = data['Log_Income_Education']\n",
        "\n",
        "# Define the dependent variable (Y) and independent variables (X)\n",
        "Y = data['Waste']\n",
        "X = data[['Log_Income', 'Education', 'Inflation', 'Log_Income_Education', 'Women', 'Household', 'Age', 'Urban']]\n",
        "\n",
        "\n",
        "\n",
        "# Add a constant term to the independent variables\n",
        "X = add_constant(X)\n",
        "\n",
        "# Run the fixed effects model\n",
        "model = PanelOLS(dependent=Y, exog=X, entity_effects=True, time_effects=True)\n",
        "results = model.fit(cov_type='robust')\n",
        "\n",
        "# Display the results\n",
        "print(results.summary)\n"
      ],
      "metadata": {
        "colab": {
          "base_uri": "https://localhost:8080/"
        },
        "id": "yd4EVYE7hDlY",
        "outputId": "b3931e3f-f656-4c86-da29-b13833d31caa"
      },
      "execution_count": null,
      "outputs": [
        {
          "output_type": "stream",
          "name": "stdout",
          "text": [
            "                          PanelOLS Estimation Summary                           \n",
            "================================================================================\n",
            "Dep. Variable:                  Waste   R-squared:                        0.2696\n",
            "Estimator:                   PanelOLS   R-squared (Between):             -2.3796\n",
            "No. Observations:                 233   R-squared (Within):              -0.2556\n",
            "Date:                Wed, Dec 04 2024   R-squared (Overall):             -1.9271\n",
            "Time:                        12:42:09   Log-likelihood                   -1129.6\n",
            "Cov. Estimator:                Robust                                           \n",
            "                                        F-statistic:                      8.8131\n",
            "Entities:                          26   P-value                           0.0000\n",
            "Avg Obs:                       8.9615   Distribution:                   F(8,191)\n",
            "Min Obs:                       8.0000                                           \n",
            "Max Obs:                       9.0000   F-statistic (robust):             12.959\n",
            "                                        P-value                           0.0000\n",
            "Time periods:                       9   Distribution:                   F(8,191)\n",
            "Avg Obs:                       25.889                                           \n",
            "Min Obs:                       25.000                                           \n",
            "Max Obs:                       26.000                                           \n",
            "                                                                                \n",
            "                                  Parameter Estimates                                   \n",
            "========================================================================================\n",
            "                      Parameter  Std. Err.     T-stat    P-value    Lower CI    Upper CI\n",
            "----------------------------------------------------------------------------------------\n",
            "const                   -1421.9     777.05    -1.8299     0.0688     -2954.6      110.80\n",
            "Log_Income               58.953     43.519     1.3546     0.1771     -26.887      144.79\n",
            "Education                15.595     13.392     1.1645     0.2457     -10.820      42.010\n",
            "Inflation                4.4577     1.5522     2.8719     0.0045      1.3961      7.5193\n",
            "Log_Income_Education    -0.8372     1.3198    -0.6343     0.5266     -3.4404      1.7661\n",
            "Women                    2.4995     1.6444     1.5199     0.1302     -0.7441      5.7430\n",
            "Household                143.79     46.209     3.1118     0.0021      52.647      234.94\n",
            "Age                      26.234     6.2859     4.1735     0.0000      13.835      38.633\n",
            "Urban                   -774.02     717.97    -1.0781     0.2824     -2190.2      642.14\n",
            "========================================================================================\n",
            "\n",
            "F-test for Poolability: 22.970\n",
            "P-value: 0.0000\n",
            "Distribution: F(33,191)\n",
            "\n",
            "Included effects: Entity, Time\n"
          ]
        },
        {
          "output_type": "stream",
          "name": "stderr",
          "text": [
            "/usr/local/lib/python3.10/dist-packages/linearmodels/panel/model.py:1260: MissingValueWarning: \n",
            "Inputs contain missing values. Dropping rows with missing observations.\n",
            "  super().__init__(dependent, exog, weights=weights, check_rank=check_rank)\n",
            "/usr/local/lib/python3.10/dist-packages/linearmodels/panel/data.py:590: FutureWarning: The default of observed=False is deprecated and will be changed to True in a future version of pandas. Pass observed=False to retain current behavior or observed=True to adopt the future default and silence this warning.\n",
            "  group_mu = self._frame.groupby(level=level).transform(\"mean\")\n",
            "/usr/local/lib/python3.10/dist-packages/linearmodels/panel/data.py:590: FutureWarning: The default of observed=False is deprecated and will be changed to True in a future version of pandas. Pass observed=False to retain current behavior or observed=True to adopt the future default and silence this warning.\n",
            "  group_mu = self._frame.groupby(level=level).transform(\"mean\")\n",
            "/usr/local/lib/python3.10/dist-packages/linearmodels/panel/data.py:590: FutureWarning: The default of observed=False is deprecated and will be changed to True in a future version of pandas. Pass observed=False to retain current behavior or observed=True to adopt the future default and silence this warning.\n",
            "  group_mu = self._frame.groupby(level=level).transform(\"mean\")\n",
            "/usr/local/lib/python3.10/dist-packages/linearmodels/panel/data.py:590: FutureWarning: The default of observed=False is deprecated and will be changed to True in a future version of pandas. Pass observed=False to retain current behavior or observed=True to adopt the future default and silence this warning.\n",
            "  group_mu = self._frame.groupby(level=level).transform(\"mean\")\n",
            "/usr/local/lib/python3.10/dist-packages/linearmodels/panel/data.py:680: FutureWarning: The default of observed=False is deprecated and will be changed to True in a future version of pandas. Pass observed=False to retain current behavior or observed=True to adopt the future default and silence this warning.\n",
            "  mu = self._frame.groupby(level=level).mean()\n",
            "/usr/local/lib/python3.10/dist-packages/linearmodels/panel/data.py:680: FutureWarning: The default of observed=False is deprecated and will be changed to True in a future version of pandas. Pass observed=False to retain current behavior or observed=True to adopt the future default and silence this warning.\n",
            "  mu = self._frame.groupby(level=level).mean()\n",
            "/usr/local/lib/python3.10/dist-packages/linearmodels/panel/data.py:640: FutureWarning: The default of observed=False is deprecated and will be changed to True in a future version of pandas. Pass observed=False to retain current behavior or observed=True to adopt the future default and silence this warning.\n",
            "  out = self._frame.groupby(level=level).count()\n",
            "/usr/local/lib/python3.10/dist-packages/linearmodels/panel/data.py:680: FutureWarning: The default of observed=False is deprecated and will be changed to True in a future version of pandas. Pass observed=False to retain current behavior or observed=True to adopt the future default and silence this warning.\n",
            "  mu = self._frame.groupby(level=level).mean()\n",
            "/usr/local/lib/python3.10/dist-packages/linearmodels/panel/data.py:590: FutureWarning: The default of observed=False is deprecated and will be changed to True in a future version of pandas. Pass observed=False to retain current behavior or observed=True to adopt the future default and silence this warning.\n",
            "  group_mu = self._frame.groupby(level=level).transform(\"mean\")\n",
            "/usr/local/lib/python3.10/dist-packages/linearmodels/panel/data.py:680: FutureWarning: The default of observed=False is deprecated and will be changed to True in a future version of pandas. Pass observed=False to retain current behavior or observed=True to adopt the future default and silence this warning.\n",
            "  mu = self._frame.groupby(level=level).mean()\n",
            "/usr/local/lib/python3.10/dist-packages/linearmodels/panel/data.py:680: FutureWarning: The default of observed=False is deprecated and will be changed to True in a future version of pandas. Pass observed=False to retain current behavior or observed=True to adopt the future default and silence this warning.\n",
            "  mu = self._frame.groupby(level=level).mean()\n",
            "/usr/local/lib/python3.10/dist-packages/linearmodels/panel/data.py:590: FutureWarning: The default of observed=False is deprecated and will be changed to True in a future version of pandas. Pass observed=False to retain current behavior or observed=True to adopt the future default and silence this warning.\n",
            "  group_mu = self._frame.groupby(level=level).transform(\"mean\")\n"
          ]
        }
      ]
    },
    {
      "cell_type": "code",
      "source": [
        "# Log-transform 'Income' and 'Waste'\n",
        "data['Log_Waste'] = np.log(data['Waste'])\n",
        "data['Log_Income'] = np.log(data['Income'])\n",
        "# Update the interaction term to use log-transformed income\n",
        "data['Log_Income_Education'] = data['Log_Income'] * data['Education']\n"
      ],
      "metadata": {
        "id": "1eN4i5YaiRBq"
      },
      "execution_count": null,
      "outputs": []
    },
    {
      "cell_type": "code",
      "source": [
        "# Define the dependent variable (Y) and independent variables (X)\n",
        "Y = data['Log_Waste']\n",
        "X = data[['Log_Income', 'Education', 'Inflation', 'Log_Income_Education']]\n",
        "\n",
        "# Add a constant term\n",
        "X = add_constant(X)\n",
        "\n",
        "# Run the fixed effects model\n",
        "model = PanelOLS(dependent=Y, exog=X, entity_effects=True, time_effects=True)\n",
        "results = model.fit()\n",
        "\n",
        "# Display the results\n",
        "print(results.summary)"
      ],
      "metadata": {
        "colab": {
          "base_uri": "https://localhost:8080/"
        },
        "id": "HENAsLg8ioAS",
        "outputId": "e29ea62b-fbf8-4696-9e8f-797c1735434c"
      },
      "execution_count": null,
      "outputs": [
        {
          "output_type": "stream",
          "name": "stdout",
          "text": [
            "                          PanelOLS Estimation Summary                           \n",
            "================================================================================\n",
            "Dep. Variable:              Log_Waste   R-squared:                        0.1598\n",
            "Estimator:                   PanelOLS   R-squared (Between):             -0.7768\n",
            "No. Observations:                 234   R-squared (Within):               0.2195\n",
            "Date:                Sun, Dec 01 2024   R-squared (Overall):             -0.5857\n",
            "Time:                        14:05:46   Log-likelihood                    244.73\n",
            "Cov. Estimator:            Unadjusted                                           \n",
            "                                        F-statistic:                      9.3210\n",
            "Entities:                          26   P-value                           0.0000\n",
            "Avg Obs:                       9.0000   Distribution:                   F(4,196)\n",
            "Min Obs:                       9.0000                                           \n",
            "Max Obs:                       9.0000   F-statistic (robust):             9.3210\n",
            "                                        P-value                           0.0000\n",
            "Time periods:                       9   Distribution:                   F(4,196)\n",
            "Avg Obs:                       26.000                                           \n",
            "Min Obs:                       26.000                                           \n",
            "Max Obs:                       26.000                                           \n",
            "                                                                                \n",
            "                                  Parameter Estimates                                   \n",
            "========================================================================================\n",
            "                      Parameter  Std. Err.     T-stat    P-value    Lower CI    Upper CI\n",
            "----------------------------------------------------------------------------------------\n",
            "const                    0.2859     0.9992     0.2861     0.7751     -1.6847      2.2564\n",
            "Log_Income               0.5385     0.0981     5.4892     0.0000      0.3450      0.7320\n",
            "Education                0.1230     0.0376     3.2720     0.0013      0.0489      0.1972\n",
            "Inflation               -0.0001     0.0019    -0.0609     0.9515     -0.0039      0.0037\n",
            "Log_Income_Education    -0.0107     0.0036    -2.9401     0.0037     -0.0179     -0.0035\n",
            "========================================================================================\n",
            "\n",
            "F-test for Poolability: 20.909\n",
            "P-value: 0.0000\n",
            "Distribution: F(33,196)\n",
            "\n",
            "Included effects: Entity, Time\n"
          ]
        },
        {
          "output_type": "stream",
          "name": "stderr",
          "text": [
            "/usr/local/lib/python3.10/dist-packages/linearmodels/panel/data.py:590: FutureWarning: The default of observed=False is deprecated and will be changed to True in a future version of pandas. Pass observed=False to retain current behavior or observed=True to adopt the future default and silence this warning.\n",
            "  group_mu = self._frame.groupby(level=level).transform(\"mean\")\n",
            "/usr/local/lib/python3.10/dist-packages/linearmodels/panel/data.py:590: FutureWarning: The default of observed=False is deprecated and will be changed to True in a future version of pandas. Pass observed=False to retain current behavior or observed=True to adopt the future default and silence this warning.\n",
            "  group_mu = self._frame.groupby(level=level).transform(\"mean\")\n",
            "/usr/local/lib/python3.10/dist-packages/linearmodels/panel/data.py:590: FutureWarning: The default of observed=False is deprecated and will be changed to True in a future version of pandas. Pass observed=False to retain current behavior or observed=True to adopt the future default and silence this warning.\n",
            "  group_mu = self._frame.groupby(level=level).transform(\"mean\")\n",
            "/usr/local/lib/python3.10/dist-packages/linearmodels/panel/data.py:590: FutureWarning: The default of observed=False is deprecated and will be changed to True in a future version of pandas. Pass observed=False to retain current behavior or observed=True to adopt the future default and silence this warning.\n",
            "  group_mu = self._frame.groupby(level=level).transform(\"mean\")\n",
            "/usr/local/lib/python3.10/dist-packages/linearmodels/panel/data.py:680: FutureWarning: The default of observed=False is deprecated and will be changed to True in a future version of pandas. Pass observed=False to retain current behavior or observed=True to adopt the future default and silence this warning.\n",
            "  mu = self._frame.groupby(level=level).mean()\n",
            "/usr/local/lib/python3.10/dist-packages/linearmodels/panel/data.py:680: FutureWarning: The default of observed=False is deprecated and will be changed to True in a future version of pandas. Pass observed=False to retain current behavior or observed=True to adopt the future default and silence this warning.\n",
            "  mu = self._frame.groupby(level=level).mean()\n",
            "/usr/local/lib/python3.10/dist-packages/linearmodels/panel/data.py:640: FutureWarning: The default of observed=False is deprecated and will be changed to True in a future version of pandas. Pass observed=False to retain current behavior or observed=True to adopt the future default and silence this warning.\n",
            "  out = self._frame.groupby(level=level).count()\n",
            "/usr/local/lib/python3.10/dist-packages/linearmodels/panel/data.py:680: FutureWarning: The default of observed=False is deprecated and will be changed to True in a future version of pandas. Pass observed=False to retain current behavior or observed=True to adopt the future default and silence this warning.\n",
            "  mu = self._frame.groupby(level=level).mean()\n",
            "/usr/local/lib/python3.10/dist-packages/linearmodels/panel/data.py:590: FutureWarning: The default of observed=False is deprecated and will be changed to True in a future version of pandas. Pass observed=False to retain current behavior or observed=True to adopt the future default and silence this warning.\n",
            "  group_mu = self._frame.groupby(level=level).transform(\"mean\")\n",
            "/usr/local/lib/python3.10/dist-packages/linearmodels/panel/data.py:680: FutureWarning: The default of observed=False is deprecated and will be changed to True in a future version of pandas. Pass observed=False to retain current behavior or observed=True to adopt the future default and silence this warning.\n",
            "  mu = self._frame.groupby(level=level).mean()\n",
            "/usr/local/lib/python3.10/dist-packages/linearmodels/panel/data.py:680: FutureWarning: The default of observed=False is deprecated and will be changed to True in a future version of pandas. Pass observed=False to retain current behavior or observed=True to adopt the future default and silence this warning.\n",
            "  mu = self._frame.groupby(level=level).mean()\n",
            "/usr/local/lib/python3.10/dist-packages/linearmodels/panel/data.py:590: FutureWarning: The default of observed=False is deprecated and will be changed to True in a future version of pandas. Pass observed=False to retain current behavior or observed=True to adopt the future default and silence this warning.\n",
            "  group_mu = self._frame.groupby(level=level).transform(\"mean\")\n"
          ]
        }
      ]
    }
  ]
}