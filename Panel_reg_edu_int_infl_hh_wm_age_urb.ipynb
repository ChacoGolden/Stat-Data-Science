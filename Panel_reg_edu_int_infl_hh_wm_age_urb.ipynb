{
  "nbformat": 4,
  "nbformat_minor": 0,
  "metadata": {
    "colab": {
      "provenance": [],
      "name": "Panel_reg_edu_int_infl_hh_wm_age_urb.ipynb",
      "include_colab_link": true
    },
    "kernelspec": {
      "name": "python3",
      "display_name": "Python 3"
    },
    "language_info": {
      "name": "python"
    }
  },
  "cells": [
    {
      "cell_type": "markdown",
      "metadata": {
        "id": "view-in-github",
        "colab_type": "text"
      },
      "source": [
        "<a href=\"https://colab.research.google.com/github/ChacoGolden/Stat-Data-Science/blob/main/Panel_reg_edu_int_infl_hh_wm_age_urb.ipynb\" target=\"_parent\"><img src=\"https://colab.research.google.com/assets/colab-badge.svg\" alt=\"Open In Colab\"/></a>"
      ]
    },
    {
      "cell_type": "code",
      "source": [
        "!pip install linearmodels"
      ],
      "metadata": {
        "colab": {
          "base_uri": "https://localhost:8080/"
        },
        "id": "0K5ueD0Qc5X1",
        "outputId": "b9034ffb-bcfb-4a98-96f7-ab21167f08ee"
      },
      "execution_count": 1,
      "outputs": [
        {
          "output_type": "stream",
          "name": "stdout",
          "text": [
            "Collecting linearmodels\n",
            "  Downloading linearmodels-6.1-cp310-cp310-manylinux_2_17_x86_64.manylinux2014_x86_64.whl.metadata (7.9 kB)\n",
            "Requirement already satisfied: numpy<3,>=1.22.3 in /usr/local/lib/python3.10/dist-packages (from linearmodels) (1.26.4)\n",
            "Requirement already satisfied: pandas>=1.4.0 in /usr/local/lib/python3.10/dist-packages (from linearmodels) (2.2.2)\n",
            "Requirement already satisfied: scipy>=1.8.0 in /usr/local/lib/python3.10/dist-packages (from linearmodels) (1.13.1)\n",
            "Requirement already satisfied: statsmodels>=0.13.0 in /usr/local/lib/python3.10/dist-packages (from linearmodels) (0.14.4)\n",
            "Collecting mypy-extensions>=0.4 (from linearmodels)\n",
            "  Downloading mypy_extensions-1.0.0-py3-none-any.whl.metadata (1.1 kB)\n",
            "Requirement already satisfied: Cython>=3.0.10 in /usr/local/lib/python3.10/dist-packages (from linearmodels) (3.0.11)\n",
            "Collecting pyhdfe>=0.1 (from linearmodels)\n",
            "  Downloading pyhdfe-0.2.0-py3-none-any.whl.metadata (4.0 kB)\n",
            "Collecting formulaic>=1.0.0 (from linearmodels)\n",
            "  Downloading formulaic-1.0.2-py3-none-any.whl.metadata (6.8 kB)\n",
            "Collecting setuptools-scm<9.0.0,>=8.0.0 (from setuptools-scm[toml]<9.0.0,>=8.0.0->linearmodels)\n",
            "  Downloading setuptools_scm-8.1.0-py3-none-any.whl.metadata (6.6 kB)\n",
            "Collecting interface-meta>=1.2.0 (from formulaic>=1.0.0->linearmodels)\n",
            "  Downloading interface_meta-1.3.0-py3-none-any.whl.metadata (6.7 kB)\n",
            "Requirement already satisfied: typing-extensions>=4.2.0 in /usr/local/lib/python3.10/dist-packages (from formulaic>=1.0.0->linearmodels) (4.12.2)\n",
            "Requirement already satisfied: wrapt>=1.0 in /usr/local/lib/python3.10/dist-packages (from formulaic>=1.0.0->linearmodels) (1.16.0)\n",
            "Requirement already satisfied: python-dateutil>=2.8.2 in /usr/local/lib/python3.10/dist-packages (from pandas>=1.4.0->linearmodels) (2.8.2)\n",
            "Requirement already satisfied: pytz>=2020.1 in /usr/local/lib/python3.10/dist-packages (from pandas>=1.4.0->linearmodels) (2024.2)\n",
            "Requirement already satisfied: tzdata>=2022.7 in /usr/local/lib/python3.10/dist-packages (from pandas>=1.4.0->linearmodels) (2024.2)\n",
            "Requirement already satisfied: packaging>=20 in /usr/local/lib/python3.10/dist-packages (from setuptools-scm<9.0.0,>=8.0.0->setuptools-scm[toml]<9.0.0,>=8.0.0->linearmodels) (24.2)\n",
            "Requirement already satisfied: setuptools in /usr/local/lib/python3.10/dist-packages (from setuptools-scm<9.0.0,>=8.0.0->setuptools-scm[toml]<9.0.0,>=8.0.0->linearmodels) (75.1.0)\n",
            "Requirement already satisfied: tomli>=1 in /usr/local/lib/python3.10/dist-packages (from setuptools-scm<9.0.0,>=8.0.0->setuptools-scm[toml]<9.0.0,>=8.0.0->linearmodels) (2.1.0)\n",
            "Requirement already satisfied: patsy>=0.5.6 in /usr/local/lib/python3.10/dist-packages (from statsmodels>=0.13.0->linearmodels) (1.0.1)\n",
            "Requirement already satisfied: six>=1.5 in /usr/local/lib/python3.10/dist-packages (from python-dateutil>=2.8.2->pandas>=1.4.0->linearmodels) (1.16.0)\n",
            "Downloading linearmodels-6.1-cp310-cp310-manylinux_2_17_x86_64.manylinux2014_x86_64.whl (1.7 MB)\n",
            "\u001b[2K   \u001b[90m━━━━━━━━━━━━━━━━━━━━━━━━━━━━━━━━━━━━━━━━\u001b[0m \u001b[32m1.7/1.7 MB\u001b[0m \u001b[31m13.7 MB/s\u001b[0m eta \u001b[36m0:00:00\u001b[0m\n",
            "\u001b[?25hDownloading formulaic-1.0.2-py3-none-any.whl (94 kB)\n",
            "\u001b[2K   \u001b[90m━━━━━━━━━━━━━━━━━━━━━━━━━━━━━━━━━━━━━━━━\u001b[0m \u001b[32m94.5/94.5 kB\u001b[0m \u001b[31m7.1 MB/s\u001b[0m eta \u001b[36m0:00:00\u001b[0m\n",
            "\u001b[?25hDownloading mypy_extensions-1.0.0-py3-none-any.whl (4.7 kB)\n",
            "Downloading pyhdfe-0.2.0-py3-none-any.whl (19 kB)\n",
            "Downloading setuptools_scm-8.1.0-py3-none-any.whl (43 kB)\n",
            "\u001b[2K   \u001b[90m━━━━━━━━━━━━━━━━━━━━━━━━━━━━━━━━━━━━━━━━\u001b[0m \u001b[32m43.7/43.7 kB\u001b[0m \u001b[31m3.6 MB/s\u001b[0m eta \u001b[36m0:00:00\u001b[0m\n",
            "\u001b[?25hDownloading interface_meta-1.3.0-py3-none-any.whl (14 kB)\n",
            "Installing collected packages: setuptools-scm, mypy-extensions, interface-meta, pyhdfe, formulaic, linearmodels\n",
            "Successfully installed formulaic-1.0.2 interface-meta-1.3.0 linearmodels-6.1 mypy-extensions-1.0.0 pyhdfe-0.2.0 setuptools-scm-8.1.0\n"
          ]
        }
      ]
    },
    {
      "cell_type": "code",
      "source": [
        "import pandas as pd\n",
        "from linearmodels.panel import PanelOLS\n",
        "from statsmodels.tools import add_constant"
      ],
      "metadata": {
        "id": "t9S1-w-xcco2"
      },
      "execution_count": 2,
      "outputs": []
    },
    {
      "cell_type": "code",
      "execution_count": 3,
      "metadata": {
        "colab": {
          "base_uri": "https://localhost:8080/"
        },
        "id": "LuZmaAolb2RG",
        "outputId": "0afccf20-c75e-4980-dcf0-4552bae9823d"
      },
      "outputs": [
        {
          "output_type": "stream",
          "name": "stdout",
          "text": [
            "    Country  Year       Waste   Income  Education  Inflation  Women  \\\n",
            "0   Belgium  2014  484.672171  21705.0       32.6        0.5   62.9   \n",
            "1  Bulgaria  2014  376.962939   3311.0       23.6       -1.6   61.5   \n",
            "2   Czechia  2014  310.164578   7622.0       19.1        0.4   64.7   \n",
            "3   Denmark  2014  636.289226  27861.0       29.4        0.4   71.0   \n",
            "4   Germany  2014  456.714036  19733.0       23.2        0.8   72.1   \n",
            "\n",
            "   Household   Age    Urban  \n",
            "0        2.3  41.3  0.97833  \n",
            "1        2.6  43.7  0.73651  \n",
            "2        2.4  40.8  0.73384  \n",
            "3        2.0  41.3  0.87410  \n",
            "4        2.0  45.6  0.77190  \n"
          ]
        }
      ],
      "source": [
        "# Load the CSV file\n",
        "data = pd.read_csv('https://raw.githubusercontent.com/ChacoGolden/Stat-Data-Science/refs/heads/main/Panel_Data_Inc_Edu_Infl_Wm_Hh_Age_Urb.csv')\n",
        "# Convert 'Waste' from tons to kilograms\n",
        "data['Waste'] = data['Waste'] * 1000\n",
        "# Inspect the first few rows of the data\n",
        "print(data.head())"
      ]
    },
    {
      "cell_type": "code",
      "source": [
        "# Convert 'Country' and 'Year' to categorical variables (if not already)\n",
        "data['Country'] = data['Country'].astype('category')\n",
        "data['Year'] = data['Year'].astype('category')\n",
        "\n",
        "# Check for missing values\n",
        "print(data.isnull().sum())\n",
        "data = data[data['Country'] != 'Türkiye']\n",
        "print(data.head())\n",
        "num_countries = data['Country'].nunique()\n",
        "print(f\"Number of different countries: {num_countries}\")\n",
        "print(data.isnull().sum())"
      ],
      "metadata": {
        "colab": {
          "base_uri": "https://localhost:8080/"
        },
        "id": "BGKmCctocvWs",
        "outputId": "863a2e11-99bd-46ad-9cdc-8f541fe4bc40"
      },
      "execution_count": 4,
      "outputs": [
        {
          "output_type": "stream",
          "name": "stdout",
          "text": [
            "Country      0\n",
            "Year         0\n",
            "Waste        0\n",
            "Income       0\n",
            "Education    0\n",
            "Inflation    0\n",
            "Women        0\n",
            "Household    0\n",
            "Age          1\n",
            "Urban        0\n",
            "dtype: int64\n",
            "    Country  Year       Waste   Income  Education  Inflation  Women  \\\n",
            "0   Belgium  2014  484.672171  21705.0       32.6        0.5   62.9   \n",
            "1  Bulgaria  2014  376.962939   3311.0       23.6       -1.6   61.5   \n",
            "2   Czechia  2014  310.164578   7622.0       19.1        0.4   64.7   \n",
            "3   Denmark  2014  636.289226  27861.0       29.4        0.4   71.0   \n",
            "4   Germany  2014  456.714036  19733.0       23.2        0.8   72.1   \n",
            "\n",
            "   Household   Age    Urban  \n",
            "0        2.3  41.3  0.97833  \n",
            "1        2.6  43.7  0.73651  \n",
            "2        2.4  40.8  0.73384  \n",
            "3        2.0  41.3  0.87410  \n",
            "4        2.0  45.6  0.77190  \n",
            "Number of different countries: 25\n",
            "Country      0\n",
            "Year         0\n",
            "Waste        0\n",
            "Income       0\n",
            "Education    0\n",
            "Inflation    0\n",
            "Women        0\n",
            "Household    0\n",
            "Age          0\n",
            "Urban        0\n",
            "dtype: int64\n"
          ]
        }
      ]
    },
    {
      "cell_type": "markdown",
      "source": [
        "Il manque les data pour l'âge moyen en Turquie"
      ],
      "metadata": {
        "id": "wkRGFy8gqYeV"
      }
    },
    {
      "cell_type": "code",
      "source": [
        "data['Year'] = data['Year'].astype(int)  # Or float if years are not integers"
      ],
      "metadata": {
        "id": "OboFOvaCeGQQ"
      },
      "execution_count": 5,
      "outputs": []
    },
    {
      "cell_type": "code",
      "source": [
        "# Set 'Country' and 'Year' as index to create a MultiIndex\n",
        "data = data.set_index(['Country', 'Year'])"
      ],
      "metadata": {
        "id": "DuXR4kbAfEua"
      },
      "execution_count": 6,
      "outputs": []
    },
    {
      "cell_type": "code",
      "source": [
        "# Define the dependent variable (Y) and independent variables (X)\n",
        "Y = data['Waste']\n",
        "X = data[['Income', 'Education', 'Women', 'Household','Urban', 'Age']]\n",
        "\n",
        "# Add a constant term to the independent variables\n",
        "X = add_constant(X)"
      ],
      "metadata": {
        "id": "cCatAL2oeMM9"
      },
      "execution_count": 11,
      "outputs": []
    },
    {
      "cell_type": "code",
      "source": [
        "# Run the fixed effects model\n",
        "model = PanelOLS(dependent=Y, exog=X, entity_effects=True, time_effects=True)\n",
        "results = model.fit(cov_type='robust')\n",
        "\n",
        "# Display the results\n",
        "print(results.summary)"
      ],
      "metadata": {
        "colab": {
          "base_uri": "https://localhost:8080/"
        },
        "id": "0yOckbs0dEx_",
        "outputId": "8dfc874d-fbd7-4c7d-98c4-1d240a38fab8"
      },
      "execution_count": 10,
      "outputs": [
        {
          "output_type": "stream",
          "name": "stdout",
          "text": [
            "                          PanelOLS Estimation Summary                           \n",
            "================================================================================\n",
            "Dep. Variable:                  Waste   R-squared:                        0.1060\n",
            "Estimator:                   PanelOLS   R-squared (Between):             -0.6008\n",
            "No. Observations:                 225   R-squared (Within):               0.2174\n",
            "Date:                Wed, Dec 04 2024   R-squared (Overall):             -0.4345\n",
            "Time:                        16:02:32   Log-likelihood                   -1116.3\n",
            "Cov. Estimator:                Robust                                           \n",
            "                                        F-statistic:                      4.4339\n",
            "Entities:                          25   P-value                           0.0008\n",
            "Avg Obs:                       9.0000   Distribution:                   F(5,187)\n",
            "Min Obs:                       9.0000                                           \n",
            "Max Obs:                       9.0000   F-statistic (robust):             5.0827\n",
            "                                        P-value                           0.0002\n",
            "Time periods:                       9   Distribution:                   F(5,187)\n",
            "Avg Obs:                       25.000                                           \n",
            "Min Obs:                       25.000                                           \n",
            "Max Obs:                       25.000                                           \n",
            "                                                                                \n",
            "                             Parameter Estimates                              \n",
            "==============================================================================\n",
            "            Parameter  Std. Err.     T-stat    P-value    Lower CI    Upper CI\n",
            "------------------------------------------------------------------------------\n",
            "const         -428.02     538.65    -0.7946     0.4278     -1490.6      634.59\n",
            "Income        -0.0004     0.0023    -0.1617     0.8717     -0.0049      0.0042\n",
            "Education      3.0267     2.8476     1.0629     0.2892     -2.5907      8.6442\n",
            "Women          7.1317     2.1420     3.3294     0.0010      2.9061      11.357\n",
            "Household      140.63     52.163     2.6959     0.0077      37.722      243.53\n",
            "Urban         -87.959     615.92    -0.1428     0.8866     -1303.0      1127.1\n",
            "==============================================================================\n",
            "\n",
            "F-test for Poolability: 23.921\n",
            "P-value: 0.0000\n",
            "Distribution: F(32,187)\n",
            "\n",
            "Included effects: Entity, Time\n"
          ]
        },
        {
          "output_type": "stream",
          "name": "stderr",
          "text": [
            "/usr/local/lib/python3.10/dist-packages/linearmodels/panel/data.py:590: FutureWarning: The default of observed=False is deprecated and will be changed to True in a future version of pandas. Pass observed=False to retain current behavior or observed=True to adopt the future default and silence this warning.\n",
            "  group_mu = self._frame.groupby(level=level).transform(\"mean\")\n",
            "/usr/local/lib/python3.10/dist-packages/linearmodels/panel/data.py:590: FutureWarning: The default of observed=False is deprecated and will be changed to True in a future version of pandas. Pass observed=False to retain current behavior or observed=True to adopt the future default and silence this warning.\n",
            "  group_mu = self._frame.groupby(level=level).transform(\"mean\")\n",
            "/usr/local/lib/python3.10/dist-packages/linearmodels/panel/data.py:590: FutureWarning: The default of observed=False is deprecated and will be changed to True in a future version of pandas. Pass observed=False to retain current behavior or observed=True to adopt the future default and silence this warning.\n",
            "  group_mu = self._frame.groupby(level=level).transform(\"mean\")\n",
            "/usr/local/lib/python3.10/dist-packages/linearmodels/panel/data.py:590: FutureWarning: The default of observed=False is deprecated and will be changed to True in a future version of pandas. Pass observed=False to retain current behavior or observed=True to adopt the future default and silence this warning.\n",
            "  group_mu = self._frame.groupby(level=level).transform(\"mean\")\n",
            "/usr/local/lib/python3.10/dist-packages/linearmodels/panel/data.py:680: FutureWarning: The default of observed=False is deprecated and will be changed to True in a future version of pandas. Pass observed=False to retain current behavior or observed=True to adopt the future default and silence this warning.\n",
            "  mu = self._frame.groupby(level=level).mean()\n",
            "/usr/local/lib/python3.10/dist-packages/linearmodels/panel/data.py:680: FutureWarning: The default of observed=False is deprecated and will be changed to True in a future version of pandas. Pass observed=False to retain current behavior or observed=True to adopt the future default and silence this warning.\n",
            "  mu = self._frame.groupby(level=level).mean()\n",
            "/usr/local/lib/python3.10/dist-packages/linearmodels/panel/data.py:640: FutureWarning: The default of observed=False is deprecated and will be changed to True in a future version of pandas. Pass observed=False to retain current behavior or observed=True to adopt the future default and silence this warning.\n",
            "  out = self._frame.groupby(level=level).count()\n",
            "/usr/local/lib/python3.10/dist-packages/linearmodels/panel/data.py:680: FutureWarning: The default of observed=False is deprecated and will be changed to True in a future version of pandas. Pass observed=False to retain current behavior or observed=True to adopt the future default and silence this warning.\n",
            "  mu = self._frame.groupby(level=level).mean()\n",
            "/usr/local/lib/python3.10/dist-packages/linearmodels/panel/data.py:590: FutureWarning: The default of observed=False is deprecated and will be changed to True in a future version of pandas. Pass observed=False to retain current behavior or observed=True to adopt the future default and silence this warning.\n",
            "  group_mu = self._frame.groupby(level=level).transform(\"mean\")\n",
            "/usr/local/lib/python3.10/dist-packages/linearmodels/panel/data.py:680: FutureWarning: The default of observed=False is deprecated and will be changed to True in a future version of pandas. Pass observed=False to retain current behavior or observed=True to adopt the future default and silence this warning.\n",
            "  mu = self._frame.groupby(level=level).mean()\n",
            "/usr/local/lib/python3.10/dist-packages/linearmodels/panel/data.py:680: FutureWarning: The default of observed=False is deprecated and will be changed to True in a future version of pandas. Pass observed=False to retain current behavior or observed=True to adopt the future default and silence this warning.\n",
            "  mu = self._frame.groupby(level=level).mean()\n",
            "/usr/local/lib/python3.10/dist-packages/linearmodels/panel/data.py:590: FutureWarning: The default of observed=False is deprecated and will be changed to True in a future version of pandas. Pass observed=False to retain current behavior or observed=True to adopt the future default and silence this warning.\n",
            "  group_mu = self._frame.groupby(level=level).transform(\"mean\")\n"
          ]
        }
      ]
    },
    {
      "cell_type": "code",
      "source": [
        "# Create the interaction term\n",
        "data['Income_Education'] = data['Income'] * data['Education']\n",
        "data['Income_Age'] = data['Income'] * data['Age']"
      ],
      "metadata": {
        "id": "MfehmKVMgTQc"
      },
      "execution_count": 12,
      "outputs": []
    },
    {
      "cell_type": "code",
      "source": [
        "# Define the dependent variable (Y) and independent variables (X)\n",
        "Y = data['Waste']\n",
        "X = data[['Income', 'Education', 'Inflation', 'Income_Education', 'Women', 'Household', 'Age', 'Urban', 'Income_Age']]\n",
        "\n",
        "# Add a constant term to the independent variables\n",
        "X = add_constant(X)\n",
        "\n",
        "# Run the fixed effects model with interaction term\n",
        "model = PanelOLS(dependent=Y, exog=X, entity_effects=True, time_effects=True)\n",
        "results = model.fit(cov_type='robust')\n",
        "\n",
        "# Display the results\n",
        "print(results.summary)"
      ],
      "metadata": {
        "colab": {
          "base_uri": "https://localhost:8080/"
        },
        "id": "6fhO_uQhgU4d",
        "outputId": "8bbc6130-c2db-422d-a2be-b561eb367478"
      },
      "execution_count": 13,
      "outputs": [
        {
          "output_type": "stream",
          "name": "stdout",
          "text": [
            "                          PanelOLS Estimation Summary                           \n",
            "================================================================================\n",
            "Dep. Variable:                  Waste   R-squared:                        0.2881\n",
            "Estimator:                   PanelOLS   R-squared (Between):             -1.2960\n",
            "No. Observations:                 225   R-squared (Within):              -0.0439\n",
            "Date:                Wed, Dec 04 2024   R-squared (Overall):             -1.0415\n",
            "Time:                        16:03:04   Log-likelihood                   -1090.7\n",
            "Cov. Estimator:                Robust                                           \n",
            "                                        F-statistic:                      8.2277\n",
            "Entities:                          25   P-value                           0.0000\n",
            "Avg Obs:                       9.0000   Distribution:                   F(9,183)\n",
            "Min Obs:                       9.0000                                           \n",
            "Max Obs:                       9.0000   F-statistic (robust):             12.042\n",
            "                                        P-value                           0.0000\n",
            "Time periods:                       9   Distribution:                   F(9,183)\n",
            "Avg Obs:                       25.000                                           \n",
            "Min Obs:                       25.000                                           \n",
            "Max Obs:                       25.000                                           \n",
            "                                                                                \n",
            "                                Parameter Estimates                                 \n",
            "====================================================================================\n",
            "                  Parameter  Std. Err.     T-stat    P-value    Lower CI    Upper CI\n",
            "------------------------------------------------------------------------------------\n",
            "const               -1519.3     646.10    -2.3515     0.0198     -2794.1     -244.54\n",
            "Income               0.0450     0.0179     2.5160     0.0127      0.0097      0.0804\n",
            "Education            8.3054     3.2965     2.5194     0.0126      1.8013      14.809\n",
            "Inflation            5.2029     1.7439     2.9835     0.0032      1.7621      8.6437\n",
            "Income_Education -4.951e-05   9.26e-05    -0.5347     0.5935     -0.0002      0.0001\n",
            "Women                0.5579     1.8793     0.2969     0.7669     -3.1500      4.2659\n",
            "Household            112.20     44.697     2.5103     0.0129      24.017      200.39\n",
            "Age                  40.381     6.8012     5.9373     0.0000      26.962      53.799\n",
            "Urban               -432.66     741.08    -0.5838     0.5601     -1894.8      1029.5\n",
            "Income_Age          -0.0011     0.0004    -2.5578     0.0113     -0.0019     -0.0002\n",
            "====================================================================================\n",
            "\n",
            "F-test for Poolability: 20.352\n",
            "P-value: 0.0000\n",
            "Distribution: F(32,183)\n",
            "\n",
            "Included effects: Entity, Time\n"
          ]
        },
        {
          "output_type": "stream",
          "name": "stderr",
          "text": [
            "/usr/local/lib/python3.10/dist-packages/linearmodels/panel/data.py:590: FutureWarning: The default of observed=False is deprecated and will be changed to True in a future version of pandas. Pass observed=False to retain current behavior or observed=True to adopt the future default and silence this warning.\n",
            "  group_mu = self._frame.groupby(level=level).transform(\"mean\")\n",
            "/usr/local/lib/python3.10/dist-packages/linearmodels/panel/data.py:590: FutureWarning: The default of observed=False is deprecated and will be changed to True in a future version of pandas. Pass observed=False to retain current behavior or observed=True to adopt the future default and silence this warning.\n",
            "  group_mu = self._frame.groupby(level=level).transform(\"mean\")\n",
            "/usr/local/lib/python3.10/dist-packages/linearmodels/panel/data.py:590: FutureWarning: The default of observed=False is deprecated and will be changed to True in a future version of pandas. Pass observed=False to retain current behavior or observed=True to adopt the future default and silence this warning.\n",
            "  group_mu = self._frame.groupby(level=level).transform(\"mean\")\n",
            "/usr/local/lib/python3.10/dist-packages/linearmodels/panel/data.py:590: FutureWarning: The default of observed=False is deprecated and will be changed to True in a future version of pandas. Pass observed=False to retain current behavior or observed=True to adopt the future default and silence this warning.\n",
            "  group_mu = self._frame.groupby(level=level).transform(\"mean\")\n",
            "/usr/local/lib/python3.10/dist-packages/linearmodels/panel/data.py:680: FutureWarning: The default of observed=False is deprecated and will be changed to True in a future version of pandas. Pass observed=False to retain current behavior or observed=True to adopt the future default and silence this warning.\n",
            "  mu = self._frame.groupby(level=level).mean()\n",
            "/usr/local/lib/python3.10/dist-packages/linearmodels/panel/data.py:680: FutureWarning: The default of observed=False is deprecated and will be changed to True in a future version of pandas. Pass observed=False to retain current behavior or observed=True to adopt the future default and silence this warning.\n",
            "  mu = self._frame.groupby(level=level).mean()\n",
            "/usr/local/lib/python3.10/dist-packages/linearmodels/panel/data.py:640: FutureWarning: The default of observed=False is deprecated and will be changed to True in a future version of pandas. Pass observed=False to retain current behavior or observed=True to adopt the future default and silence this warning.\n",
            "  out = self._frame.groupby(level=level).count()\n",
            "/usr/local/lib/python3.10/dist-packages/linearmodels/panel/data.py:680: FutureWarning: The default of observed=False is deprecated and will be changed to True in a future version of pandas. Pass observed=False to retain current behavior or observed=True to adopt the future default and silence this warning.\n",
            "  mu = self._frame.groupby(level=level).mean()\n",
            "/usr/local/lib/python3.10/dist-packages/linearmodels/panel/data.py:590: FutureWarning: The default of observed=False is deprecated and will be changed to True in a future version of pandas. Pass observed=False to retain current behavior or observed=True to adopt the future default and silence this warning.\n",
            "  group_mu = self._frame.groupby(level=level).transform(\"mean\")\n",
            "/usr/local/lib/python3.10/dist-packages/linearmodels/panel/data.py:680: FutureWarning: The default of observed=False is deprecated and will be changed to True in a future version of pandas. Pass observed=False to retain current behavior or observed=True to adopt the future default and silence this warning.\n",
            "  mu = self._frame.groupby(level=level).mean()\n",
            "/usr/local/lib/python3.10/dist-packages/linearmodels/panel/data.py:680: FutureWarning: The default of observed=False is deprecated and will be changed to True in a future version of pandas. Pass observed=False to retain current behavior or observed=True to adopt the future default and silence this warning.\n",
            "  mu = self._frame.groupby(level=level).mean()\n",
            "/usr/local/lib/python3.10/dist-packages/linearmodels/panel/data.py:590: FutureWarning: The default of observed=False is deprecated and will be changed to True in a future version of pandas. Pass observed=False to retain current behavior or observed=True to adopt the future default and silence this warning.\n",
            "  group_mu = self._frame.groupby(level=level).transform(\"mean\")\n"
          ]
        }
      ]
    },
    {
      "cell_type": "markdown",
      "source": [
        "The interaction is negative and significant, meaning the relationship between Income and Waste weakens as Education increases."
      ],
      "metadata": {
        "id": "OK0SDLiMhBSX"
      }
    },
    {
      "cell_type": "code",
      "source": [
        "import numpy as np\n",
        "\n",
        "# Transform 'Income' to its logarithm\n",
        "data['Log_Income'] = np.log(data['Income'])\n"
      ],
      "metadata": {
        "id": "WHMY42NKiL2E"
      },
      "execution_count": null,
      "outputs": []
    },
    {
      "cell_type": "code",
      "source": [
        "# Update the interaction term to reflect the log transformation\n",
        "data['Log_Income_Education'] = data['Log_Income'] * data['Education']\n",
        "data['Log_Income_Age'] = data['Log_Income'] * data['Age']\n",
        "\n",
        "X['Log_Income_Education'] = data['Log_Income_Education']\n",
        "\n",
        "# Define the dependent variable (Y) and independent variables (X)\n",
        "Y = data['Waste']\n",
        "X = data[['Log_Income', 'Education', 'Inflation', 'Log_Income_Education', 'Women', 'Household', 'Urban', 'Log_Income_Age', 'Age']]\n",
        "\n",
        "\n",
        "\n",
        "# Add a constant term to the independent variables\n",
        "X = add_constant(X)\n",
        "\n",
        "# Run the fixed effects model\n",
        "model = PanelOLS(dependent=Y, exog=X, entity_effects=True, time_effects=True)\n",
        "results = model.fit(cov_type='robust')\n",
        "\n",
        "# Display the results\n",
        "print(results.summary)\n"
      ],
      "metadata": {
        "colab": {
          "base_uri": "https://localhost:8080/"
        },
        "id": "yd4EVYE7hDlY",
        "outputId": "d0a21019-b921-4577-95dc-270d1e24c204"
      },
      "execution_count": null,
      "outputs": [
        {
          "output_type": "stream",
          "name": "stdout",
          "text": [
            "                          PanelOLS Estimation Summary                           \n",
            "================================================================================\n",
            "Dep. Variable:                  Waste   R-squared:                        0.2964\n",
            "Estimator:                   PanelOLS   R-squared (Between):             -1.1911\n",
            "No. Observations:                 225   R-squared (Within):              -0.1627\n",
            "Date:                Wed, Dec 04 2024   R-squared (Overall):             -0.9821\n",
            "Time:                        13:38:35   Log-likelihood                   -1089.4\n",
            "Cov. Estimator:                Robust                                           \n",
            "                                        F-statistic:                      8.5666\n",
            "Entities:                          25   P-value                           0.0000\n",
            "Avg Obs:                       9.0000   Distribution:                   F(9,183)\n",
            "Min Obs:                       9.0000                                           \n",
            "Max Obs:                       9.0000   F-statistic (robust):             12.303\n",
            "                                        P-value                           0.0000\n",
            "Time periods:                       9   Distribution:                   F(9,183)\n",
            "Avg Obs:                       25.000                                           \n",
            "Min Obs:                       25.000                                           \n",
            "Max Obs:                       25.000                                           \n",
            "                                                                                \n",
            "                                  Parameter Estimates                                   \n",
            "========================================================================================\n",
            "                      Parameter  Std. Err.     T-stat    P-value    Lower CI    Upper CI\n",
            "----------------------------------------------------------------------------------------\n",
            "const                   -7990.2     2897.8    -2.7573     0.0064  -1.371e+04     -2272.7\n",
            "Log_Income               732.17     275.03     2.6622     0.0085      189.54      1274.8\n",
            "Education                12.064     17.058     0.7073     0.4803     -21.591      45.720\n",
            "Inflation                5.8076     1.9282     3.0119     0.0030      2.0032      9.6120\n",
            "Log_Income_Education    -0.4121     1.6504    -0.2497     0.8031     -3.6684      2.8442\n",
            "Women                    0.8101     1.5908     0.5092     0.6112     -2.3286      3.9488\n",
            "Household                98.178     46.679     2.1032     0.0368      6.0793      190.28\n",
            "Urban                   -303.81     776.05    -0.3915     0.6959     -1835.0      1227.3\n",
            "Log_Income_Age          -17.962     7.1215    -2.5222     0.0125     -32.012     -3.9108\n",
            "Age                      197.26     66.826     2.9518     0.0036      65.411      329.11\n",
            "========================================================================================\n",
            "\n",
            "F-test for Poolability: 20.841\n",
            "P-value: 0.0000\n",
            "Distribution: F(32,183)\n",
            "\n",
            "Included effects: Entity, Time\n"
          ]
        },
        {
          "output_type": "stream",
          "name": "stderr",
          "text": [
            "/usr/local/lib/python3.10/dist-packages/linearmodels/panel/data.py:590: FutureWarning: The default of observed=False is deprecated and will be changed to True in a future version of pandas. Pass observed=False to retain current behavior or observed=True to adopt the future default and silence this warning.\n",
            "  group_mu = self._frame.groupby(level=level).transform(\"mean\")\n",
            "/usr/local/lib/python3.10/dist-packages/linearmodels/panel/data.py:590: FutureWarning: The default of observed=False is deprecated and will be changed to True in a future version of pandas. Pass observed=False to retain current behavior or observed=True to adopt the future default and silence this warning.\n",
            "  group_mu = self._frame.groupby(level=level).transform(\"mean\")\n",
            "/usr/local/lib/python3.10/dist-packages/linearmodels/panel/data.py:590: FutureWarning: The default of observed=False is deprecated and will be changed to True in a future version of pandas. Pass observed=False to retain current behavior or observed=True to adopt the future default and silence this warning.\n",
            "  group_mu = self._frame.groupby(level=level).transform(\"mean\")\n",
            "/usr/local/lib/python3.10/dist-packages/linearmodels/panel/data.py:590: FutureWarning: The default of observed=False is deprecated and will be changed to True in a future version of pandas. Pass observed=False to retain current behavior or observed=True to adopt the future default and silence this warning.\n",
            "  group_mu = self._frame.groupby(level=level).transform(\"mean\")\n",
            "/usr/local/lib/python3.10/dist-packages/linearmodels/panel/data.py:680: FutureWarning: The default of observed=False is deprecated and will be changed to True in a future version of pandas. Pass observed=False to retain current behavior or observed=True to adopt the future default and silence this warning.\n",
            "  mu = self._frame.groupby(level=level).mean()\n",
            "/usr/local/lib/python3.10/dist-packages/linearmodels/panel/data.py:680: FutureWarning: The default of observed=False is deprecated and will be changed to True in a future version of pandas. Pass observed=False to retain current behavior or observed=True to adopt the future default and silence this warning.\n",
            "  mu = self._frame.groupby(level=level).mean()\n",
            "/usr/local/lib/python3.10/dist-packages/linearmodels/panel/data.py:640: FutureWarning: The default of observed=False is deprecated and will be changed to True in a future version of pandas. Pass observed=False to retain current behavior or observed=True to adopt the future default and silence this warning.\n",
            "  out = self._frame.groupby(level=level).count()\n",
            "/usr/local/lib/python3.10/dist-packages/linearmodels/panel/data.py:680: FutureWarning: The default of observed=False is deprecated and will be changed to True in a future version of pandas. Pass observed=False to retain current behavior or observed=True to adopt the future default and silence this warning.\n",
            "  mu = self._frame.groupby(level=level).mean()\n",
            "/usr/local/lib/python3.10/dist-packages/linearmodels/panel/data.py:590: FutureWarning: The default of observed=False is deprecated and will be changed to True in a future version of pandas. Pass observed=False to retain current behavior or observed=True to adopt the future default and silence this warning.\n",
            "  group_mu = self._frame.groupby(level=level).transform(\"mean\")\n",
            "/usr/local/lib/python3.10/dist-packages/linearmodels/panel/data.py:680: FutureWarning: The default of observed=False is deprecated and will be changed to True in a future version of pandas. Pass observed=False to retain current behavior or observed=True to adopt the future default and silence this warning.\n",
            "  mu = self._frame.groupby(level=level).mean()\n",
            "/usr/local/lib/python3.10/dist-packages/linearmodels/panel/data.py:680: FutureWarning: The default of observed=False is deprecated and will be changed to True in a future version of pandas. Pass observed=False to retain current behavior or observed=True to adopt the future default and silence this warning.\n",
            "  mu = self._frame.groupby(level=level).mean()\n",
            "/usr/local/lib/python3.10/dist-packages/linearmodels/panel/data.py:590: FutureWarning: The default of observed=False is deprecated and will be changed to True in a future version of pandas. Pass observed=False to retain current behavior or observed=True to adopt the future default and silence this warning.\n",
            "  group_mu = self._frame.groupby(level=level).transform(\"mean\")\n"
          ]
        }
      ]
    },
    {
      "cell_type": "code",
      "source": [
        "# Update the interaction term to reflect the log transformation\n",
        "data['Log_Income_Education'] = data['Log_Income'] * data['Education']\n",
        "data['Log_Income_Age'] = data['Log_Income'] * data['Age']\n",
        "\n",
        "X['Log_Income_Education'] = data['Log_Income_Education']\n",
        "\n",
        "# Define the dependent variable (Y) and independent variables (X)\n",
        "Y = data['Waste']\n",
        "X = data[['Log_Income', 'Education', 'Inflation', 'Log_Income_Education', 'Household', 'Log_Income_Age', 'Age']]\n",
        "\n",
        "\n",
        "\n",
        "# Add a constant term to the independent variables\n",
        "X = add_constant(X)\n",
        "\n",
        "# Run the fixed effects model\n",
        "model = PanelOLS(dependent=Y, exog=X, entity_effects=True, time_effects=True)\n",
        "results = model.fit(cov_type='robust')\n",
        "\n",
        "# Display the results\n",
        "print(results.summary)\n"
      ],
      "metadata": {
        "id": "fxhnLzVTAaTz",
        "outputId": "fef315fa-2de9-4cd6-981c-57a66bbe9e93",
        "colab": {
          "base_uri": "https://localhost:8080/"
        }
      },
      "execution_count": null,
      "outputs": [
        {
          "output_type": "stream",
          "name": "stdout",
          "text": [
            "                          PanelOLS Estimation Summary                           \n",
            "================================================================================\n",
            "Dep. Variable:                  Waste   R-squared:                        0.2951\n",
            "Estimator:                   PanelOLS   R-squared (Between):             -0.5406\n",
            "No. Observations:                 225   R-squared (Within):              -0.1563\n",
            "Date:                Wed, Dec 04 2024   R-squared (Overall):             -0.4625\n",
            "Time:                        14:10:18   Log-likelihood                   -1089.6\n",
            "Cov. Estimator:                Robust                                           \n",
            "                                        F-statistic:                      11.062\n",
            "Entities:                          25   P-value                           0.0000\n",
            "Avg Obs:                       9.0000   Distribution:                   F(7,185)\n",
            "Min Obs:                       9.0000                                           \n",
            "Max Obs:                       9.0000   F-statistic (robust):             13.531\n",
            "                                        P-value                           0.0000\n",
            "Time periods:                       9   Distribution:                   F(7,185)\n",
            "Avg Obs:                       25.000                                           \n",
            "Min Obs:                       25.000                                           \n",
            "Max Obs:                       25.000                                           \n",
            "                                                                                \n",
            "                                  Parameter Estimates                                   \n",
            "========================================================================================\n",
            "                      Parameter  Std. Err.     T-stat    P-value    Lower CI    Upper CI\n",
            "----------------------------------------------------------------------------------------\n",
            "const                   -8898.9     2198.5    -4.0478     0.0001  -1.324e+04     -4561.7\n",
            "Log_Income               812.67     231.83     3.5055     0.0006      355.30      1270.0\n",
            "Education                12.597     16.581     0.7597     0.4484     -20.115      45.308\n",
            "Inflation                5.7287     1.8746     3.0560     0.0026      2.0304      9.4270\n",
            "Log_Income_Education    -0.4417     1.6082    -0.2747     0.7839     -3.6144      2.7310\n",
            "Household                100.22     39.916     2.5108     0.0129      21.473      178.97\n",
            "Log_Income_Age          -19.743     6.3114    -3.1282     0.0020     -32.195     -7.2916\n",
            "Age                      213.32     60.865     3.5049     0.0006      93.244      333.40\n",
            "========================================================================================\n",
            "\n",
            "F-test for Poolability: 21.944\n",
            "P-value: 0.0000\n",
            "Distribution: F(32,185)\n",
            "\n",
            "Included effects: Entity, Time\n"
          ]
        },
        {
          "output_type": "stream",
          "name": "stderr",
          "text": [
            "/usr/local/lib/python3.10/dist-packages/linearmodels/panel/data.py:590: FutureWarning: The default of observed=False is deprecated and will be changed to True in a future version of pandas. Pass observed=False to retain current behavior or observed=True to adopt the future default and silence this warning.\n",
            "  group_mu = self._frame.groupby(level=level).transform(\"mean\")\n",
            "/usr/local/lib/python3.10/dist-packages/linearmodels/panel/data.py:590: FutureWarning: The default of observed=False is deprecated and will be changed to True in a future version of pandas. Pass observed=False to retain current behavior or observed=True to adopt the future default and silence this warning.\n",
            "  group_mu = self._frame.groupby(level=level).transform(\"mean\")\n",
            "/usr/local/lib/python3.10/dist-packages/linearmodels/panel/data.py:590: FutureWarning: The default of observed=False is deprecated and will be changed to True in a future version of pandas. Pass observed=False to retain current behavior or observed=True to adopt the future default and silence this warning.\n",
            "  group_mu = self._frame.groupby(level=level).transform(\"mean\")\n",
            "/usr/local/lib/python3.10/dist-packages/linearmodels/panel/data.py:590: FutureWarning: The default of observed=False is deprecated and will be changed to True in a future version of pandas. Pass observed=False to retain current behavior or observed=True to adopt the future default and silence this warning.\n",
            "  group_mu = self._frame.groupby(level=level).transform(\"mean\")\n",
            "/usr/local/lib/python3.10/dist-packages/linearmodels/panel/data.py:680: FutureWarning: The default of observed=False is deprecated and will be changed to True in a future version of pandas. Pass observed=False to retain current behavior or observed=True to adopt the future default and silence this warning.\n",
            "  mu = self._frame.groupby(level=level).mean()\n",
            "/usr/local/lib/python3.10/dist-packages/linearmodels/panel/data.py:680: FutureWarning: The default of observed=False is deprecated and will be changed to True in a future version of pandas. Pass observed=False to retain current behavior or observed=True to adopt the future default and silence this warning.\n",
            "  mu = self._frame.groupby(level=level).mean()\n",
            "/usr/local/lib/python3.10/dist-packages/linearmodels/panel/data.py:640: FutureWarning: The default of observed=False is deprecated and will be changed to True in a future version of pandas. Pass observed=False to retain current behavior or observed=True to adopt the future default and silence this warning.\n",
            "  out = self._frame.groupby(level=level).count()\n",
            "/usr/local/lib/python3.10/dist-packages/linearmodels/panel/data.py:680: FutureWarning: The default of observed=False is deprecated and will be changed to True in a future version of pandas. Pass observed=False to retain current behavior or observed=True to adopt the future default and silence this warning.\n",
            "  mu = self._frame.groupby(level=level).mean()\n",
            "/usr/local/lib/python3.10/dist-packages/linearmodels/panel/data.py:590: FutureWarning: The default of observed=False is deprecated and will be changed to True in a future version of pandas. Pass observed=False to retain current behavior or observed=True to adopt the future default and silence this warning.\n",
            "  group_mu = self._frame.groupby(level=level).transform(\"mean\")\n",
            "/usr/local/lib/python3.10/dist-packages/linearmodels/panel/data.py:680: FutureWarning: The default of observed=False is deprecated and will be changed to True in a future version of pandas. Pass observed=False to retain current behavior or observed=True to adopt the future default and silence this warning.\n",
            "  mu = self._frame.groupby(level=level).mean()\n",
            "/usr/local/lib/python3.10/dist-packages/linearmodels/panel/data.py:680: FutureWarning: The default of observed=False is deprecated and will be changed to True in a future version of pandas. Pass observed=False to retain current behavior or observed=True to adopt the future default and silence this warning.\n",
            "  mu = self._frame.groupby(level=level).mean()\n",
            "/usr/local/lib/python3.10/dist-packages/linearmodels/panel/data.py:590: FutureWarning: The default of observed=False is deprecated and will be changed to True in a future version of pandas. Pass observed=False to retain current behavior or observed=True to adopt the future default and silence this warning.\n",
            "  group_mu = self._frame.groupby(level=level).transform(\"mean\")\n"
          ]
        }
      ]
    },
    {
      "cell_type": "code",
      "source": [
        "# Update the interaction term to reflect the log transformation\n",
        "data['Log_Income_Education'] = data['Log_Income'] * data['Education']\n",
        "data['Log_Income_Age'] = data['Log_Income'] * data['Age']\n",
        "\n",
        "X['Log_Income_Education'] = data['Log_Income_Education']\n",
        "\n",
        "# Define the dependent variable (Y) and independent variables (X)\n",
        "Y = data['Waste']\n",
        "X = data[['Log_Income', 'Education', 'Inflation', 'Log_Income_Education', 'Women', 'Household','Urban']]\n",
        "\n",
        "\n",
        "\n",
        "# Add a constant term to the independent variables\n",
        "X = add_constant(X)\n",
        "\n",
        "# Run the fixed effects model\n",
        "model = PanelOLS(dependent=Y, exog=X, entity_effects=True, time_effects=True)\n",
        "results = model.fit(cov_type='robust')\n",
        "\n",
        "# Display the results\n",
        "print(results.summary)\n"
      ],
      "metadata": {
        "id": "qqGjqHb2Ap2u",
        "outputId": "2948f1bb-ed3c-4802-dfb7-3c567c284b92",
        "colab": {
          "base_uri": "https://localhost:8080/"
        }
      },
      "execution_count": null,
      "outputs": [
        {
          "output_type": "stream",
          "name": "stdout",
          "text": [
            "                          PanelOLS Estimation Summary                           \n",
            "================================================================================\n",
            "Dep. Variable:                  Waste   R-squared:                        0.2312\n",
            "Estimator:                   PanelOLS   R-squared (Between):             -0.8072\n",
            "No. Observations:                 225   R-squared (Within):              -0.2758\n",
            "Date:                Wed, Dec 04 2024   R-squared (Overall):             -0.6992\n",
            "Time:                        14:12:24   Log-likelihood                   -1099.4\n",
            "Cov. Estimator:                Robust                                           \n",
            "                                        F-statistic:                      7.9496\n",
            "Entities:                          25   P-value                           0.0000\n",
            "Avg Obs:                       9.0000   Distribution:                   F(7,185)\n",
            "Min Obs:                       9.0000                                           \n",
            "Max Obs:                       9.0000   F-statistic (robust):             9.9427\n",
            "                                        P-value                           0.0000\n",
            "Time periods:                       9   Distribution:                   F(7,185)\n",
            "Avg Obs:                       25.000                                           \n",
            "Min Obs:                       25.000                                           \n",
            "Max Obs:                       25.000                                           \n",
            "                                                                                \n",
            "                                  Parameter Estimates                                   \n",
            "========================================================================================\n",
            "                      Parameter  Std. Err.     T-stat    P-value    Lower CI    Upper CI\n",
            "----------------------------------------------------------------------------------------\n",
            "const                   -1947.6     734.57    -2.6514     0.0087     -3396.8     -498.41\n",
            "Log_Income               112.42     41.357     2.7183     0.0072      30.829      194.01\n",
            "Education                37.794     16.463     2.2957     0.0228      5.3145      70.274\n",
            "Inflation                7.0806     1.9516     3.6281     0.0004      3.2303      10.931\n",
            "Log_Income_Education    -3.2153     1.5851    -2.0284     0.0440     -6.3425     -0.0880\n",
            "Women                    3.9876     1.6533     2.4119     0.0168      0.7259      7.2493\n",
            "Household                173.89     45.886     3.7895     0.0002      83.357      264.41\n",
            "Urban                    524.63     592.42     0.8856     0.3770     -644.13      1693.4\n",
            "========================================================================================\n",
            "\n",
            "F-test for Poolability: 20.587\n",
            "P-value: 0.0000\n",
            "Distribution: F(32,185)\n",
            "\n",
            "Included effects: Entity, Time\n"
          ]
        },
        {
          "output_type": "stream",
          "name": "stderr",
          "text": [
            "/usr/local/lib/python3.10/dist-packages/linearmodels/panel/data.py:590: FutureWarning: The default of observed=False is deprecated and will be changed to True in a future version of pandas. Pass observed=False to retain current behavior or observed=True to adopt the future default and silence this warning.\n",
            "  group_mu = self._frame.groupby(level=level).transform(\"mean\")\n",
            "/usr/local/lib/python3.10/dist-packages/linearmodels/panel/data.py:590: FutureWarning: The default of observed=False is deprecated and will be changed to True in a future version of pandas. Pass observed=False to retain current behavior or observed=True to adopt the future default and silence this warning.\n",
            "  group_mu = self._frame.groupby(level=level).transform(\"mean\")\n",
            "/usr/local/lib/python3.10/dist-packages/linearmodels/panel/data.py:590: FutureWarning: The default of observed=False is deprecated and will be changed to True in a future version of pandas. Pass observed=False to retain current behavior or observed=True to adopt the future default and silence this warning.\n",
            "  group_mu = self._frame.groupby(level=level).transform(\"mean\")\n",
            "/usr/local/lib/python3.10/dist-packages/linearmodels/panel/data.py:590: FutureWarning: The default of observed=False is deprecated and will be changed to True in a future version of pandas. Pass observed=False to retain current behavior or observed=True to adopt the future default and silence this warning.\n",
            "  group_mu = self._frame.groupby(level=level).transform(\"mean\")\n",
            "/usr/local/lib/python3.10/dist-packages/linearmodels/panel/data.py:680: FutureWarning: The default of observed=False is deprecated and will be changed to True in a future version of pandas. Pass observed=False to retain current behavior or observed=True to adopt the future default and silence this warning.\n",
            "  mu = self._frame.groupby(level=level).mean()\n",
            "/usr/local/lib/python3.10/dist-packages/linearmodels/panel/data.py:680: FutureWarning: The default of observed=False is deprecated and will be changed to True in a future version of pandas. Pass observed=False to retain current behavior or observed=True to adopt the future default and silence this warning.\n",
            "  mu = self._frame.groupby(level=level).mean()\n",
            "/usr/local/lib/python3.10/dist-packages/linearmodels/panel/data.py:640: FutureWarning: The default of observed=False is deprecated and will be changed to True in a future version of pandas. Pass observed=False to retain current behavior or observed=True to adopt the future default and silence this warning.\n",
            "  out = self._frame.groupby(level=level).count()\n",
            "/usr/local/lib/python3.10/dist-packages/linearmodels/panel/data.py:680: FutureWarning: The default of observed=False is deprecated and will be changed to True in a future version of pandas. Pass observed=False to retain current behavior or observed=True to adopt the future default and silence this warning.\n",
            "  mu = self._frame.groupby(level=level).mean()\n",
            "/usr/local/lib/python3.10/dist-packages/linearmodels/panel/data.py:590: FutureWarning: The default of observed=False is deprecated and will be changed to True in a future version of pandas. Pass observed=False to retain current behavior or observed=True to adopt the future default and silence this warning.\n",
            "  group_mu = self._frame.groupby(level=level).transform(\"mean\")\n",
            "/usr/local/lib/python3.10/dist-packages/linearmodels/panel/data.py:680: FutureWarning: The default of observed=False is deprecated and will be changed to True in a future version of pandas. Pass observed=False to retain current behavior or observed=True to adopt the future default and silence this warning.\n",
            "  mu = self._frame.groupby(level=level).mean()\n",
            "/usr/local/lib/python3.10/dist-packages/linearmodels/panel/data.py:680: FutureWarning: The default of observed=False is deprecated and will be changed to True in a future version of pandas. Pass observed=False to retain current behavior or observed=True to adopt the future default and silence this warning.\n",
            "  mu = self._frame.groupby(level=level).mean()\n",
            "/usr/local/lib/python3.10/dist-packages/linearmodels/panel/data.py:590: FutureWarning: The default of observed=False is deprecated and will be changed to True in a future version of pandas. Pass observed=False to retain current behavior or observed=True to adopt the future default and silence this warning.\n",
            "  group_mu = self._frame.groupby(level=level).transform(\"mean\")\n"
          ]
        }
      ]
    },
    {
      "cell_type": "code",
      "source": [
        "# Log-transform 'Income' and 'Waste'\n",
        "data['Log_Waste'] = np.log(data['Waste'])\n",
        "data['Log_Income'] = np.log(data['Income'])\n",
        "# Update the interaction term to use log-transformed income\n",
        "data['Log_Income_Education'] = data['Log_Income'] * data['Education']\n"
      ],
      "metadata": {
        "id": "1eN4i5YaiRBq"
      },
      "execution_count": null,
      "outputs": []
    },
    {
      "cell_type": "code",
      "source": [
        "# Define the dependent variable (Y) and independent variables (X)\n",
        "Y = data['Log_Waste']\n",
        "X = data[['Log_Income', 'Education', 'Inflation', 'Log_Income_Education']]\n",
        "\n",
        "# Add a constant term\n",
        "X = add_constant(X)\n",
        "\n",
        "# Run the fixed effects model\n",
        "model = PanelOLS(dependent=Y, exog=X, entity_effects=True, time_effects=True)\n",
        "results = model.fit()\n",
        "\n",
        "# Display the results\n",
        "print(results.summary)"
      ],
      "metadata": {
        "colab": {
          "base_uri": "https://localhost:8080/"
        },
        "id": "HENAsLg8ioAS",
        "outputId": "124f893d-45eb-4204-932c-1c8a410d651f"
      },
      "execution_count": null,
      "outputs": [
        {
          "output_type": "stream",
          "name": "stderr",
          "text": [
            "/usr/local/lib/python3.10/dist-packages/linearmodels/panel/data.py:590: FutureWarning: The default of observed=False is deprecated and will be changed to True in a future version of pandas. Pass observed=False to retain current behavior or observed=True to adopt the future default and silence this warning.\n",
            "  group_mu = self._frame.groupby(level=level).transform(\"mean\")\n",
            "/usr/local/lib/python3.10/dist-packages/linearmodels/panel/data.py:590: FutureWarning: The default of observed=False is deprecated and will be changed to True in a future version of pandas. Pass observed=False to retain current behavior or observed=True to adopt the future default and silence this warning.\n",
            "  group_mu = self._frame.groupby(level=level).transform(\"mean\")\n",
            "/usr/local/lib/python3.10/dist-packages/linearmodels/panel/data.py:590: FutureWarning: The default of observed=False is deprecated and will be changed to True in a future version of pandas. Pass observed=False to retain current behavior or observed=True to adopt the future default and silence this warning.\n",
            "  group_mu = self._frame.groupby(level=level).transform(\"mean\")\n",
            "/usr/local/lib/python3.10/dist-packages/linearmodels/panel/data.py:590: FutureWarning: The default of observed=False is deprecated and will be changed to True in a future version of pandas. Pass observed=False to retain current behavior or observed=True to adopt the future default and silence this warning.\n",
            "  group_mu = self._frame.groupby(level=level).transform(\"mean\")\n",
            "/usr/local/lib/python3.10/dist-packages/linearmodels/panel/data.py:680: FutureWarning: The default of observed=False is deprecated and will be changed to True in a future version of pandas. Pass observed=False to retain current behavior or observed=True to adopt the future default and silence this warning.\n",
            "  mu = self._frame.groupby(level=level).mean()\n",
            "/usr/local/lib/python3.10/dist-packages/linearmodels/panel/data.py:680: FutureWarning: The default of observed=False is deprecated and will be changed to True in a future version of pandas. Pass observed=False to retain current behavior or observed=True to adopt the future default and silence this warning.\n",
            "  mu = self._frame.groupby(level=level).mean()\n",
            "/usr/local/lib/python3.10/dist-packages/linearmodels/panel/data.py:640: FutureWarning: The default of observed=False is deprecated and will be changed to True in a future version of pandas. Pass observed=False to retain current behavior or observed=True to adopt the future default and silence this warning.\n",
            "  out = self._frame.groupby(level=level).count()\n",
            "/usr/local/lib/python3.10/dist-packages/linearmodels/panel/data.py:680: FutureWarning: The default of observed=False is deprecated and will be changed to True in a future version of pandas. Pass observed=False to retain current behavior or observed=True to adopt the future default and silence this warning.\n",
            "  mu = self._frame.groupby(level=level).mean()\n",
            "/usr/local/lib/python3.10/dist-packages/linearmodels/panel/data.py:590: FutureWarning: The default of observed=False is deprecated and will be changed to True in a future version of pandas. Pass observed=False to retain current behavior or observed=True to adopt the future default and silence this warning.\n",
            "  group_mu = self._frame.groupby(level=level).transform(\"mean\")\n",
            "/usr/local/lib/python3.10/dist-packages/linearmodels/panel/data.py:680: FutureWarning: The default of observed=False is deprecated and will be changed to True in a future version of pandas. Pass observed=False to retain current behavior or observed=True to adopt the future default and silence this warning.\n",
            "  mu = self._frame.groupby(level=level).mean()\n",
            "/usr/local/lib/python3.10/dist-packages/linearmodels/panel/data.py:680: FutureWarning: The default of observed=False is deprecated and will be changed to True in a future version of pandas. Pass observed=False to retain current behavior or observed=True to adopt the future default and silence this warning.\n",
            "  mu = self._frame.groupby(level=level).mean()\n",
            "/usr/local/lib/python3.10/dist-packages/linearmodels/panel/data.py:590: FutureWarning: The default of observed=False is deprecated and will be changed to True in a future version of pandas. Pass observed=False to retain current behavior or observed=True to adopt the future default and silence this warning.\n",
            "  group_mu = self._frame.groupby(level=level).transform(\"mean\")\n"
          ]
        },
        {
          "output_type": "stream",
          "name": "stdout",
          "text": [
            "                          PanelOLS Estimation Summary                           \n",
            "================================================================================\n",
            "Dep. Variable:              Log_Waste   R-squared:                        0.2013\n",
            "Estimator:                   PanelOLS   R-squared (Between):             -0.1948\n",
            "No. Observations:                 225   R-squared (Within):              -0.0318\n",
            "Date:                Wed, Dec 04 2024   R-squared (Overall):             -0.1631\n",
            "Time:                        12:49:33   Log-likelihood                    238.64\n",
            "Cov. Estimator:            Unadjusted                                           \n",
            "                                        F-statistic:                      11.844\n",
            "Entities:                          25   P-value                           0.0000\n",
            "Avg Obs:                       9.0000   Distribution:                   F(4,188)\n",
            "Min Obs:                       9.0000                                           \n",
            "Max Obs:                       9.0000   F-statistic (robust):             11.844\n",
            "                                        P-value                           0.0000\n",
            "Time periods:                       9   Distribution:                   F(4,188)\n",
            "Avg Obs:                       25.000                                           \n",
            "Min Obs:                       25.000                                           \n",
            "Max Obs:                       25.000                                           \n",
            "                                                                                \n",
            "                                  Parameter Estimates                                   \n",
            "========================================================================================\n",
            "                      Parameter  Std. Err.     T-stat    P-value    Lower CI    Upper CI\n",
            "----------------------------------------------------------------------------------------\n",
            "const                    1.4169     1.0789     1.3133     0.1907     -0.7114      3.5452\n",
            "Log_Income               0.4017     0.1075     3.7362     0.0002      0.1896      0.6138\n",
            "Education                0.1584     0.0411     3.8588     0.0002      0.0774      0.2394\n",
            "Inflation                0.0167     0.0054     3.0849     0.0023      0.0060      0.0273\n",
            "Log_Income_Education    -0.0140     0.0040    -3.5278     0.0005     -0.0218     -0.0062\n",
            "========================================================================================\n",
            "\n",
            "F-test for Poolability: 21.005\n",
            "P-value: 0.0000\n",
            "Distribution: F(32,188)\n",
            "\n",
            "Included effects: Entity, Time\n"
          ]
        }
      ]
    },
    {
      "cell_type": "code",
      "source": [
        "!pip install statsmodels"
      ],
      "metadata": {
        "id": "tQFP2fJy0Pzh",
        "outputId": "466532f6-2017-416e-d554-cd5a354202dc",
        "colab": {
          "base_uri": "https://localhost:8080/"
        }
      },
      "execution_count": null,
      "outputs": [
        {
          "output_type": "stream",
          "name": "stdout",
          "text": [
            "Requirement already satisfied: statsmodels in /usr/local/lib/python3.10/dist-packages (0.14.4)\n",
            "Requirement already satisfied: numpy<3,>=1.22.3 in /usr/local/lib/python3.10/dist-packages (from statsmodels) (1.26.4)\n",
            "Requirement already satisfied: scipy!=1.9.2,>=1.8 in /usr/local/lib/python3.10/dist-packages (from statsmodels) (1.13.1)\n",
            "Requirement already satisfied: pandas!=2.1.0,>=1.4 in /usr/local/lib/python3.10/dist-packages (from statsmodels) (2.2.2)\n",
            "Requirement already satisfied: patsy>=0.5.6 in /usr/local/lib/python3.10/dist-packages (from statsmodels) (1.0.1)\n",
            "Requirement already satisfied: packaging>=21.3 in /usr/local/lib/python3.10/dist-packages (from statsmodels) (24.2)\n",
            "Requirement already satisfied: python-dateutil>=2.8.2 in /usr/local/lib/python3.10/dist-packages (from pandas!=2.1.0,>=1.4->statsmodels) (2.8.2)\n",
            "Requirement already satisfied: pytz>=2020.1 in /usr/local/lib/python3.10/dist-packages (from pandas!=2.1.0,>=1.4->statsmodels) (2024.2)\n",
            "Requirement already satisfied: tzdata>=2022.7 in /usr/local/lib/python3.10/dist-packages (from pandas!=2.1.0,>=1.4->statsmodels) (2024.2)\n",
            "Requirement already satisfied: six>=1.5 in /usr/local/lib/python3.10/dist-packages (from python-dateutil>=2.8.2->pandas!=2.1.0,>=1.4->statsmodels) (1.16.0)\n"
          ]
        }
      ]
    },
    {
      "cell_type": "code",
      "source": [
        "import pandas as pd\n",
        "import statsmodels.api as sm\n",
        "from statsmodels.stats.outliers_influence import variance_inflation_factor"
      ],
      "metadata": {
        "id": "GBkRCPVz0eQ-"
      },
      "execution_count": null,
      "outputs": []
    },
    {
      "cell_type": "code",
      "source": [
        "X = data[['Income', 'Education', 'Inflation', 'Women', 'Household', 'Age', 'Urban']]\n",
        "X = sm.add_constant(X)  # Add a constant term (required for VIF calculation)"
      ],
      "metadata": {
        "id": "WYBqRBIR0iaT"
      },
      "execution_count": null,
      "outputs": []
    },
    {
      "cell_type": "code",
      "source": [
        "vif_data = pd.DataFrame()\n",
        "vif_data[\"Variable\"] = X.columns\n",
        "vif_data[\"VIF\"] = [variance_inflation_factor(X.values, i) for i in range(X.shape[1])]\n",
        "\n",
        "print(vif_data)"
      ],
      "metadata": {
        "id": "Tbv8HS2F0lXz",
        "outputId": "7d50800d-8056-45a7-81c0-aec8771b3b58",
        "colab": {
          "base_uri": "https://localhost:8080/"
        }
      },
      "execution_count": null,
      "outputs": [
        {
          "output_type": "stream",
          "name": "stdout",
          "text": [
            "    Variable          VIF\n",
            "0      const  2505.899470\n",
            "1     Income     2.577251\n",
            "2  Education     2.569911\n",
            "3  Inflation     1.213238\n",
            "4      Women     2.459303\n",
            "5  Household     3.635550\n",
            "6        Age     2.101014\n",
            "7      Urban     1.895764\n"
          ]
        }
      ]
    }
  ]
}