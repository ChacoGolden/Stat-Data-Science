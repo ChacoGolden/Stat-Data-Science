{
  "nbformat": 4,
  "nbformat_minor": 0,
  "metadata": {
    "colab": {
      "provenance": []
    },
    "kernelspec": {
      "name": "python3",
      "display_name": "Python 3"
    },
    "language_info": {
      "name": "python"
    }
  },
  "cells": [
    {
      "cell_type": "code",
      "execution_count": 1,
      "metadata": {
        "id": "MzJqg4iTAZi1"
      },
      "outputs": [],
      "source": [
        "import pandas as pd\n",
        "import numpy as np\n",
        "import statsmodels.api as sm\n",
        "import matplotlib.pyplot as plt\n",
        "import seaborn as sns"
      ]
    },
    {
      "cell_type": "code",
      "source": [
        "cross_sect = pd.read_csv('https://raw.githubusercontent.com/ChacoGolden/Stat-Data-Science/refs/heads/main/cross_sect_inc_waste_kg.csv')\n",
        "education_data = pd.read_csv('https://raw.githubusercontent.com/ChacoGolden/Stat-Data-Science/refs/heads/main/average_education.csv')"
      ],
      "metadata": {
        "id": "afLaHGjgBqUN"
      },
      "execution_count": 2,
      "outputs": []
    },
    {
      "cell_type": "code",
      "source": [
        "print(cross_sect['Country'].nunique())\n",
        "print(education_data['Country'].nunique())"
      ],
      "metadata": {
        "colab": {
          "base_uri": "https://localhost:8080/"
        },
        "id": "63lo4QGrCXV0",
        "outputId": "825894d0-a0fd-4e3c-89b3-7d2f1f997324"
      },
      "execution_count": 4,
      "outputs": [
        {
          "output_type": "stream",
          "name": "stdout",
          "text": [
            "26\n",
            "32\n"
          ]
        }
      ]
    },
    {
      "cell_type": "code",
      "source": [
        "# Get sets of countries in each dataset\n",
        "countries_cross_sect = set(cross_sect['Country'])\n",
        "countries_education = set(education_data['Country'])\n",
        "\n",
        "# Countries present in cross_sect but not in education_data\n",
        "missing_in_education = countries_cross_sect - countries_education\n",
        "print(\"\\nCountries in cross_sect but not in education_data:\")\n",
        "print(missing_in_education)\n",
        "\n",
        "# Countries present in education_data but not in cross_sect\n",
        "missing_in_cross_sect = countries_education - countries_cross_sect\n",
        "print(\"\\nCountries in education_data but not in cross_sect:\")\n",
        "print(missing_in_cross_sect)\n"
      ],
      "metadata": {
        "colab": {
          "base_uri": "https://localhost:8080/"
        },
        "id": "dXbsuKKdCj00",
        "outputId": "6851cc7e-0687-4154-f60e-2bf21eb38295"
      },
      "execution_count": 5,
      "outputs": [
        {
          "output_type": "stream",
          "name": "stdout",
          "text": [
            "\n",
            "Countries in cross_sect but not in education_data:\n",
            "set()\n",
            "\n",
            "Countries in education_data but not in cross_sect:\n",
            "{'Netherlands', 'Greece', 'Iceland', 'Croatia', 'Serbia', 'Switzerland'}\n"
          ]
        }
      ]
    },
    {
      "cell_type": "code",
      "source": [
        "# Countries present in both datasets\n",
        "common_countries = countries_cross_sect & countries_education\n",
        "print(\"\\nCommon countries in both datasets:\")\n",
        "print(common_countries)"
      ],
      "metadata": {
        "colab": {
          "base_uri": "https://localhost:8080/"
        },
        "id": "DokSgcHMCwTD",
        "outputId": "e82584dc-bf3b-4f56-d3db-0515c130ccb6"
      },
      "execution_count": 11,
      "outputs": [
        {
          "output_type": "stream",
          "name": "stdout",
          "text": [
            "\n",
            "Common countries in both datasets:\n",
            "{'Bulgaria', 'Belgium', 'Malta', 'Poland', 'Czechia', 'France', 'Lithuania', 'Türkiye', 'Estonia', 'Latvia', 'Slovenia', 'Italy', 'Ireland', 'Austria', 'Spain', 'Romania', 'Hungary', 'Slovakia', 'Germany', 'Sweden', 'Finland', 'Denmark', 'Luxembourg', 'Norway', 'Cyprus', 'Portugal'}\n"
          ]
        }
      ]
    },
    {
      "cell_type": "code",
      "source": [
        "# Perform a left join to merge the education_data into cross_sect\n",
        "merged_data = pd.merge(cross_sect, education_data, on='Country', how='left')\n",
        "\n",
        "# Display the merged dataset\n",
        "print(\"\\nMerged Dataset:\")\n",
        "print(merged_data.head())\n",
        "\n",
        "# Check for missing values in the education columns (countries not in education_data will have NaNs)\n",
        "missing_education_data = merged_data[merged_data.isnull().any(axis=1)]\n",
        "print(\"\\nCountries with missing education data after merging:\")\n",
        "print(missing_education_data[['Country']])\n"
      ],
      "metadata": {
        "colab": {
          "base_uri": "https://localhost:8080/"
        },
        "id": "IWXohl_tDTIX",
        "outputId": "c02c7708-3549-48e0-c254-6e5d87da6d98"
      },
      "execution_count": 12,
      "outputs": [
        {
          "output_type": "stream",
          "name": "stdout",
          "text": [
            "\n",
            "Merged Dataset:\n",
            "    Country  Income Average  Waste Average  Average_Education_Level\n",
            "0   Belgium         24451.9     447.059027                    36.27\n",
            "1  Bulgaria          4286.8     400.376196                    25.10\n",
            "2   Czechia          9730.2     443.899034                    21.67\n",
            "3   Denmark         30502.6     607.350966                    32.79\n",
            "4   Germany         23197.7     452.967933                    25.95\n",
            "\n",
            "Countries with missing education data after merging:\n",
            "Empty DataFrame\n",
            "Columns: [Country]\n",
            "Index: []\n"
          ]
        }
      ]
    },
    {
      "cell_type": "code",
      "source": [
        "# Define dependent (Y) and independent variables (X)\n",
        "Y = merged_data['Waste Average']  # Dependent variable\n",
        "X = merged_data[['Income Average', 'Average_Education_Level']]  # Independent variables\n",
        "\n",
        "# Add a constant to the model (intercept)\n",
        "X = sm.add_constant(X)\n",
        "\n",
        "# Fit the regression model\n",
        "model = sm.OLS(Y, X).fit()\n",
        "\n",
        "# Print the summary of the regression\n",
        "print(model.summary())"
      ],
      "metadata": {
        "colab": {
          "base_uri": "https://localhost:8080/"
        },
        "id": "PEkuouLPDnX3",
        "outputId": "7fa1a8ef-5e0a-4053-94c7-492737b69ca2"
      },
      "execution_count": 16,
      "outputs": [
        {
          "output_type": "stream",
          "name": "stdout",
          "text": [
            "                            OLS Regression Results                            \n",
            "==============================================================================\n",
            "Dep. Variable:          Waste Average   R-squared:                       0.166\n",
            "Model:                            OLS   Adj. R-squared:                  0.093\n",
            "Method:                 Least Squares   F-statistic:                     2.285\n",
            "Date:                Fri, 22 Nov 2024   Prob (F-statistic):              0.124\n",
            "Time:                        18:09:31   Log-Likelihood:                -148.27\n",
            "No. Observations:                  26   AIC:                             302.5\n",
            "Df Residuals:                      23   BIC:                             306.3\n",
            "Df Model:                           2                                         \n",
            "Covariance Type:            nonrobust                                         \n",
            "===========================================================================================\n",
            "                              coef    std err          t      P>|t|      [0.025      0.975]\n",
            "-------------------------------------------------------------------------------------------\n",
            "const                     382.0784     64.735      5.902      0.000     248.164     515.993\n",
            "Income Average              0.0036      0.002      1.874      0.074      -0.000       0.008\n",
            "Average_Education_Level    -1.0996      2.628     -0.418      0.680      -6.536       4.337\n",
            "==============================================================================\n",
            "Omnibus:                        0.519   Durbin-Watson:                   2.231\n",
            "Prob(Omnibus):                  0.772   Jarque-Bera (JB):                0.441\n",
            "Skew:                          -0.287   Prob(JB):                        0.802\n",
            "Kurtosis:                       2.722   Cond. No.                     8.42e+04\n",
            "==============================================================================\n",
            "\n",
            "Notes:\n",
            "[1] Standard Errors assume that the covariance matrix of the errors is correctly specified.\n",
            "[2] The condition number is large, 8.42e+04. This might indicate that there are\n",
            "strong multicollinearity or other numerical problems.\n"
          ]
        }
      ]
    },
    {
      "cell_type": "code",
      "source": [
        "from statsmodels.stats.outliers_influence import variance_inflation_factor\n",
        "\n",
        "# Define the predictors (independent variables)\n",
        "X_vif = sm.add_constant(merged_data[['Income Average', 'Average_Education_Level']])  # Include a constant for regression\n",
        "\n",
        "# Calculate VIF for each predictor\n",
        "vif_data = pd.DataFrame()\n",
        "vif_data['Feature'] = X_vif.columns\n",
        "vif_data['VIF'] = [variance_inflation_factor(X_vif.values, i) for i in range(X_vif.shape[1])]\n",
        "\n",
        "# Display the VIF values\n",
        "print(\"\\nVariance Inflation Factor (VIF):\")\n",
        "print(vif_data)\n"
      ],
      "metadata": {
        "colab": {
          "base_uri": "https://localhost:8080/"
        },
        "id": "s32jvhJoFe3h",
        "outputId": "a3fe7f2d-beef-45b3-8fb6-44485c5c0133"
      },
      "execution_count": 18,
      "outputs": [
        {
          "output_type": "stream",
          "name": "stdout",
          "text": [
            "\n",
            "Variance Inflation Factor (VIF):\n",
            "                   Feature        VIF\n",
            "0                    const  18.325408\n",
            "1           Income Average   1.706805\n",
            "2  Average_Education_Level   1.706805\n"
          ]
        }
      ]
    },
    {
      "cell_type": "code",
      "source": [
        "# Add interaction term: Income Average * Average Education Level\n",
        "merged_data['interaction'] = merged_data['Income Average'] * merged_data['Average_Education_Level']\n",
        "\n",
        "# Define dependent (Y) and independent variables (X)\n",
        "Y = merged_data['Waste Average']  # Dependent variable\n",
        "X = merged_data[['Income Average', 'Average_Education_Level', 'interaction']]  # Include interaction term\n",
        "\n",
        "# Add a constant to the model (intercept)\n",
        "X = sm.add_constant(X)\n"
      ],
      "metadata": {
        "id": "frBzFN_cGA2o"
      },
      "execution_count": 23,
      "outputs": []
    },
    {
      "cell_type": "code",
      "source": [
        "# Fit the regression model with the interaction term\n",
        "refined_model = sm.OLS(Y, X).fit()\n",
        "\n",
        "# Print the summary of the refined regression model\n",
        "print(refined_model.summary())\n"
      ],
      "metadata": {
        "colab": {
          "base_uri": "https://localhost:8080/"
        },
        "id": "9OnqWmGOGqi3",
        "outputId": "86892c5e-14d4-4918-cf43-85845c61316d"
      },
      "execution_count": 24,
      "outputs": [
        {
          "output_type": "stream",
          "name": "stdout",
          "text": [
            "                            OLS Regression Results                            \n",
            "==============================================================================\n",
            "Dep. Variable:          Waste Average   R-squared:                       0.456\n",
            "Model:                            OLS   Adj. R-squared:                  0.382\n",
            "Method:                 Least Squares   F-statistic:                     6.144\n",
            "Date:                Fri, 22 Nov 2024   Prob (F-statistic):            0.00339\n",
            "Time:                        18:20:33   Log-Likelihood:                -142.72\n",
            "No. Observations:                  26   AIC:                             293.4\n",
            "Df Residuals:                      22   BIC:                             298.5\n",
            "Df Model:                           3                                         \n",
            "Covariance Type:            nonrobust                                         \n",
            "===========================================================================================\n",
            "                              coef    std err          t      P>|t|      [0.025      0.975]\n",
            "-------------------------------------------------------------------------------------------\n",
            "const                     118.0887     93.801      1.259      0.221     -76.442     312.619\n",
            "Income Average              0.0258      0.007      3.868      0.001       0.012       0.040\n",
            "Average_Education_Level     7.4467      3.307      2.252      0.035       0.589      14.305\n",
            "interaction                -0.0007      0.000     -3.425      0.002      -0.001      -0.000\n",
            "==============================================================================\n",
            "Omnibus:                        0.357   Durbin-Watson:                   2.327\n",
            "Prob(Omnibus):                  0.836   Jarque-Bera (JB):                0.508\n",
            "Skew:                          -0.205   Prob(JB):                        0.776\n",
            "Kurtosis:                       2.451   Cond. No.                     5.21e+06\n",
            "==============================================================================\n",
            "\n",
            "Notes:\n",
            "[1] Standard Errors assume that the covariance matrix of the errors is correctly specified.\n",
            "[2] The condition number is large, 5.21e+06. This might indicate that there are\n",
            "strong multicollinearity or other numerical problems.\n"
          ]
        }
      ]
    },
    {
      "cell_type": "markdown",
      "source": [
        "Income Average (Coefficient: 0.0258, p-value: 0.001):\n",
        "Statistically significant at the 1% level.\n",
        "Suggests that higher income is associated with increased waste, with each unit increase in income resulting in a 0.0258 increase in waste, holding other factors constant.\n",
        "Average Education Level (Coefficient: 7.4467, p-value: 0.035):\n",
        "Statistically significant at the 5% level.\n",
        "Indicates that an increase in education level is positively associated with waste. However, this might seem counterintuitive and could indicate interaction effects or omitted variable bias.\n",
        "Interaction Term (Coefficient: -0.0007, p-value: 0.002):\n",
        "Statistically significant at the 1% level.\n",
        "The negative coefficient implies that as both income and education levels increase together, the positive impact of income on waste diminishes.\n",
        "\n",
        "Interaction Term Interpretation\n",
        "The interaction term has a negative coefficient, suggesting that the effect of income on waste decreases as education levels increase. This implies that higher education may mitigate the impact of rising income on waste generation. This aligns with the idea that more educated populations might adopt sustainable behaviors, even with higher income levels."
      ],
      "metadata": {
        "id": "YbsoFDy1JSqM"
      }
    },
    {
      "cell_type": "code",
      "source": [
        "import matplotlib.pyplot as plt\n",
        "import numpy as np\n",
        "\n",
        "# Plot interaction effect\n",
        "plt.figure(figsize=(10, 6))\n",
        "\n",
        "# Group data by education level (e.g., high and low) for visualization\n",
        "high_education = merged_data[merged_data['Average_Education_Level'] > merged_data['Average_Education_Level'].median()]\n",
        "low_education = merged_data[merged_data['Average_Education_Level'] <= merged_data['Average_Education_Level'].median()]\n",
        "\n",
        "# Scatter plot for high education\n",
        "plt.scatter(high_education['Income Average'], high_education['Waste Average'], label='High Education', alpha=0.7)\n",
        "# Scatter plot for low education\n",
        "plt.scatter(low_education['Income Average'], low_education['Waste Average'], label='Low Education', alpha=0.7)\n",
        "\n",
        "# Add labels and legend\n",
        "plt.xlabel('Income Average')\n",
        "plt.ylabel('Waste Average')\n",
        "plt.title('Interaction Effect of Education and Income on Waste')\n",
        "plt.legend()\n",
        "plt.show()\n"
      ],
      "metadata": {
        "colab": {
          "base_uri": "https://localhost:8080/",
          "height": 564
        },
        "id": "VvpAsZaXHT1e",
        "outputId": "89a743d1-03a8-4477-e2cd-60297640965e"
      },
      "execution_count": 26,
      "outputs": [
        {
          "output_type": "display_data",
          "data": {
            "text/plain": [
              "<Figure size 1000x600 with 1 Axes>"
            ],
            "image/png": "[encoded data removed]"
          },
          "metadata": {}
        }
      ]
    },
    {
      "cell_type": "code",
      "source": [
        "# Fit the regression model with the interaction term\n",
        "refined_model = sm.OLS(Y, X).fit(cov_type='HC3') #with robust standard errors\n",
        "\n",
        "# Print the summary of the refined regression model\n",
        "print(refined_model.summary())\n"
      ],
      "metadata": {
        "colab": {
          "base_uri": "https://localhost:8080/"
        },
        "id": "D9pN68ZyKxmd",
        "outputId": "4032ca6c-673c-41fd-95e8-79d90a39691c"
      },
      "execution_count": 27,
      "outputs": [
        {
          "output_type": "stream",
          "name": "stdout",
          "text": [
            "                            OLS Regression Results                            \n",
            "==============================================================================\n",
            "Dep. Variable:          Waste Average   R-squared:                       0.456\n",
            "Model:                            OLS   Adj. R-squared:                  0.382\n",
            "Method:                 Least Squares   F-statistic:                     4.313\n",
            "Date:                Fri, 22 Nov 2024   Prob (F-statistic):             0.0155\n",
            "Time:                        18:38:32   Log-Likelihood:                -142.72\n",
            "No. Observations:                  26   AIC:                             293.4\n",
            "Df Residuals:                      22   BIC:                             298.5\n",
            "Df Model:                           3                                         \n",
            "Covariance Type:                  HC3                                         \n",
            "===========================================================================================\n",
            "                              coef    std err          z      P>|z|      [0.025      0.975]\n",
            "-------------------------------------------------------------------------------------------\n",
            "const                     118.0887    118.730      0.995      0.320    -114.617     350.794\n",
            "Income Average              0.0258      0.008      3.357      0.001       0.011       0.041\n",
            "Average_Education_Level     7.4467      3.909      1.905      0.057      -0.215      15.108\n",
            "interaction                -0.0007      0.000     -3.011      0.003      -0.001      -0.000\n",
            "==============================================================================\n",
            "Omnibus:                        0.357   Durbin-Watson:                   2.327\n",
            "Prob(Omnibus):                  0.836   Jarque-Bera (JB):                0.508\n",
            "Skew:                          -0.205   Prob(JB):                        0.776\n",
            "Kurtosis:                       2.451   Cond. No.                     5.21e+06\n",
            "==============================================================================\n",
            "\n",
            "Notes:\n",
            "[1] Standard Errors are heteroscedasticity robust (HC3)\n",
            "[2] The condition number is large, 5.21e+06. This might indicate that there are\n",
            "strong multicollinearity or other numerical problems.\n"
          ]
        }
      ]
    }
  ]
}