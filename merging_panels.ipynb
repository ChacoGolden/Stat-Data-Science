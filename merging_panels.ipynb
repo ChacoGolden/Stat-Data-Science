{
  "nbformat": 4,
  "nbformat_minor": 0,
  "metadata": {
    "colab": {
      "provenance": [],
      "include_colab_link": true
    },
    "kernelspec": {
      "name": "python3",
      "display_name": "Python 3"
    },
    "language_info": {
      "name": "python"
    }
  },
  "cells": [
    {
      "cell_type": "markdown",
      "metadata": {
        "id": "view-in-github",
        "colab_type": "text"
      },
      "source": [
        "<a href=\"https://colab.research.google.com/github/ChacoGolden/Stat-Data-Science/blob/main/merging_panels.ipynb\" target=\"_parent\"><img src=\"https://colab.research.google.com/assets/colab-badge.svg\" alt=\"Open In Colab\"/></a>"
      ]
    },
    {
      "cell_type": "code",
      "source": [
        "import pandas as pd"
      ],
      "metadata": {
        "id": "CEq4s1XeXDnb"
      },
      "execution_count": 2,
      "outputs": []
    },
    {
      "cell_type": "code",
      "execution_count": 3,
      "metadata": {
        "id": "AgrX-VHQW-LN"
      },
      "outputs": [],
      "source": [
        "income = pd.read_csv(\"https://raw.githubusercontent.com/ChacoGolden/Stat-Data-Science/refs/heads/main/Panel_median_income.csv\")\n",
        "waste = pd.read_csv(\"https://raw.githubusercontent.com/ChacoGolden/Stat-Data-Science/refs/heads/main/filtered_waste_per_capita.csv\")\n",
        "edu = pd.read_csv(\"https://raw.githubusercontent.com/ChacoGolden/Stat-Data-Science/refs/heads/main/Panel_euro_edu.csv\")\n",
        "infl = pd.read_csv(\"https://raw.githubusercontent.com/ChacoGolden/Stat-Data-Science/refs/heads/main/Panel_eu_infl.csv\")\n",
        "women = pd.read_csv(\"https://raw.githubusercontent.com/ChacoGolden/Stat-Data-Science/refs/heads/main/Panel_euro_women_employmentrate.csv\")\n",
        "household = pd.read_csv(\"https://raw.githubusercontent.com/ChacoGolden/Stat-Data-Science/refs/heads/main/Panel_Household%20size.csv\")\n",
        "age_mean = pd.read_csv(\"https://raw.githubusercontent.com/ChacoGolden/Stat-Data-Science/refs/heads/main/Panel_Age%20moyen.csv\")\n",
        "urban = pd.read_csv(\"https://raw.githubusercontent.com/ChacoGolden/Stat-Data-Science/refs/heads/main/Panel_Urbanization.csv\")"
      ]
    },
    {
      "cell_type": "code",
      "source": [
        "women = women.drop('Average', axis=1)"
      ],
      "metadata": {
        "id": "c9moFOfwOQSV"
      },
      "execution_count": 4,
      "outputs": []
    },
    {
      "cell_type": "code",
      "source": [
        "# Reshape each dataset from wide to long format\n",
        "income_long = income.melt(id_vars=['Country'],\n",
        "                          var_name='Year',\n",
        "                          value_name='Income')\n",
        "\n",
        "waste_long = waste.melt(id_vars=['Country'],\n",
        "                        var_name='Year',\n",
        "                        value_name='Waste')\n",
        "\n",
        "edu_long = edu.melt(id_vars=['Country'],\n",
        "                    var_name='Year',\n",
        "                    value_name='Education')\n",
        "\n",
        "infl_long = infl.melt(id_vars=['Country'],\n",
        "                      var_name='Year',\n",
        "                      value_name='Inflation')\n",
        "\n",
        "women_long = women.melt(id_vars=['Country'],\n",
        "                        var_name='Year',\n",
        "                        value_name='Women')\n",
        "\n",
        "household_long = household.melt(id_vars=['Country'],\n",
        "                        var_name='Year',\n",
        "                        value_name='Household')\n",
        "\n",
        "age_mean_long = age_mean.melt(id_vars=['Country'],\n",
        "                        var_name='Year',\n",
        "                        value_name='Age')\n",
        "\n",
        "urban_long = urban.melt(id_vars=['Country'],\n",
        "                        var_name='Year',\n",
        "                        value_name='Urban')\n",
        "\n",
        "\n",
        "\n",
        "# Convert 'Year' to numeric for consistency\n",
        "income_long['Year'] = pd.to_numeric(income_long['Year'])\n",
        "waste_long['Year'] = pd.to_numeric(waste_long['Year'])\n",
        "edu_long['Year'] = pd.to_numeric(edu_long['Year'])\n",
        "infl_long['Year'] = pd.to_numeric(infl_long['Year'])\n",
        "women_long['Year'] = pd.to_numeric(women_long['Year'])\n",
        "household_long['Year'] = pd.to_numeric(household_long['Year'])\n",
        "age_mean_long['Year'] = pd.to_numeric(age_mean_long['Year'])\n",
        "urban_long['Year'] = pd.to_numeric(urban_long['Year'])\n",
        "\n",
        "\n",
        "# Inspect the transformed data\n",
        "print(income_long.head())\n",
        "print(waste_long.head())\n",
        "print(edu_long.head())\n",
        "print(infl_long.head())\n",
        "print(women_long.head())\n",
        "print(household_long.head())\n",
        "print(age_mean_long.head())\n",
        "print(urban_long.head())"
      ],
      "metadata": {
        "colab": {
          "base_uri": "https://localhost:8080/"
        },
        "id": "8zX2ZEdLZqW8",
        "outputId": "93c9b916-e58d-4daa-9efb-8c88d1690290"
      },
      "execution_count": 5,
      "outputs": [
        {
          "output_type": "stream",
          "name": "stdout",
          "text": [
            "    Country  Year   Income\n",
            "0   Belgium  2014  21705.0\n",
            "1  Bulgaria  2014   3311.0\n",
            "2   Czechia  2014   7622.0\n",
            "3   Denmark  2014  27861.0\n",
            "4   Germany  2014  19733.0\n",
            "    Country  Year     Waste\n",
            "0   Belgium  2014  0.484672\n",
            "1  Bulgaria  2014  0.376963\n",
            "2   Czechia  2014  0.310165\n",
            "3   Denmark  2014  0.636289\n",
            "4   Germany  2014  0.456714\n",
            "    Country  Year Education\n",
            "0   Belgium  2014      32.6\n",
            "1  Bulgaria  2014      23.6\n",
            "2   Czechia  2014      19.1\n",
            "3   Denmark  2014      29.4\n",
            "4   Germany  2014      23.2\n",
            "    Country  Year Inflation\n",
            "0   Belgium  2014       0.5\n",
            "1  Bulgaria  2014      -1.6\n",
            "2   Czechia  2014       0.4\n",
            "3   Denmark  2014       0.4\n",
            "4   Germany  2014       0.8\n",
            "    Country  Year  Women\n",
            "0   Belgium  2014   62.9\n",
            "1  Bulgaria  2014   61.5\n",
            "2   Czechia  2014   64.7\n",
            "3   Denmark  2014   71.0\n",
            "4   Germany  2014   72.1\n",
            "    Country  Year  Household\n",
            "0   Austria  2014        2.2\n",
            "1   Belgium  2014        2.3\n",
            "2  Bulgaria  2014        2.6\n",
            "3    Cyprus  2014        2.7\n",
            "4   Czechia  2014        2.4\n",
            "    Country  Year   Age\n",
            "0   Belgium  2014  41.3\n",
            "1  Bulgaria  2014  43.7\n",
            "2   Czechia  2014  40.8\n",
            "3   Denmark  2014  41.3\n",
            "4   Germany  2014  45.6\n",
            "    Country  Year    Urban\n",
            "0   Austria  2014  0.57526\n",
            "1   Belgium  2014  0.97833\n",
            "2  Bulgaria  2014  0.73651\n",
            "3    Cyprus  2014  0.67031\n",
            "4   Czechia  2014  0.73384\n"
          ]
        }
      ]
    },
    {
      "cell_type": "code",
      "source": [
        "# Merge the long-format datasets\n",
        "merged_data = waste_long.merge(income_long, on=['Country', 'Year'], how='inner') \\\n",
        "                        .merge(edu_long, on=['Country', 'Year'], how='inner') \\\n",
        "                        .merge(infl_long, on=['Country', 'Year'], how='inner') \\\n",
        "                        .merge(women_long, on=['Country', 'Year'], how='inner') \\\n",
        "                        .merge(household_long, on=['Country', 'Year'], how='inner') \\\n",
        "                        .merge(age_mean_long, on=['Country', 'Year'], how='inner') \\\n",
        "                        .merge(urban_long, on=['Country', 'Year'], how='inner')\n",
        "\n",
        "\n",
        "# Proceed with cleaning and running the regression\n",
        "print(merged_data.head())\n"
      ],
      "metadata": {
        "colab": {
          "base_uri": "https://localhost:8080/"
        },
        "id": "bxIZtSTIZ18Z",
        "outputId": "f00447dc-4e71-4c38-cabf-7f1c0e304976"
      },
      "execution_count": 6,
      "outputs": [
        {
          "output_type": "stream",
          "name": "stdout",
          "text": [
            "    Country  Year     Waste   Income Education Inflation  Women  Household  \\\n",
            "0   Belgium  2014  0.484672  21705.0      32.6       0.5   62.9        2.3   \n",
            "1  Bulgaria  2014  0.376963   3311.0      23.6      -1.6   61.5        2.6   \n",
            "2   Czechia  2014  0.310165   7622.0      19.1       0.4   64.7        2.4   \n",
            "3   Denmark  2014  0.636289  27861.0      29.4       0.4   71.0        2.0   \n",
            "4   Germany  2014  0.456714  19733.0      23.2       0.8   72.1        2.0   \n",
            "\n",
            "    Age    Urban  \n",
            "0  41.3  0.97833  \n",
            "1  43.7  0.73651  \n",
            "2  40.8  0.73384  \n",
            "3  41.3  0.87410  \n",
            "4  45.6  0.77190  \n"
          ]
        }
      ]
    },
    {
      "cell_type": "code",
      "source": [
        "# Save the DataFrame to a CSV file\n",
        "merged_data.to_csv('Panel_Data_Inc_Edu_Infl_Wm_Hh_Age_Urb.csv', index=False)\n",
        "\n",
        "# Use Colab's files module to download the file\n",
        "from google.colab import files\n",
        "files.download('Panel_Data_Inc_Edu_Infl_Wm_Hh_Age_Urb.csv')\n"
      ],
      "metadata": {
        "id": "5ORUTsxPbSq8",
        "outputId": "5a3e4ec3-3a09-4c2b-e1b3-8fe2c4c6498c",
        "colab": {
          "base_uri": "https://localhost:8080/",
          "height": 17
        }
      },
      "execution_count": 8,
      "outputs": [
        {
          "output_type": "display_data",
          "data": {
            "text/plain": [
              "<IPython.core.display.Javascript object>"
            ],
            "application/javascript": [
              "\n",
              "    async function download(id, filename, size) {\n",
              "      if (!google.colab.kernel.accessAllowed) {\n",
              "        return;\n",
              "      }\n",
              "      const div = document.createElement('div');\n",
              "      const label = document.createElement('label');\n",
              "      label.textContent = `Downloading \"${filename}\": `;\n",
              "      div.appendChild(label);\n",
              "      const progress = document.createElement('progress');\n",
              "      progress.max = size;\n",
              "      div.appendChild(progress);\n",
              "      document.body.appendChild(div);\n",
              "\n",
              "      const buffers = [];\n",
              "      let downloaded = 0;\n",
              "\n",
              "      const channel = await google.colab.kernel.comms.open(id);\n",
              "      // Send a message to notify the kernel that we're ready.\n",
              "      channel.send({})\n",
              "\n",
              "      for await (const message of channel.messages) {\n",
              "        // Send a message to notify the kernel that we're ready.\n",
              "        channel.send({})\n",
              "        if (message.buffers) {\n",
              "          for (const buffer of message.buffers) {\n",
              "            buffers.push(buffer);\n",
              "            downloaded += buffer.byteLength;\n",
              "            progress.value = downloaded;\n",
              "          }\n",
              "        }\n",
              "      }\n",
              "      const blob = new Blob(buffers, {type: 'application/binary'});\n",
              "      const a = document.createElement('a');\n",
              "      a.href = window.URL.createObjectURL(blob);\n",
              "      a.download = filename;\n",
              "      div.appendChild(a);\n",
              "      a.click();\n",
              "      div.remove();\n",
              "    }\n",
              "  "
            ]
          },
          "metadata": {}
        },
        {
          "output_type": "display_data",
          "data": {
            "text/plain": [
              "<IPython.core.display.Javascript object>"
            ],
            "application/javascript": [
              "download(\"download_cf7d0957-7174-43d8-84e2-444464e85ce9\", \"Panel_Data_Inc_Edu_Infl_Wm_Hh_Age_Urb.csv\", 19093)"
            ]
          },
          "metadata": {}
        }
      ]
    }
  ]
}