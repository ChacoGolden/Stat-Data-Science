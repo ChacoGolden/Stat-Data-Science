{
  "nbformat": 4,
  "nbformat_minor": 0,
  "metadata": {
    "colab": {
      "provenance": [],
      "authorship_tag": "ABX9TyPRVG9/3drwFvv9y8XldwNs",
      "include_colab_link": true
    },
    "kernelspec": {
      "name": "python3",
      "display_name": "Python 3"
    },
    "language_info": {
      "name": "python"
    }
  },
  "cells": [
    {
      "cell_type": "markdown",
      "metadata": {
        "id": "view-in-github",
        "colab_type": "text"
      },
      "source": [
        "<a href=\"https://colab.research.google.com/github/ChacoGolden/Stat-Data-Science/blob/main/merging_panels.ipynb\" target=\"_parent\"><img src=\"https://colab.research.google.com/assets/colab-badge.svg\" alt=\"Open In Colab\"/></a>"
      ]
    },
    {
      "cell_type": "code",
      "source": [
        "!pip install linearmodels\n",
        "\n",
        "import pandas as pd\n",
        "from linearmodels.panel import PanelOLS"
      ],
      "metadata": {
        "colab": {
          "base_uri": "https://localhost:8080/"
        },
        "id": "CEq4s1XeXDnb",
        "outputId": "1238980a-545e-49d9-ab11-61f5ceebec81"
      },
      "execution_count": 2,
      "outputs": [
        {
          "output_type": "stream",
          "name": "stdout",
          "text": [
            "Collecting linearmodels\n",
            "  Downloading linearmodels-6.1-cp310-cp310-manylinux_2_17_x86_64.manylinux2014_x86_64.whl.metadata (7.9 kB)\n",
            "Requirement already satisfied: numpy<3,>=1.22.3 in /usr/local/lib/python3.10/dist-packages (from linearmodels) (1.26.4)\n",
            "Requirement already satisfied: pandas>=1.4.0 in /usr/local/lib/python3.10/dist-packages (from linearmodels) (2.2.2)\n",
            "Requirement already satisfied: scipy>=1.8.0 in /usr/local/lib/python3.10/dist-packages (from linearmodels) (1.13.1)\n",
            "Requirement already satisfied: statsmodels>=0.13.0 in /usr/local/lib/python3.10/dist-packages (from linearmodels) (0.14.4)\n",
            "Collecting mypy-extensions>=0.4 (from linearmodels)\n",
            "  Downloading mypy_extensions-1.0.0-py3-none-any.whl.metadata (1.1 kB)\n",
            "Requirement already satisfied: Cython>=3.0.10 in /usr/local/lib/python3.10/dist-packages (from linearmodels) (3.0.11)\n",
            "Collecting pyhdfe>=0.1 (from linearmodels)\n",
            "  Downloading pyhdfe-0.2.0-py3-none-any.whl.metadata (4.0 kB)\n",
            "Collecting formulaic>=1.0.0 (from linearmodels)\n",
            "  Downloading formulaic-1.0.2-py3-none-any.whl.metadata (6.8 kB)\n",
            "Collecting setuptools-scm<9.0.0,>=8.0.0 (from setuptools-scm[toml]<9.0.0,>=8.0.0->linearmodels)\n",
            "  Downloading setuptools_scm-8.1.0-py3-none-any.whl.metadata (6.6 kB)\n",
            "Collecting interface-meta>=1.2.0 (from formulaic>=1.0.0->linearmodels)\n",
            "  Downloading interface_meta-1.3.0-py3-none-any.whl.metadata (6.7 kB)\n",
            "Requirement already satisfied: typing-extensions>=4.2.0 in /usr/local/lib/python3.10/dist-packages (from formulaic>=1.0.0->linearmodels) (4.12.2)\n",
            "Requirement already satisfied: wrapt>=1.0 in /usr/local/lib/python3.10/dist-packages (from formulaic>=1.0.0->linearmodels) (1.16.0)\n",
            "Requirement already satisfied: python-dateutil>=2.8.2 in /usr/local/lib/python3.10/dist-packages (from pandas>=1.4.0->linearmodels) (2.8.2)\n",
            "Requirement already satisfied: pytz>=2020.1 in /usr/local/lib/python3.10/dist-packages (from pandas>=1.4.0->linearmodels) (2024.2)\n",
            "Requirement already satisfied: tzdata>=2022.7 in /usr/local/lib/python3.10/dist-packages (from pandas>=1.4.0->linearmodels) (2024.2)\n",
            "Requirement already satisfied: packaging>=20 in /usr/local/lib/python3.10/dist-packages (from setuptools-scm<9.0.0,>=8.0.0->setuptools-scm[toml]<9.0.0,>=8.0.0->linearmodels) (24.2)\n",
            "Requirement already satisfied: setuptools in /usr/local/lib/python3.10/dist-packages (from setuptools-scm<9.0.0,>=8.0.0->setuptools-scm[toml]<9.0.0,>=8.0.0->linearmodels) (75.1.0)\n",
            "Requirement already satisfied: tomli>=1 in /usr/local/lib/python3.10/dist-packages (from setuptools-scm<9.0.0,>=8.0.0->setuptools-scm[toml]<9.0.0,>=8.0.0->linearmodels) (2.1.0)\n",
            "Requirement already satisfied: patsy>=0.5.6 in /usr/local/lib/python3.10/dist-packages (from statsmodels>=0.13.0->linearmodels) (1.0.1)\n",
            "Requirement already satisfied: six>=1.5 in /usr/local/lib/python3.10/dist-packages (from python-dateutil>=2.8.2->pandas>=1.4.0->linearmodels) (1.16.0)\n",
            "Downloading linearmodels-6.1-cp310-cp310-manylinux_2_17_x86_64.manylinux2014_x86_64.whl (1.7 MB)\n",
            "\u001b[2K   \u001b[90m━━━━━━━━━━━━━━━━━━━━━━━━━━━━━━━━━━━━━━━━\u001b[0m \u001b[32m1.7/1.7 MB\u001b[0m \u001b[31m24.3 MB/s\u001b[0m eta \u001b[36m0:00:00\u001b[0m\n",
            "\u001b[?25hDownloading formulaic-1.0.2-py3-none-any.whl (94 kB)\n",
            "\u001b[2K   \u001b[90m━━━━━━━━━━━━━━━━━━━━━━━━━━━━━━━━━━━━━━━━\u001b[0m \u001b[32m94.5/94.5 kB\u001b[0m \u001b[31m8.5 MB/s\u001b[0m eta \u001b[36m0:00:00\u001b[0m\n",
            "\u001b[?25hDownloading mypy_extensions-1.0.0-py3-none-any.whl (4.7 kB)\n",
            "Downloading pyhdfe-0.2.0-py3-none-any.whl (19 kB)\n",
            "Downloading setuptools_scm-8.1.0-py3-none-any.whl (43 kB)\n",
            "\u001b[2K   \u001b[90m━━━━━━━━━━━━━━━━━━━━━━━━━━━━━━━━━━━━━━━━\u001b[0m \u001b[32m43.7/43.7 kB\u001b[0m \u001b[31m3.1 MB/s\u001b[0m eta \u001b[36m0:00:00\u001b[0m\n",
            "\u001b[?25hDownloading interface_meta-1.3.0-py3-none-any.whl (14 kB)\n",
            "Installing collected packages: setuptools-scm, mypy-extensions, interface-meta, pyhdfe, formulaic, linearmodels\n",
            "Successfully installed formulaic-1.0.2 interface-meta-1.3.0 linearmodels-6.1 mypy-extensions-1.0.0 pyhdfe-0.2.0 setuptools-scm-8.1.0\n"
          ]
        }
      ]
    },
    {
      "cell_type": "code",
      "execution_count": 16,
      "metadata": {
        "id": "AgrX-VHQW-LN"
      },
      "outputs": [],
      "source": [
        "income = pd.read_csv(\"https://raw.githubusercontent.com/ChacoGolden/Stat-Data-Science/refs/heads/main/clean_EU_income.csv\")\n",
        "waste = pd.read_csv(\"https://raw.githubusercontent.com/ChacoGolden/Stat-Data-Science/refs/heads/main/filtered_waste_per_capita.csv\")\n",
        "edu = pd.read_csv(\"https://raw.githubusercontent.com/ChacoGolden/Stat-Data-Science/refs/heads/main/Panel_euro_edu.csv\")\n",
        "infl = pd.read_csv(\"https://raw.githubusercontent.com/ChacoGolden/Stat-Data-Science/refs/heads/main/panel_eu_infl.csv\")"
      ]
    },
    {
      "cell_type": "code",
      "source": [
        "# Rename the first column to 'Country'\n",
        "income.rename(columns={income.columns[0]: 'Country'}, inplace=True)"
      ],
      "metadata": {
        "id": "NKBQuHusY-ys"
      },
      "execution_count": 9,
      "outputs": []
    },
    {
      "cell_type": "code",
      "source": [
        "# Reshape each dataset from wide to long format\n",
        "income_long = income.melt(id_vars=['Country'],\n",
        "                          var_name='Year',\n",
        "                          value_name='Income')\n",
        "\n",
        "waste_long = waste.melt(id_vars=['Country'],\n",
        "                        var_name='Year',\n",
        "                        value_name='Waste')\n",
        "\n",
        "edu_long = edu.melt(id_vars=['Country'],\n",
        "                    var_name='Year',\n",
        "                    value_name='Education')\n",
        "\n",
        "# Convert 'Year' to numeric for consistency\n",
        "income_long['Year'] = pd.to_numeric(income_long['Year'])\n",
        "waste_long['Year'] = pd.to_numeric(waste_long['Year'])\n",
        "edu_long['Year'] = pd.to_numeric(edu_long['Year'])\n",
        "\n",
        "# Inspect the transformed data\n",
        "print(income_long.head())\n",
        "print(waste_long.head())\n",
        "print(edu_long.head())"
      ],
      "metadata": {
        "colab": {
          "base_uri": "https://localhost:8080/"
        },
        "id": "8zX2ZEdLZqW8",
        "outputId": "8f15fc93-0a68-45fa-a6ea-1a4a71a942ef"
      },
      "execution_count": 11,
      "outputs": [
        {
          "output_type": "stream",
          "name": "stdout",
          "text": [
            "    Country  Year   Income\n",
            "0   Belgium  2014  21705.0\n",
            "1  Bulgaria  2014   3311.0\n",
            "2   Czechia  2014   7622.0\n",
            "3   Denmark  2014  27861.0\n",
            "4   Germany  2014  19733.0\n",
            "    Country  Year     Waste\n",
            "0   Belgium  2014  0.484672\n",
            "1  Bulgaria  2014  0.376963\n",
            "2   Czechia  2014  0.310165\n",
            "3   Denmark  2014  0.636289\n",
            "4   Germany  2014  0.456714\n",
            "    Country  Year Education\n",
            "0   Belgium  2014      32.6\n",
            "1  Bulgaria  2014      23.6\n",
            "2   Czechia  2014      19.1\n",
            "3   Denmark  2014      29.4\n",
            "4   Germany  2014      23.2\n"
          ]
        }
      ]
    },
    {
      "cell_type": "code",
      "source": [
        "# Merge the long-format datasets\n",
        "merged_data = waste_long.merge(income_long, on=['Country', 'Year'], how='inner') \\\n",
        "                        .merge(edu_long, on=['Country', 'Year'], how='inner')\n",
        "\n",
        "# Proceed with cleaning and running the regression\n",
        "print(merged_data.head())\n"
      ],
      "metadata": {
        "colab": {
          "base_uri": "https://localhost:8080/"
        },
        "id": "bxIZtSTIZ18Z",
        "outputId": "e2cc0a77-0db6-4f5f-88bd-750c0e3d265f"
      },
      "execution_count": 12,
      "outputs": [
        {
          "output_type": "stream",
          "name": "stdout",
          "text": [
            "    Country  Year     Waste   Income Education\n",
            "0   Belgium  2014  0.484672  21705.0      32.6\n",
            "1  Bulgaria  2014  0.376963   3311.0      23.6\n",
            "2   Czechia  2014  0.310165   7622.0      19.1\n",
            "3   Denmark  2014  0.636289  27861.0      29.4\n",
            "4   Germany  2014  0.456714  19733.0      23.2\n"
          ]
        }
      ]
    },
    {
      "cell_type": "code",
      "source": [
        "# Reshape the 'infl' DataFrame from wide to long format\n",
        "infl_long = infl.melt(id_vars=['Country'],\n",
        "                      var_name='Year',\n",
        "                      value_name='Inflation')\n",
        "\n",
        "# Convert 'Year' to numeric for consistency\n",
        "infl_long['Year'] = pd.to_numeric(infl_long['Year'])\n",
        "\n",
        "# Merge 'infl_long' into the existing merged_data DataFrame\n",
        "merged_data = merged_data.merge(infl_long, on=['Country', 'Year'], how='inner')\n",
        "\n",
        "# Inspect the final merged DataFrame\n",
        "print(merged_data.head())\n"
      ],
      "metadata": {
        "colab": {
          "base_uri": "https://localhost:8080/"
        },
        "id": "U5czdWx7aipX",
        "outputId": "f5299c65-d669-4619-d731-1aea80c77422"
      },
      "execution_count": 17,
      "outputs": [
        {
          "output_type": "stream",
          "name": "stdout",
          "text": [
            "    Country  Year     Waste   Income Education Inflation\n",
            "0   Belgium  2014  0.484672  21705.0      32.6       0.5\n",
            "1  Bulgaria  2014  0.376963   3311.0      23.6      -1.6\n",
            "2   Czechia  2014  0.310165   7622.0      19.1       0.4\n",
            "3   Denmark  2014  0.636289  27861.0      29.4       0.4\n",
            "4   Germany  2014  0.456714  19733.0      23.2       0.8\n"
          ]
        }
      ]
    },
    {
      "cell_type": "code",
      "source": [
        "# Save the DataFrame to a CSV file\n",
        "merged_data.to_csv('Panel_Data_Inc_Edu_Infl.csv', index=False)\n",
        "\n",
        "# Use Colab's files module to download the file\n",
        "from google.colab import files\n",
        "files.download('Panel_Data_Inc_Edu_Infl.csv')\n"
      ],
      "metadata": {
        "colab": {
          "base_uri": "https://localhost:8080/",
          "height": 17
        },
        "id": "5ORUTsxPbSq8",
        "outputId": "ba1d551e-c149-41b4-8fe6-b422fd67a00e"
      },
      "execution_count": 18,
      "outputs": [
        {
          "output_type": "display_data",
          "data": {
            "text/plain": [
              "<IPython.core.display.Javascript object>"
            ],
            "application/javascript": [
              "\n",
              "    async function download(id, filename, size) {\n",
              "      if (!google.colab.kernel.accessAllowed) {\n",
              "        return;\n",
              "      }\n",
              "      const div = document.createElement('div');\n",
              "      const label = document.createElement('label');\n",
              "      label.textContent = `Downloading \"${filename}\": `;\n",
              "      div.appendChild(label);\n",
              "      const progress = document.createElement('progress');\n",
              "      progress.max = size;\n",
              "      div.appendChild(progress);\n",
              "      document.body.appendChild(div);\n",
              "\n",
              "      const buffers = [];\n",
              "      let downloaded = 0;\n",
              "\n",
              "      const channel = await google.colab.kernel.comms.open(id);\n",
              "      // Send a message to notify the kernel that we're ready.\n",
              "      channel.send({})\n",
              "\n",
              "      for await (const message of channel.messages) {\n",
              "        // Send a message to notify the kernel that we're ready.\n",
              "        channel.send({})\n",
              "        if (message.buffers) {\n",
              "          for (const buffer of message.buffers) {\n",
              "            buffers.push(buffer);\n",
              "            downloaded += buffer.byteLength;\n",
              "            progress.value = downloaded;\n",
              "          }\n",
              "        }\n",
              "      }\n",
              "      const blob = new Blob(buffers, {type: 'application/binary'});\n",
              "      const a = document.createElement('a');\n",
              "      a.href = window.URL.createObjectURL(blob);\n",
              "      a.download = filename;\n",
              "      div.appendChild(a);\n",
              "      a.click();\n",
              "      div.remove();\n",
              "    }\n",
              "  "
            ]
          },
          "metadata": {}
        },
        {
          "output_type": "display_data",
          "data": {
            "text/plain": [
              "<IPython.core.display.Javascript object>"
            ],
            "application/javascript": [
              "download(\"download_694fe67c-f3db-405d-8de8-f0c041ad8077\", \"Panel_Data_Inc_Edu_Infl.csv\", 11386)"
            ]
          },
          "metadata": {}
        }
      ]
    }
  ]
}