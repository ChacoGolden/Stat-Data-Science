{
  "nbformat": 4,
  "nbformat_minor": 0,
  "metadata": {
    "colab": {
      "provenance": [],
      "include_colab_link": true
    },
    "kernelspec": {
      "name": "python3",
      "display_name": "Python 3"
    },
    "language_info": {
      "name": "python"
    }
  },
  "cells": [
    {
      "cell_type": "markdown",
      "metadata": {
        "id": "view-in-github",
        "colab_type": "text"
      },
      "source": [
        "<a href=\"https://colab.research.google.com/github/ChacoGolden/Stat-Data-Science/blob/main/Panel_reg_heter.ipynb\" target=\"_parent\"><img src=\"https://colab.research.google.com/assets/colab-badge.svg\" alt=\"Open In Colab\"/></a>"
      ]
    },
    {
      "cell_type": "markdown",
      "source": [
        "# Regression analysis"
      ],
      "metadata": {
        "id": "OMsNJgU23aoI"
      }
    },
    {
      "cell_type": "code",
      "source": [
        "!pip install linearmodels"
      ],
      "metadata": {
        "colab": {
          "base_uri": "https://localhost:8080/"
        },
        "id": "0K5ueD0Qc5X1",
        "outputId": "b532e539-e6f7-48c3-cd72-d28606839220"
      },
      "execution_count": 2,
      "outputs": [
        {
          "output_type": "stream",
          "name": "stdout",
          "text": [
            "Collecting linearmodels\n",
            "  Downloading linearmodels-6.1-cp310-cp310-manylinux_2_17_x86_64.manylinux2014_x86_64.whl.metadata (7.9 kB)\n",
            "Requirement already satisfied: numpy<3,>=1.22.3 in /usr/local/lib/python3.10/dist-packages (from linearmodels) (1.26.4)\n",
            "Requirement already satisfied: pandas>=1.4.0 in /usr/local/lib/python3.10/dist-packages (from linearmodels) (2.2.2)\n",
            "Requirement already satisfied: scipy>=1.8.0 in /usr/local/lib/python3.10/dist-packages (from linearmodels) (1.13.1)\n",
            "Requirement already satisfied: statsmodels>=0.13.0 in /usr/local/lib/python3.10/dist-packages (from linearmodels) (0.14.4)\n",
            "Collecting mypy-extensions>=0.4 (from linearmodels)\n",
            "  Downloading mypy_extensions-1.0.0-py3-none-any.whl.metadata (1.1 kB)\n",
            "Requirement already satisfied: Cython>=3.0.10 in /usr/local/lib/python3.10/dist-packages (from linearmodels) (3.0.11)\n",
            "Collecting pyhdfe>=0.1 (from linearmodels)\n",
            "  Downloading pyhdfe-0.2.0-py3-none-any.whl.metadata (4.0 kB)\n",
            "Collecting formulaic>=1.0.0 (from linearmodels)\n",
            "  Downloading formulaic-1.0.2-py3-none-any.whl.metadata (6.8 kB)\n",
            "Collecting setuptools-scm<9.0.0,>=8.0.0 (from setuptools-scm[toml]<9.0.0,>=8.0.0->linearmodels)\n",
            "  Downloading setuptools_scm-8.1.0-py3-none-any.whl.metadata (6.6 kB)\n",
            "Collecting interface-meta>=1.2.0 (from formulaic>=1.0.0->linearmodels)\n",
            "  Downloading interface_meta-1.3.0-py3-none-any.whl.metadata (6.7 kB)\n",
            "Requirement already satisfied: typing-extensions>=4.2.0 in /usr/local/lib/python3.10/dist-packages (from formulaic>=1.0.0->linearmodels) (4.12.2)\n",
            "Requirement already satisfied: wrapt>=1.0 in /usr/local/lib/python3.10/dist-packages (from formulaic>=1.0.0->linearmodels) (1.17.0)\n",
            "Requirement already satisfied: python-dateutil>=2.8.2 in /usr/local/lib/python3.10/dist-packages (from pandas>=1.4.0->linearmodels) (2.8.2)\n",
            "Requirement already satisfied: pytz>=2020.1 in /usr/local/lib/python3.10/dist-packages (from pandas>=1.4.0->linearmodels) (2024.2)\n",
            "Requirement already satisfied: tzdata>=2022.7 in /usr/local/lib/python3.10/dist-packages (from pandas>=1.4.0->linearmodels) (2024.2)\n",
            "Requirement already satisfied: packaging>=20 in /usr/local/lib/python3.10/dist-packages (from setuptools-scm<9.0.0,>=8.0.0->setuptools-scm[toml]<9.0.0,>=8.0.0->linearmodels) (24.2)\n",
            "Requirement already satisfied: setuptools in /usr/local/lib/python3.10/dist-packages (from setuptools-scm<9.0.0,>=8.0.0->setuptools-scm[toml]<9.0.0,>=8.0.0->linearmodels) (75.1.0)\n",
            "Requirement already satisfied: tomli>=1 in /usr/local/lib/python3.10/dist-packages (from setuptools-scm<9.0.0,>=8.0.0->setuptools-scm[toml]<9.0.0,>=8.0.0->linearmodels) (2.2.1)\n",
            "Requirement already satisfied: patsy>=0.5.6 in /usr/local/lib/python3.10/dist-packages (from statsmodels>=0.13.0->linearmodels) (1.0.1)\n",
            "Requirement already satisfied: six>=1.5 in /usr/local/lib/python3.10/dist-packages (from python-dateutil>=2.8.2->pandas>=1.4.0->linearmodels) (1.16.0)\n",
            "Downloading linearmodels-6.1-cp310-cp310-manylinux_2_17_x86_64.manylinux2014_x86_64.whl (1.7 MB)\n",
            "\u001b[2K   \u001b[90m━━━━━━━━━━━━━━━━━━━━━━━━━━━━━━━━━━━━━━━━\u001b[0m \u001b[32m1.7/1.7 MB\u001b[0m \u001b[31m17.8 MB/s\u001b[0m eta \u001b[36m0:00:00\u001b[0m\n",
            "\u001b[?25hDownloading formulaic-1.0.2-py3-none-any.whl (94 kB)\n",
            "\u001b[2K   \u001b[90m━━━━━━━━━━━━━━━━━━━━━━━━━━━━━━━━━━━━━━━━\u001b[0m \u001b[32m94.5/94.5 kB\u001b[0m \u001b[31m9.6 MB/s\u001b[0m eta \u001b[36m0:00:00\u001b[0m\n",
            "\u001b[?25hDownloading mypy_extensions-1.0.0-py3-none-any.whl (4.7 kB)\n",
            "Downloading pyhdfe-0.2.0-py3-none-any.whl (19 kB)\n",
            "Downloading setuptools_scm-8.1.0-py3-none-any.whl (43 kB)\n",
            "\u001b[2K   \u001b[90m━━━━━━━━━━━━━━━━━━━━━━━━━━━━━━━━━━━━━━━━\u001b[0m \u001b[32m43.7/43.7 kB\u001b[0m \u001b[31m4.4 MB/s\u001b[0m eta \u001b[36m0:00:00\u001b[0m\n",
            "\u001b[?25hDownloading interface_meta-1.3.0-py3-none-any.whl (14 kB)\n",
            "Installing collected packages: setuptools-scm, mypy-extensions, interface-meta, pyhdfe, formulaic, linearmodels\n",
            "Successfully installed formulaic-1.0.2 interface-meta-1.3.0 linearmodels-6.1 mypy-extensions-1.0.0 pyhdfe-0.2.0 setuptools-scm-8.1.0\n"
          ]
        }
      ]
    },
    {
      "cell_type": "code",
      "source": [
        "import pandas as pd\n",
        "from linearmodels.panel import PanelOLS\n",
        "from statsmodels.tools import add_constant"
      ],
      "metadata": {
        "id": "t9S1-w-xcco2"
      },
      "execution_count": 3,
      "outputs": []
    },
    {
      "cell_type": "code",
      "execution_count": 4,
      "metadata": {
        "colab": {
          "base_uri": "https://localhost:8080/",
          "height": 424
        },
        "id": "LuZmaAolb2RG",
        "outputId": "e706b25d-01fe-4811-ca8b-d46ebf0ce85d"
      },
      "outputs": [
        {
          "output_type": "execute_result",
          "data": {
            "text/plain": [
              "      Country  Year          Waste   Income  Env Awareness\n",
              "0     Belgium  2014  484672.171322  21705.0           0.95\n",
              "1    Bulgaria  2014  376962.938849   3311.0           0.94\n",
              "2     Czechia  2014  310164.577725   7622.0           0.93\n",
              "3     Denmark  2014  636289.225526  27861.0           0.96\n",
              "4     Germany  2014  456714.035948  19733.0           0.94\n",
              "..        ...   ...            ...      ...            ...\n",
              "229  Slovakia  2022  477938.297374   8819.0            NaN\n",
              "230   Finland  2022  301988.143630  26541.0            NaN\n",
              "231    Sweden  2022  410815.831806  26738.0            NaN\n",
              "232    Norway  2022  412204.000907  39206.0            NaN\n",
              "233   Türkiye  2022  316603.254220   2804.0            NaN\n",
              "\n",
              "[234 rows x 5 columns]"
            ],
            "text/html": [
              "\n",
              "  <div id=\"df-85f4a95e-a6e6-4916-b69d-d29debda6484\" class=\"colab-df-container\">\n",
              "    <div>\n",
              "<style scoped>\n",
              "    .dataframe tbody tr th:only-of-type {\n",
              "        vertical-align: middle;\n",
              "    }\n",
              "\n",
              "    .dataframe tbody tr th {\n",
              "        vertical-align: top;\n",
              "    }\n",
              "\n",
              "    .dataframe thead th {\n",
              "        text-align: right;\n",
              "    }\n",
              "</style>\n",
              "<table border=\"1\" class=\"dataframe\">\n",
              "  <thead>\n",
              "    <tr style=\"text-align: right;\">\n",
              "      <th></th>\n",
              "      <th>Country</th>\n",
              "      <th>Year</th>\n",
              "      <th>Waste</th>\n",
              "      <th>Income</th>\n",
              "      <th>Env Awareness</th>\n",
              "    </tr>\n",
              "  </thead>\n",
              "  <tbody>\n",
              "    <tr>\n",
              "      <th>0</th>\n",
              "      <td>Belgium</td>\n",
              "      <td>2014</td>\n",
              "      <td>484672.171322</td>\n",
              "      <td>21705.0</td>\n",
              "      <td>0.95</td>\n",
              "    </tr>\n",
              "    <tr>\n",
              "      <th>1</th>\n",
              "      <td>Bulgaria</td>\n",
              "      <td>2014</td>\n",
              "      <td>376962.938849</td>\n",
              "      <td>3311.0</td>\n",
              "      <td>0.94</td>\n",
              "    </tr>\n",
              "    <tr>\n",
              "      <th>2</th>\n",
              "      <td>Czechia</td>\n",
              "      <td>2014</td>\n",
              "      <td>310164.577725</td>\n",
              "      <td>7622.0</td>\n",
              "      <td>0.93</td>\n",
              "    </tr>\n",
              "    <tr>\n",
              "      <th>3</th>\n",
              "      <td>Denmark</td>\n",
              "      <td>2014</td>\n",
              "      <td>636289.225526</td>\n",
              "      <td>27861.0</td>\n",
              "      <td>0.96</td>\n",
              "    </tr>\n",
              "    <tr>\n",
              "      <th>4</th>\n",
              "      <td>Germany</td>\n",
              "      <td>2014</td>\n",
              "      <td>456714.035948</td>\n",
              "      <td>19733.0</td>\n",
              "      <td>0.94</td>\n",
              "    </tr>\n",
              "    <tr>\n",
              "      <th>...</th>\n",
              "      <td>...</td>\n",
              "      <td>...</td>\n",
              "      <td>...</td>\n",
              "      <td>...</td>\n",
              "      <td>...</td>\n",
              "    </tr>\n",
              "    <tr>\n",
              "      <th>229</th>\n",
              "      <td>Slovakia</td>\n",
              "      <td>2022</td>\n",
              "      <td>477938.297374</td>\n",
              "      <td>8819.0</td>\n",
              "      <td>NaN</td>\n",
              "    </tr>\n",
              "    <tr>\n",
              "      <th>230</th>\n",
              "      <td>Finland</td>\n",
              "      <td>2022</td>\n",
              "      <td>301988.143630</td>\n",
              "      <td>26541.0</td>\n",
              "      <td>NaN</td>\n",
              "    </tr>\n",
              "    <tr>\n",
              "      <th>231</th>\n",
              "      <td>Sweden</td>\n",
              "      <td>2022</td>\n",
              "      <td>410815.831806</td>\n",
              "      <td>26738.0</td>\n",
              "      <td>NaN</td>\n",
              "    </tr>\n",
              "    <tr>\n",
              "      <th>232</th>\n",
              "      <td>Norway</td>\n",
              "      <td>2022</td>\n",
              "      <td>412204.000907</td>\n",
              "      <td>39206.0</td>\n",
              "      <td>NaN</td>\n",
              "    </tr>\n",
              "    <tr>\n",
              "      <th>233</th>\n",
              "      <td>Türkiye</td>\n",
              "      <td>2022</td>\n",
              "      <td>316603.254220</td>\n",
              "      <td>2804.0</td>\n",
              "      <td>NaN</td>\n",
              "    </tr>\n",
              "  </tbody>\n",
              "</table>\n",
              "<p>234 rows × 5 columns</p>\n",
              "</div>\n",
              "    <div class=\"colab-df-buttons\">\n",
              "\n",
              "  <div class=\"colab-df-container\">\n",
              "    <button class=\"colab-df-convert\" onclick=\"convertToInteractive('df-85f4a95e-a6e6-4916-b69d-d29debda6484')\"\n",
              "            title=\"Convert this dataframe to an interactive table.\"\n",
              "            style=\"display:none;\">\n",
              "\n",
              "  <svg xmlns=\"http://www.w3.org/2000/svg\" height=\"24px\" viewBox=\"0 -960 960 960\">\n",
              "    <path d=\"M120-120v-720h720v720H120Zm60-500h600v-160H180v160Zm220 220h160v-160H400v160Zm0 220h160v-160H400v160ZM180-400h160v-160H180v160Zm440 0h160v-160H620v160ZM180-180h160v-160H180v160Zm440 0h160v-160H620v160Z\"/>\n",
              "  </svg>\n",
              "    </button>\n",
              "\n",
              "  <style>\n",
              "    .colab-df-container {\n",
              "      display:flex;\n",
              "      gap: 12px;\n",
              "    }\n",
              "\n",
              "    .colab-df-convert {\n",
              "      background-color: #E8F0FE;\n",
              "      border: none;\n",
              "      border-radius: 50%;\n",
              "      cursor: pointer;\n",
              "      display: none;\n",
              "      fill: #1967D2;\n",
              "      height: 32px;\n",
              "      padding: 0 0 0 0;\n",
              "      width: 32px;\n",
              "    }\n",
              "\n",
              "    .colab-df-convert:hover {\n",
              "      background-color: #E2EBFA;\n",
              "      box-shadow: 0px 1px 2px rgba(60, 64, 67, 0.3), 0px 1px 3px 1px rgba(60, 64, 67, 0.15);\n",
              "      fill: #174EA6;\n",
              "    }\n",
              "\n",
              "    .colab-df-buttons div {\n",
              "      margin-bottom: 4px;\n",
              "    }\n",
              "\n",
              "    [theme=dark] .colab-df-convert {\n",
              "      background-color: #3B4455;\n",
              "      fill: #D2E3FC;\n",
              "    }\n",
              "\n",
              "    [theme=dark] .colab-df-convert:hover {\n",
              "      background-color: #434B5C;\n",
              "      box-shadow: 0px 1px 3px 1px rgba(0, 0, 0, 0.15);\n",
              "      filter: drop-shadow(0px 1px 2px rgba(0, 0, 0, 0.3));\n",
              "      fill: #FFFFFF;\n",
              "    }\n",
              "  </style>\n",
              "\n",
              "    <script>\n",
              "      const buttonEl =\n",
              "        document.querySelector('#df-85f4a95e-a6e6-4916-b69d-d29debda6484 button.colab-df-convert');\n",
              "      buttonEl.style.display =\n",
              "        google.colab.kernel.accessAllowed ? 'block' : 'none';\n",
              "\n",
              "      async function convertToInteractive(key) {\n",
              "        const element = document.querySelector('#df-85f4a95e-a6e6-4916-b69d-d29debda6484');\n",
              "        const dataTable =\n",
              "          await google.colab.kernel.invokeFunction('convertToInteractive',\n",
              "                                                    [key], {});\n",
              "        if (!dataTable) return;\n",
              "\n",
              "        const docLinkHtml = 'Like what you see? Visit the ' +\n",
              "          '<a target=\"_blank\" href=https://colab.research.google.com/notebooks/data_table.ipynb>data table notebook</a>'\n",
              "          + ' to learn more about interactive tables.';\n",
              "        element.innerHTML = '';\n",
              "        dataTable['output_type'] = 'display_data';\n",
              "        await google.colab.output.renderOutput(dataTable, element);\n",
              "        const docLink = document.createElement('div');\n",
              "        docLink.innerHTML = docLinkHtml;\n",
              "        element.appendChild(docLink);\n",
              "      }\n",
              "    </script>\n",
              "  </div>\n",
              "\n",
              "\n",
              "<div id=\"df-144ed675-e282-44ef-8450-47a2b59b79ea\">\n",
              "  <button class=\"colab-df-quickchart\" onclick=\"quickchart('df-144ed675-e282-44ef-8450-47a2b59b79ea')\"\n",
              "            title=\"Suggest charts\"\n",
              "            style=\"display:none;\">\n",
              "\n",
              "<svg xmlns=\"http://www.w3.org/2000/svg\" height=\"24px\"viewBox=\"0 0 24 24\"\n",
              "     width=\"24px\">\n",
              "    <g>\n",
              "        <path d=\"M19 3H5c-1.1 0-2 .9-2 2v14c0 1.1.9 2 2 2h14c1.1 0 2-.9 2-2V5c0-1.1-.9-2-2-2zM9 17H7v-7h2v7zm4 0h-2V7h2v10zm4 0h-2v-4h2v4z\"/>\n",
              "    </g>\n",
              "</svg>\n",
              "  </button>\n",
              "\n",
              "<style>\n",
              "  .colab-df-quickchart {\n",
              "      --bg-color: #E8F0FE;\n",
              "      --fill-color: #1967D2;\n",
              "      --hover-bg-color: #E2EBFA;\n",
              "      --hover-fill-color: #174EA6;\n",
              "      --disabled-fill-color: #AAA;\n",
              "      --disabled-bg-color: #DDD;\n",
              "  }\n",
              "\n",
              "  [theme=dark] .colab-df-quickchart {\n",
              "      --bg-color: #3B4455;\n",
              "      --fill-color: #D2E3FC;\n",
              "      --hover-bg-color: #434B5C;\n",
              "      --hover-fill-color: #FFFFFF;\n",
              "      --disabled-bg-color: #3B4455;\n",
              "      --disabled-fill-color: #666;\n",
              "  }\n",
              "\n",
              "  .colab-df-quickchart {\n",
              "    background-color: var(--bg-color);\n",
              "    border: none;\n",
              "    border-radius: 50%;\n",
              "    cursor: pointer;\n",
              "    display: none;\n",
              "    fill: var(--fill-color);\n",
              "    height: 32px;\n",
              "    padding: 0;\n",
              "    width: 32px;\n",
              "  }\n",
              "\n",
              "  .colab-df-quickchart:hover {\n",
              "    background-color: var(--hover-bg-color);\n",
              "    box-shadow: 0 1px 2px rgba(60, 64, 67, 0.3), 0 1px 3px 1px rgba(60, 64, 67, 0.15);\n",
              "    fill: var(--button-hover-fill-color);\n",
              "  }\n",
              "\n",
              "  .colab-df-quickchart-complete:disabled,\n",
              "  .colab-df-quickchart-complete:disabled:hover {\n",
              "    background-color: var(--disabled-bg-color);\n",
              "    fill: var(--disabled-fill-color);\n",
              "    box-shadow: none;\n",
              "  }\n",
              "\n",
              "  .colab-df-spinner {\n",
              "    border: 2px solid var(--fill-color);\n",
              "    border-color: transparent;\n",
              "    border-bottom-color: var(--fill-color);\n",
              "    animation:\n",
              "      spin 1s steps(1) infinite;\n",
              "  }\n",
              "\n",
              "  @keyframes spin {\n",
              "    0% {\n",
              "      border-color: transparent;\n",
              "      border-bottom-color: var(--fill-color);\n",
              "      border-left-color: var(--fill-color);\n",
              "    }\n",
              "    20% {\n",
              "      border-color: transparent;\n",
              "      border-left-color: var(--fill-color);\n",
              "      border-top-color: var(--fill-color);\n",
              "    }\n",
              "    30% {\n",
              "      border-color: transparent;\n",
              "      border-left-color: var(--fill-color);\n",
              "      border-top-color: var(--fill-color);\n",
              "      border-right-color: var(--fill-color);\n",
              "    }\n",
              "    40% {\n",
              "      border-color: transparent;\n",
              "      border-right-color: var(--fill-color);\n",
              "      border-top-color: var(--fill-color);\n",
              "    }\n",
              "    60% {\n",
              "      border-color: transparent;\n",
              "      border-right-color: var(--fill-color);\n",
              "    }\n",
              "    80% {\n",
              "      border-color: transparent;\n",
              "      border-right-color: var(--fill-color);\n",
              "      border-bottom-color: var(--fill-color);\n",
              "    }\n",
              "    90% {\n",
              "      border-color: transparent;\n",
              "      border-bottom-color: var(--fill-color);\n",
              "    }\n",
              "  }\n",
              "</style>\n",
              "\n",
              "  <script>\n",
              "    async function quickchart(key) {\n",
              "      const quickchartButtonEl =\n",
              "        document.querySelector('#' + key + ' button');\n",
              "      quickchartButtonEl.disabled = true;  // To prevent multiple clicks.\n",
              "      quickchartButtonEl.classList.add('colab-df-spinner');\n",
              "      try {\n",
              "        const charts = await google.colab.kernel.invokeFunction(\n",
              "            'suggestCharts', [key], {});\n",
              "      } catch (error) {\n",
              "        console.error('Error during call to suggestCharts:', error);\n",
              "      }\n",
              "      quickchartButtonEl.classList.remove('colab-df-spinner');\n",
              "      quickchartButtonEl.classList.add('colab-df-quickchart-complete');\n",
              "    }\n",
              "    (() => {\n",
              "      let quickchartButtonEl =\n",
              "        document.querySelector('#df-144ed675-e282-44ef-8450-47a2b59b79ea button');\n",
              "      quickchartButtonEl.style.display =\n",
              "        google.colab.kernel.accessAllowed ? 'block' : 'none';\n",
              "    })();\n",
              "  </script>\n",
              "</div>\n",
              "\n",
              "  <div id=\"id_35c16e6f-e73b-4afb-b9c8-10423f38a688\">\n",
              "    <style>\n",
              "      .colab-df-generate {\n",
              "        background-color: #E8F0FE;\n",
              "        border: none;\n",
              "        border-radius: 50%;\n",
              "        cursor: pointer;\n",
              "        display: none;\n",
              "        fill: #1967D2;\n",
              "        height: 32px;\n",
              "        padding: 0 0 0 0;\n",
              "        width: 32px;\n",
              "      }\n",
              "\n",
              "      .colab-df-generate:hover {\n",
              "        background-color: #E2EBFA;\n",
              "        box-shadow: 0px 1px 2px rgba(60, 64, 67, 0.3), 0px 1px 3px 1px rgba(60, 64, 67, 0.15);\n",
              "        fill: #174EA6;\n",
              "      }\n",
              "\n",
              "      [theme=dark] .colab-df-generate {\n",
              "        background-color: #3B4455;\n",
              "        fill: #D2E3FC;\n",
              "      }\n",
              "\n",
              "      [theme=dark] .colab-df-generate:hover {\n",
              "        background-color: #434B5C;\n",
              "        box-shadow: 0px 1px 3px 1px rgba(0, 0, 0, 0.15);\n",
              "        filter: drop-shadow(0px 1px 2px rgba(0, 0, 0, 0.3));\n",
              "        fill: #FFFFFF;\n",
              "      }\n",
              "    </style>\n",
              "    <button class=\"colab-df-generate\" onclick=\"generateWithVariable('data')\"\n",
              "            title=\"Generate code using this dataframe.\"\n",
              "            style=\"display:none;\">\n",
              "\n",
              "  <svg xmlns=\"http://www.w3.org/2000/svg\" height=\"24px\"viewBox=\"0 0 24 24\"\n",
              "       width=\"24px\">\n",
              "    <path d=\"M7,19H8.4L18.45,9,17,7.55,7,17.6ZM5,21V16.75L18.45,3.32a2,2,0,0,1,2.83,0l1.4,1.43a1.91,1.91,0,0,1,.58,1.4,1.91,1.91,0,0,1-.58,1.4L9.25,21ZM18.45,9,17,7.55Zm-12,3A5.31,5.31,0,0,0,4.9,8.1,5.31,5.31,0,0,0,1,6.5,5.31,5.31,0,0,0,4.9,4.9,5.31,5.31,0,0,0,6.5,1,5.31,5.31,0,0,0,8.1,4.9,5.31,5.31,0,0,0,12,6.5,5.46,5.46,0,0,0,6.5,12Z\"/>\n",
              "  </svg>\n",
              "    </button>\n",
              "    <script>\n",
              "      (() => {\n",
              "      const buttonEl =\n",
              "        document.querySelector('#id_35c16e6f-e73b-4afb-b9c8-10423f38a688 button.colab-df-generate');\n",
              "      buttonEl.style.display =\n",
              "        google.colab.kernel.accessAllowed ? 'block' : 'none';\n",
              "\n",
              "      buttonEl.onclick = () => {\n",
              "        google.colab.notebook.generateWithVariable('data');\n",
              "      }\n",
              "      })();\n",
              "    </script>\n",
              "  </div>\n",
              "\n",
              "    </div>\n",
              "  </div>\n"
            ],
            "application/vnd.google.colaboratory.intrinsic+json": {
              "type": "dataframe",
              "variable_name": "data",
              "summary": "{\n  \"name\": \"data\",\n  \"rows\": 234,\n  \"fields\": [\n    {\n      \"column\": \"Country\",\n      \"properties\": {\n        \"dtype\": \"category\",\n        \"num_unique_values\": 26,\n        \"samples\": [\n          \"France\",\n          \"Austria\",\n          \"Belgium\"\n        ],\n        \"semantic_type\": \"\",\n        \"description\": \"\"\n      }\n    },\n    {\n      \"column\": \"Year\",\n      \"properties\": {\n        \"dtype\": \"number\",\n        \"std\": 2,\n        \"min\": 2014,\n        \"max\": 2022,\n        \"num_unique_values\": 9,\n        \"samples\": [\n          2021,\n          2015,\n          2019\n        ],\n        \"semantic_type\": \"\",\n        \"description\": \"\"\n      }\n    },\n    {\n      \"column\": \"Waste\",\n      \"properties\": {\n        \"dtype\": \"number\",\n        \"std\": 88894.5846187858,\n        \"min\": 191657.5622649088,\n        \"max\": 636289.2255255022,\n        \"num_unique_values\": 234,\n        \"samples\": [\n          251124.1740207978,\n          446883.78665876266,\n          481563.572410658\n        ],\n        \"semantic_type\": \"\",\n        \"description\": \"\"\n      }\n    },\n    {\n      \"column\": \"Income\",\n      \"properties\": {\n        \"dtype\": \"number\",\n        \"std\": 10304.970873142054,\n        \"min\": 2155.0,\n        \"max\": 45310.0,\n        \"num_unique_values\": 233,\n        \"samples\": [\n          22879.0,\n          18592.0,\n          39206.0\n        ],\n        \"semantic_type\": \"\",\n        \"description\": \"\"\n      }\n    },\n    {\n      \"column\": \"Env Awareness\",\n      \"properties\": {\n        \"dtype\": \"number\",\n        \"std\": 0.03223908144561447,\n        \"min\": 0.85,\n        \"max\": 1.0,\n        \"num_unique_values\": 15,\n        \"samples\": [\n          0.92,\n          0.87,\n          0.95\n        ],\n        \"semantic_type\": \"\",\n        \"description\": \"\"\n      }\n    }\n  ]\n}"
            }
          },
          "metadata": {},
          "execution_count": 4
        }
      ],
      "source": [
        "# Load the CSV file\n",
        "data = pd.read_csv('https://raw.githubusercontent.com/ChacoGolden/Stat-Data-Science/refs/heads/main/Panel_Data_Inc_Edu_Infl_Wm_Hh_Age_Urb.csv')\n",
        "data = data.drop(['Education', 'Inflation', 'Women', 'Household', 'Age', 'Urban'], axis=1)\n",
        "# Convert 'Waste' from tons to kilograms\n",
        "data['Waste'] = data['Waste'] * 1000\n",
        "\n",
        "#Add data for heterogeneity\n",
        "url = \"https://raw.githubusercontent.com/ChacoGolden/Stat-Data-Science/refs/heads/main/Environment_awareness_long.csv\"  # Remplacer par l'URL de votre fichier CSV sur GitHub\n",
        "env_awareness_data = pd.read_csv(url)\n",
        "data = pd.merge(data, env_awareness_data[['Country', 'Year', 'Env Awareness']], on=['Country', 'Year'], how='left')# Inspect the first few rows of the data\n",
        "data"
      ]
    },
    {
      "cell_type": "code",
      "source": [
        "# Convert 'Country' and 'Year' to categorical variables (if not already)\n",
        "data['Country'] = data['Country'].astype('category')\n",
        "data['Year'] = data['Year'].astype('category')\n",
        "\n",
        "# Check for missing values\n",
        "print(data.isnull().sum())\n",
        "data = data[data['Country'] != 'Türkiye']\n",
        "print(data.head())\n",
        "num_countries = data['Country'].nunique()\n",
        "print(f\"Number of different countries: {num_countries}\")\n",
        "print(data.isnull().sum())"
      ],
      "metadata": {
        "colab": {
          "base_uri": "https://localhost:8080/"
        },
        "id": "BGKmCctocvWs",
        "outputId": "ee386c99-6c91-4eff-8fbd-cb39793c3fee"
      },
      "execution_count": 5,
      "outputs": [
        {
          "output_type": "stream",
          "name": "stdout",
          "text": [
            "Country            0\n",
            "Year               0\n",
            "Waste              0\n",
            "Income             0\n",
            "Env Awareness    162\n",
            "dtype: int64\n",
            "    Country  Year          Waste   Income  Env Awareness\n",
            "0   Belgium  2014  484672.171322  21705.0           0.95\n",
            "1  Bulgaria  2014  376962.938849   3311.0           0.94\n",
            "2   Czechia  2014  310164.577725   7622.0           0.93\n",
            "3   Denmark  2014  636289.225526  27861.0           0.96\n",
            "4   Germany  2014  456714.035948  19733.0           0.94\n",
            "Number of different countries: 25\n",
            "Country            0\n",
            "Year               0\n",
            "Waste              0\n",
            "Income             0\n",
            "Env Awareness    153\n",
            "dtype: int64\n"
          ]
        }
      ]
    },
    {
      "cell_type": "markdown",
      "source": [
        "Il manque les data pour l'âge moyen en Turquie"
      ],
      "metadata": {
        "id": "wkRGFy8gqYeV"
      }
    },
    {
      "cell_type": "code",
      "source": [
        "data['Year'] = data['Year'].astype(int)  # Or float if years are not integers"
      ],
      "metadata": {
        "id": "OboFOvaCeGQQ",
        "colab": {
          "base_uri": "https://localhost:8080/"
        },
        "outputId": "df806734-83d2-4470-99d8-081f3cffdd1c"
      },
      "execution_count": 6,
      "outputs": [
        {
          "output_type": "stream",
          "name": "stderr",
          "text": [
            "<ipython-input-6-a91a8917f5c0>:1: SettingWithCopyWarning: \n",
            "A value is trying to be set on a copy of a slice from a DataFrame.\n",
            "Try using .loc[row_indexer,col_indexer] = value instead\n",
            "\n",
            "See the caveats in the documentation: https://pandas.pydata.org/pandas-docs/stable/user_guide/indexing.html#returning-a-view-versus-a-copy\n",
            "  data['Year'] = data['Year'].astype(int)  # Or float if years are not integers\n"
          ]
        }
      ]
    },
    {
      "cell_type": "code",
      "source": [
        "# Set 'Country' and 'Year' as index to create a MultiIndex\n",
        "data = data.set_index(['Country', 'Year'])"
      ],
      "metadata": {
        "id": "DuXR4kbAfEua"
      },
      "execution_count": 7,
      "outputs": []
    },
    {
      "cell_type": "code",
      "source": [
        "# Define the dependent variable (Y) and independent variables (X)\n",
        "Y = data['Waste']\n",
        "X = data[['Income', 'Env Awareness']]\n",
        "\n",
        "# Add a constant term to the independent variables\n",
        "X = add_constant(X)"
      ],
      "metadata": {
        "id": "cCatAL2oeMM9"
      },
      "execution_count": 8,
      "outputs": []
    },
    {
      "cell_type": "code",
      "source": [
        "# Run the fixed effects model\n",
        "model = PanelOLS(dependent=Y, exog=X, entity_effects=True, time_effects=True)\n",
        "results = model.fit(cov_type='robust')\n",
        "\n",
        "# Display the results\n",
        "print(results.summary)"
      ],
      "metadata": {
        "colab": {
          "base_uri": "https://localhost:8080/"
        },
        "id": "0yOckbs0dEx_",
        "outputId": "7e6f6d86-2f0f-4d83-f009-a69ac28fbdaf"
      },
      "execution_count": 9,
      "outputs": [
        {
          "output_type": "stream",
          "name": "stdout",
          "text": [
            "                          PanelOLS Estimation Summary                           \n",
            "================================================================================\n",
            "Dep. Variable:                  Waste   R-squared:                        0.0355\n",
            "Estimator:                   PanelOLS   R-squared (Between):             -0.8298\n",
            "No. Observations:                  72   R-squared (Within):              -0.2581\n",
            "Date:                Wed, Dec 11 2024   R-squared (Overall):             -0.7180\n",
            "Time:                        09:44:15   Log-likelihood                   -856.07\n",
            "Cov. Estimator:                Robust                                           \n",
            "                                        F-statistic:                      0.8086\n",
            "Entities:                          24   P-value                           0.4520\n",
            "Avg Obs:                       3.0000   Distribution:                    F(2,44)\n",
            "Min Obs:                       3.0000                                           \n",
            "Max Obs:                       3.0000   F-statistic (robust):             1.4461\n",
            "                                        P-value                           0.2465\n",
            "Time periods:                       3   Distribution:                    F(2,44)\n",
            "Avg Obs:                       24.000                                           \n",
            "Min Obs:                       24.000                                           \n",
            "Max Obs:                       24.000                                           \n",
            "                                                                                \n",
            "                               Parameter Estimates                               \n",
            "=================================================================================\n",
            "               Parameter  Std. Err.     T-stat    P-value    Lower CI    Upper CI\n",
            "---------------------------------------------------------------------------------\n",
            "const          5.409e+04  3.996e+05     0.1354     0.8929  -7.512e+05   8.594e+05\n",
            "Income           -6.0834     6.2854    -0.9679     0.3384     -18.751      6.5839\n",
            "Env Awareness  4.736e+05  3.913e+05     1.2105     0.2325  -3.149e+05   1.262e+06\n",
            "=================================================================================\n",
            "\n",
            "F-test for Poolability: 8.2124\n",
            "P-value: 0.0000\n",
            "Distribution: F(25,44)\n",
            "\n",
            "Included effects: Entity, Time\n"
          ]
        },
        {
          "output_type": "stream",
          "name": "stderr",
          "text": [
            "/usr/local/lib/python3.10/dist-packages/linearmodels/panel/model.py:1260: MissingValueWarning: \n",
            "Inputs contain missing values. Dropping rows with missing observations.\n",
            "  super().__init__(dependent, exog, weights=weights, check_rank=check_rank)\n",
            "/usr/local/lib/python3.10/dist-packages/linearmodels/panel/data.py:590: FutureWarning: The default of observed=False is deprecated and will be changed to True in a future version of pandas. Pass observed=False to retain current behavior or observed=True to adopt the future default and silence this warning.\n",
            "  group_mu = self._frame.groupby(level=level).transform(\"mean\")\n",
            "/usr/local/lib/python3.10/dist-packages/linearmodels/panel/data.py:590: FutureWarning: The default of observed=False is deprecated and will be changed to True in a future version of pandas. Pass observed=False to retain current behavior or observed=True to adopt the future default and silence this warning.\n",
            "  group_mu = self._frame.groupby(level=level).transform(\"mean\")\n",
            "/usr/local/lib/python3.10/dist-packages/linearmodels/panel/data.py:590: FutureWarning: The default of observed=False is deprecated and will be changed to True in a future version of pandas. Pass observed=False to retain current behavior or observed=True to adopt the future default and silence this warning.\n",
            "  group_mu = self._frame.groupby(level=level).transform(\"mean\")\n",
            "/usr/local/lib/python3.10/dist-packages/linearmodels/panel/data.py:590: FutureWarning: The default of observed=False is deprecated and will be changed to True in a future version of pandas. Pass observed=False to retain current behavior or observed=True to adopt the future default and silence this warning.\n",
            "  group_mu = self._frame.groupby(level=level).transform(\"mean\")\n",
            "/usr/local/lib/python3.10/dist-packages/linearmodels/panel/data.py:680: FutureWarning: The default of observed=False is deprecated and will be changed to True in a future version of pandas. Pass observed=False to retain current behavior or observed=True to adopt the future default and silence this warning.\n",
            "  mu = self._frame.groupby(level=level).mean()\n",
            "/usr/local/lib/python3.10/dist-packages/linearmodels/panel/data.py:680: FutureWarning: The default of observed=False is deprecated and will be changed to True in a future version of pandas. Pass observed=False to retain current behavior or observed=True to adopt the future default and silence this warning.\n",
            "  mu = self._frame.groupby(level=level).mean()\n",
            "/usr/local/lib/python3.10/dist-packages/linearmodels/panel/data.py:640: FutureWarning: The default of observed=False is deprecated and will be changed to True in a future version of pandas. Pass observed=False to retain current behavior or observed=True to adopt the future default and silence this warning.\n",
            "  out = self._frame.groupby(level=level).count()\n",
            "/usr/local/lib/python3.10/dist-packages/linearmodels/panel/data.py:680: FutureWarning: The default of observed=False is deprecated and will be changed to True in a future version of pandas. Pass observed=False to retain current behavior or observed=True to adopt the future default and silence this warning.\n",
            "  mu = self._frame.groupby(level=level).mean()\n",
            "/usr/local/lib/python3.10/dist-packages/linearmodels/panel/data.py:590: FutureWarning: The default of observed=False is deprecated and will be changed to True in a future version of pandas. Pass observed=False to retain current behavior or observed=True to adopt the future default and silence this warning.\n",
            "  group_mu = self._frame.groupby(level=level).transform(\"mean\")\n",
            "/usr/local/lib/python3.10/dist-packages/linearmodels/panel/data.py:680: FutureWarning: The default of observed=False is deprecated and will be changed to True in a future version of pandas. Pass observed=False to retain current behavior or observed=True to adopt the future default and silence this warning.\n",
            "  mu = self._frame.groupby(level=level).mean()\n",
            "/usr/local/lib/python3.10/dist-packages/linearmodels/panel/data.py:680: FutureWarning: The default of observed=False is deprecated and will be changed to True in a future version of pandas. Pass observed=False to retain current behavior or observed=True to adopt the future default and silence this warning.\n",
            "  mu = self._frame.groupby(level=level).mean()\n",
            "/usr/local/lib/python3.10/dist-packages/linearmodels/panel/data.py:590: FutureWarning: The default of observed=False is deprecated and will be changed to True in a future version of pandas. Pass observed=False to retain current behavior or observed=True to adopt the future default and silence this warning.\n",
            "  group_mu = self._frame.groupby(level=level).transform(\"mean\")\n"
          ]
        }
      ]
    },
    {
      "cell_type": "code",
      "source": [
        "# Create the interaction term\n",
        "data['Income_Awareness'] = data['Income'] * data['Env Awareness']"
      ],
      "metadata": {
        "id": "MfehmKVMgTQc"
      },
      "execution_count": 10,
      "outputs": []
    },
    {
      "cell_type": "code",
      "source": [
        "# Define the dependent variable (Y) and independent variables (X)\n",
        "Y = data['Waste']\n",
        "X = data[['Income', 'Env Awareness', 'Income_Awareness']]\n",
        "\n",
        "# Add a constant term to the independent variables\n",
        "X = add_constant(X)\n",
        "\n",
        "# Run the fixed effects model with interaction term\n",
        "model = PanelOLS(dependent=Y, exog=X, entity_effects=True, time_effects=True)\n",
        "results = model.fit(cov_type='robust')\n",
        "\n",
        "# Display the results\n",
        "print(results.summary)"
      ],
      "metadata": {
        "colab": {
          "base_uri": "https://localhost:8080/"
        },
        "id": "6fhO_uQhgU4d",
        "outputId": "82852158-1f87-4909-ef9b-56f36c32548f"
      },
      "execution_count": 11,
      "outputs": [
        {
          "output_type": "stream",
          "name": "stdout",
          "text": [
            "                          PanelOLS Estimation Summary                           \n",
            "================================================================================\n",
            "Dep. Variable:                  Waste   R-squared:                        0.0491\n",
            "Estimator:                   PanelOLS   R-squared (Between):             -0.8002\n",
            "No. Observations:                  72   R-squared (Within):              -0.2688\n",
            "Date:                Wed, Dec 11 2024   R-squared (Overall):             -0.6963\n",
            "Time:                        09:44:20   Log-likelihood                   -855.56\n",
            "Cov. Estimator:                Robust                                           \n",
            "                                        F-statistic:                      0.7406\n",
            "Entities:                          24   P-value                           0.5337\n",
            "Avg Obs:                       3.0000   Distribution:                    F(3,43)\n",
            "Min Obs:                       3.0000                                           \n",
            "Max Obs:                       3.0000   F-statistic (robust):             1.0312\n",
            "                                        P-value                           0.3883\n",
            "Time periods:                       3   Distribution:                    F(3,43)\n",
            "Avg Obs:                       24.000                                           \n",
            "Min Obs:                       24.000                                           \n",
            "Max Obs:                       24.000                                           \n",
            "                                                                                \n",
            "                                Parameter Estimates                                 \n",
            "====================================================================================\n",
            "                  Parameter  Std. Err.     T-stat    P-value    Lower CI    Upper CI\n",
            "------------------------------------------------------------------------------------\n",
            "const             -4.96e+05   7.71e+05    -0.6433     0.5234  -2.051e+06   1.059e+06\n",
            "Income               30.846     37.719     0.8178     0.4180     -45.223      106.91\n",
            "Env Awareness     1.065e+06  8.081e+05     1.3173     0.1947  -5.651e+05   2.694e+06\n",
            "Income_Awareness    -39.400     39.629    -0.9942     0.3257     -119.32      40.519\n",
            "====================================================================================\n",
            "\n",
            "F-test for Poolability: 6.8255\n",
            "P-value: 0.0000\n",
            "Distribution: F(25,43)\n",
            "\n",
            "Included effects: Entity, Time\n"
          ]
        },
        {
          "output_type": "stream",
          "name": "stderr",
          "text": [
            "/usr/local/lib/python3.10/dist-packages/linearmodels/panel/model.py:1260: MissingValueWarning: \n",
            "Inputs contain missing values. Dropping rows with missing observations.\n",
            "  super().__init__(dependent, exog, weights=weights, check_rank=check_rank)\n",
            "/usr/local/lib/python3.10/dist-packages/linearmodels/panel/data.py:590: FutureWarning: The default of observed=False is deprecated and will be changed to True in a future version of pandas. Pass observed=False to retain current behavior or observed=True to adopt the future default and silence this warning.\n",
            "  group_mu = self._frame.groupby(level=level).transform(\"mean\")\n",
            "/usr/local/lib/python3.10/dist-packages/linearmodels/panel/data.py:590: FutureWarning: The default of observed=False is deprecated and will be changed to True in a future version of pandas. Pass observed=False to retain current behavior or observed=True to adopt the future default and silence this warning.\n",
            "  group_mu = self._frame.groupby(level=level).transform(\"mean\")\n",
            "/usr/local/lib/python3.10/dist-packages/linearmodels/panel/data.py:590: FutureWarning: The default of observed=False is deprecated and will be changed to True in a future version of pandas. Pass observed=False to retain current behavior or observed=True to adopt the future default and silence this warning.\n",
            "  group_mu = self._frame.groupby(level=level).transform(\"mean\")\n",
            "/usr/local/lib/python3.10/dist-packages/linearmodels/panel/data.py:590: FutureWarning: The default of observed=False is deprecated and will be changed to True in a future version of pandas. Pass observed=False to retain current behavior or observed=True to adopt the future default and silence this warning.\n",
            "  group_mu = self._frame.groupby(level=level).transform(\"mean\")\n",
            "/usr/local/lib/python3.10/dist-packages/linearmodels/panel/data.py:680: FutureWarning: The default of observed=False is deprecated and will be changed to True in a future version of pandas. Pass observed=False to retain current behavior or observed=True to adopt the future default and silence this warning.\n",
            "  mu = self._frame.groupby(level=level).mean()\n",
            "/usr/local/lib/python3.10/dist-packages/linearmodels/panel/data.py:680: FutureWarning: The default of observed=False is deprecated and will be changed to True in a future version of pandas. Pass observed=False to retain current behavior or observed=True to adopt the future default and silence this warning.\n",
            "  mu = self._frame.groupby(level=level).mean()\n",
            "/usr/local/lib/python3.10/dist-packages/linearmodels/panel/data.py:640: FutureWarning: The default of observed=False is deprecated and will be changed to True in a future version of pandas. Pass observed=False to retain current behavior or observed=True to adopt the future default and silence this warning.\n",
            "  out = self._frame.groupby(level=level).count()\n",
            "/usr/local/lib/python3.10/dist-packages/linearmodels/panel/data.py:680: FutureWarning: The default of observed=False is deprecated and will be changed to True in a future version of pandas. Pass observed=False to retain current behavior or observed=True to adopt the future default and silence this warning.\n",
            "  mu = self._frame.groupby(level=level).mean()\n",
            "/usr/local/lib/python3.10/dist-packages/linearmodels/panel/data.py:590: FutureWarning: The default of observed=False is deprecated and will be changed to True in a future version of pandas. Pass observed=False to retain current behavior or observed=True to adopt the future default and silence this warning.\n",
            "  group_mu = self._frame.groupby(level=level).transform(\"mean\")\n",
            "/usr/local/lib/python3.10/dist-packages/linearmodels/panel/data.py:680: FutureWarning: The default of observed=False is deprecated and will be changed to True in a future version of pandas. Pass observed=False to retain current behavior or observed=True to adopt the future default and silence this warning.\n",
            "  mu = self._frame.groupby(level=level).mean()\n",
            "/usr/local/lib/python3.10/dist-packages/linearmodels/panel/data.py:680: FutureWarning: The default of observed=False is deprecated and will be changed to True in a future version of pandas. Pass observed=False to retain current behavior or observed=True to adopt the future default and silence this warning.\n",
            "  mu = self._frame.groupby(level=level).mean()\n",
            "/usr/local/lib/python3.10/dist-packages/linearmodels/panel/data.py:590: FutureWarning: The default of observed=False is deprecated and will be changed to True in a future version of pandas. Pass observed=False to retain current behavior or observed=True to adopt the future default and silence this warning.\n",
            "  group_mu = self._frame.groupby(level=level).transform(\"mean\")\n"
          ]
        }
      ]
    },
    {
      "cell_type": "markdown",
      "source": [
        "The interaction is negative and significant, meaning the relationship between Income and Waste weakens as Education increases."
      ],
      "metadata": {
        "id": "OK0SDLiMhBSX"
      }
    },
    {
      "cell_type": "code",
      "source": [
        "import numpy as np\n",
        "\n",
        "# Transform 'Income' to its logarithm\n",
        "data['Log_Income'] = np.log(data['Income'])\n"
      ],
      "metadata": {
        "id": "WHMY42NKiL2E"
      },
      "execution_count": 12,
      "outputs": []
    },
    {
      "cell_type": "code",
      "source": [
        "# Update the interaction term to reflect the log transformation\n",
        "data['Log_Income_Awareness'] = data['Log_Income'] * data['Env Awareness']\n",
        "X['Log_Income_Awareness'] = data['Log_Income_Awareness']\n",
        "\n",
        "# Define the dependent variable (Y) and independent variables (X)\n",
        "Y = data['Waste']\n",
        "X = data[['Log_Income', 'Log_Income_Awareness', 'Env Awareness', 'Income_Awareness']]\n",
        "\n",
        "\n",
        "\n",
        "# Add a constant term to the independent variables\n",
        "X = add_constant(X)\n",
        "\n",
        "# Run the fixed effects model\n",
        "model = PanelOLS(dependent=Y, exog=X, entity_effects=True, time_effects=True)\n",
        "results = model.fit(cov_type='robust')\n",
        "\n",
        "# Display the results\n",
        "print(results.summary)\n"
      ],
      "metadata": {
        "colab": {
          "base_uri": "https://localhost:8080/"
        },
        "id": "yd4EVYE7hDlY",
        "outputId": "a143622f-0623-4a8b-ba6d-9f492570ea62"
      },
      "execution_count": 13,
      "outputs": [
        {
          "output_type": "stream",
          "name": "stdout",
          "text": [
            "                          PanelOLS Estimation Summary                           \n",
            "================================================================================\n",
            "Dep. Variable:                  Waste   R-squared:                        0.1540\n",
            "Estimator:                   PanelOLS   R-squared (Between):              0.0418\n",
            "No. Observations:                  72   R-squared (Within):               0.0724\n",
            "Date:                Wed, Dec 11 2024   R-squared (Overall):              0.0478\n",
            "Time:                        09:44:25   Log-likelihood                   -851.35\n",
            "Cov. Estimator:                Robust                                           \n",
            "                                        F-statistic:                      1.9118\n",
            "Entities:                          24   P-value                           0.1263\n",
            "Avg Obs:                       3.0000   Distribution:                    F(4,42)\n",
            "Min Obs:                       3.0000                                           \n",
            "Max Obs:                       3.0000   F-statistic (robust):             1.2732\n",
            "                                        P-value                           0.2957\n",
            "Time periods:                       3   Distribution:                    F(4,42)\n",
            "Avg Obs:                       24.000                                           \n",
            "Min Obs:                       24.000                                           \n",
            "Max Obs:                       24.000                                           \n",
            "                                                                                \n",
            "                                  Parameter Estimates                                   \n",
            "========================================================================================\n",
            "                      Parameter  Std. Err.     T-stat    P-value    Lower CI    Upper CI\n",
            "----------------------------------------------------------------------------------------\n",
            "const                -9.267e+06   6.92e+06    -1.3391     0.1877  -2.323e+07   4.699e+06\n",
            "Log_Income            9.491e+05  7.059e+05     1.3446     0.1860  -4.754e+05   2.374e+06\n",
            "Log_Income_Awareness -8.151e+05  6.927e+05    -1.1768     0.2459  -2.213e+06   5.828e+05\n",
            "Env Awareness         8.695e+06  6.826e+06     1.2738     0.2097   -5.08e+06   2.247e+07\n",
            "Income_Awareness        -15.242     8.3950    -1.8157     0.0766     -32.184      1.6992\n",
            "========================================================================================\n",
            "\n",
            "F-test for Poolability: 7.2243\n",
            "P-value: 0.0000\n",
            "Distribution: F(25,42)\n",
            "\n",
            "Included effects: Entity, Time\n"
          ]
        },
        {
          "output_type": "stream",
          "name": "stderr",
          "text": [
            "/usr/local/lib/python3.10/dist-packages/linearmodels/panel/model.py:1260: MissingValueWarning: \n",
            "Inputs contain missing values. Dropping rows with missing observations.\n",
            "  super().__init__(dependent, exog, weights=weights, check_rank=check_rank)\n",
            "/usr/local/lib/python3.10/dist-packages/linearmodels/panel/data.py:590: FutureWarning: The default of observed=False is deprecated and will be changed to True in a future version of pandas. Pass observed=False to retain current behavior or observed=True to adopt the future default and silence this warning.\n",
            "  group_mu = self._frame.groupby(level=level).transform(\"mean\")\n",
            "/usr/local/lib/python3.10/dist-packages/linearmodels/panel/data.py:590: FutureWarning: The default of observed=False is deprecated and will be changed to True in a future version of pandas. Pass observed=False to retain current behavior or observed=True to adopt the future default and silence this warning.\n",
            "  group_mu = self._frame.groupby(level=level).transform(\"mean\")\n",
            "/usr/local/lib/python3.10/dist-packages/linearmodels/panel/data.py:590: FutureWarning: The default of observed=False is deprecated and will be changed to True in a future version of pandas. Pass observed=False to retain current behavior or observed=True to adopt the future default and silence this warning.\n",
            "  group_mu = self._frame.groupby(level=level).transform(\"mean\")\n",
            "/usr/local/lib/python3.10/dist-packages/linearmodels/panel/data.py:590: FutureWarning: The default of observed=False is deprecated and will be changed to True in a future version of pandas. Pass observed=False to retain current behavior or observed=True to adopt the future default and silence this warning.\n",
            "  group_mu = self._frame.groupby(level=level).transform(\"mean\")\n",
            "/usr/local/lib/python3.10/dist-packages/linearmodels/panel/data.py:680: FutureWarning: The default of observed=False is deprecated and will be changed to True in a future version of pandas. Pass observed=False to retain current behavior or observed=True to adopt the future default and silence this warning.\n",
            "  mu = self._frame.groupby(level=level).mean()\n",
            "/usr/local/lib/python3.10/dist-packages/linearmodels/panel/data.py:680: FutureWarning: The default of observed=False is deprecated and will be changed to True in a future version of pandas. Pass observed=False to retain current behavior or observed=True to adopt the future default and silence this warning.\n",
            "  mu = self._frame.groupby(level=level).mean()\n",
            "/usr/local/lib/python3.10/dist-packages/linearmodels/panel/data.py:640: FutureWarning: The default of observed=False is deprecated and will be changed to True in a future version of pandas. Pass observed=False to retain current behavior or observed=True to adopt the future default and silence this warning.\n",
            "  out = self._frame.groupby(level=level).count()\n",
            "/usr/local/lib/python3.10/dist-packages/linearmodels/panel/data.py:680: FutureWarning: The default of observed=False is deprecated and will be changed to True in a future version of pandas. Pass observed=False to retain current behavior or observed=True to adopt the future default and silence this warning.\n",
            "  mu = self._frame.groupby(level=level).mean()\n",
            "/usr/local/lib/python3.10/dist-packages/linearmodels/panel/data.py:590: FutureWarning: The default of observed=False is deprecated and will be changed to True in a future version of pandas. Pass observed=False to retain current behavior or observed=True to adopt the future default and silence this warning.\n",
            "  group_mu = self._frame.groupby(level=level).transform(\"mean\")\n",
            "/usr/local/lib/python3.10/dist-packages/linearmodels/panel/data.py:680: FutureWarning: The default of observed=False is deprecated and will be changed to True in a future version of pandas. Pass observed=False to retain current behavior or observed=True to adopt the future default and silence this warning.\n",
            "  mu = self._frame.groupby(level=level).mean()\n",
            "/usr/local/lib/python3.10/dist-packages/linearmodels/panel/data.py:680: FutureWarning: The default of observed=False is deprecated and will be changed to True in a future version of pandas. Pass observed=False to retain current behavior or observed=True to adopt the future default and silence this warning.\n",
            "  mu = self._frame.groupby(level=level).mean()\n",
            "/usr/local/lib/python3.10/dist-packages/linearmodels/panel/data.py:590: FutureWarning: The default of observed=False is deprecated and will be changed to True in a future version of pandas. Pass observed=False to retain current behavior or observed=True to adopt the future default and silence this warning.\n",
            "  group_mu = self._frame.groupby(level=level).transform(\"mean\")\n"
          ]
        }
      ]
    },
    {
      "cell_type": "code",
      "source": [
        "!pip install statsmodels"
      ],
      "metadata": {
        "id": "tQFP2fJy0Pzh",
        "outputId": "a171da27-4bc3-4174-c4e0-5c763b3924be",
        "colab": {
          "base_uri": "https://localhost:8080/"
        }
      },
      "execution_count": 14,
      "outputs": [
        {
          "output_type": "stream",
          "name": "stdout",
          "text": [
            "Requirement already satisfied: statsmodels in /usr/local/lib/python3.10/dist-packages (0.14.4)\n",
            "Requirement already satisfied: numpy<3,>=1.22.3 in /usr/local/lib/python3.10/dist-packages (from statsmodels) (1.26.4)\n",
            "Requirement already satisfied: scipy!=1.9.2,>=1.8 in /usr/local/lib/python3.10/dist-packages (from statsmodels) (1.13.1)\n",
            "Requirement already satisfied: pandas!=2.1.0,>=1.4 in /usr/local/lib/python3.10/dist-packages (from statsmodels) (2.2.2)\n",
            "Requirement already satisfied: patsy>=0.5.6 in /usr/local/lib/python3.10/dist-packages (from statsmodels) (1.0.1)\n",
            "Requirement already satisfied: packaging>=21.3 in /usr/local/lib/python3.10/dist-packages (from statsmodels) (24.2)\n",
            "Requirement already satisfied: python-dateutil>=2.8.2 in /usr/local/lib/python3.10/dist-packages (from pandas!=2.1.0,>=1.4->statsmodels) (2.8.2)\n",
            "Requirement already satisfied: pytz>=2020.1 in /usr/local/lib/python3.10/dist-packages (from pandas!=2.1.0,>=1.4->statsmodels) (2024.2)\n",
            "Requirement already satisfied: tzdata>=2022.7 in /usr/local/lib/python3.10/dist-packages (from pandas!=2.1.0,>=1.4->statsmodels) (2024.2)\n",
            "Requirement already satisfied: six>=1.5 in /usr/local/lib/python3.10/dist-packages (from python-dateutil>=2.8.2->pandas!=2.1.0,>=1.4->statsmodels) (1.16.0)\n"
          ]
        }
      ]
    },
    {
      "source": [
        "import statsmodels.api as sm # Import statsmodels and alias it as sm\n",
        "\n",
        "def variance_inflation_factor(exog, exog_idx):\n",
        "    \"\"\"\n",
        "    Calculate the variance inflation factor (VIF) for a given exogenous variable.\n",
        "\n",
        "    Parameters:\n",
        "    exog (np.ndarray): The exogenous data matrix.\n",
        "    exog_idx (int): The index of the exogenous variable to calculate VIF for.\n",
        "\n",
        "    Returns:\n",
        "    float: The VIF value.\n",
        "    \"\"\"\n",
        "    # Extract the variable of interest and the remaining variables\n",
        "    x_i = exog[:, exog_idx]\n",
        "    x_not_i = np.delete(exog, exog_idx, axis=1)\n",
        "    model = sm.OLS(x_i, x_not_i).fit()\n",
        "    r_squared_i = model.rsquared\n",
        "    vif = 1 / (1 - r_squared_i)\n",
        "    print(f\"VIF for {X.columns[exog_idx]}: {vif}\")  # Afficher le VIF pour chaque variable\n",
        "    return vif\n",
        "\n",
        "# Assuming 'data' is your DataFrame containing 'Env Awareness', 'Log_Income', 'Log_Income_Awareness'\n",
        "X = data[['Income', 'Waste','Env Awareness']]\n",
        "# Drop rows with missing or infinite values before adding a constant\n",
        "X = X.replace([np.inf, -np.inf], np.nan).dropna()\n",
        "X = sm.add_constant(X)  # Add a constant term (required for VIF calculation)\n",
        "\n",
        "# Calculate VIF for each variable in X (excluding the constant)\n",
        "vif_data = pd.DataFrame()\n",
        "vif_data[\"Variable\"] = X.columns[1:] # Exclude the constant term from the variable names\n",
        "# Calcul et attribution des valeurs VIF :\n",
        "vif_values = [variance_inflation_factor(X.values, i) for i in range(1, X.shape[1])]\n",
        "vif_data[\"VIF\"] = vif_values # Attribuer les valeurs VIF à la colonne \"VIF\"\n",
        "\n",
        "\n",
        "print(vif_data)\n"
      ],
      "cell_type": "code",
      "metadata": {
        "colab": {
          "base_uri": "https://localhost:8080/"
        },
        "id": "HyC_vw1J3GQr",
        "outputId": "e95cedda-cfee-49c5-9809-db0efcbcf1e8"
      },
      "execution_count": 15,
      "outputs": [
        {
          "output_type": "stream",
          "name": "stdout",
          "text": [
            "VIF for Income: 1.2841254729165297\n",
            "VIF for Waste: 1.2449875164438022\n",
            "VIF for Env Awareness: 1.1368075073395714\n",
            "        Variable       VIF\n",
            "0         Income  1.284125\n",
            "1          Waste  1.244988\n",
            "2  Env Awareness  1.136808\n"
          ]
        }
      ]
    },
    {
      "cell_type": "markdown",
      "source": [
        "# Heterogeneity"
      ],
      "metadata": {
        "id": "tyl6Qi4b3fEY"
      }
    },
    {
      "cell_type": "code",
      "source": [
        "#Choix du threshold\n",
        "\n",
        "import matplotlib.pyplot as plt\n",
        "\n",
        "# Filtrer les données pour chaque année\n",
        "data_2014 = env_awareness_data[env_awareness_data['Year'] == 2014]['Env Awareness']\n",
        "data_2017 = env_awareness_data[env_awareness_data['Year'] == 2017]['Env Awareness']\n",
        "data_2020 = env_awareness_data[env_awareness_data['Year'] == 2020]['Env Awareness']\n",
        "\n",
        "plt.hist(data_2014, bins=10, alpha=0.5, label='2014')\n",
        "plt.hist(data_2017, bins=10, alpha=0.5, label='2017')\n",
        "plt.hist(data_2020, bins=10, alpha=0.5, label='2020')\n",
        "\n",
        "plt.xlabel(\"Percentage 'Important'\")\n",
        "plt.ylabel(\"Number of countries\")\n",
        "plt.title(\"Distribution of Env Awareness per year\")\n",
        "plt.legend(loc='upper right')\n",
        "plt.show()"
      ],
      "metadata": {
        "colab": {
          "base_uri": "https://localhost:8080/",
          "height": 472
        },
        "id": "aDoBTfMrGeDQ",
        "outputId": "79699454-9c49-4eb5-9dee-3618f7035f85"
      },
      "execution_count": 21,
      "outputs": [
        {
          "output_type": "display_data",
          "data": {
            "text/plain": [
              "<Figure size 640x480 with 1 Axes>"
            ],
            "image/png": "[encoded data removed]"
          },
          "metadata": {}
        }
      ]
    },
    {
      "cell_type": "code",
      "source": [
        "#on choisit la médiane car distribution relativement symétrique et sans valeur extrême notable\n",
        "# Extraire la colonne 'Env Awareness'\n",
        "env_awareness_values = env_awareness_data['Env Awareness']\n",
        "\n",
        "# Calculer la médiane\n",
        "median_env_awareness = env_awareness_values.median()\n",
        "\n",
        "# Afficher la médiane\n",
        "print(f\"La médiane de 'Env Awareness' pour toutes les années est : {median_env_awareness}\")"
      ],
      "metadata": {
        "colab": {
          "base_uri": "https://localhost:8080/"
        },
        "id": "lBQCyywlJVew",
        "outputId": "a30f81a7-2f64-4a05-bb49-241cde1f2e88"
      },
      "execution_count": 35,
      "outputs": [
        {
          "output_type": "stream",
          "name": "stdout",
          "text": [
            "La médiane de 'Env Awareness' pour toutes les années est : 0.95\n"
          ]
        }
      ]
    },
    {
      "source": [
        "# Inspecter les premières lignes pour comprendre la structure des données\n",
        "print(env_awareness_data.head())"
      ],
      "cell_type": "code",
      "metadata": {
        "colab": {
          "base_uri": "https://localhost:8080/"
        },
        "id": "862MULLvFg-r",
        "outputId": "94774395-60cc-4814-b18d-4923230ed4c5"
      },
      "execution_count": 37,
      "outputs": [
        {
          "output_type": "stream",
          "name": "stdout",
          "text": [
            "    Country  Year  Env Awareness  Env Awareness Dummy\n",
            "0   Belgium  2014           0.95                    0\n",
            "1  Bulgaria  2014           0.94                    0\n",
            "2   Czechia  2014           0.93                    0\n",
            "3   Denmark  2014           0.96                    1\n",
            "4   Germany  2014           0.94                    0\n"
          ]
        }
      ]
    },
    {
      "source": [
        "# Définir le seuil\n",
        "threshold = 0.95\n",
        "\n",
        "# Créer la variable dummy\n",
        "env_awareness_data['Env Awareness Dummy'] = (env_awareness_data['Env Awareness'] > threshold).astype(int)"
      ],
      "cell_type": "code",
      "metadata": {
        "id": "QUqTAcHOFi4v"
      },
      "execution_count": 38,
      "outputs": []
    },
    {
      "source": [
        "# Fusionner les DataFrames en utilisant 'Country' et 'Year' comme clés\n",
        "data = pd.merge(data, env_awareness_data[['Country', 'Year', 'Env Awareness Dummy']], on=['Country', 'Year'], how='left')"
      ],
      "cell_type": "code",
      "metadata": {
        "id": "T9dcJ-JsFjby"
      },
      "execution_count": 39,
      "outputs": []
    },
    {
      "source": [
        "import seaborn as sns\n",
        "\n",
        "# Régression pour dummy = 0\n",
        "filtered_data_0 = data[data['Env Awareness Dummy'] == 0]\n",
        "if len(filtered_data_0['Waste'].unique()) > 1 and len(filtered_data_0['Income'].unique()) > 1:\n",
        "    model_0 = smf.ols('Waste ~ Income', data=filtered_data_0).fit()\n",
        "else:\n",
        "    print(\"Not enough unique values in data for dummy = 0 to perform regression.\")\n",
        "\n",
        "# Régression pour dummy = 1\n",
        "filtered_data_1 = data[data['Env Awareness Dummy'] == 1]\n",
        "if len(filtered_data_1['Waste'].unique()) > 1 and len(filtered_data_1['Income'].unique()) > 1:\n",
        "    model_1 = smf.ols('Waste ~ Income', data=filtered_data_1).fit()\n",
        "else:\n",
        "    print(\"Not enough unique values in data for dummy = 1 to perform regression.\")\n",
        "\n",
        "# Créer le graphique\n",
        "plt.figure(figsize=(10, 6))  # Ajuster la taille du graphique si nécessaire\n",
        "sns.regplot(x='Income', y='Waste', data=filtered_data_0, label=\"Env Awareness Dummy = 0\", scatter_kws={'alpha':0.5})\n",
        "sns.regplot(x='Income', y='Waste', data=filtered_data_1, label=\"Env Awareness Dummy = 1\", scatter_kws={'alpha':0.5})\n",
        "\n",
        "plt.xlabel(\"Median Net Income (euros)\")\n",
        "plt.ylabel(\"Waste per capita (kg)\")\n",
        "plt.title(\"Heterogeneity\")\n",
        "plt.legend()  # Afficher la légende pour identifier les deux régressions\n",
        "plt.show()\n",
        "\n",
        "# Créer un DataFrame pour stocker les résultats\n",
        "results_df = pd.DataFrame({\n",
        "    'Env Awareness Dummy': [0, 1],\n",
        "    'Intercept': [model_0.params['Intercept'], model_1.params['Intercept']],\n",
        "    'Income Coefficient': [model_0.params['Income'], model_1.params['Income']],\n",
        "    'P-value (Income)': [model_0.pvalues['Income'], model_1.pvalues['Income']],\n",
        "    'R-squared': [model_0.rsquared, model_1.rsquared]\n",
        "})\n",
        "\n",
        "# Afficher le DataFrame\n",
        "print(results_df)\n",
        "\n",
        "# Analyse des résultats\n",
        "print(\"\\nAnalyse de l'hétérogénéité:\")\n",
        "print(\"---------------------------\")\n",
        "if results_df.loc[0, 'Income Coefficient'] > results_df.loc[1, 'Income Coefficient']:\n",
        "    print(\"L'effet de l'Income sur Waste est plus fort lorsque la 'Env Awareness Dummy' est à 0.\")\n",
        "else:\n",
        "    print(\"L'effet de l'Income sur Waste est plus fort lorsque la 'Env Awareness Dummy' est à 1.\")\n",
        "\n",
        "print(f\"La différence entre les coefficients d'Income est de {results_df.loc[0, 'Income Coefficient'] - results_df.loc[1, 'Income Coefficient']:.4f}.\")\n",
        "\n",
        "print(\"La significativité statistique du coefficient d'Income varie également selon la valeur de la dummy :\")\n",
        "print(f\"- Dummy = 0: p-value = {results_df.loc[0, 'P-value (Income)']:.4f}\")\n",
        "print(f\"- Dummy = 1: p-value = {results_df.loc[1, 'P-value (Income)']:.4f}\")"
      ],
      "cell_type": "code",
      "metadata": {
        "colab": {
          "base_uri": "https://localhost:8080/",
          "height": 825
        },
        "id": "l5XmDl4tFj7D",
        "outputId": "07b20ad5-737e-42b4-e7d7-ce12f9d0f89c"
      },
      "execution_count": 46,
      "outputs": [
        {
          "output_type": "display_data",
          "data": {
            "text/plain": [
              "<Figure size 1000x600 with 1 Axes>"
            ],
            "image/png": "[encoded data removed]"
          },
          "metadata": {}
        },
        {
          "output_type": "stream",
          "name": "stdout",
          "text": [
            "   Env Awareness Dummy      Intercept  Income Coefficient  P-value (Income)  \\\n",
            "0                    0  319095.320603            5.535774          0.000494   \n",
            "1                    1  396944.149780            1.864570          0.372119   \n",
            "\n",
            "   R-squared  \n",
            "0   0.248367  \n",
            "1   0.031982  \n",
            "\n",
            "Analyse de l'hétérogénéité:\n",
            "---------------------------\n",
            "L'effet de l'Income sur Waste est plus fort lorsque la 'Env Awareness Dummy' est à 0.\n",
            "La différence entre les coefficients d'Income est de 3.6712.\n",
            "La significativité statistique du coefficient d'Income varie également selon la valeur de la dummy :\n",
            "- Dummy = 0: p-value = 0.0005\n",
            "- Dummy = 1: p-value = 0.3721\n"
          ]
        }
      ]
    }
  ]
}