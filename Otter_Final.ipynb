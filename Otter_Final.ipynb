{
  "nbformat": 4,
  "nbformat_minor": 0,
  "metadata": {
    "colab": {
      "provenance": [],
      "authorship_tag": "ABX9TyPwqKaFIK02oRoxFbayJVjt",
      "include_colab_link": true
    },
    "kernelspec": {
      "name": "python3",
      "display_name": "Python 3"
    },
    "language_info": {
      "name": "python"
    }
  },
  "cells": [
    {
      "cell_type": "markdown",
      "metadata": {
        "id": "view-in-github",
        "colab_type": "text"
      },
      "source": [
        "<a href=\"https://colab.research.google.com/github/ChacoGolden/Stat-Data-Science/blob/main/Otter_Final.ipynb\" target=\"_parent\"><img src=\"https://colab.research.google.com/assets/colab-badge.svg\" alt=\"Open In Colab\"/></a>"
      ]
    },
    {
      "cell_type": "markdown",
      "source": [
        "Plan - Roadmap pour Alain\n",
        "\n",
        "\n",
        "\n",
        "* Transposer le travail du mid-term sur le notebook\n",
        "* Reprendre les remarques du mid-term\n",
        "* Introduction: Commencer par un contexte, et ajouter findings de la revue littéraire\n",
        "* Revue biblio\n",
        "* Présentation de la méthodologie\n",
        "* Multicollinearity analysis\n",
        "* EDA des control variables\n",
        "* Transposer l'équation du sujet\n",
        "* Tables avec les résultats des régressions (VIF + OLS)\n",
        "* GROSSE DISCUSSION DE LA CAUSALITE\n",
        "\n",
        "\n"
      ],
      "metadata": {
        "id": "HQHCIrwAFlGp"
      }
    },
    {
      "cell_type": "markdown",
      "source": [
        "# Introduction"
      ],
      "metadata": {
        "id": "4fMa9bYpUeur"
      }
    },
    {
      "cell_type": "markdown",
      "source": [
        "# Literature Review"
      ],
      "metadata": {
        "id": "5coYJn-EUknJ"
      }
    },
    {
      "cell_type": "code",
      "execution_count": null,
      "metadata": {
        "id": "EqpUfUveFP8J"
      },
      "outputs": [],
      "source": []
    }
  ]
}