{
  "nbformat": 4,
  "nbformat_minor": 0,
  "metadata": {
    "colab": {
      "provenance": [],
      "authorship_tag": "ABX9TyOImZliwt+dt0KtT+u+uI9E",
      "include_colab_link": true
    },
    "kernelspec": {
      "name": "python3",
      "display_name": "Python 3"
    },
    "language_info": {
      "name": "python"
    }
  },
  "cells": [
    {
      "cell_type": "markdown",
      "metadata": {
        "id": "view-in-github",
        "colab_type": "text"
      },
      "source": [
        "<a href=\"https://colab.research.google.com/github/ChacoGolden/Stat-Data-Science/blob/main/Otter_Final.ipynb\" target=\"_parent\"><img src=\"https://colab.research.google.com/assets/colab-badge.svg\" alt=\"Open In Colab\"/></a>"
      ]
    },
    {
      "cell_type": "markdown",
      "source": [
        "Plan - Roadmap pour Alain\n",
        "\n",
        "\n",
        "\n",
        "* Transposer le travail du mid-term sur le notebook\n",
        "* Reprendre les remarques du mid-term\n",
        "* Introduction: Commencer par un contexte, et ajouter findings de la revue littéraire\n",
        "* Revue biblio\n",
        "* Présentation de la méthodologie\n",
        "* Multicollinearity analysis\n",
        "* EDA des control variables\n",
        "* Transposer l'équation du sujet\n",
        "* Tables avec les résultats des régressions (VIF + OLS)\n",
        "* GROSSE DISCUSSION DE LA CAUSALITE\n",
        "\n",
        "\n"
      ],
      "metadata": {
        "id": "HQHCIrwAFlGp"
      }
    },
    {
      "cell_type": "markdown",
      "source": [
        "\n",
        "\n",
        "---\n",
        "\n"
      ],
      "metadata": {
        "id": "e2iJcXskV5Cf"
      }
    },
    {
      "cell_type": "markdown",
      "source": [
        "# Introduction"
      ],
      "metadata": {
        "id": "4fMa9bYpUeur"
      }
    },
    {
      "cell_type": "markdown",
      "source": [
        "# Literature Review"
      ],
      "metadata": {
        "id": "5coYJn-EUknJ"
      }
    },
    {
      "cell_type": "markdown",
      "source": [
        "# Methods"
      ],
      "metadata": {
        "id": "WmayCD4iU-32"
      }
    },
    {
      "cell_type": "markdown",
      "source": [
        "In order to evaluate the impacts of the income, through consumption, on the generation of household waste, we used *X*. To control for *Y* due to factors other than *Z*, we included *V*. Furthermore, in order to control for unobservable differences among countries, we used a fixed effects estimator with country and year fixed effects. The\n",
        "statistical specifications used follow the structure: *EQUATION*, where *W*."
      ],
      "metadata": {
        "id": "q2ArZkw90EjN"
      }
    },
    {
      "cell_type": "markdown",
      "source": [
        "*ajouter une table avec toutes les variables et leurs définitions*"
      ],
      "metadata": {
        "id": "WZcY_DQe0sGL"
      }
    },
    {
      "cell_type": "markdown",
      "source": [],
      "metadata": {
        "id": "wISjrH2n01ea"
      }
    },
    {
      "cell_type": "markdown",
      "source": [
        "# Materials and Univariate Analysis"
      ],
      "metadata": {
        "id": "AtPjKzAeVEXN"
      }
    },
    {
      "cell_type": "markdown",
      "source": [
        "# Multicollinearity analysis"
      ],
      "metadata": {
        "id": "gahbYSTNVfJk"
      }
    },
    {
      "cell_type": "markdown",
      "source": [
        "# Results"
      ],
      "metadata": {
        "id": "cloqap10VlxH"
      }
    },
    {
      "cell_type": "markdown",
      "source": [
        "# Discussion"
      ],
      "metadata": {
        "id": "2yWto86HVm-V"
      }
    },
    {
      "cell_type": "markdown",
      "source": [
        "\n",
        "\n",
        "*   Age: les vieux consomment moins + les vieux ont plus tendance à acheter pour les autres\n",
        "*   Élément de liste\n",
        "\n"
      ],
      "metadata": {
        "id": "mCMX7FQr_7Nu"
      }
    },
    {
      "cell_type": "markdown",
      "source": [
        "# References"
      ],
      "metadata": {
        "id": "a_IP7VMH1GRO"
      }
    }
  ]
}