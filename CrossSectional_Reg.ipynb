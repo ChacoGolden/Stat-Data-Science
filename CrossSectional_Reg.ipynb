{
  "nbformat": 4,
  "nbformat_minor": 0,
  "metadata": {
    "colab": {
      "provenance": []
    },
    "kernelspec": {
      "name": "python3",
      "display_name": "Python 3"
    },
    "language_info": {
      "name": "python"
    }
  },
  "cells": [
    {
      "cell_type": "code",
      "execution_count": 69,
      "metadata": {
        "id": "zrt5DUN3Nztn"
      },
      "outputs": [],
      "source": [
        "import pandas as pd\n",
        "import matplotlib.pyplot as plt\n",
        "import numpy as np\n",
        "from numpy.polynomial.polynomial import Polynomial\n",
        "from sklearn.preprocessing import PolynomialFeatures\n",
        "from sklearn.linear_model import LinearRegression\n",
        "from sklearn.metrics import r2_score\n",
        "import statsmodels.api as sm\n",
        "from sklearn.preprocessing import StandardScaler"
      ]
    },
    {
      "cell_type": "code",
      "source": [
        "# Step 1: Load the datasets\n",
        "cross_sect = pd.read_csv(\"https://raw.githubusercontent.com/ChacoGolden/Stat-Data-Science/refs/heads/main/cross%20sectional_income_waste.csv\")"
      ],
      "metadata": {
        "id": "R8w5hbyeN_8r"
      },
      "execution_count": 58,
      "outputs": []
    },
    {
      "cell_type": "code",
      "source": [
        "# Convert Waste Average from tons to kilograms\n",
        "cross_sect['Waste Average'] = cross_sect['Waste Average'] * 1000\n",
        "\n",
        "cross_sect.head()"
      ],
      "metadata": {
        "colab": {
          "base_uri": "https://localhost:8080/",
          "height": 206
        },
        "id": "VgZmxplwSj9X",
        "outputId": "eedb0575-278d-4a15-9080-abc54d0047ea"
      },
      "execution_count": 60,
      "outputs": [
        {
          "output_type": "execute_result",
          "data": {
            "text/plain": [
              "    Country  Income Average  Waste Average\n",
              "0   Belgium         24451.9     447.059027\n",
              "1  Bulgaria          4286.8     400.376196\n",
              "2   Czechia          9730.2     443.899034\n",
              "3   Denmark         30502.6     607.350966\n",
              "4   Germany         23197.7     452.967933"
            ],
            "text/html": [
              "\n",
              "  <div id=\"df-a6b299b3-586c-4769-9af4-99545419d8b2\" class=\"colab-df-container\">\n",
              "    <div>\n",
              "<style scoped>\n",
              "    .dataframe tbody tr th:only-of-type {\n",
              "        vertical-align: middle;\n",
              "    }\n",
              "\n",
              "    .dataframe tbody tr th {\n",
              "        vertical-align: top;\n",
              "    }\n",
              "\n",
              "    .dataframe thead th {\n",
              "        text-align: right;\n",
              "    }\n",
              "</style>\n",
              "<table border=\"1\" class=\"dataframe\">\n",
              "  <thead>\n",
              "    <tr style=\"text-align: right;\">\n",
              "      <th></th>\n",
              "      <th>Country</th>\n",
              "      <th>Income Average</th>\n",
              "      <th>Waste Average</th>\n",
              "    </tr>\n",
              "  </thead>\n",
              "  <tbody>\n",
              "    <tr>\n",
              "      <th>0</th>\n",
              "      <td>Belgium</td>\n",
              "      <td>24451.9</td>\n",
              "      <td>447.059027</td>\n",
              "    </tr>\n",
              "    <tr>\n",
              "      <th>1</th>\n",
              "      <td>Bulgaria</td>\n",
              "      <td>4286.8</td>\n",
              "      <td>400.376196</td>\n",
              "    </tr>\n",
              "    <tr>\n",
              "      <th>2</th>\n",
              "      <td>Czechia</td>\n",
              "      <td>9730.2</td>\n",
              "      <td>443.899034</td>\n",
              "    </tr>\n",
              "    <tr>\n",
              "      <th>3</th>\n",
              "      <td>Denmark</td>\n",
              "      <td>30502.6</td>\n",
              "      <td>607.350966</td>\n",
              "    </tr>\n",
              "    <tr>\n",
              "      <th>4</th>\n",
              "      <td>Germany</td>\n",
              "      <td>23197.7</td>\n",
              "      <td>452.967933</td>\n",
              "    </tr>\n",
              "  </tbody>\n",
              "</table>\n",
              "</div>\n",
              "    <div class=\"colab-df-buttons\">\n",
              "\n",
              "  <div class=\"colab-df-container\">\n",
              "    <button class=\"colab-df-convert\" onclick=\"convertToInteractive('df-a6b299b3-586c-4769-9af4-99545419d8b2')\"\n",
              "            title=\"Convert this dataframe to an interactive table.\"\n",
              "            style=\"display:none;\">\n",
              "\n",
              "  <svg xmlns=\"http://www.w3.org/2000/svg\" height=\"24px\" viewBox=\"0 -960 960 960\">\n",
              "    <path d=\"M120-120v-720h720v720H120Zm60-500h600v-160H180v160Zm220 220h160v-160H400v160Zm0 220h160v-160H400v160ZM180-400h160v-160H180v160Zm440 0h160v-160H620v160ZM180-180h160v-160H180v160Zm440 0h160v-160H620v160Z\"/>\n",
              "  </svg>\n",
              "    </button>\n",
              "\n",
              "  <style>\n",
              "    .colab-df-container {\n",
              "      display:flex;\n",
              "      gap: 12px;\n",
              "    }\n",
              "\n",
              "    .colab-df-convert {\n",
              "      background-color: #E8F0FE;\n",
              "      border: none;\n",
              "      border-radius: 50%;\n",
              "      cursor: pointer;\n",
              "      display: none;\n",
              "      fill: #1967D2;\n",
              "      height: 32px;\n",
              "      padding: 0 0 0 0;\n",
              "      width: 32px;\n",
              "    }\n",
              "\n",
              "    .colab-df-convert:hover {\n",
              "      background-color: #E2EBFA;\n",
              "      box-shadow: 0px 1px 2px rgba(60, 64, 67, 0.3), 0px 1px 3px 1px rgba(60, 64, 67, 0.15);\n",
              "      fill: #174EA6;\n",
              "    }\n",
              "\n",
              "    .colab-df-buttons div {\n",
              "      margin-bottom: 4px;\n",
              "    }\n",
              "\n",
              "    [theme=dark] .colab-df-convert {\n",
              "      background-color: #3B4455;\n",
              "      fill: #D2E3FC;\n",
              "    }\n",
              "\n",
              "    [theme=dark] .colab-df-convert:hover {\n",
              "      background-color: #434B5C;\n",
              "      box-shadow: 0px 1px 3px 1px rgba(0, 0, 0, 0.15);\n",
              "      filter: drop-shadow(0px 1px 2px rgba(0, 0, 0, 0.3));\n",
              "      fill: #FFFFFF;\n",
              "    }\n",
              "  </style>\n",
              "\n",
              "    <script>\n",
              "      const buttonEl =\n",
              "        document.querySelector('#df-a6b299b3-586c-4769-9af4-99545419d8b2 button.colab-df-convert');\n",
              "      buttonEl.style.display =\n",
              "        google.colab.kernel.accessAllowed ? 'block' : 'none';\n",
              "\n",
              "      async function convertToInteractive(key) {\n",
              "        const element = document.querySelector('#df-a6b299b3-586c-4769-9af4-99545419d8b2');\n",
              "        const dataTable =\n",
              "          await google.colab.kernel.invokeFunction('convertToInteractive',\n",
              "                                                    [key], {});\n",
              "        if (!dataTable) return;\n",
              "\n",
              "        const docLinkHtml = 'Like what you see? Visit the ' +\n",
              "          '<a target=\"_blank\" href=https://colab.research.google.com/notebooks/data_table.ipynb>data table notebook</a>'\n",
              "          + ' to learn more about interactive tables.';\n",
              "        element.innerHTML = '';\n",
              "        dataTable['output_type'] = 'display_data';\n",
              "        await google.colab.output.renderOutput(dataTable, element);\n",
              "        const docLink = document.createElement('div');\n",
              "        docLink.innerHTML = docLinkHtml;\n",
              "        element.appendChild(docLink);\n",
              "      }\n",
              "    </script>\n",
              "  </div>\n",
              "\n",
              "\n",
              "<div id=\"df-ee1a21bd-c3d3-4f80-8c30-10b2a930e6c0\">\n",
              "  <button class=\"colab-df-quickchart\" onclick=\"quickchart('df-ee1a21bd-c3d3-4f80-8c30-10b2a930e6c0')\"\n",
              "            title=\"Suggest charts\"\n",
              "            style=\"display:none;\">\n",
              "\n",
              "<svg xmlns=\"http://www.w3.org/2000/svg\" height=\"24px\"viewBox=\"0 0 24 24\"\n",
              "     width=\"24px\">\n",
              "    <g>\n",
              "        <path d=\"M19 3H5c-1.1 0-2 .9-2 2v14c0 1.1.9 2 2 2h14c1.1 0 2-.9 2-2V5c0-1.1-.9-2-2-2zM9 17H7v-7h2v7zm4 0h-2V7h2v10zm4 0h-2v-4h2v4z\"/>\n",
              "    </g>\n",
              "</svg>\n",
              "  </button>\n",
              "\n",
              "<style>\n",
              "  .colab-df-quickchart {\n",
              "      --bg-color: #E8F0FE;\n",
              "      --fill-color: #1967D2;\n",
              "      --hover-bg-color: #E2EBFA;\n",
              "      --hover-fill-color: #174EA6;\n",
              "      --disabled-fill-color: #AAA;\n",
              "      --disabled-bg-color: #DDD;\n",
              "  }\n",
              "\n",
              "  [theme=dark] .colab-df-quickchart {\n",
              "      --bg-color: #3B4455;\n",
              "      --fill-color: #D2E3FC;\n",
              "      --hover-bg-color: #434B5C;\n",
              "      --hover-fill-color: #FFFFFF;\n",
              "      --disabled-bg-color: #3B4455;\n",
              "      --disabled-fill-color: #666;\n",
              "  }\n",
              "\n",
              "  .colab-df-quickchart {\n",
              "    background-color: var(--bg-color);\n",
              "    border: none;\n",
              "    border-radius: 50%;\n",
              "    cursor: pointer;\n",
              "    display: none;\n",
              "    fill: var(--fill-color);\n",
              "    height: 32px;\n",
              "    padding: 0;\n",
              "    width: 32px;\n",
              "  }\n",
              "\n",
              "  .colab-df-quickchart:hover {\n",
              "    background-color: var(--hover-bg-color);\n",
              "    box-shadow: 0 1px 2px rgba(60, 64, 67, 0.3), 0 1px 3px 1px rgba(60, 64, 67, 0.15);\n",
              "    fill: var(--button-hover-fill-color);\n",
              "  }\n",
              "\n",
              "  .colab-df-quickchart-complete:disabled,\n",
              "  .colab-df-quickchart-complete:disabled:hover {\n",
              "    background-color: var(--disabled-bg-color);\n",
              "    fill: var(--disabled-fill-color);\n",
              "    box-shadow: none;\n",
              "  }\n",
              "\n",
              "  .colab-df-spinner {\n",
              "    border: 2px solid var(--fill-color);\n",
              "    border-color: transparent;\n",
              "    border-bottom-color: var(--fill-color);\n",
              "    animation:\n",
              "      spin 1s steps(1) infinite;\n",
              "  }\n",
              "\n",
              "  @keyframes spin {\n",
              "    0% {\n",
              "      border-color: transparent;\n",
              "      border-bottom-color: var(--fill-color);\n",
              "      border-left-color: var(--fill-color);\n",
              "    }\n",
              "    20% {\n",
              "      border-color: transparent;\n",
              "      border-left-color: var(--fill-color);\n",
              "      border-top-color: var(--fill-color);\n",
              "    }\n",
              "    30% {\n",
              "      border-color: transparent;\n",
              "      border-left-color: var(--fill-color);\n",
              "      border-top-color: var(--fill-color);\n",
              "      border-right-color: var(--fill-color);\n",
              "    }\n",
              "    40% {\n",
              "      border-color: transparent;\n",
              "      border-right-color: var(--fill-color);\n",
              "      border-top-color: var(--fill-color);\n",
              "    }\n",
              "    60% {\n",
              "      border-color: transparent;\n",
              "      border-right-color: var(--fill-color);\n",
              "    }\n",
              "    80% {\n",
              "      border-color: transparent;\n",
              "      border-right-color: var(--fill-color);\n",
              "      border-bottom-color: var(--fill-color);\n",
              "    }\n",
              "    90% {\n",
              "      border-color: transparent;\n",
              "      border-bottom-color: var(--fill-color);\n",
              "    }\n",
              "  }\n",
              "</style>\n",
              "\n",
              "  <script>\n",
              "    async function quickchart(key) {\n",
              "      const quickchartButtonEl =\n",
              "        document.querySelector('#' + key + ' button');\n",
              "      quickchartButtonEl.disabled = true;  // To prevent multiple clicks.\n",
              "      quickchartButtonEl.classList.add('colab-df-spinner');\n",
              "      try {\n",
              "        const charts = await google.colab.kernel.invokeFunction(\n",
              "            'suggestCharts', [key], {});\n",
              "      } catch (error) {\n",
              "        console.error('Error during call to suggestCharts:', error);\n",
              "      }\n",
              "      quickchartButtonEl.classList.remove('colab-df-spinner');\n",
              "      quickchartButtonEl.classList.add('colab-df-quickchart-complete');\n",
              "    }\n",
              "    (() => {\n",
              "      let quickchartButtonEl =\n",
              "        document.querySelector('#df-ee1a21bd-c3d3-4f80-8c30-10b2a930e6c0 button');\n",
              "      quickchartButtonEl.style.display =\n",
              "        google.colab.kernel.accessAllowed ? 'block' : 'none';\n",
              "    })();\n",
              "  </script>\n",
              "</div>\n",
              "\n",
              "    </div>\n",
              "  </div>\n"
            ],
            "application/vnd.google.colaboratory.intrinsic+json": {
              "type": "dataframe",
              "variable_name": "cross_sect",
              "summary": "{\n  \"name\": \"cross_sect\",\n  \"rows\": 26,\n  \"fields\": [\n    {\n      \"column\": \"Country\",\n      \"properties\": {\n        \"dtype\": \"string\",\n        \"num_unique_values\": 26,\n        \"samples\": [\n          \"France\",\n          \"Austria\",\n          \"Belgium\"\n        ],\n        \"semantic_type\": \"\",\n        \"description\": \"\"\n      }\n    },\n    {\n      \"column\": \"Income Average\",\n      \"properties\": {\n        \"dtype\": \"number\",\n        \"std\": 10438.552703179763,\n        \"min\": 3268.1,\n        \"max\": 39903.7,\n        \"num_unique_values\": 26,\n        \"samples\": [\n          22317.6,\n          25909.2,\n          24451.9\n        ],\n        \"semantic_type\": \"\",\n        \"description\": \"\"\n      }\n    },\n    {\n      \"column\": \"Waste Average\",\n      \"properties\": {\n        \"dtype\": \"number\",\n        \"std\": 80.97310700406402,\n        \"min\": 213.8756709947316,\n        \"max\": 607.3509657162452,\n        \"num_unique_values\": 26,\n        \"samples\": [\n          462.7296325283031,\n          500.04836729662946,\n          447.0590265089055\n        ],\n        \"semantic_type\": \"\",\n        \"description\": \"\"\n      }\n    }\n  ]\n}"
            }
          },
          "metadata": {},
          "execution_count": 60
        }
      ]
    },
    {
      "cell_type": "code",
      "source": [
        "# Standardize the Income Average column\n",
        "scaler = StandardScaler()\n",
        "X_scaled = scaler.fit_transform(cross_sect['Income Average'].values.reshape(-1, 1))\n",
        "\n",
        "# Fit the polynomial regression model on scaled data\n",
        "X_poly_scaled = poly.fit_transform(X_scaled)\n",
        "model = LinearRegression().fit(X_poly_scaled, cross_sect['Waste Average'])\n",
        "\n",
        "# Predict using the scaled sorted data\n",
        "X_scaled_sorted = scaler.transform(X_sorted)\n",
        "X_poly_sorted_scaled = poly.transform(X_scaled_sorted)\n",
        "y_pred_sorted = model.predict(X_poly_sorted_scaled)\n",
        "\n",
        "# Plot the scaled polynomial fit\n",
        "plt.figure(figsize=(8, 6))\n",
        "plt.scatter(cross_sect['Income Average'], cross_sect['Waste Average'], alpha=0.7, label='Original Data')\n",
        "plt.plot(X_sorted, y_pred_sorted, color='red', label='Polynomial Fit (scaled)')\n",
        "plt.title('Polynomial Fit: Income vs Waste (Scaled)')\n",
        "plt.xlabel('Income Average')\n",
        "plt.ylabel('Waste Average')\n",
        "plt.legend()\n",
        "plt.show()"
      ],
      "metadata": {
        "colab": {
          "base_uri": "https://localhost:8080/",
          "height": 564
        },
        "id": "SggUlaS3UTAq",
        "outputId": "12a74994-2e82-4e26-d519-f17069376511"
      },
      "execution_count": 70,
      "outputs": [
        {
          "output_type": "display_data",
          "data": {
            "text/plain": [
              "<Figure size 800x600 with 1 Axes>"
            ],
            "image/png": "[encoded data removed]"
          },
          "metadata": {}
        }
      ]
    },
    {
      "cell_type": "code",
      "source": [
        "r2 = r2_score(cross_sect['Waste Average'], y_pred)\n",
        "print(f\"R-squared for Polynomial Regression (Degree 2): {r2:.2f}\")"
      ],
      "metadata": {
        "colab": {
          "base_uri": "https://localhost:8080/"
        },
        "id": "_U1ByMNJVEe1",
        "outputId": "5fd2ddfa-a5e4-4772-f2b0-57ec060e8a63"
      },
      "execution_count": 74,
      "outputs": [
        {
          "output_type": "stream",
          "name": "stdout",
          "text": [
            "R-squared for Polynomial Regression (Degree 2): -26.59\n"
          ]
        }
      ]
    },
    {
      "cell_type": "code",
      "source": [
        "# Prepare the data\n",
        "X = cross_sect['Income Average'].values.reshape(-1, 1)  # Independent variable\n",
        "y = cross_sect['Waste Average']  # Dependent variable\n",
        "\n",
        "# Fit the linear regression model\n",
        "linear_model = LinearRegression()\n",
        "linear_model.fit(X, y)\n",
        "\n",
        "# Predict using the model\n",
        "y_pred_linear = linear_model.predict(X)\n",
        "\n",
        "# Calculate R²\n",
        "r2_linear = r2_score(y, y_pred_linear)\n",
        "print(f\"R-squared (Linear Fit): {r2_linear:.4f}\")\n",
        "\n",
        "# Print coefficients\n",
        "print(f\"Slope (Coefficient): {linear_model.coef_[0]:.4f}\")\n",
        "print(f\"Intercept: {linear_model.intercept_:.4f}\")\n",
        "\n",
        "# Plot the linear fit\n",
        "import matplotlib.pyplot as plt\n",
        "\n",
        "plt.figure(figsize=(8, 6))\n",
        "plt.scatter(cross_sect['Income Average'], cross_sect['Waste Average'], alpha=0.7, label='Original Data')\n",
        "plt.plot(cross_sect['Income Average'], y_pred_linear, color='red', label='Linear Fit')\n",
        "plt.title('Linear Regression: Income vs Waste')\n",
        "plt.xlabel('Income Average')\n",
        "plt.ylabel('Waste Average')\n",
        "plt.legend()\n",
        "plt.show()"
      ],
      "metadata": {
        "colab": {
          "base_uri": "https://localhost:8080/",
          "height": 618
        },
        "id": "X1nAdyA-VODT",
        "outputId": "a9e6452e-b6fe-4084-e81c-f810bd7ab6da"
      },
      "execution_count": 63,
      "outputs": [
        {
          "output_type": "stream",
          "name": "stdout",
          "text": [
            "R-squared (Linear Fit): 0.1594\n",
            "Slope (Coefficient): 0.0031\n",
            "Intercept: 357.8728\n"
          ]
        },
        {
          "output_type": "display_data",
          "data": {
            "text/plain": [
              "<Figure size 800x600 with 1 Axes>"
            ],
            "image/png": "[encoded data removed]"
          },
          "metadata": {}
        }
      ]
    },
    {
      "cell_type": "code",
      "source": [
        "# Prepare the data\n",
        "X = cross_sect['Income Average']  # Independent variable\n",
        "y = cross_sect['Waste Average']   # Dependent variable\n",
        "\n",
        "# Add a constant (intercept) to the model\n",
        "X = sm.add_constant(X)\n",
        "\n",
        "# Fit the OLS model\n",
        "ols_model = sm.OLS(y, X).fit()\n",
        "\n",
        "# Print the summary\n",
        "print(ols_model.summary())"
      ],
      "metadata": {
        "colab": {
          "base_uri": "https://localhost:8080/"
        },
        "id": "kHaU_NL1b_CZ",
        "outputId": "461259a6-869e-4e6a-9daf-395e0b6d3858"
      },
      "execution_count": 64,
      "outputs": [
        {
          "output_type": "stream",
          "name": "stdout",
          "text": [
            "                            OLS Regression Results                            \n",
            "==============================================================================\n",
            "Dep. Variable:          Waste Average   R-squared:                       0.159\n",
            "Model:                            OLS   Adj. R-squared:                  0.124\n",
            "Method:                 Least Squares   F-statistic:                     4.550\n",
            "Date:                Thu, 21 Nov 2024   Prob (F-statistic):             0.0433\n",
            "Time:                        16:11:03   Log-Likelihood:                -148.37\n",
            "No. Observations:                  26   AIC:                             300.7\n",
            "Df Residuals:                      24   BIC:                             303.3\n",
            "Df Model:                           1                                         \n",
            "Covariance Type:            nonrobust                                         \n",
            "==================================================================================\n",
            "                     coef    std err          t      P>|t|      [0.025      0.975]\n",
            "----------------------------------------------------------------------------------\n",
            "const            357.8728     28.550     12.535      0.000     298.948     416.798\n",
            "Income Average     0.0031      0.001      2.133      0.043       0.000       0.006\n",
            "==============================================================================\n",
            "Omnibus:                        0.273   Durbin-Watson:                   2.212\n",
            "Prob(Omnibus):                  0.872   Jarque-Bera (JB):                0.345\n",
            "Skew:                          -0.212   Prob(JB):                        0.842\n",
            "Kurtosis:                       2.628   Cond. No.                     3.78e+04\n",
            "==============================================================================\n",
            "\n",
            "Notes:\n",
            "[1] Standard Errors assume that the covariance matrix of the errors is correctly specified.\n",
            "[2] The condition number is large, 3.78e+04. This might indicate that there are\n",
            "strong multicollinearity or other numerical problems.\n"
          ]
        }
      ]
    },
    {
      "cell_type": "code",
      "source": [
        "# Prepare the data\n",
        "X = cross_sect['Income Average']\n",
        "y = cross_sect['Waste Average']\n",
        "\n",
        "# Create polynomial features (degree 2)\n",
        "X_poly = np.column_stack((X, X**2))  # Add Income^2\n",
        "X_poly = sm.add_constant(X_poly)     # Add constant (intercept)\n",
        "\n",
        "# Fit the OLS model\n",
        "ols_model_poly = sm.OLS(y, X_poly).fit()\n",
        "\n",
        "# Print the summary\n",
        "print(ols_model_poly.summary())\n"
      ],
      "metadata": {
        "colab": {
          "base_uri": "https://localhost:8080/"
        },
        "id": "xAJZZGqpckxy",
        "outputId": "af9e8731-d04f-4fa2-f1d5-cef1ba811ae4"
      },
      "execution_count": 72,
      "outputs": [
        {
          "output_type": "stream",
          "name": "stdout",
          "text": [
            "                            OLS Regression Results                            \n",
            "==============================================================================\n",
            "Dep. Variable:          Waste Average   R-squared:                       0.242\n",
            "Model:                            OLS   Adj. R-squared:                  0.176\n",
            "Method:                 Least Squares   F-statistic:                     3.674\n",
            "Date:                Thu, 21 Nov 2024   Prob (F-statistic):             0.0413\n",
            "Time:                        16:20:29   Log-Likelihood:                -147.03\n",
            "No. Observations:                  26   AIC:                             300.1\n",
            "Df Residuals:                      23   BIC:                             303.8\n",
            "Df Model:                           2                                         \n",
            "Covariance Type:            nonrobust                                         \n",
            "==============================================================================\n",
            "                 coef    std err          t      P>|t|      [0.025      0.975]\n",
            "------------------------------------------------------------------------------\n",
            "const        300.0561     45.808      6.550      0.000     205.295     394.817\n",
            "x1             0.0113      0.005      2.105      0.046       0.000       0.022\n",
            "x2         -2.078e-07   1.31e-07     -1.584      0.127   -4.79e-07    6.35e-08\n",
            "==============================================================================\n",
            "Omnibus:                        0.070   Durbin-Watson:                   2.264\n",
            "Prob(Omnibus):                  0.966   Jarque-Bera (JB):                0.234\n",
            "Skew:                          -0.102   Prob(JB):                        0.890\n",
            "Kurtosis:                       2.582   Cond. No.                     1.81e+09\n",
            "==============================================================================\n",
            "\n",
            "Notes:\n",
            "[1] Standard Errors assume that the covariance matrix of the errors is correctly specified.\n",
            "[2] The condition number is large, 1.81e+09. This might indicate that there are\n",
            "strong multicollinearity or other numerical problems.\n"
          ]
        }
      ]
    }
  ]
}