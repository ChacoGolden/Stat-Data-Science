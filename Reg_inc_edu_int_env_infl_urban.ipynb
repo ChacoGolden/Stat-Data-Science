{
  "nbformat": 4,
  "nbformat_minor": 0,
  "metadata": {
    "colab": {
      "provenance": []
    },
    "kernelspec": {
      "name": "python3",
      "display_name": "Python 3"
    },
    "language_info": {
      "name": "python"
    }
  },
  "cells": [
    {
      "cell_type": "code",
      "execution_count": 1,
      "metadata": {
        "id": "AnEhErVG-Csg"
      },
      "outputs": [],
      "source": [
        "import pandas as pd\n",
        "import statsmodels.api as sm\n",
        "import matplotlib.pyplot as plt\n",
        "import seaborn as sns"
      ]
    },
    {
      "cell_type": "code",
      "source": [
        "cross_sect = pd.read_csv('https://raw.githubusercontent.com/ChacoGolden/Stat-Data-Science/refs/heads/main/cross_sect_inc_waste_edu_incxedu.csv')\n",
        "env_awareness = pd.read_csv('https://raw.githubusercontent.com/ChacoGolden/Stat-Data-Science/refs/heads/main/env_awareness.csv')\n",
        "ave_infl = pd.read_csv('https://raw.githubusercontent.com/ChacoGolden/Stat-Data-Science/refs/heads/main/ave_infl_2.csv')\n",
        "urban_perc = pd.read_csv('https://raw.githubusercontent.com/ChacoGolden/Stat-Data-Science/refs/heads/main/Urbanization.csv')"
      ],
      "metadata": {
        "id": "EF_hgxOa_Ax-"
      },
      "execution_count": 22,
      "outputs": []
    },
    {
      "cell_type": "code",
      "source": [
        "# Find countries in cross_sect but not in env_awareness\n",
        "missing_countries = set(cross_sect['Country']) - set(env_awareness['Country'])\n",
        "\n",
        "# Display missing countries\n",
        "print(\"Countries in cross_sect but missing in env_awareness:\")\n",
        "print(missing_countries)"
      ],
      "metadata": {
        "colab": {
          "base_uri": "https://localhost:8080/"
        },
        "id": "dlFVybrX_Vkm",
        "outputId": "7904021e-0844-46a9-9ebe-e443fa856399"
      },
      "execution_count": 3,
      "outputs": [
        {
          "output_type": "stream",
          "name": "stdout",
          "text": [
            "Countries in cross_sect but missing in env_awareness:\n",
            "{'Türkiye', 'Norway'}\n"
          ]
        }
      ]
    },
    {
      "cell_type": "code",
      "source": [
        "# Perform a left join to merge env_awareness into cross_sect\n",
        "merged_data = pd.merge(cross_sect, env_awareness, on='Country', how='left')\n",
        "\n",
        "# Drop rows where 'yes_perc' is missing\n",
        "merged_data = merged_data.dropna(subset=['yes_perc'])\n",
        "\n",
        "# Preview the updated dataset\n",
        "print(\"Preview of the dataset after dropping missing values in 'yes_perc':\")\n",
        "print(merged_data.head())\n"
      ],
      "metadata": {
        "colab": {
          "base_uri": "https://localhost:8080/"
        },
        "id": "ocLHHBP2_rf8",
        "outputId": "843baddf-95bb-407b-d214-a439e5197577"
      },
      "execution_count": 4,
      "outputs": [
        {
          "output_type": "stream",
          "name": "stdout",
          "text": [
            "Preview of the dataset after dropping missing values in 'yes_perc':\n",
            "    Country  Income Average  Waste Average  Average_Education_Level  \\\n",
            "0   Belgium         24451.9     447.059027                   0.3627   \n",
            "1  Bulgaria          4286.8     400.376196                   0.2510   \n",
            "2   Czechia          9730.2     443.899034                   0.2167   \n",
            "3   Denmark         30502.6     607.350966                   0.3279   \n",
            "4   Germany         23197.7     452.967933                   0.2595   \n",
            "\n",
            "   interaction  yes_perc  \n",
            "0   8868.70413      0.63  \n",
            "1   1075.98680      0.47  \n",
            "2   2108.53434      0.51  \n",
            "3  10001.80254      0.77  \n",
            "4   6019.80315      0.68  \n"
          ]
        }
      ]
    },
    {
      "cell_type": "code",
      "source": [
        "# Define the dependent variable (Y)\n",
        "Y = merged_data['Waste Average']\n",
        "\n",
        "# Define the independent variables (X)\n",
        "X = merged_data[['Income Average', 'Average_Education_Level', 'interaction', 'yes_perc']]\n",
        "\n",
        "# Add a constant to the model (for the intercept)\n",
        "X = sm.add_constant(X)\n",
        "\n",
        "# Fit the OLS regression model\n",
        "model = sm.OLS(Y, X).fit(cov_type='HC3')\n",
        "\n",
        "# Print the summary of the regression results\n",
        "print(model.summary())\n"
      ],
      "metadata": {
        "colab": {
          "base_uri": "https://localhost:8080/"
        },
        "id": "YLHekyNeATd_",
        "outputId": "3befdb32-6873-47d2-ba60-66ccff00f08d"
      },
      "execution_count": 5,
      "outputs": [
        {
          "output_type": "stream",
          "name": "stdout",
          "text": [
            "                            OLS Regression Results                            \n",
            "==============================================================================\n",
            "Dep. Variable:          Waste Average   R-squared:                       0.495\n",
            "Model:                            OLS   Adj. R-squared:                  0.389\n",
            "Method:                 Least Squares   F-statistic:                     3.817\n",
            "Date:                Wed, 27 Nov 2024   Prob (F-statistic):             0.0193\n",
            "Time:                        12:53:59   Log-Likelihood:                -131.25\n",
            "No. Observations:                  24   AIC:                             272.5\n",
            "Df Residuals:                      19   BIC:                             278.4\n",
            "Df Model:                           4                                         \n",
            "Covariance Type:                  HC3                                         \n",
            "===========================================================================================\n",
            "                              coef    std err          z      P>|z|      [0.025      0.975]\n",
            "-------------------------------------------------------------------------------------------\n",
            "const                     115.9122    153.191      0.757      0.449    -184.337     416.161\n",
            "Income Average              0.0314      0.009      3.686      0.000       0.015       0.048\n",
            "Average_Education_Level  1034.1735    430.393      2.403      0.016     190.619    1877.728\n",
            "interaction                -0.0794      0.025     -3.168      0.002      -0.129      -0.030\n",
            "yes_perc                 -188.5855    203.188     -0.928      0.353    -586.827     209.656\n",
            "==============================================================================\n",
            "Omnibus:                        0.497   Durbin-Watson:                   2.186\n",
            "Prob(Omnibus):                  0.780   Jarque-Bera (JB):                0.607\n",
            "Skew:                           0.259   Prob(JB):                        0.738\n",
            "Kurtosis:                       2.418   Cond. No.                     6.12e+05\n",
            "==============================================================================\n",
            "\n",
            "Notes:\n",
            "[1] Standard Errors are heteroscedasticity robust (HC3)\n",
            "[2] The condition number is large, 6.12e+05. This might indicate that there are\n",
            "strong multicollinearity or other numerical problems.\n"
          ]
        }
      ]
    },
    {
      "cell_type": "code",
      "source": [
        "from statsmodels.stats.outliers_influence import variance_inflation_factor\n",
        "\n",
        "# Calculate VIF for each predictor\n",
        "vif_data = pd.DataFrame()\n",
        "vif_data[\"Variable\"] = X.columns\n",
        "vif_data[\"VIF\"] = [variance_inflation_factor(X.values, i) for i in range(X.shape[1])]\n",
        "\n",
        "print(vif_data)\n"
      ],
      "metadata": {
        "colab": {
          "base_uri": "https://localhost:8080/"
        },
        "id": "mixyz4wKBzob",
        "outputId": "5d1cd368-ddfc-452e-a176-663ddb469407"
      },
      "execution_count": 6,
      "outputs": [
        {
          "output_type": "stream",
          "name": "stdout",
          "text": [
            "                  Variable        VIF\n",
            "0                    const  86.940668\n",
            "1           Income Average  28.993519\n",
            "2  Average_Education_Level   4.662236\n",
            "3              interaction  40.041426\n",
            "4                 yes_perc   2.358811\n"
          ]
        }
      ]
    },
    {
      "cell_type": "code",
      "source": [
        "# Regression with only yes_perc as a predictor\n",
        "X_simple = sm.add_constant(merged_data[['yes_perc']])\n",
        "model_simple = sm.OLS(Y, X_simple).fit(cov_type='HC3')\n",
        "print(model_simple.summary())"
      ],
      "metadata": {
        "colab": {
          "base_uri": "https://localhost:8080/"
        },
        "id": "J3pkoBoZB8vT",
        "outputId": "7212f9b0-3ea0-47ed-b11e-4756e7b36d55"
      },
      "execution_count": 7,
      "outputs": [
        {
          "output_type": "stream",
          "name": "stdout",
          "text": [
            "                            OLS Regression Results                            \n",
            "==============================================================================\n",
            "Dep. Variable:          Waste Average   R-squared:                       0.026\n",
            "Model:                            OLS   Adj. R-squared:                 -0.019\n",
            "Method:                 Least Squares   F-statistic:                    0.3625\n",
            "Date:                Wed, 27 Nov 2024   Prob (F-statistic):              0.553\n",
            "Time:                        12:54:17   Log-Likelihood:                -139.13\n",
            "No. Observations:                  24   AIC:                             282.3\n",
            "Df Residuals:                      22   BIC:                             284.6\n",
            "Df Model:                           1                                         \n",
            "Covariance Type:                  HC3                                         \n",
            "==============================================================================\n",
            "                 coef    std err          z      P>|z|      [0.025      0.975]\n",
            "------------------------------------------------------------------------------\n",
            "const        348.9923    100.912      3.458      0.001     151.209     546.776\n",
            "yes_perc     106.4922    176.864      0.602      0.547    -240.154     453.138\n",
            "==============================================================================\n",
            "Omnibus:                        0.472   Durbin-Watson:                   2.078\n",
            "Prob(Omnibus):                  0.790   Jarque-Bera (JB):                0.135\n",
            "Skew:                          -0.183   Prob(JB):                        0.935\n",
            "Kurtosis:                       2.974   Cond. No.                         11.1\n",
            "==============================================================================\n",
            "\n",
            "Notes:\n",
            "[1] Standard Errors are heteroscedasticity robust (HC3)\n"
          ]
        }
      ]
    },
    {
      "cell_type": "code",
      "source": [
        "import numpy as np\n",
        "merged_data['Log_Waste'] = np.log(merged_data['Waste Average'])\n",
        "merged_data['Log_yes_perc'] = np.log(merged_data['yes_perc'])\n",
        "\n",
        "# Regression with log-transformed variables\n",
        "X_log = sm.add_constant(merged_data[['Log_yes_perc', 'Income Average', 'Average_Education_Level', 'interaction']])\n",
        "Y_log = merged_data['Log_Waste']\n",
        "model_log = sm.OLS(Y_log, X_log).fit(cov_type='HC3')\n",
        "print(model_log.summary())\n"
      ],
      "metadata": {
        "colab": {
          "base_uri": "https://localhost:8080/"
        },
        "id": "LmmvAp5wCKat",
        "outputId": "d096393c-e00b-4e48-8ecb-72b06eed9301"
      },
      "execution_count": 8,
      "outputs": [
        {
          "output_type": "stream",
          "name": "stdout",
          "text": [
            "                            OLS Regression Results                            \n",
            "==============================================================================\n",
            "Dep. Variable:              Log_Waste   R-squared:                       0.532\n",
            "Model:                            OLS   Adj. R-squared:                  0.433\n",
            "Method:                 Least Squares   F-statistic:                     3.126\n",
            "Date:                Wed, 27 Nov 2024   Prob (F-statistic):             0.0391\n",
            "Time:                        12:54:26   Log-Likelihood:                 12.250\n",
            "No. Observations:                  24   AIC:                            -14.50\n",
            "Df Residuals:                      19   BIC:                            -8.610\n",
            "Df Model:                           4                                         \n",
            "Covariance Type:                  HC3                                         \n",
            "===========================================================================================\n",
            "                              coef    std err          z      P>|z|      [0.025      0.975]\n",
            "-------------------------------------------------------------------------------------------\n",
            "const                       4.5454      0.624      7.282      0.000       3.322       5.769\n",
            "Log_yes_perc               -0.4092      0.336     -1.218      0.223      -1.067       0.249\n",
            "Income Average           8.723e-05   2.83e-05      3.086      0.002    3.18e-05       0.000\n",
            "Average_Education_Level     3.2212      1.538      2.095      0.036       0.208       6.235\n",
            "interaction                -0.0002   7.91e-05     -2.802      0.005      -0.000   -6.66e-05\n",
            "==============================================================================\n",
            "Omnibus:                        3.190   Durbin-Watson:                   1.952\n",
            "Prob(Omnibus):                  0.203   Jarque-Bera (JB):                1.332\n",
            "Skew:                           0.005   Prob(JB):                        0.514\n",
            "Kurtosis:                       1.846   Cond. No.                     6.34e+05\n",
            "==============================================================================\n",
            "\n",
            "Notes:\n",
            "[1] Standard Errors are heteroscedasticity robust (HC3)\n",
            "[2] The condition number is large, 6.34e+05. This might indicate that there are\n",
            "strong multicollinearity or other numerical problems.\n"
          ]
        }
      ]
    },
    {
      "cell_type": "code",
      "source": [
        "# Define the dependent variable (log-transformed waste)\n",
        "Y_log = merged_data['Log_Waste']\n",
        "\n",
        "# Define the independent variables, excluding yes_perc\n",
        "X_no_yesperc = sm.add_constant(merged_data[['Income Average', 'Average_Education_Level', 'interaction']])\n",
        "\n",
        "# Fit the OLS regression model\n",
        "model_no_yesperc = sm.OLS(Y_log, X_no_yesperc).fit()\n",
        "\n",
        "# Print the summary of the regression results\n",
        "print(model_no_yesperc.summary())\n"
      ],
      "metadata": {
        "colab": {
          "base_uri": "https://localhost:8080/"
        },
        "id": "gxWJNklJEN6K",
        "outputId": "d4457319-321e-475c-a00d-0b6ed1c93491"
      },
      "execution_count": 9,
      "outputs": [
        {
          "output_type": "stream",
          "name": "stdout",
          "text": [
            "                            OLS Regression Results                            \n",
            "==============================================================================\n",
            "Dep. Variable:              Log_Waste   R-squared:                       0.475\n",
            "Model:                            OLS   Adj. R-squared:                  0.397\n",
            "Method:                 Least Squares   F-statistic:                     6.039\n",
            "Date:                Wed, 27 Nov 2024   Prob (F-statistic):            0.00423\n",
            "Time:                        12:54:45   Log-Likelihood:                 10.881\n",
            "No. Observations:                  24   AIC:                            -13.76\n",
            "Df Residuals:                      20   BIC:                            -9.050\n",
            "Df Model:                           3                                         \n",
            "Covariance Type:            nonrobust                                         \n",
            "===========================================================================================\n",
            "                              coef    std err          t      P>|t|      [0.025      0.975]\n",
            "-------------------------------------------------------------------------------------------\n",
            "const                       4.9798      0.291     17.102      0.000       4.372       5.587\n",
            "Income Average           7.819e-05   1.96e-05      3.990      0.001    3.73e-05       0.000\n",
            "Average_Education_Level     2.8646      1.009      2.838      0.010       0.759       4.970\n",
            "interaction                -0.0002   5.81e-05     -3.644      0.002      -0.000   -9.06e-05\n",
            "==============================================================================\n",
            "Omnibus:                        0.934   Durbin-Watson:                   2.322\n",
            "Prob(Omnibus):                  0.627   Jarque-Bera (JB):                0.929\n",
            "Skew:                          -0.373   Prob(JB):                        0.629\n",
            "Kurtosis:                       2.389   Cond. No.                     6.04e+05\n",
            "==============================================================================\n",
            "\n",
            "Notes:\n",
            "[1] Standard Errors assume that the covariance matrix of the errors is correctly specified.\n",
            "[2] The condition number is large, 6.04e+05. This might indicate that there are\n",
            "strong multicollinearity or other numerical problems.\n"
          ]
        }
      ]
    },
    {
      "cell_type": "code",
      "source": [
        "# Define the dependent variable (log-transformed waste)\n",
        "Y_log = merged_data['Log_Waste']\n",
        "\n",
        "# Define the independent variables, including yes_perc without log transformation\n",
        "X_yesperc = sm.add_constant(merged_data[['yes_perc', 'Income Average', 'Average_Education_Level', 'interaction']])\n",
        "\n",
        "# Fit the OLS regression model\n",
        "model_yesperc = sm.OLS(Y_log, X_yesperc).fit(cov_type='HC3')\n",
        "\n",
        "# Print the summary of the regression results\n",
        "print(model_yesperc.summary())\n"
      ],
      "metadata": {
        "colab": {
          "base_uri": "https://localhost:8080/"
        },
        "id": "UmU6LpWREcpY",
        "outputId": "9a69937b-de7b-4db7-d3b0-1ba386d577ca"
      },
      "execution_count": 10,
      "outputs": [
        {
          "output_type": "stream",
          "name": "stdout",
          "text": [
            "                            OLS Regression Results                            \n",
            "==============================================================================\n",
            "Dep. Variable:              Log_Waste   R-squared:                       0.517\n",
            "Model:                            OLS   Adj. R-squared:                  0.416\n",
            "Method:                 Least Squares   F-statistic:                     3.012\n",
            "Date:                Wed, 27 Nov 2024   Prob (F-statistic):             0.0441\n",
            "Time:                        12:55:16   Log-Likelihood:                 11.880\n",
            "No. Observations:                  24   AIC:                            -13.76\n",
            "Df Residuals:                      19   BIC:                            -7.870\n",
            "Df Model:                           4                                         \n",
            "Covariance Type:                  HC3                                         \n",
            "===========================================================================================\n",
            "                              coef    std err          z      P>|z|      [0.025      0.975]\n",
            "-------------------------------------------------------------------------------------------\n",
            "const                       5.1493      0.492     10.467      0.000       4.185       6.113\n",
            "yes_perc                   -0.5510      0.527     -1.046      0.296      -1.584       0.482\n",
            "Income Average           8.472e-05   2.82e-05      3.001      0.003    2.94e-05       0.000\n",
            "Average_Education_Level     3.1055      1.540      2.017      0.044       0.087       6.124\n",
            "interaction                -0.0002   7.99e-05     -2.721      0.007      -0.000   -6.08e-05\n",
            "==============================================================================\n",
            "Omnibus:                        2.325   Durbin-Watson:                   2.064\n",
            "Prob(Omnibus):                  0.313   Jarque-Bera (JB):                1.156\n",
            "Skew:                          -0.038   Prob(JB):                        0.561\n",
            "Kurtosis:                       1.927   Cond. No.                     6.12e+05\n",
            "==============================================================================\n",
            "\n",
            "Notes:\n",
            "[1] Standard Errors are heteroscedasticity robust (HC3)\n",
            "[2] The condition number is large, 6.12e+05. This might indicate that there are\n",
            "strong multicollinearity or other numerical problems.\n"
          ]
        }
      ]
    },
    {
      "cell_type": "code",
      "source": [
        "# Merge the inflation data into merged_data\n",
        "merged_data = pd.merge(merged_data, ave_infl, on='Country', how='left')\n",
        "\n",
        "# Preview the updated dataset\n",
        "print(\"Preview of merged_data with added inflation data:\")\n",
        "print(merged_data.head())"
      ],
      "metadata": {
        "colab": {
          "base_uri": "https://localhost:8080/"
        },
        "id": "m0alIPpKFCAY",
        "outputId": "8daecb4f-c309-445e-d1c9-d7355043216f"
      },
      "execution_count": 11,
      "outputs": [
        {
          "output_type": "stream",
          "name": "stdout",
          "text": [
            "Preview of merged_data with added inflation data:\n",
            "    Country  Income Average  Waste Average  Average_Education_Level  \\\n",
            "0   Belgium         24451.9     447.059027                   0.3627   \n",
            "1  Bulgaria          4286.8     400.376196                   0.2510   \n",
            "2   Czechia          9730.2     443.899034                   0.2167   \n",
            "3   Denmark         30502.6     607.350966                   0.3279   \n",
            "4   Germany         23197.7     452.967933                   0.2595   \n",
            "\n",
            "   interaction  yes_perc  Log_Waste  Log_yes_perc  Average  \n",
            "0   8868.70413      0.63   6.102691     -0.462035   0.0248  \n",
            "1   1075.98680      0.47   5.992405     -0.755023   0.0279  \n",
            "2   2108.53434      0.51   6.095597     -0.673345   0.0417  \n",
            "3  10001.80254      0.77   6.409107     -0.261365   0.0172  \n",
            "4   6019.80315      0.68   6.115821     -0.385662   0.0252  \n"
          ]
        }
      ]
    },
    {
      "cell_type": "code",
      "source": [
        "merged_data = merged_data.rename(columns={'Average': 'Average Inflation'})"
      ],
      "metadata": {
        "id": "4ErR38Bps6Eq"
      },
      "execution_count": 15,
      "outputs": []
    },
    {
      "cell_type": "code",
      "source": [
        "# Define the dependent variable (log-transformed waste)\n",
        "Y_log = merged_data['Log_Waste']\n",
        "\n",
        "# Define the independent variables, including average inflation\n",
        "X_with_inflation = sm.add_constant(merged_data[['yes_perc', 'Income Average', 'Average_Education_Level', 'interaction', 'Average Inflation']])\n",
        "\n",
        "# Fit the OLS regression model\n",
        "model_with_inflation = sm.OLS(Y_log, X_with_inflation).fit()\n",
        "\n",
        "# Print the summary of the regression results\n",
        "print(model_with_inflation.summary())\n"
      ],
      "metadata": {
        "colab": {
          "base_uri": "https://localhost:8080/"
        },
        "id": "VmA3ypedFmE2",
        "outputId": "9bbc283c-6c87-49af-a1f9-e56df263feba"
      },
      "execution_count": 16,
      "outputs": [
        {
          "output_type": "stream",
          "name": "stdout",
          "text": [
            "                            OLS Regression Results                            \n",
            "==============================================================================\n",
            "Dep. Variable:              Log_Waste   R-squared:                       0.519\n",
            "Model:                            OLS   Adj. R-squared:                  0.385\n",
            "Method:                 Least Squares   F-statistic:                     3.882\n",
            "Date:                Wed, 27 Nov 2024   Prob (F-statistic):             0.0146\n",
            "Time:                        12:58:42   Log-Likelihood:                 11.920\n",
            "No. Observations:                  24   AIC:                            -11.84\n",
            "Df Residuals:                      18   BIC:                            -4.773\n",
            "Df Model:                           5                                         \n",
            "Covariance Type:            nonrobust                                         \n",
            "===========================================================================================\n",
            "                              coef    std err          t      P>|t|      [0.025      0.975]\n",
            "-------------------------------------------------------------------------------------------\n",
            "const                       5.2035      0.392     13.289      0.000       4.381       6.026\n",
            "yes_perc                   -0.5598      0.441     -1.268      0.221      -1.487       0.368\n",
            "Income Average           8.336e-05   2.12e-05      3.933      0.001    3.88e-05       0.000\n",
            "Average_Education_Level     3.0767      1.043      2.949      0.009       0.885       5.269\n",
            "interaction                -0.0002   5.95e-05     -3.618      0.002      -0.000   -9.02e-05\n",
            "Average Inflation          -1.0755      4.375     -0.246      0.809     -10.268       8.117\n",
            "==============================================================================\n",
            "Omnibus:                        2.211   Durbin-Watson:                   2.049\n",
            "Prob(Omnibus):                  0.331   Jarque-Bera (JB):                1.134\n",
            "Skew:                          -0.057   Prob(JB):                        0.567\n",
            "Kurtosis:                       1.941   Cond. No.                     2.50e+06\n",
            "==============================================================================\n",
            "\n",
            "Notes:\n",
            "[1] Standard Errors assume that the covariance matrix of the errors is correctly specified.\n",
            "[2] The condition number is large, 2.5e+06. This might indicate that there are\n",
            "strong multicollinearity or other numerical problems.\n"
          ]
        }
      ]
    },
    {
      "cell_type": "code",
      "source": [
        "# Correlation matrix\n",
        "print(merged_data[['Income Average', 'Average Inflation']].corr())\n"
      ],
      "metadata": {
        "colab": {
          "base_uri": "https://localhost:8080/"
        },
        "id": "nWSjSBv7Gb8R",
        "outputId": "8abceca3-41dc-464a-ea98-7447423030fc"
      },
      "execution_count": 17,
      "outputs": [
        {
          "output_type": "stream",
          "name": "stdout",
          "text": [
            "                   Income Average  Average Inflation\n",
            "Income Average           1.000000          -0.609649\n",
            "Average Inflation       -0.609649           1.000000\n"
          ]
        }
      ]
    },
    {
      "cell_type": "code",
      "source": [
        "# Add a squared inflation term\n",
        "merged_data['inflation_squared'] = merged_data['Average Inflation']**2\n",
        "\n",
        "# Add it to the regression\n",
        "X_with_inflation_squared = sm.add_constant(merged_data[['yes_perc', 'Income Average',\n",
        "                                                        'Average_Education_Level', 'interaction',\n",
        "                                                        'Average Inflation', 'inflation_squared']])\n",
        "model_inflation_squared = sm.OLS(Y_log, X_with_inflation_squared).fit()\n",
        "print(model_inflation_squared.summary())"
      ],
      "metadata": {
        "colab": {
          "base_uri": "https://localhost:8080/"
        },
        "id": "GbxoO3kgGnmw",
        "outputId": "b850f31d-d7cc-4a54-d650-f5bb762c81c6"
      },
      "execution_count": 18,
      "outputs": [
        {
          "output_type": "stream",
          "name": "stdout",
          "text": [
            "                            OLS Regression Results                            \n",
            "==============================================================================\n",
            "Dep. Variable:              Log_Waste   R-squared:                       0.549\n",
            "Model:                            OLS   Adj. R-squared:                  0.390\n",
            "Method:                 Least Squares   F-statistic:                     3.454\n",
            "Date:                Wed, 27 Nov 2024   Prob (F-statistic):             0.0204\n",
            "Time:                        12:59:33   Log-Likelihood:                 12.707\n",
            "No. Observations:                  24   AIC:                            -11.41\n",
            "Df Residuals:                      17   BIC:                            -3.167\n",
            "Df Model:                           6                                         \n",
            "Covariance Type:            nonrobust                                         \n",
            "===========================================================================================\n",
            "                              coef    std err          t      P>|t|      [0.025      0.975]\n",
            "-------------------------------------------------------------------------------------------\n",
            "const                       5.5447      0.503     11.020      0.000       4.483       6.606\n",
            "yes_perc                   -0.5122      0.442     -1.159      0.262      -1.444       0.420\n",
            "Income Average           8.485e-05   2.12e-05      4.012      0.001    4.02e-05       0.000\n",
            "Average_Education_Level     2.8999      1.052      2.756      0.013       0.680       5.120\n",
            "interaction                -0.0002   5.93e-05     -3.657      0.002      -0.000   -9.17e-05\n",
            "Average Inflation         -26.2192     23.833     -1.100      0.287     -76.502      24.064\n",
            "inflation_squared         418.1551    389.677      1.073      0.298    -403.992    1240.302\n",
            "==============================================================================\n",
            "Omnibus:                        3.322   Durbin-Watson:                   1.955\n",
            "Prob(Omnibus):                  0.190   Jarque-Bera (JB):                1.378\n",
            "Skew:                           0.085   Prob(JB):                        0.502\n",
            "Kurtosis:                       1.839   Cond. No.                     2.24e+08\n",
            "==============================================================================\n",
            "\n",
            "Notes:\n",
            "[1] Standard Errors assume that the covariance matrix of the errors is correctly specified.\n",
            "[2] The condition number is large, 2.24e+08. This might indicate that there are\n",
            "strong multicollinearity or other numerical problems.\n"
          ]
        }
      ]
    },
    {
      "cell_type": "code",
      "source": [
        "# Step 1: Check common countries between the datasets\n",
        "common_countries = set(merged_data['Country']) & set(urban_perc['Country'])\n",
        "print(f\"Number of countries in common: {len(common_countries)}\")"
      ],
      "metadata": {
        "id": "NePVJf2cwTZD",
        "outputId": "7dfcc0d9-5092-487e-de64-d61e3669c1d4",
        "colab": {
          "base_uri": "https://localhost:8080/"
        }
      },
      "execution_count": 23,
      "outputs": [
        {
          "output_type": "stream",
          "name": "stdout",
          "text": [
            "Number of countries in common: 24\n"
          ]
        }
      ]
    },
    {
      "cell_type": "code",
      "source": [
        "# Step 2: Filter urban_perc to retain only countries in merged_data\n",
        "urban_perc_filtered = urban_perc[urban_perc['Country'].isin(merged_data['Country'])]\n",
        "\n",
        "# Step 3: Merge the filtered urban_perc dataset into merged_data\n",
        "merged_data = pd.merge(merged_data, urban_perc_filtered, on='Country', how='left')\n",
        "\n",
        "# Preview the updated merged_data\n",
        "print(\"Preview of merged_data with Urban Percentage:\")\n",
        "print(merged_data.head())"
      ],
      "metadata": {
        "id": "tMUWtO2BxkMQ",
        "outputId": "c32c4900-9ab7-4918-8e1a-cfecac778373",
        "colab": {
          "base_uri": "https://localhost:8080/"
        }
      },
      "execution_count": 24,
      "outputs": [
        {
          "output_type": "stream",
          "name": "stdout",
          "text": [
            "Preview of merged_data with Urban Percentage:\n",
            "    Country  Income Average  Waste Average  Average_Education_Level  \\\n",
            "0   Belgium         24451.9     447.059027                   0.3627   \n",
            "1  Bulgaria          4286.8     400.376196                   0.2510   \n",
            "2   Czechia          9730.2     443.899034                   0.2167   \n",
            "3   Denmark         30502.6     607.350966                   0.3279   \n",
            "4   Germany         23197.7     452.967933                   0.2595   \n",
            "\n",
            "   interaction  yes_perc  Log_Waste  Log_yes_perc  Average Inflation  \\\n",
            "0   8868.70413      0.63   6.102691     -0.462035             0.0248   \n",
            "1   1075.98680      0.47   5.992405     -0.755023             0.0279   \n",
            "2   2108.53434      0.51   6.095597     -0.673345             0.0417   \n",
            "3  10001.80254      0.77   6.409107     -0.261365             0.0172   \n",
            "4   6019.80315      0.68   6.115821     -0.385662             0.0252   \n",
            "\n",
            "   inflation_squared  Urban Percentage  \n",
            "0           0.000615          0.979991  \n",
            "1           0.000778          0.749837  \n",
            "2           0.001739          0.738311  \n",
            "3           0.000296          0.878848  \n",
            "4           0.000635          0.773577  \n"
          ]
        }
      ]
    },
    {
      "cell_type": "code",
      "source": [
        "# Define the dependent variable (log-transformed waste)\n",
        "Y_log = merged_data['Log_Waste']\n",
        "\n",
        "# Define the independent variables, including urban_perc as a new control\n",
        "X_with_urban = sm.add_constant(merged_data[['Income Average', 'yes_perc',\n",
        "                                            'Average_Education_Level', 'interaction',\n",
        "                                            'Average Inflation', 'Urban Percentage']])\n",
        "\n",
        "# Fit the OLS regression model\n",
        "model_with_urban = sm.OLS(Y_log, X_with_urban).fit()\n",
        "\n",
        "# Print the summary of the regression results\n",
        "print(model_with_urban.summary())\n"
      ],
      "metadata": {
        "id": "esOxibmuxsCn",
        "outputId": "83731a34-022a-4946-9966-aced8a4fb789",
        "colab": {
          "base_uri": "https://localhost:8080/"
        }
      },
      "execution_count": 25,
      "outputs": [
        {
          "output_type": "stream",
          "name": "stdout",
          "text": [
            "                            OLS Regression Results                            \n",
            "==============================================================================\n",
            "Dep. Variable:              Log_Waste   R-squared:                       0.583\n",
            "Model:                            OLS   Adj. R-squared:                  0.435\n",
            "Method:                 Least Squares   F-statistic:                     3.955\n",
            "Date:                Wed, 27 Nov 2024   Prob (F-statistic):             0.0117\n",
            "Time:                        13:21:00   Log-Likelihood:                 13.626\n",
            "No. Observations:                  24   AIC:                            -13.25\n",
            "Df Residuals:                      17   BIC:                            -5.007\n",
            "Df Model:                           6                                         \n",
            "Covariance Type:            nonrobust                                         \n",
            "===========================================================================================\n",
            "                              coef    std err          t      P>|t|      [0.025      0.975]\n",
            "-------------------------------------------------------------------------------------------\n",
            "const                       4.9728      0.402     12.381      0.000       4.125       5.820\n",
            "Income Average           7.929e-05   2.05e-05      3.874      0.001    3.61e-05       0.000\n",
            "yes_perc                   -0.7159      0.434     -1.649      0.117      -1.632       0.200\n",
            "Average_Education_Level     3.0266      1.001      3.025      0.008       0.916       5.137\n",
            "interaction                -0.0002   5.71e-05     -3.701      0.002      -0.000   -9.08e-05\n",
            "Average Inflation          -1.2455      4.195     -0.297      0.770     -10.096       7.604\n",
            "Urban Percentage            0.5284      0.328      1.612      0.125      -0.163       1.220\n",
            "==============================================================================\n",
            "Omnibus:                        0.662   Durbin-Watson:                   2.525\n",
            "Prob(Omnibus):                  0.718   Jarque-Bera (JB):                0.672\n",
            "Skew:                          -0.117   Prob(JB):                        0.715\n",
            "Kurtosis:                       2.214   Cond. No.                     2.50e+06\n",
            "==============================================================================\n",
            "\n",
            "Notes:\n",
            "[1] Standard Errors assume that the covariance matrix of the errors is correctly specified.\n",
            "[2] The condition number is large, 2.5e+06. This might indicate that there are\n",
            "strong multicollinearity or other numerical problems.\n"
          ]
        }
      ]
    }
  ]
}