{
  "nbformat": 4,
  "nbformat_minor": 0,
  "metadata": {
    "colab": {
      "provenance": []
    },
    "kernelspec": {
      "name": "python3",
      "display_name": "Python 3"
    },
    "language_info": {
      "name": "python"
    }
  },
  "cells": [
    {
      "cell_type": "code",
      "execution_count": 27,
      "metadata": {
        "id": "AnEhErVG-Csg"
      },
      "outputs": [],
      "source": [
        "import pandas as pd\n",
        "import statsmodels.api as sm\n",
        "import matplotlib.pyplot as plt\n",
        "import seaborn as sns"
      ]
    },
    {
      "cell_type": "code",
      "source": [
        "cross_sect = pd.read_csv('https://raw.githubusercontent.com/ChacoGolden/Stat-Data-Science/refs/heads/main/cross_sect_inc_waste_edu_incxedu.csv')\n",
        "env_awareness = pd.read_csv('https://raw.githubusercontent.com/ChacoGolden/Stat-Data-Science/refs/heads/main/env_awareness.csv')\n",
        "ave_infl = pd.read_csv('https://raw.githubusercontent.com/ChacoGolden/Stat-Data-Science/refs/heads/main/Average_Inflation_2014-22.csv')"
      ],
      "metadata": {
        "id": "EF_hgxOa_Ax-"
      },
      "execution_count": 28,
      "outputs": []
    },
    {
      "cell_type": "code",
      "source": [
        "# Find countries in cross_sect but not in env_awareness\n",
        "missing_countries = set(cross_sect['Country']) - set(env_awareness['Country'])\n",
        "\n",
        "# Display missing countries\n",
        "print(\"Countries in cross_sect but missing in env_awareness:\")\n",
        "print(missing_countries)"
      ],
      "metadata": {
        "colab": {
          "base_uri": "https://localhost:8080/"
        },
        "id": "dlFVybrX_Vkm",
        "outputId": "103718ee-92aa-473d-a7d9-1aab90e17a7c"
      },
      "execution_count": 29,
      "outputs": [
        {
          "output_type": "stream",
          "name": "stdout",
          "text": [
            "Countries in cross_sect but missing in env_awareness:\n",
            "{'Türkiye', 'Norway'}\n"
          ]
        }
      ]
    },
    {
      "cell_type": "code",
      "source": [
        "# Perform a left join to merge env_awareness into cross_sect\n",
        "merged_data = pd.merge(cross_sect, env_awareness, on='Country', how='left')\n",
        "\n",
        "# Drop rows where 'yes_perc' is missing\n",
        "merged_data = merged_data.dropna(subset=['yes_perc'])\n",
        "\n",
        "# Preview the updated dataset\n",
        "print(\"Preview of the dataset after dropping missing values in 'yes_perc':\")\n",
        "print(merged_data.head())\n"
      ],
      "metadata": {
        "colab": {
          "base_uri": "https://localhost:8080/"
        },
        "id": "ocLHHBP2_rf8",
        "outputId": "e7d4dbd1-7946-4010-f6a4-d8c247ff8a09"
      },
      "execution_count": 30,
      "outputs": [
        {
          "output_type": "stream",
          "name": "stdout",
          "text": [
            "Preview of the dataset after dropping missing values in 'yes_perc':\n",
            "    Country  Income Average  Waste Average  Average_Education_Level  \\\n",
            "0   Belgium         24451.9     447.059027                   0.3627   \n",
            "1  Bulgaria          4286.8     400.376196                   0.2510   \n",
            "2   Czechia          9730.2     443.899034                   0.2167   \n",
            "3   Denmark         30502.6     607.350966                   0.3279   \n",
            "4   Germany         23197.7     452.967933                   0.2595   \n",
            "\n",
            "   interaction  yes_perc  \n",
            "0   8868.70413      0.63  \n",
            "1   1075.98680      0.47  \n",
            "2   2108.53434      0.51  \n",
            "3  10001.80254      0.77  \n",
            "4   6019.80315      0.68  \n"
          ]
        }
      ]
    },
    {
      "cell_type": "code",
      "source": [
        "# Define the dependent variable (Y)\n",
        "Y = merged_data['Waste Average']\n",
        "\n",
        "# Define the independent variables (X)\n",
        "X = merged_data[['Income Average', 'Average_Education_Level', 'interaction', 'yes_perc']]\n",
        "\n",
        "# Add a constant to the model (for the intercept)\n",
        "X = sm.add_constant(X)\n",
        "\n",
        "# Fit the OLS regression model\n",
        "model = sm.OLS(Y, X).fit(cov_type='HC3')\n",
        "\n",
        "# Print the summary of the regression results\n",
        "print(model.summary())\n"
      ],
      "metadata": {
        "colab": {
          "base_uri": "https://localhost:8080/"
        },
        "id": "YLHekyNeATd_",
        "outputId": "77fc7c54-f6e5-4708-cd21-f67e2f13a4d6"
      },
      "execution_count": 31,
      "outputs": [
        {
          "output_type": "stream",
          "name": "stdout",
          "text": [
            "                            OLS Regression Results                            \n",
            "==============================================================================\n",
            "Dep. Variable:          Waste Average   R-squared:                       0.495\n",
            "Model:                            OLS   Adj. R-squared:                  0.389\n",
            "Method:                 Least Squares   F-statistic:                     3.817\n",
            "Date:                Wed, 27 Nov 2024   Prob (F-statistic):             0.0193\n",
            "Time:                        10:04:11   Log-Likelihood:                -131.25\n",
            "No. Observations:                  24   AIC:                             272.5\n",
            "Df Residuals:                      19   BIC:                             278.4\n",
            "Df Model:                           4                                         \n",
            "Covariance Type:                  HC3                                         \n",
            "===========================================================================================\n",
            "                              coef    std err          z      P>|z|      [0.025      0.975]\n",
            "-------------------------------------------------------------------------------------------\n",
            "const                     115.9122    153.191      0.757      0.449    -184.337     416.161\n",
            "Income Average              0.0314      0.009      3.686      0.000       0.015       0.048\n",
            "Average_Education_Level  1034.1735    430.393      2.403      0.016     190.619    1877.728\n",
            "interaction                -0.0794      0.025     -3.168      0.002      -0.129      -0.030\n",
            "yes_perc                 -188.5855    203.188     -0.928      0.353    -586.827     209.656\n",
            "==============================================================================\n",
            "Omnibus:                        0.497   Durbin-Watson:                   2.186\n",
            "Prob(Omnibus):                  0.780   Jarque-Bera (JB):                0.607\n",
            "Skew:                           0.259   Prob(JB):                        0.738\n",
            "Kurtosis:                       2.418   Cond. No.                     6.12e+05\n",
            "==============================================================================\n",
            "\n",
            "Notes:\n",
            "[1] Standard Errors are heteroscedasticity robust (HC3)\n",
            "[2] The condition number is large, 6.12e+05. This might indicate that there are\n",
            "strong multicollinearity or other numerical problems.\n"
          ]
        }
      ]
    },
    {
      "cell_type": "code",
      "source": [
        "from statsmodels.stats.outliers_influence import variance_inflation_factor\n",
        "\n",
        "# Calculate VIF for each predictor\n",
        "vif_data = pd.DataFrame()\n",
        "vif_data[\"Variable\"] = X.columns\n",
        "vif_data[\"VIF\"] = [variance_inflation_factor(X.values, i) for i in range(X.shape[1])]\n",
        "\n",
        "print(vif_data)\n"
      ],
      "metadata": {
        "colab": {
          "base_uri": "https://localhost:8080/"
        },
        "id": "mixyz4wKBzob",
        "outputId": "2ee48fa4-a86a-47f6-a404-89fd22ad1212"
      },
      "execution_count": 32,
      "outputs": [
        {
          "output_type": "stream",
          "name": "stdout",
          "text": [
            "                  Variable        VIF\n",
            "0                    const  86.940668\n",
            "1           Income Average  28.993519\n",
            "2  Average_Education_Level   4.662236\n",
            "3              interaction  40.041426\n",
            "4                 yes_perc   2.358811\n"
          ]
        }
      ]
    },
    {
      "cell_type": "code",
      "source": [
        "# Regression with only yes_perc as a predictor\n",
        "X_simple = sm.add_constant(merged_data[['yes_perc']])\n",
        "model_simple = sm.OLS(Y, X_simple).fit(cov_type='HC3')\n",
        "print(model_simple.summary())"
      ],
      "metadata": {
        "colab": {
          "base_uri": "https://localhost:8080/"
        },
        "id": "J3pkoBoZB8vT",
        "outputId": "6e2a820c-cf0b-47e4-9c15-2a491583c4cc"
      },
      "execution_count": 33,
      "outputs": [
        {
          "output_type": "stream",
          "name": "stdout",
          "text": [
            "                            OLS Regression Results                            \n",
            "==============================================================================\n",
            "Dep. Variable:          Waste Average   R-squared:                       0.026\n",
            "Model:                            OLS   Adj. R-squared:                 -0.019\n",
            "Method:                 Least Squares   F-statistic:                    0.3625\n",
            "Date:                Wed, 27 Nov 2024   Prob (F-statistic):              0.553\n",
            "Time:                        10:04:11   Log-Likelihood:                -139.13\n",
            "No. Observations:                  24   AIC:                             282.3\n",
            "Df Residuals:                      22   BIC:                             284.6\n",
            "Df Model:                           1                                         \n",
            "Covariance Type:                  HC3                                         \n",
            "==============================================================================\n",
            "                 coef    std err          z      P>|z|      [0.025      0.975]\n",
            "------------------------------------------------------------------------------\n",
            "const        348.9923    100.912      3.458      0.001     151.209     546.776\n",
            "yes_perc     106.4922    176.864      0.602      0.547    -240.154     453.138\n",
            "==============================================================================\n",
            "Omnibus:                        0.472   Durbin-Watson:                   2.078\n",
            "Prob(Omnibus):                  0.790   Jarque-Bera (JB):                0.135\n",
            "Skew:                          -0.183   Prob(JB):                        0.935\n",
            "Kurtosis:                       2.974   Cond. No.                         11.1\n",
            "==============================================================================\n",
            "\n",
            "Notes:\n",
            "[1] Standard Errors are heteroscedasticity robust (HC3)\n"
          ]
        }
      ]
    },
    {
      "cell_type": "code",
      "source": [
        "import numpy as np\n",
        "merged_data['Log_Waste'] = np.log(merged_data['Waste Average'])\n",
        "merged_data['Log_yes_perc'] = np.log(merged_data['yes_perc'])\n",
        "\n",
        "# Regression with log-transformed variables\n",
        "X_log = sm.add_constant(merged_data[['Log_yes_perc', 'Income Average', 'Average_Education_Level', 'interaction']])\n",
        "Y_log = merged_data['Log_Waste']\n",
        "model_log = sm.OLS(Y_log, X_log).fit(cov_type='HC3')\n",
        "print(model_log.summary())\n"
      ],
      "metadata": {
        "colab": {
          "base_uri": "https://localhost:8080/"
        },
        "id": "LmmvAp5wCKat",
        "outputId": "e925d9c7-697c-4f43-d27f-4ed95a3e91ad"
      },
      "execution_count": 34,
      "outputs": [
        {
          "output_type": "stream",
          "name": "stdout",
          "text": [
            "                            OLS Regression Results                            \n",
            "==============================================================================\n",
            "Dep. Variable:              Log_Waste   R-squared:                       0.532\n",
            "Model:                            OLS   Adj. R-squared:                  0.433\n",
            "Method:                 Least Squares   F-statistic:                     3.126\n",
            "Date:                Wed, 27 Nov 2024   Prob (F-statistic):             0.0391\n",
            "Time:                        10:04:11   Log-Likelihood:                 12.250\n",
            "No. Observations:                  24   AIC:                            -14.50\n",
            "Df Residuals:                      19   BIC:                            -8.610\n",
            "Df Model:                           4                                         \n",
            "Covariance Type:                  HC3                                         \n",
            "===========================================================================================\n",
            "                              coef    std err          z      P>|z|      [0.025      0.975]\n",
            "-------------------------------------------------------------------------------------------\n",
            "const                       4.5454      0.624      7.282      0.000       3.322       5.769\n",
            "Log_yes_perc               -0.4092      0.336     -1.218      0.223      -1.067       0.249\n",
            "Income Average           8.723e-05   2.83e-05      3.086      0.002    3.18e-05       0.000\n",
            "Average_Education_Level     3.2212      1.538      2.095      0.036       0.208       6.235\n",
            "interaction                -0.0002   7.91e-05     -2.802      0.005      -0.000   -6.66e-05\n",
            "==============================================================================\n",
            "Omnibus:                        3.190   Durbin-Watson:                   1.952\n",
            "Prob(Omnibus):                  0.203   Jarque-Bera (JB):                1.332\n",
            "Skew:                           0.005   Prob(JB):                        0.514\n",
            "Kurtosis:                       1.846   Cond. No.                     6.34e+05\n",
            "==============================================================================\n",
            "\n",
            "Notes:\n",
            "[1] Standard Errors are heteroscedasticity robust (HC3)\n",
            "[2] The condition number is large, 6.34e+05. This might indicate that there are\n",
            "strong multicollinearity or other numerical problems.\n"
          ]
        }
      ]
    },
    {
      "cell_type": "code",
      "source": [
        "# Define the dependent variable (log-transformed waste)\n",
        "Y_log = merged_data['Log_Waste']\n",
        "\n",
        "# Define the independent variables, excluding yes_perc\n",
        "X_no_yesperc = sm.add_constant(merged_data[['Income Average', 'Average_Education_Level', 'interaction']])\n",
        "\n",
        "# Fit the OLS regression model\n",
        "model_no_yesperc = sm.OLS(Y_log, X_no_yesperc).fit()\n",
        "\n",
        "# Print the summary of the regression results\n",
        "print(model_no_yesperc.summary())\n"
      ],
      "metadata": {
        "colab": {
          "base_uri": "https://localhost:8080/"
        },
        "id": "gxWJNklJEN6K",
        "outputId": "15b9575a-6a3c-489c-907f-041bac6a8faf"
      },
      "execution_count": 35,
      "outputs": [
        {
          "output_type": "stream",
          "name": "stdout",
          "text": [
            "                            OLS Regression Results                            \n",
            "==============================================================================\n",
            "Dep. Variable:              Log_Waste   R-squared:                       0.475\n",
            "Model:                            OLS   Adj. R-squared:                  0.397\n",
            "Method:                 Least Squares   F-statistic:                     6.039\n",
            "Date:                Wed, 27 Nov 2024   Prob (F-statistic):            0.00423\n",
            "Time:                        10:04:11   Log-Likelihood:                 10.881\n",
            "No. Observations:                  24   AIC:                            -13.76\n",
            "Df Residuals:                      20   BIC:                            -9.050\n",
            "Df Model:                           3                                         \n",
            "Covariance Type:            nonrobust                                         \n",
            "===========================================================================================\n",
            "                              coef    std err          t      P>|t|      [0.025      0.975]\n",
            "-------------------------------------------------------------------------------------------\n",
            "const                       4.9798      0.291     17.102      0.000       4.372       5.587\n",
            "Income Average           7.819e-05   1.96e-05      3.990      0.001    3.73e-05       0.000\n",
            "Average_Education_Level     2.8646      1.009      2.838      0.010       0.759       4.970\n",
            "interaction                -0.0002   5.81e-05     -3.644      0.002      -0.000   -9.06e-05\n",
            "==============================================================================\n",
            "Omnibus:                        0.934   Durbin-Watson:                   2.322\n",
            "Prob(Omnibus):                  0.627   Jarque-Bera (JB):                0.929\n",
            "Skew:                          -0.373   Prob(JB):                        0.629\n",
            "Kurtosis:                       2.389   Cond. No.                     6.04e+05\n",
            "==============================================================================\n",
            "\n",
            "Notes:\n",
            "[1] Standard Errors assume that the covariance matrix of the errors is correctly specified.\n",
            "[2] The condition number is large, 6.04e+05. This might indicate that there are\n",
            "strong multicollinearity or other numerical problems.\n"
          ]
        }
      ]
    },
    {
      "cell_type": "code",
      "source": [
        "# Define the dependent variable (log-transformed waste)\n",
        "Y_log = merged_data['Log_Waste']\n",
        "\n",
        "# Define the independent variables, including yes_perc without log transformation\n",
        "X_yesperc = sm.add_constant(merged_data[['yes_perc', 'Income Average', 'Average_Education_Level', 'interaction']])\n",
        "\n",
        "# Fit the OLS regression model\n",
        "model_yesperc = sm.OLS(Y_log, X_yesperc).fit(cov_type='HC3')\n",
        "\n",
        "# Print the summary of the regression results\n",
        "print(model_yesperc.summary())\n"
      ],
      "metadata": {
        "colab": {
          "base_uri": "https://localhost:8080/"
        },
        "id": "UmU6LpWREcpY",
        "outputId": "8f9f9c2d-aee7-4cd6-95b4-89c899f94ab5"
      },
      "execution_count": 36,
      "outputs": [
        {
          "output_type": "stream",
          "name": "stdout",
          "text": [
            "                            OLS Regression Results                            \n",
            "==============================================================================\n",
            "Dep. Variable:              Log_Waste   R-squared:                       0.517\n",
            "Model:                            OLS   Adj. R-squared:                  0.416\n",
            "Method:                 Least Squares   F-statistic:                     3.012\n",
            "Date:                Wed, 27 Nov 2024   Prob (F-statistic):             0.0441\n",
            "Time:                        10:04:11   Log-Likelihood:                 11.880\n",
            "No. Observations:                  24   AIC:                            -13.76\n",
            "Df Residuals:                      19   BIC:                            -7.870\n",
            "Df Model:                           4                                         \n",
            "Covariance Type:                  HC3                                         \n",
            "===========================================================================================\n",
            "                              coef    std err          z      P>|z|      [0.025      0.975]\n",
            "-------------------------------------------------------------------------------------------\n",
            "const                       5.1493      0.492     10.467      0.000       4.185       6.113\n",
            "yes_perc                   -0.5510      0.527     -1.046      0.296      -1.584       0.482\n",
            "Income Average           8.472e-05   2.82e-05      3.001      0.003    2.94e-05       0.000\n",
            "Average_Education_Level     3.1055      1.540      2.017      0.044       0.087       6.124\n",
            "interaction                -0.0002   7.99e-05     -2.721      0.007      -0.000   -6.08e-05\n",
            "==============================================================================\n",
            "Omnibus:                        2.325   Durbin-Watson:                   2.064\n",
            "Prob(Omnibus):                  0.313   Jarque-Bera (JB):                1.156\n",
            "Skew:                          -0.038   Prob(JB):                        0.561\n",
            "Kurtosis:                       1.927   Cond. No.                     6.12e+05\n",
            "==============================================================================\n",
            "\n",
            "Notes:\n",
            "[1] Standard Errors are heteroscedasticity robust (HC3)\n",
            "[2] The condition number is large, 6.12e+05. This might indicate that there are\n",
            "strong multicollinearity or other numerical problems.\n"
          ]
        }
      ]
    },
    {
      "cell_type": "code",
      "source": [
        "# Merge the inflation data into merged_data\n",
        "merged_data = pd.merge(merged_data, ave_infl, on='Country', how='left')\n",
        "\n",
        "# Preview the updated dataset\n",
        "print(\"Preview of merged_data with added inflation data:\")\n",
        "print(merged_data.head())"
      ],
      "metadata": {
        "colab": {
          "base_uri": "https://localhost:8080/"
        },
        "id": "m0alIPpKFCAY",
        "outputId": "0c0290c6-67e0-4888-bb81-3233a7e8990c"
      },
      "execution_count": 37,
      "outputs": [
        {
          "output_type": "stream",
          "name": "stdout",
          "text": [
            "Preview of merged_data with added inflation data:\n",
            "    Country  Income Average  Waste Average  Average_Education_Level  \\\n",
            "0   Belgium         24451.9     447.059027                   0.3627   \n",
            "1  Bulgaria          4286.8     400.376196                   0.2510   \n",
            "2   Czechia          9730.2     443.899034                   0.2167   \n",
            "3   Denmark         30502.6     607.350966                   0.3279   \n",
            "4   Germany         23197.7     452.967933                   0.2595   \n",
            "\n",
            "   interaction  yes_perc  Log_Waste  Log_yes_perc  Average Inflation  \n",
            "0   8868.70413      0.63   6.102691     -0.462035         106.954444  \n",
            "1   1075.98680      0.47   5.992405     -0.755023         105.130000  \n",
            "2   2108.53434      0.51   6.095597     -0.673345         108.344444  \n",
            "3  10001.80254      0.77   6.409107     -0.261365         102.977778  \n",
            "4   6019.80315      0.68   6.115821     -0.385662         105.000000  \n"
          ]
        }
      ]
    },
    {
      "cell_type": "code",
      "source": [
        "# Define the dependent variable (log-transformed waste)\n",
        "Y_log = merged_data['Log_Waste']\n",
        "\n",
        "# Define the independent variables, including average inflation\n",
        "X_with_inflation = sm.add_constant(merged_data[['yes_perc', 'Income Average', 'Average_Education_Level', 'interaction', 'Average Inflation']])\n",
        "\n",
        "# Fit the OLS regression model\n",
        "model_with_inflation = sm.OLS(Y_log, X_with_inflation).fit()\n",
        "\n",
        "# Print the summary of the regression results\n",
        "print(model_with_inflation.summary())\n"
      ],
      "metadata": {
        "colab": {
          "base_uri": "https://localhost:8080/"
        },
        "id": "VmA3ypedFmE2",
        "outputId": "5d503052-3631-4d4f-f1f6-02971f653dc2"
      },
      "execution_count": 39,
      "outputs": [
        {
          "output_type": "stream",
          "name": "stdout",
          "text": [
            "                            OLS Regression Results                            \n",
            "==============================================================================\n",
            "Dep. Variable:              Log_Waste   R-squared:                       0.517\n",
            "Model:                            OLS   Adj. R-squared:                  0.383\n",
            "Method:                 Least Squares   F-statistic:                     3.859\n",
            "Date:                Wed, 27 Nov 2024   Prob (F-statistic):             0.0149\n",
            "Time:                        10:07:11   Log-Likelihood:                 11.884\n",
            "No. Observations:                  24   AIC:                            -11.77\n",
            "Df Residuals:                      18   BIC:                            -4.699\n",
            "Df Model:                           5                                         \n",
            "Covariance Type:            nonrobust                                         \n",
            "===========================================================================================\n",
            "                              coef    std err          t      P>|t|      [0.025      0.975]\n",
            "-------------------------------------------------------------------------------------------\n",
            "const                       5.2874      1.911      2.767      0.013       1.273       9.302\n",
            "yes_perc                   -0.5532      0.442     -1.252      0.227      -1.481       0.375\n",
            "Income Average           8.443e-05   2.09e-05      4.045      0.001    4.06e-05       0.000\n",
            "Average_Education_Level     3.1026      1.039      2.986      0.008       0.919       5.286\n",
            "interaction                -0.0002   5.92e-05     -3.662      0.002      -0.000   -9.25e-05\n",
            "Average Inflation          -0.0013      0.017     -0.073      0.942      -0.038       0.035\n",
            "==============================================================================\n",
            "Omnibus:                        2.345   Durbin-Watson:                   2.059\n",
            "Prob(Omnibus):                  0.310   Jarque-Bera (JB):                1.162\n",
            "Skew:                          -0.046   Prob(JB):                        0.559\n",
            "Kurtosis:                       1.926   Cond. No.                     1.10e+06\n",
            "==============================================================================\n",
            "\n",
            "Notes:\n",
            "[1] Standard Errors assume that the covariance matrix of the errors is correctly specified.\n",
            "[2] The condition number is large, 1.1e+06. This might indicate that there are\n",
            "strong multicollinearity or other numerical problems.\n"
          ]
        }
      ]
    },
    {
      "cell_type": "code",
      "source": [
        "# Correlation matrix\n",
        "print(merged_data[['Income Average', 'Average Inflation']].corr())\n"
      ],
      "metadata": {
        "colab": {
          "base_uri": "https://localhost:8080/"
        },
        "id": "nWSjSBv7Gb8R",
        "outputId": "781df6c9-a76a-4d9c-9582-6c4446c3b4ea"
      },
      "execution_count": 41,
      "outputs": [
        {
          "output_type": "stream",
          "name": "stdout",
          "text": [
            "                   Income Average  Average Inflation\n",
            "Income Average           1.000000          -0.469096\n",
            "Average Inflation       -0.469096           1.000000\n"
          ]
        }
      ]
    },
    {
      "cell_type": "code",
      "source": [
        "# Add a squared inflation term\n",
        "merged_data['inflation_squared'] = merged_data['Average Inflation']**2\n",
        "\n",
        "# Add it to the regression\n",
        "X_with_inflation_squared = sm.add_constant(merged_data[['yes_perc', 'Income Average',\n",
        "                                                        'Average_Education_Level', 'interaction',\n",
        "                                                        'Average Inflation', 'inflation_squared']])\n",
        "model_inflation_squared = sm.OLS(Y_log, X_with_inflation_squared).fit()\n",
        "print(model_inflation_squared.summary())\n"
      ],
      "metadata": {
        "colab": {
          "base_uri": "https://localhost:8080/"
        },
        "id": "GbxoO3kgGnmw",
        "outputId": "e561c528-2c43-4e9e-80e5-c2bbfdaf22e2"
      },
      "execution_count": 43,
      "outputs": [
        {
          "output_type": "stream",
          "name": "stdout",
          "text": [
            "                            OLS Regression Results                            \n",
            "==============================================================================\n",
            "Dep. Variable:              Log_Waste   R-squared:                       0.532\n",
            "Model:                            OLS   Adj. R-squared:                  0.366\n",
            "Method:                 Least Squares   F-statistic:                     3.216\n",
            "Date:                Wed, 27 Nov 2024   Prob (F-statistic):             0.0268\n",
            "Time:                        10:11:24   Log-Likelihood:                 12.243\n",
            "No. Observations:                  24   AIC:                            -10.49\n",
            "Df Residuals:                      17   BIC:                            -2.241\n",
            "Df Model:                           6                                         \n",
            "Covariance Type:            nonrobust                                         \n",
            "===========================================================================================\n",
            "                              coef    std err          t      P>|t|      [0.025      0.975]\n",
            "-------------------------------------------------------------------------------------------\n",
            "const                      64.7130     82.651      0.783      0.444    -109.666     239.092\n",
            "yes_perc                   -0.4729      0.462     -1.025      0.320      -1.447       0.501\n",
            "Income Average           8.407e-05   2.12e-05      3.972      0.001    3.94e-05       0.000\n",
            "Average_Education_Level     2.7873      1.141      2.443      0.026       0.380       5.195\n",
            "interaction                -0.0002   6.04e-05     -3.518      0.003      -0.000    -8.5e-05\n",
            "Average Inflation          -1.1259      1.564     -0.720      0.481      -4.425       2.173\n",
            "inflation_squared           0.0053      0.007      0.719      0.482      -0.010       0.021\n",
            "==============================================================================\n",
            "Omnibus:                        3.575   Durbin-Watson:                   2.019\n",
            "Prob(Omnibus):                  0.167   Jarque-Bera (JB):                1.405\n",
            "Skew:                           0.028   Prob(JB):                        0.495\n",
            "Kurtosis:                       1.816   Cond. No.                     5.20e+07\n",
            "==============================================================================\n",
            "\n",
            "Notes:\n",
            "[1] Standard Errors assume that the covariance matrix of the errors is correctly specified.\n",
            "[2] The condition number is large, 5.2e+07. This might indicate that there are\n",
            "strong multicollinearity or other numerical problems.\n"
          ]
        }
      ]
    }
  ]
}