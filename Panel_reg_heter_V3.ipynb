{
  "nbformat": 4,
  "nbformat_minor": 0,
  "metadata": {
    "colab": {
      "provenance": [],
      "include_colab_link": true
    },
    "kernelspec": {
      "name": "python3",
      "display_name": "Python 3"
    },
    "language_info": {
      "name": "python"
    }
  },
  "cells": [
    {
      "cell_type": "markdown",
      "metadata": {
        "id": "view-in-github",
        "colab_type": "text"
      },
      "source": [
        "<a href=\"https://colab.research.google.com/github/ChacoGolden/Stat-Data-Science/blob/main/Panel_reg_heter_V3.ipynb\" target=\"_parent\"><img src=\"https://colab.research.google.com/assets/colab-badge.svg\" alt=\"Open In Colab\"/></a>"
      ]
    },
    {
      "cell_type": "markdown",
      "source": [
        "# Regression analysis"
      ],
      "metadata": {
        "id": "OMsNJgU23aoI"
      }
    },
    {
      "cell_type": "code",
      "source": [
        "!pip install linearmodels"
      ],
      "metadata": {
        "colab": {
          "base_uri": "https://localhost:8080/"
        },
        "id": "0K5ueD0Qc5X1",
        "outputId": "9ca0be6f-a19c-41df-ece2-d5eebaa4dc8e"
      },
      "execution_count": null,
      "outputs": [
        {
          "output_type": "stream",
          "name": "stdout",
          "text": [
            "Requirement already satisfied: linearmodels in /usr/local/lib/python3.10/dist-packages (6.1)\n",
            "Requirement already satisfied: numpy<3,>=1.22.3 in /usr/local/lib/python3.10/dist-packages (from linearmodels) (1.26.4)\n",
            "Requirement already satisfied: pandas>=1.4.0 in /usr/local/lib/python3.10/dist-packages (from linearmodels) (2.2.2)\n",
            "Requirement already satisfied: scipy>=1.8.0 in /usr/local/lib/python3.10/dist-packages (from linearmodels) (1.13.1)\n",
            "Requirement already satisfied: statsmodels>=0.13.0 in /usr/local/lib/python3.10/dist-packages (from linearmodels) (0.14.4)\n",
            "Requirement already satisfied: mypy-extensions>=0.4 in /usr/local/lib/python3.10/dist-packages (from linearmodels) (1.0.0)\n",
            "Requirement already satisfied: Cython>=3.0.10 in /usr/local/lib/python3.10/dist-packages (from linearmodels) (3.0.11)\n",
            "Requirement already satisfied: pyhdfe>=0.1 in /usr/local/lib/python3.10/dist-packages (from linearmodels) (0.2.0)\n",
            "Requirement already satisfied: formulaic>=1.0.0 in /usr/local/lib/python3.10/dist-packages (from linearmodels) (1.1.0)\n",
            "Requirement already satisfied: setuptools-scm<9.0.0,>=8.0.0 in /usr/local/lib/python3.10/dist-packages (from setuptools-scm[toml]<9.0.0,>=8.0.0->linearmodels) (8.1.0)\n",
            "Requirement already satisfied: interface-meta>=1.2.0 in /usr/local/lib/python3.10/dist-packages (from formulaic>=1.0.0->linearmodels) (1.3.0)\n",
            "Requirement already satisfied: typing-extensions>=4.2.0 in /usr/local/lib/python3.10/dist-packages (from formulaic>=1.0.0->linearmodels) (4.12.2)\n",
            "Requirement already satisfied: wrapt>=1.0 in /usr/local/lib/python3.10/dist-packages (from formulaic>=1.0.0->linearmodels) (1.17.0)\n",
            "Requirement already satisfied: python-dateutil>=2.8.2 in /usr/local/lib/python3.10/dist-packages (from pandas>=1.4.0->linearmodels) (2.8.2)\n",
            "Requirement already satisfied: pytz>=2020.1 in /usr/local/lib/python3.10/dist-packages (from pandas>=1.4.0->linearmodels) (2024.2)\n",
            "Requirement already satisfied: tzdata>=2022.7 in /usr/local/lib/python3.10/dist-packages (from pandas>=1.4.0->linearmodels) (2024.2)\n",
            "Requirement already satisfied: packaging>=20 in /usr/local/lib/python3.10/dist-packages (from setuptools-scm<9.0.0,>=8.0.0->setuptools-scm[toml]<9.0.0,>=8.0.0->linearmodels) (24.2)\n",
            "Requirement already satisfied: setuptools in /usr/local/lib/python3.10/dist-packages (from setuptools-scm<9.0.0,>=8.0.0->setuptools-scm[toml]<9.0.0,>=8.0.0->linearmodels) (75.1.0)\n",
            "Requirement already satisfied: tomli>=1 in /usr/local/lib/python3.10/dist-packages (from setuptools-scm<9.0.0,>=8.0.0->setuptools-scm[toml]<9.0.0,>=8.0.0->linearmodels) (2.2.1)\n",
            "Requirement already satisfied: patsy>=0.5.6 in /usr/local/lib/python3.10/dist-packages (from statsmodels>=0.13.0->linearmodels) (1.0.1)\n",
            "Requirement already satisfied: six>=1.5 in /usr/local/lib/python3.10/dist-packages (from python-dateutil>=2.8.2->pandas>=1.4.0->linearmodels) (1.17.0)\n"
          ]
        }
      ]
    },
    {
      "cell_type": "code",
      "source": [
        "import pandas as pd\n",
        "from linearmodels.panel import PanelOLS\n",
        "from statsmodels.tools import add_constant"
      ],
      "metadata": {
        "id": "t9S1-w-xcco2"
      },
      "execution_count": null,
      "outputs": []
    },
    {
      "cell_type": "code",
      "execution_count": null,
      "metadata": {
        "id": "LuZmaAolb2RG",
        "outputId": "11f4499f-1fe3-4b55-c89f-90af5167c0af",
        "colab": {
          "base_uri": "https://localhost:8080/",
          "height": 424
        }
      },
      "outputs": [
        {
          "output_type": "execute_result",
          "data": {
            "text/plain": [
              "      Country  Year       Waste   Income  Env Awareness\n",
              "0     Belgium  2014  484.672171  21705.0           0.95\n",
              "1    Bulgaria  2014  376.962939   3311.0           0.94\n",
              "2     Czechia  2014  310.164578   7622.0           0.93\n",
              "3     Denmark  2014  636.289226  27861.0           0.96\n",
              "4     Germany  2014  456.714036  19733.0           0.94\n",
              "..        ...   ...         ...      ...            ...\n",
              "229  Slovakia  2022  477.938297   8819.0            NaN\n",
              "230   Finland  2022  301.988144  26541.0            NaN\n",
              "231    Sweden  2022  410.815832  26738.0            NaN\n",
              "232    Norway  2022  412.204001  39206.0            NaN\n",
              "233   Türkiye  2022  316.603254   2804.0            NaN\n",
              "\n",
              "[234 rows x 5 columns]"
            ],
            "text/html": [
              "\n",
              "  <div id=\"df-d432f70b-fb2a-4c69-9c10-06b0b398818c\" class=\"colab-df-container\">\n",
              "    <div>\n",
              "<style scoped>\n",
              "    .dataframe tbody tr th:only-of-type {\n",
              "        vertical-align: middle;\n",
              "    }\n",
              "\n",
              "    .dataframe tbody tr th {\n",
              "        vertical-align: top;\n",
              "    }\n",
              "\n",
              "    .dataframe thead th {\n",
              "        text-align: right;\n",
              "    }\n",
              "</style>\n",
              "<table border=\"1\" class=\"dataframe\">\n",
              "  <thead>\n",
              "    <tr style=\"text-align: right;\">\n",
              "      <th></th>\n",
              "      <th>Country</th>\n",
              "      <th>Year</th>\n",
              "      <th>Waste</th>\n",
              "      <th>Income</th>\n",
              "      <th>Env Awareness</th>\n",
              "    </tr>\n",
              "  </thead>\n",
              "  <tbody>\n",
              "    <tr>\n",
              "      <th>0</th>\n",
              "      <td>Belgium</td>\n",
              "      <td>2014</td>\n",
              "      <td>484.672171</td>\n",
              "      <td>21705.0</td>\n",
              "      <td>0.95</td>\n",
              "    </tr>\n",
              "    <tr>\n",
              "      <th>1</th>\n",
              "      <td>Bulgaria</td>\n",
              "      <td>2014</td>\n",
              "      <td>376.962939</td>\n",
              "      <td>3311.0</td>\n",
              "      <td>0.94</td>\n",
              "    </tr>\n",
              "    <tr>\n",
              "      <th>2</th>\n",
              "      <td>Czechia</td>\n",
              "      <td>2014</td>\n",
              "      <td>310.164578</td>\n",
              "      <td>7622.0</td>\n",
              "      <td>0.93</td>\n",
              "    </tr>\n",
              "    <tr>\n",
              "      <th>3</th>\n",
              "      <td>Denmark</td>\n",
              "      <td>2014</td>\n",
              "      <td>636.289226</td>\n",
              "      <td>27861.0</td>\n",
              "      <td>0.96</td>\n",
              "    </tr>\n",
              "    <tr>\n",
              "      <th>4</th>\n",
              "      <td>Germany</td>\n",
              "      <td>2014</td>\n",
              "      <td>456.714036</td>\n",
              "      <td>19733.0</td>\n",
              "      <td>0.94</td>\n",
              "    </tr>\n",
              "    <tr>\n",
              "      <th>...</th>\n",
              "      <td>...</td>\n",
              "      <td>...</td>\n",
              "      <td>...</td>\n",
              "      <td>...</td>\n",
              "      <td>...</td>\n",
              "    </tr>\n",
              "    <tr>\n",
              "      <th>229</th>\n",
              "      <td>Slovakia</td>\n",
              "      <td>2022</td>\n",
              "      <td>477.938297</td>\n",
              "      <td>8819.0</td>\n",
              "      <td>NaN</td>\n",
              "    </tr>\n",
              "    <tr>\n",
              "      <th>230</th>\n",
              "      <td>Finland</td>\n",
              "      <td>2022</td>\n",
              "      <td>301.988144</td>\n",
              "      <td>26541.0</td>\n",
              "      <td>NaN</td>\n",
              "    </tr>\n",
              "    <tr>\n",
              "      <th>231</th>\n",
              "      <td>Sweden</td>\n",
              "      <td>2022</td>\n",
              "      <td>410.815832</td>\n",
              "      <td>26738.0</td>\n",
              "      <td>NaN</td>\n",
              "    </tr>\n",
              "    <tr>\n",
              "      <th>232</th>\n",
              "      <td>Norway</td>\n",
              "      <td>2022</td>\n",
              "      <td>412.204001</td>\n",
              "      <td>39206.0</td>\n",
              "      <td>NaN</td>\n",
              "    </tr>\n",
              "    <tr>\n",
              "      <th>233</th>\n",
              "      <td>Türkiye</td>\n",
              "      <td>2022</td>\n",
              "      <td>316.603254</td>\n",
              "      <td>2804.0</td>\n",
              "      <td>NaN</td>\n",
              "    </tr>\n",
              "  </tbody>\n",
              "</table>\n",
              "<p>234 rows × 5 columns</p>\n",
              "</div>\n",
              "    <div class=\"colab-df-buttons\">\n",
              "\n",
              "  <div class=\"colab-df-container\">\n",
              "    <button class=\"colab-df-convert\" onclick=\"convertToInteractive('df-d432f70b-fb2a-4c69-9c10-06b0b398818c')\"\n",
              "            title=\"Convert this dataframe to an interactive table.\"\n",
              "            style=\"display:none;\">\n",
              "\n",
              "  <svg xmlns=\"http://www.w3.org/2000/svg\" height=\"24px\" viewBox=\"0 -960 960 960\">\n",
              "    <path d=\"M120-120v-720h720v720H120Zm60-500h600v-160H180v160Zm220 220h160v-160H400v160Zm0 220h160v-160H400v160ZM180-400h160v-160H180v160Zm440 0h160v-160H620v160ZM180-180h160v-160H180v160Zm440 0h160v-160H620v160Z\"/>\n",
              "  </svg>\n",
              "    </button>\n",
              "\n",
              "  <style>\n",
              "    .colab-df-container {\n",
              "      display:flex;\n",
              "      gap: 12px;\n",
              "    }\n",
              "\n",
              "    .colab-df-convert {\n",
              "      background-color: #E8F0FE;\n",
              "      border: none;\n",
              "      border-radius: 50%;\n",
              "      cursor: pointer;\n",
              "      display: none;\n",
              "      fill: #1967D2;\n",
              "      height: 32px;\n",
              "      padding: 0 0 0 0;\n",
              "      width: 32px;\n",
              "    }\n",
              "\n",
              "    .colab-df-convert:hover {\n",
              "      background-color: #E2EBFA;\n",
              "      box-shadow: 0px 1px 2px rgba(60, 64, 67, 0.3), 0px 1px 3px 1px rgba(60, 64, 67, 0.15);\n",
              "      fill: #174EA6;\n",
              "    }\n",
              "\n",
              "    .colab-df-buttons div {\n",
              "      margin-bottom: 4px;\n",
              "    }\n",
              "\n",
              "    [theme=dark] .colab-df-convert {\n",
              "      background-color: #3B4455;\n",
              "      fill: #D2E3FC;\n",
              "    }\n",
              "\n",
              "    [theme=dark] .colab-df-convert:hover {\n",
              "      background-color: #434B5C;\n",
              "      box-shadow: 0px 1px 3px 1px rgba(0, 0, 0, 0.15);\n",
              "      filter: drop-shadow(0px 1px 2px rgba(0, 0, 0, 0.3));\n",
              "      fill: #FFFFFF;\n",
              "    }\n",
              "  </style>\n",
              "\n",
              "    <script>\n",
              "      const buttonEl =\n",
              "        document.querySelector('#df-d432f70b-fb2a-4c69-9c10-06b0b398818c button.colab-df-convert');\n",
              "      buttonEl.style.display =\n",
              "        google.colab.kernel.accessAllowed ? 'block' : 'none';\n",
              "\n",
              "      async function convertToInteractive(key) {\n",
              "        const element = document.querySelector('#df-d432f70b-fb2a-4c69-9c10-06b0b398818c');\n",
              "        const dataTable =\n",
              "          await google.colab.kernel.invokeFunction('convertToInteractive',\n",
              "                                                    [key], {});\n",
              "        if (!dataTable) return;\n",
              "\n",
              "        const docLinkHtml = 'Like what you see? Visit the ' +\n",
              "          '<a target=\"_blank\" href=https://colab.research.google.com/notebooks/data_table.ipynb>data table notebook</a>'\n",
              "          + ' to learn more about interactive tables.';\n",
              "        element.innerHTML = '';\n",
              "        dataTable['output_type'] = 'display_data';\n",
              "        await google.colab.output.renderOutput(dataTable, element);\n",
              "        const docLink = document.createElement('div');\n",
              "        docLink.innerHTML = docLinkHtml;\n",
              "        element.appendChild(docLink);\n",
              "      }\n",
              "    </script>\n",
              "  </div>\n",
              "\n",
              "\n",
              "<div id=\"df-0168bb8c-f7b5-4182-9a08-b3025e7be5a0\">\n",
              "  <button class=\"colab-df-quickchart\" onclick=\"quickchart('df-0168bb8c-f7b5-4182-9a08-b3025e7be5a0')\"\n",
              "            title=\"Suggest charts\"\n",
              "            style=\"display:none;\">\n",
              "\n",
              "<svg xmlns=\"http://www.w3.org/2000/svg\" height=\"24px\"viewBox=\"0 0 24 24\"\n",
              "     width=\"24px\">\n",
              "    <g>\n",
              "        <path d=\"M19 3H5c-1.1 0-2 .9-2 2v14c0 1.1.9 2 2 2h14c1.1 0 2-.9 2-2V5c0-1.1-.9-2-2-2zM9 17H7v-7h2v7zm4 0h-2V7h2v10zm4 0h-2v-4h2v4z\"/>\n",
              "    </g>\n",
              "</svg>\n",
              "  </button>\n",
              "\n",
              "<style>\n",
              "  .colab-df-quickchart {\n",
              "      --bg-color: #E8F0FE;\n",
              "      --fill-color: #1967D2;\n",
              "      --hover-bg-color: #E2EBFA;\n",
              "      --hover-fill-color: #174EA6;\n",
              "      --disabled-fill-color: #AAA;\n",
              "      --disabled-bg-color: #DDD;\n",
              "  }\n",
              "\n",
              "  [theme=dark] .colab-df-quickchart {\n",
              "      --bg-color: #3B4455;\n",
              "      --fill-color: #D2E3FC;\n",
              "      --hover-bg-color: #434B5C;\n",
              "      --hover-fill-color: #FFFFFF;\n",
              "      --disabled-bg-color: #3B4455;\n",
              "      --disabled-fill-color: #666;\n",
              "  }\n",
              "\n",
              "  .colab-df-quickchart {\n",
              "    background-color: var(--bg-color);\n",
              "    border: none;\n",
              "    border-radius: 50%;\n",
              "    cursor: pointer;\n",
              "    display: none;\n",
              "    fill: var(--fill-color);\n",
              "    height: 32px;\n",
              "    padding: 0;\n",
              "    width: 32px;\n",
              "  }\n",
              "\n",
              "  .colab-df-quickchart:hover {\n",
              "    background-color: var(--hover-bg-color);\n",
              "    box-shadow: 0 1px 2px rgba(60, 64, 67, 0.3), 0 1px 3px 1px rgba(60, 64, 67, 0.15);\n",
              "    fill: var(--button-hover-fill-color);\n",
              "  }\n",
              "\n",
              "  .colab-df-quickchart-complete:disabled,\n",
              "  .colab-df-quickchart-complete:disabled:hover {\n",
              "    background-color: var(--disabled-bg-color);\n",
              "    fill: var(--disabled-fill-color);\n",
              "    box-shadow: none;\n",
              "  }\n",
              "\n",
              "  .colab-df-spinner {\n",
              "    border: 2px solid var(--fill-color);\n",
              "    border-color: transparent;\n",
              "    border-bottom-color: var(--fill-color);\n",
              "    animation:\n",
              "      spin 1s steps(1) infinite;\n",
              "  }\n",
              "\n",
              "  @keyframes spin {\n",
              "    0% {\n",
              "      border-color: transparent;\n",
              "      border-bottom-color: var(--fill-color);\n",
              "      border-left-color: var(--fill-color);\n",
              "    }\n",
              "    20% {\n",
              "      border-color: transparent;\n",
              "      border-left-color: var(--fill-color);\n",
              "      border-top-color: var(--fill-color);\n",
              "    }\n",
              "    30% {\n",
              "      border-color: transparent;\n",
              "      border-left-color: var(--fill-color);\n",
              "      border-top-color: var(--fill-color);\n",
              "      border-right-color: var(--fill-color);\n",
              "    }\n",
              "    40% {\n",
              "      border-color: transparent;\n",
              "      border-right-color: var(--fill-color);\n",
              "      border-top-color: var(--fill-color);\n",
              "    }\n",
              "    60% {\n",
              "      border-color: transparent;\n",
              "      border-right-color: var(--fill-color);\n",
              "    }\n",
              "    80% {\n",
              "      border-color: transparent;\n",
              "      border-right-color: var(--fill-color);\n",
              "      border-bottom-color: var(--fill-color);\n",
              "    }\n",
              "    90% {\n",
              "      border-color: transparent;\n",
              "      border-bottom-color: var(--fill-color);\n",
              "    }\n",
              "  }\n",
              "</style>\n",
              "\n",
              "  <script>\n",
              "    async function quickchart(key) {\n",
              "      const quickchartButtonEl =\n",
              "        document.querySelector('#' + key + ' button');\n",
              "      quickchartButtonEl.disabled = true;  // To prevent multiple clicks.\n",
              "      quickchartButtonEl.classList.add('colab-df-spinner');\n",
              "      try {\n",
              "        const charts = await google.colab.kernel.invokeFunction(\n",
              "            'suggestCharts', [key], {});\n",
              "      } catch (error) {\n",
              "        console.error('Error during call to suggestCharts:', error);\n",
              "      }\n",
              "      quickchartButtonEl.classList.remove('colab-df-spinner');\n",
              "      quickchartButtonEl.classList.add('colab-df-quickchart-complete');\n",
              "    }\n",
              "    (() => {\n",
              "      let quickchartButtonEl =\n",
              "        document.querySelector('#df-0168bb8c-f7b5-4182-9a08-b3025e7be5a0 button');\n",
              "      quickchartButtonEl.style.display =\n",
              "        google.colab.kernel.accessAllowed ? 'block' : 'none';\n",
              "    })();\n",
              "  </script>\n",
              "</div>\n",
              "\n",
              "  <div id=\"id_42267576-6f82-4062-869a-347a5defe11c\">\n",
              "    <style>\n",
              "      .colab-df-generate {\n",
              "        background-color: #E8F0FE;\n",
              "        border: none;\n",
              "        border-radius: 50%;\n",
              "        cursor: pointer;\n",
              "        display: none;\n",
              "        fill: #1967D2;\n",
              "        height: 32px;\n",
              "        padding: 0 0 0 0;\n",
              "        width: 32px;\n",
              "      }\n",
              "\n",
              "      .colab-df-generate:hover {\n",
              "        background-color: #E2EBFA;\n",
              "        box-shadow: 0px 1px 2px rgba(60, 64, 67, 0.3), 0px 1px 3px 1px rgba(60, 64, 67, 0.15);\n",
              "        fill: #174EA6;\n",
              "      }\n",
              "\n",
              "      [theme=dark] .colab-df-generate {\n",
              "        background-color: #3B4455;\n",
              "        fill: #D2E3FC;\n",
              "      }\n",
              "\n",
              "      [theme=dark] .colab-df-generate:hover {\n",
              "        background-color: #434B5C;\n",
              "        box-shadow: 0px 1px 3px 1px rgba(0, 0, 0, 0.15);\n",
              "        filter: drop-shadow(0px 1px 2px rgba(0, 0, 0, 0.3));\n",
              "        fill: #FFFFFF;\n",
              "      }\n",
              "    </style>\n",
              "    <button class=\"colab-df-generate\" onclick=\"generateWithVariable('data')\"\n",
              "            title=\"Generate code using this dataframe.\"\n",
              "            style=\"display:none;\">\n",
              "\n",
              "  <svg xmlns=\"http://www.w3.org/2000/svg\" height=\"24px\"viewBox=\"0 0 24 24\"\n",
              "       width=\"24px\">\n",
              "    <path d=\"M7,19H8.4L18.45,9,17,7.55,7,17.6ZM5,21V16.75L18.45,3.32a2,2,0,0,1,2.83,0l1.4,1.43a1.91,1.91,0,0,1,.58,1.4,1.91,1.91,0,0,1-.58,1.4L9.25,21ZM18.45,9,17,7.55Zm-12,3A5.31,5.31,0,0,0,4.9,8.1,5.31,5.31,0,0,0,1,6.5,5.31,5.31,0,0,0,4.9,4.9,5.31,5.31,0,0,0,6.5,1,5.31,5.31,0,0,0,8.1,4.9,5.31,5.31,0,0,0,12,6.5,5.46,5.46,0,0,0,6.5,12Z\"/>\n",
              "  </svg>\n",
              "    </button>\n",
              "    <script>\n",
              "      (() => {\n",
              "      const buttonEl =\n",
              "        document.querySelector('#id_42267576-6f82-4062-869a-347a5defe11c button.colab-df-generate');\n",
              "      buttonEl.style.display =\n",
              "        google.colab.kernel.accessAllowed ? 'block' : 'none';\n",
              "\n",
              "      buttonEl.onclick = () => {\n",
              "        google.colab.notebook.generateWithVariable('data');\n",
              "      }\n",
              "      })();\n",
              "    </script>\n",
              "  </div>\n",
              "\n",
              "    </div>\n",
              "  </div>\n"
            ],
            "application/vnd.google.colaboratory.intrinsic+json": {
              "type": "dataframe",
              "variable_name": "data",
              "summary": "{\n  \"name\": \"data\",\n  \"rows\": 234,\n  \"fields\": [\n    {\n      \"column\": \"Country\",\n      \"properties\": {\n        \"dtype\": \"category\",\n        \"num_unique_values\": 26,\n        \"samples\": [\n          \"France\",\n          \"Austria\",\n          \"Belgium\"\n        ],\n        \"semantic_type\": \"\",\n        \"description\": \"\"\n      }\n    },\n    {\n      \"column\": \"Year\",\n      \"properties\": {\n        \"dtype\": \"number\",\n        \"std\": 2,\n        \"min\": 2014,\n        \"max\": 2022,\n        \"num_unique_values\": 9,\n        \"samples\": [\n          2021,\n          2015,\n          2019\n        ],\n        \"semantic_type\": \"\",\n        \"description\": \"\"\n      }\n    },\n    {\n      \"column\": \"Waste\",\n      \"properties\": {\n        \"dtype\": \"number\",\n        \"std\": 88.89458461878577,\n        \"min\": 191.6575622649088,\n        \"max\": 636.2892255255023,\n        \"num_unique_values\": 234,\n        \"samples\": [\n          251.1241740207978,\n          446.8837866587627,\n          481.563572410658\n        ],\n        \"semantic_type\": \"\",\n        \"description\": \"\"\n      }\n    },\n    {\n      \"column\": \"Income\",\n      \"properties\": {\n        \"dtype\": \"number\",\n        \"std\": 10304.970873142054,\n        \"min\": 2155.0,\n        \"max\": 45310.0,\n        \"num_unique_values\": 233,\n        \"samples\": [\n          22879.0,\n          18592.0,\n          39206.0\n        ],\n        \"semantic_type\": \"\",\n        \"description\": \"\"\n      }\n    },\n    {\n      \"column\": \"Env Awareness\",\n      \"properties\": {\n        \"dtype\": \"number\",\n        \"std\": 0.03223908144561447,\n        \"min\": 0.85,\n        \"max\": 1.0,\n        \"num_unique_values\": 15,\n        \"samples\": [\n          0.92,\n          0.87,\n          0.95\n        ],\n        \"semantic_type\": \"\",\n        \"description\": \"\"\n      }\n    }\n  ]\n}"
            }
          },
          "metadata": {},
          "execution_count": 624
        }
      ],
      "source": [
        "# Load the CSV file\n",
        "data = pd.read_csv('https://raw.githubusercontent.com/ChacoGolden/Stat-Data-Science/refs/heads/main/Panel_Data_Inc_Edu_Infl_Wm_Hh_Age_Urb.csv')\n",
        "data_copy = data.copy()\n",
        "data = data.drop(['Education', 'Women', 'Household', 'Age', 'Urban'], axis=1)\n",
        "\n",
        "#Add data for heterogeneity\n",
        "url = \"https://raw.githubusercontent.com/ChacoGolden/Stat-Data-Science/refs/heads/main/Environment_awareness_long.csv\"  # Remplacer par l'URL de votre fichier CSV sur GitHub\n",
        "env_awareness_data = pd.read_csv(url)\n",
        "data = pd.merge(data, env_awareness_data[['Country', 'Year', 'Env Awareness']], on=['Country', 'Year'], how='left')# Inspect the first few rows of the data\n",
        "data"
      ]
    },
    {
      "cell_type": "code",
      "source": [
        "# Convert 'Country' and 'Year' to categorical variables (if not already)\n",
        "data['Country'] = data['Country'].astype('category')\n",
        "data['Year'] = data['Year'].astype('category')\n",
        "\n",
        "# Check for missing values\n",
        "print(data.isnull().sum())\n",
        "data = data[data['Country'] != 'Türkiye']\n",
        "print(data.head())\n",
        "num_countries = data['Country'].nunique()\n",
        "print(f\"Number of different countries: {num_countries}\")\n",
        "print(data.isnull().sum())"
      ],
      "metadata": {
        "id": "BGKmCctocvWs",
        "outputId": "a14b0560-8b7c-4157-e393-613a809dcae3",
        "colab": {
          "base_uri": "https://localhost:8080/"
        }
      },
      "execution_count": null,
      "outputs": [
        {
          "output_type": "stream",
          "name": "stdout",
          "text": [
            "Country            0\n",
            "Year               0\n",
            "Waste              0\n",
            "Income             0\n",
            "Env Awareness    162\n",
            "dtype: int64\n",
            "    Country  Year       Waste   Income  Env Awareness\n",
            "0   Belgium  2014  484.672171  21705.0           0.95\n",
            "1  Bulgaria  2014  376.962939   3311.0           0.94\n",
            "2   Czechia  2014  310.164578   7622.0           0.93\n",
            "3   Denmark  2014  636.289226  27861.0           0.96\n",
            "4   Germany  2014  456.714036  19733.0           0.94\n",
            "Number of different countries: 25\n",
            "Country            0\n",
            "Year               0\n",
            "Waste              0\n",
            "Income             0\n",
            "Env Awareness    153\n",
            "dtype: int64\n"
          ]
        }
      ]
    },
    {
      "cell_type": "markdown",
      "source": [
        "Il manque les data pour l'âge moyen en Turquie"
      ],
      "metadata": {
        "id": "wkRGFy8gqYeV"
      }
    },
    {
      "cell_type": "code",
      "source": [
        "data['Year'] = data['Year'].astype(int)  # Or float if years are not integers"
      ],
      "metadata": {
        "id": "OboFOvaCeGQQ",
        "outputId": "4fc5b57a-f745-4da5-9efe-bb7ce627787f",
        "colab": {
          "base_uri": "https://localhost:8080/"
        }
      },
      "execution_count": null,
      "outputs": [
        {
          "output_type": "stream",
          "name": "stderr",
          "text": [
            "<ipython-input-626-a91a8917f5c0>:1: SettingWithCopyWarning: \n",
            "A value is trying to be set on a copy of a slice from a DataFrame.\n",
            "Try using .loc[row_indexer,col_indexer] = value instead\n",
            "\n",
            "See the caveats in the documentation: https://pandas.pydata.org/pandas-docs/stable/user_guide/indexing.html#returning-a-view-versus-a-copy\n",
            "  data['Year'] = data['Year'].astype(int)  # Or float if years are not integers\n"
          ]
        }
      ]
    },
    {
      "cell_type": "code",
      "source": [
        "# Set 'Country' and 'Year' as index to create a MultiIndex\n",
        "data = data.set_index(['Country', 'Year'])"
      ],
      "metadata": {
        "id": "DuXR4kbAfEua"
      },
      "execution_count": null,
      "outputs": []
    },
    {
      "cell_type": "code",
      "source": [
        "# Define the dependent variable (Y) and independent variables (X)\n",
        "Y = data['Waste']\n",
        "X = data[['Income', 'Env Awareness']]\n",
        "\n",
        "# Add a constant term to the independent variables\n",
        "X = add_constant(X)"
      ],
      "metadata": {
        "id": "cCatAL2oeMM9"
      },
      "execution_count": null,
      "outputs": []
    },
    {
      "cell_type": "code",
      "source": [
        "# Run the fixed effects model\n",
        "model = PanelOLS(dependent=Y, exog=X, entity_effects=True, time_effects=True)\n",
        "results = model.fit(cov_type='robust')\n",
        "\n",
        "# Display the results\n",
        "print(results.summary)"
      ],
      "metadata": {
        "id": "0yOckbs0dEx_",
        "outputId": "a54962da-b938-46be-c11f-e7e336fe0494",
        "colab": {
          "base_uri": "https://localhost:8080/"
        }
      },
      "execution_count": null,
      "outputs": [
        {
          "output_type": "stream",
          "name": "stdout",
          "text": [
            "                          PanelOLS Estimation Summary                           \n",
            "================================================================================\n",
            "Dep. Variable:                  Waste   R-squared:                        0.0355\n",
            "Estimator:                   PanelOLS   R-squared (Between):             -0.8298\n",
            "No. Observations:                  72   R-squared (Within):              -0.2581\n",
            "Date:                Wed, Dec 18 2024   R-squared (Overall):             -0.7180\n",
            "Time:                        15:01:45   Log-likelihood                   -358.71\n",
            "Cov. Estimator:                Robust                                           \n",
            "                                        F-statistic:                      0.8086\n",
            "Entities:                          24   P-value                           0.4520\n",
            "Avg Obs:                       3.0000   Distribution:                    F(2,44)\n",
            "Min Obs:                       3.0000                                           \n",
            "Max Obs:                       3.0000   F-statistic (robust):             1.4461\n",
            "                                        P-value                           0.2465\n",
            "Time periods:                       3   Distribution:                    F(2,44)\n",
            "Avg Obs:                       24.000                                           \n",
            "Min Obs:                       24.000                                           \n",
            "Max Obs:                       24.000                                           \n",
            "                                                                                \n",
            "                               Parameter Estimates                               \n",
            "=================================================================================\n",
            "               Parameter  Std. Err.     T-stat    P-value    Lower CI    Upper CI\n",
            "---------------------------------------------------------------------------------\n",
            "const             54.094     399.58     0.1354     0.8929     -751.21      859.40\n",
            "Income           -0.0061     0.0063    -0.9679     0.3384     -0.0188      0.0066\n",
            "Env Awareness     473.62     391.25     1.2105     0.2325     -314.90      1262.1\n",
            "=================================================================================\n",
            "\n",
            "F-test for Poolability: 8.2124\n",
            "P-value: 0.0000\n",
            "Distribution: F(25,44)\n",
            "\n",
            "Included effects: Entity, Time\n"
          ]
        },
        {
          "output_type": "stream",
          "name": "stderr",
          "text": [
            "/usr/local/lib/python3.10/dist-packages/linearmodels/panel/model.py:1260: MissingValueWarning: \n",
            "Inputs contain missing values. Dropping rows with missing observations.\n",
            "  super().__init__(dependent, exog, weights=weights, check_rank=check_rank)\n",
            "/usr/local/lib/python3.10/dist-packages/linearmodels/panel/data.py:590: FutureWarning: The default of observed=False is deprecated and will be changed to True in a future version of pandas. Pass observed=False to retain current behavior or observed=True to adopt the future default and silence this warning.\n",
            "  group_mu = self._frame.groupby(level=level).transform(\"mean\")\n",
            "/usr/local/lib/python3.10/dist-packages/linearmodels/panel/data.py:590: FutureWarning: The default of observed=False is deprecated and will be changed to True in a future version of pandas. Pass observed=False to retain current behavior or observed=True to adopt the future default and silence this warning.\n",
            "  group_mu = self._frame.groupby(level=level).transform(\"mean\")\n",
            "/usr/local/lib/python3.10/dist-packages/linearmodels/panel/data.py:590: FutureWarning: The default of observed=False is deprecated and will be changed to True in a future version of pandas. Pass observed=False to retain current behavior or observed=True to adopt the future default and silence this warning.\n",
            "  group_mu = self._frame.groupby(level=level).transform(\"mean\")\n",
            "/usr/local/lib/python3.10/dist-packages/linearmodels/panel/data.py:590: FutureWarning: The default of observed=False is deprecated and will be changed to True in a future version of pandas. Pass observed=False to retain current behavior or observed=True to adopt the future default and silence this warning.\n",
            "  group_mu = self._frame.groupby(level=level).transform(\"mean\")\n",
            "/usr/local/lib/python3.10/dist-packages/linearmodels/panel/data.py:680: FutureWarning: The default of observed=False is deprecated and will be changed to True in a future version of pandas. Pass observed=False to retain current behavior or observed=True to adopt the future default and silence this warning.\n",
            "  mu = self._frame.groupby(level=level).mean()\n",
            "/usr/local/lib/python3.10/dist-packages/linearmodels/panel/data.py:680: FutureWarning: The default of observed=False is deprecated and will be changed to True in a future version of pandas. Pass observed=False to retain current behavior or observed=True to adopt the future default and silence this warning.\n",
            "  mu = self._frame.groupby(level=level).mean()\n",
            "/usr/local/lib/python3.10/dist-packages/linearmodels/panel/data.py:640: FutureWarning: The default of observed=False is deprecated and will be changed to True in a future version of pandas. Pass observed=False to retain current behavior or observed=True to adopt the future default and silence this warning.\n",
            "  out = self._frame.groupby(level=level).count()\n",
            "/usr/local/lib/python3.10/dist-packages/linearmodels/panel/data.py:680: FutureWarning: The default of observed=False is deprecated and will be changed to True in a future version of pandas. Pass observed=False to retain current behavior or observed=True to adopt the future default and silence this warning.\n",
            "  mu = self._frame.groupby(level=level).mean()\n",
            "/usr/local/lib/python3.10/dist-packages/linearmodels/panel/data.py:590: FutureWarning: The default of observed=False is deprecated and will be changed to True in a future version of pandas. Pass observed=False to retain current behavior or observed=True to adopt the future default and silence this warning.\n",
            "  group_mu = self._frame.groupby(level=level).transform(\"mean\")\n",
            "/usr/local/lib/python3.10/dist-packages/linearmodels/panel/data.py:680: FutureWarning: The default of observed=False is deprecated and will be changed to True in a future version of pandas. Pass observed=False to retain current behavior or observed=True to adopt the future default and silence this warning.\n",
            "  mu = self._frame.groupby(level=level).mean()\n",
            "/usr/local/lib/python3.10/dist-packages/linearmodels/panel/data.py:680: FutureWarning: The default of observed=False is deprecated and will be changed to True in a future version of pandas. Pass observed=False to retain current behavior or observed=True to adopt the future default and silence this warning.\n",
            "  mu = self._frame.groupby(level=level).mean()\n",
            "/usr/local/lib/python3.10/dist-packages/linearmodels/panel/data.py:590: FutureWarning: The default of observed=False is deprecated and will be changed to True in a future version of pandas. Pass observed=False to retain current behavior or observed=True to adopt the future default and silence this warning.\n",
            "  group_mu = self._frame.groupby(level=level).transform(\"mean\")\n"
          ]
        }
      ]
    },
    {
      "cell_type": "code",
      "source": [
        "# Create the interaction term\n",
        "data['Income_Awareness'] = data['Income'] * data['Env Awareness']"
      ],
      "metadata": {
        "id": "MfehmKVMgTQc"
      },
      "execution_count": null,
      "outputs": []
    },
    {
      "cell_type": "code",
      "source": [
        "# Define the dependent variable (Y) and independent variables (X)\n",
        "Y = data['Waste']\n",
        "X = data[['Income', 'Env Awareness', 'Income_Awareness']]\n",
        "\n",
        "# Add a constant term to the independent variables\n",
        "X = add_constant(X)\n",
        "\n",
        "# Run the fixed effects model with interaction term\n",
        "model = PanelOLS(dependent=Y, exog=X, entity_effects=True, time_effects=True)\n",
        "results = model.fit(cov_type='robust')\n",
        "\n",
        "# Display the results\n",
        "print(results.summary)"
      ],
      "metadata": {
        "id": "6fhO_uQhgU4d",
        "outputId": "b0320bfd-7501-42cd-f30c-17ba53752f32",
        "colab": {
          "base_uri": "https://localhost:8080/"
        }
      },
      "execution_count": null,
      "outputs": [
        {
          "output_type": "stream",
          "name": "stderr",
          "text": [
            "/usr/local/lib/python3.10/dist-packages/linearmodels/panel/model.py:1260: MissingValueWarning: \n",
            "Inputs contain missing values. Dropping rows with missing observations.\n",
            "  super().__init__(dependent, exog, weights=weights, check_rank=check_rank)\n",
            "/usr/local/lib/python3.10/dist-packages/linearmodels/panel/data.py:590: FutureWarning: The default of observed=False is deprecated and will be changed to True in a future version of pandas. Pass observed=False to retain current behavior or observed=True to adopt the future default and silence this warning.\n",
            "  group_mu = self._frame.groupby(level=level).transform(\"mean\")\n",
            "/usr/local/lib/python3.10/dist-packages/linearmodels/panel/data.py:590: FutureWarning: The default of observed=False is deprecated and will be changed to True in a future version of pandas. Pass observed=False to retain current behavior or observed=True to adopt the future default and silence this warning.\n",
            "  group_mu = self._frame.groupby(level=level).transform(\"mean\")\n"
          ]
        },
        {
          "output_type": "stream",
          "name": "stdout",
          "text": [
            "                          PanelOLS Estimation Summary                           \n",
            "================================================================================\n",
            "Dep. Variable:                  Waste   R-squared:                        0.0491\n",
            "Estimator:                   PanelOLS   R-squared (Between):             -0.8002\n",
            "No. Observations:                  72   R-squared (Within):              -0.2688\n",
            "Date:                Wed, Dec 18 2024   R-squared (Overall):             -0.6963\n",
            "Time:                        15:01:45   Log-likelihood                   -358.20\n",
            "Cov. Estimator:                Robust                                           \n",
            "                                        F-statistic:                      0.7406\n",
            "Entities:                          24   P-value                           0.5337\n",
            "Avg Obs:                       3.0000   Distribution:                    F(3,43)\n",
            "Min Obs:                       3.0000                                           \n",
            "Max Obs:                       3.0000   F-statistic (robust):             1.0312\n",
            "                                        P-value                           0.3883\n",
            "Time periods:                       3   Distribution:                    F(3,43)\n",
            "Avg Obs:                       24.000                                           \n",
            "Min Obs:                       24.000                                           \n",
            "Max Obs:                       24.000                                           \n",
            "                                                                                \n",
            "                                Parameter Estimates                                 \n",
            "====================================================================================\n",
            "                  Parameter  Std. Err.     T-stat    P-value    Lower CI    Upper CI\n",
            "------------------------------------------------------------------------------------\n",
            "const               -496.01     770.99    -0.6433     0.5234     -2050.9      1058.8\n",
            "Income               0.0308     0.0377     0.8178     0.4180     -0.0452      0.1069\n",
            "Env Awareness        1064.5     808.09     1.3173     0.1947     -565.15      2694.2\n",
            "Income_Awareness    -0.0394     0.0396    -0.9942     0.3257     -0.1193      0.0405\n",
            "====================================================================================\n",
            "\n",
            "F-test for Poolability: 6.8255\n",
            "P-value: 0.0000\n",
            "Distribution: F(25,43)\n",
            "\n",
            "Included effects: Entity, Time\n"
          ]
        },
        {
          "output_type": "stream",
          "name": "stderr",
          "text": [
            "/usr/local/lib/python3.10/dist-packages/linearmodels/panel/data.py:590: FutureWarning: The default of observed=False is deprecated and will be changed to True in a future version of pandas. Pass observed=False to retain current behavior or observed=True to adopt the future default and silence this warning.\n",
            "  group_mu = self._frame.groupby(level=level).transform(\"mean\")\n",
            "/usr/local/lib/python3.10/dist-packages/linearmodels/panel/data.py:590: FutureWarning: The default of observed=False is deprecated and will be changed to True in a future version of pandas. Pass observed=False to retain current behavior or observed=True to adopt the future default and silence this warning.\n",
            "  group_mu = self._frame.groupby(level=level).transform(\"mean\")\n",
            "/usr/local/lib/python3.10/dist-packages/linearmodels/panel/data.py:680: FutureWarning: The default of observed=False is deprecated and will be changed to True in a future version of pandas. Pass observed=False to retain current behavior or observed=True to adopt the future default and silence this warning.\n",
            "  mu = self._frame.groupby(level=level).mean()\n",
            "/usr/local/lib/python3.10/dist-packages/linearmodels/panel/data.py:680: FutureWarning: The default of observed=False is deprecated and will be changed to True in a future version of pandas. Pass observed=False to retain current behavior or observed=True to adopt the future default and silence this warning.\n",
            "  mu = self._frame.groupby(level=level).mean()\n",
            "/usr/local/lib/python3.10/dist-packages/linearmodels/panel/data.py:640: FutureWarning: The default of observed=False is deprecated and will be changed to True in a future version of pandas. Pass observed=False to retain current behavior or observed=True to adopt the future default and silence this warning.\n",
            "  out = self._frame.groupby(level=level).count()\n",
            "/usr/local/lib/python3.10/dist-packages/linearmodels/panel/data.py:680: FutureWarning: The default of observed=False is deprecated and will be changed to True in a future version of pandas. Pass observed=False to retain current behavior or observed=True to adopt the future default and silence this warning.\n",
            "  mu = self._frame.groupby(level=level).mean()\n",
            "/usr/local/lib/python3.10/dist-packages/linearmodels/panel/data.py:590: FutureWarning: The default of observed=False is deprecated and will be changed to True in a future version of pandas. Pass observed=False to retain current behavior or observed=True to adopt the future default and silence this warning.\n",
            "  group_mu = self._frame.groupby(level=level).transform(\"mean\")\n",
            "/usr/local/lib/python3.10/dist-packages/linearmodels/panel/data.py:680: FutureWarning: The default of observed=False is deprecated and will be changed to True in a future version of pandas. Pass observed=False to retain current behavior or observed=True to adopt the future default and silence this warning.\n",
            "  mu = self._frame.groupby(level=level).mean()\n",
            "/usr/local/lib/python3.10/dist-packages/linearmodels/panel/data.py:680: FutureWarning: The default of observed=False is deprecated and will be changed to True in a future version of pandas. Pass observed=False to retain current behavior or observed=True to adopt the future default and silence this warning.\n",
            "  mu = self._frame.groupby(level=level).mean()\n",
            "/usr/local/lib/python3.10/dist-packages/linearmodels/panel/data.py:590: FutureWarning: The default of observed=False is deprecated and will be changed to True in a future version of pandas. Pass observed=False to retain current behavior or observed=True to adopt the future default and silence this warning.\n",
            "  group_mu = self._frame.groupby(level=level).transform(\"mean\")\n"
          ]
        }
      ]
    },
    {
      "cell_type": "code",
      "source": [
        "import numpy as np\n",
        "\n",
        "# Transform 'Income' to its logarithm\n",
        "data['Log_Income'] = np.log(data['Income'])\n"
      ],
      "metadata": {
        "id": "WHMY42NKiL2E"
      },
      "execution_count": null,
      "outputs": []
    },
    {
      "cell_type": "code",
      "source": [
        "# Update the interaction term to reflect the log transformation\n",
        "data['Log_Income_Awareness'] = data['Log_Income'] * data['Env Awareness']\n",
        "X['Log_Income_Awareness'] = data['Log_Income_Awareness']\n",
        "\n",
        "# Define the dependent variable (Y) and independent variables (X)\n",
        "Y = data['Waste']\n",
        "X = data[['Log_Income', 'Log_Income_Awareness', 'Env Awareness']]\n",
        "\n",
        "\n",
        "\n",
        "# Add a constant term to the independent variables\n",
        "X = add_constant(X)\n",
        "\n",
        "# Run the fixed effects model\n",
        "model = PanelOLS(dependent=Y, exog=X, entity_effects=True, time_effects=True)\n",
        "results = model.fit(cov_type='robust')\n",
        "\n",
        "# Display the results\n",
        "print(results.summary)\n"
      ],
      "metadata": {
        "id": "yd4EVYE7hDlY",
        "outputId": "d9634e66-1884-4d60-a445-cc6ed7375a4b",
        "colab": {
          "base_uri": "https://localhost:8080/"
        }
      },
      "execution_count": null,
      "outputs": [
        {
          "output_type": "stream",
          "name": "stderr",
          "text": [
            "/usr/local/lib/python3.10/dist-packages/linearmodels/panel/model.py:1260: MissingValueWarning: \n",
            "Inputs contain missing values. Dropping rows with missing observations.\n",
            "  super().__init__(dependent, exog, weights=weights, check_rank=check_rank)\n",
            "/usr/local/lib/python3.10/dist-packages/linearmodels/panel/data.py:590: FutureWarning: The default of observed=False is deprecated and will be changed to True in a future version of pandas. Pass observed=False to retain current behavior or observed=True to adopt the future default and silence this warning.\n",
            "  group_mu = self._frame.groupby(level=level).transform(\"mean\")\n",
            "/usr/local/lib/python3.10/dist-packages/linearmodels/panel/data.py:590: FutureWarning: The default of observed=False is deprecated and will be changed to True in a future version of pandas. Pass observed=False to retain current behavior or observed=True to adopt the future default and silence this warning.\n",
            "  group_mu = self._frame.groupby(level=level).transform(\"mean\")\n",
            "/usr/local/lib/python3.10/dist-packages/linearmodels/panel/data.py:590: FutureWarning: The default of observed=False is deprecated and will be changed to True in a future version of pandas. Pass observed=False to retain current behavior or observed=True to adopt the future default and silence this warning.\n",
            "  group_mu = self._frame.groupby(level=level).transform(\"mean\")\n",
            "/usr/local/lib/python3.10/dist-packages/linearmodels/panel/data.py:590: FutureWarning: The default of observed=False is deprecated and will be changed to True in a future version of pandas. Pass observed=False to retain current behavior or observed=True to adopt the future default and silence this warning.\n",
            "  group_mu = self._frame.groupby(level=level).transform(\"mean\")\n",
            "/usr/local/lib/python3.10/dist-packages/linearmodels/panel/data.py:680: FutureWarning: The default of observed=False is deprecated and will be changed to True in a future version of pandas. Pass observed=False to retain current behavior or observed=True to adopt the future default and silence this warning.\n",
            "  mu = self._frame.groupby(level=level).mean()\n",
            "/usr/local/lib/python3.10/dist-packages/linearmodels/panel/data.py:680: FutureWarning: The default of observed=False is deprecated and will be changed to True in a future version of pandas. Pass observed=False to retain current behavior or observed=True to adopt the future default and silence this warning.\n",
            "  mu = self._frame.groupby(level=level).mean()\n",
            "/usr/local/lib/python3.10/dist-packages/linearmodels/panel/data.py:640: FutureWarning: The default of observed=False is deprecated and will be changed to True in a future version of pandas. Pass observed=False to retain current behavior or observed=True to adopt the future default and silence this warning.\n",
            "  out = self._frame.groupby(level=level).count()\n",
            "/usr/local/lib/python3.10/dist-packages/linearmodels/panel/data.py:680: FutureWarning: The default of observed=False is deprecated and will be changed to True in a future version of pandas. Pass observed=False to retain current behavior or observed=True to adopt the future default and silence this warning.\n",
            "  mu = self._frame.groupby(level=level).mean()\n",
            "/usr/local/lib/python3.10/dist-packages/linearmodels/panel/data.py:590: FutureWarning: The default of observed=False is deprecated and will be changed to True in a future version of pandas. Pass observed=False to retain current behavior or observed=True to adopt the future default and silence this warning.\n",
            "  group_mu = self._frame.groupby(level=level).transform(\"mean\")\n",
            "/usr/local/lib/python3.10/dist-packages/linearmodels/panel/data.py:680: FutureWarning: The default of observed=False is deprecated and will be changed to True in a future version of pandas. Pass observed=False to retain current behavior or observed=True to adopt the future default and silence this warning.\n",
            "  mu = self._frame.groupby(level=level).mean()\n",
            "/usr/local/lib/python3.10/dist-packages/linearmodels/panel/data.py:680: FutureWarning: The default of observed=False is deprecated and will be changed to True in a future version of pandas. Pass observed=False to retain current behavior or observed=True to adopt the future default and silence this warning.\n",
            "  mu = self._frame.groupby(level=level).mean()\n",
            "/usr/local/lib/python3.10/dist-packages/linearmodels/panel/data.py:590: FutureWarning: The default of observed=False is deprecated and will be changed to True in a future version of pandas. Pass observed=False to retain current behavior or observed=True to adopt the future default and silence this warning.\n",
            "  group_mu = self._frame.groupby(level=level).transform(\"mean\")\n"
          ]
        },
        {
          "output_type": "stream",
          "name": "stdout",
          "text": [
            "                          PanelOLS Estimation Summary                           \n",
            "================================================================================\n",
            "Dep. Variable:                  Waste   R-squared:                        0.0945\n",
            "Estimator:                   PanelOLS   R-squared (Between):             -0.0655\n",
            "No. Observations:                  72   R-squared (Within):               0.2476\n",
            "Date:                Wed, Dec 18 2024   R-squared (Overall):             -0.0043\n",
            "Time:                        15:01:45   Log-likelihood                   -356.44\n",
            "Cov. Estimator:                Robust                                           \n",
            "                                        F-statistic:                      1.4962\n",
            "Entities:                          24   P-value                           0.2291\n",
            "Avg Obs:                       3.0000   Distribution:                    F(3,43)\n",
            "Min Obs:                       3.0000                                           \n",
            "Max Obs:                       3.0000   F-statistic (robust):             1.2463\n",
            "                                        P-value                           0.3048\n",
            "Time periods:                       3   Distribution:                    F(3,43)\n",
            "Avg Obs:                       24.000                                           \n",
            "Min Obs:                       24.000                                           \n",
            "Max Obs:                       24.000                                           \n",
            "                                                                                \n",
            "                                  Parameter Estimates                                   \n",
            "========================================================================================\n",
            "                      Parameter  Std. Err.     T-stat    P-value    Lower CI    Upper CI\n",
            "----------------------------------------------------------------------------------------\n",
            "const                   -8495.5     6092.3    -1.3945     0.1703  -2.078e+04      3790.9\n",
            "Log_Income               870.15     621.22     1.4007     0.1685     -382.67      2123.0\n",
            "Log_Income_Awareness    -792.16     614.33    -1.2895     0.2041     -2031.1      446.75\n",
            "Env Awareness            8213.4     6039.0     1.3601     0.1809     -3965.4   2.039e+04\n",
            "========================================================================================\n",
            "\n",
            "F-test for Poolability: 6.8075\n",
            "P-value: 0.0000\n",
            "Distribution: F(25,43)\n",
            "\n",
            "Included effects: Entity, Time\n"
          ]
        }
      ]
    },
    {
      "cell_type": "code",
      "source": [
        "!pip install statsmodels"
      ],
      "metadata": {
        "id": "tQFP2fJy0Pzh",
        "outputId": "ccf63c41-b361-4bca-c8ae-1ff450f3ced8",
        "colab": {
          "base_uri": "https://localhost:8080/"
        }
      },
      "execution_count": null,
      "outputs": [
        {
          "output_type": "stream",
          "name": "stdout",
          "text": [
            "Requirement already satisfied: statsmodels in /usr/local/lib/python3.10/dist-packages (0.14.4)\n",
            "Requirement already satisfied: numpy<3,>=1.22.3 in /usr/local/lib/python3.10/dist-packages (from statsmodels) (1.26.4)\n",
            "Requirement already satisfied: scipy!=1.9.2,>=1.8 in /usr/local/lib/python3.10/dist-packages (from statsmodels) (1.13.1)\n",
            "Requirement already satisfied: pandas!=2.1.0,>=1.4 in /usr/local/lib/python3.10/dist-packages (from statsmodels) (2.2.2)\n",
            "Requirement already satisfied: patsy>=0.5.6 in /usr/local/lib/python3.10/dist-packages (from statsmodels) (1.0.1)\n",
            "Requirement already satisfied: packaging>=21.3 in /usr/local/lib/python3.10/dist-packages (from statsmodels) (24.2)\n",
            "Requirement already satisfied: python-dateutil>=2.8.2 in /usr/local/lib/python3.10/dist-packages (from pandas!=2.1.0,>=1.4->statsmodels) (2.8.2)\n",
            "Requirement already satisfied: pytz>=2020.1 in /usr/local/lib/python3.10/dist-packages (from pandas!=2.1.0,>=1.4->statsmodels) (2024.2)\n",
            "Requirement already satisfied: tzdata>=2022.7 in /usr/local/lib/python3.10/dist-packages (from pandas!=2.1.0,>=1.4->statsmodels) (2024.2)\n",
            "Requirement already satisfied: six>=1.5 in /usr/local/lib/python3.10/dist-packages (from python-dateutil>=2.8.2->pandas!=2.1.0,>=1.4->statsmodels) (1.17.0)\n"
          ]
        }
      ]
    },
    {
      "source": [
        "import statsmodels.api as sm # Import statsmodels and alias it as sm\n",
        "\n",
        "def variance_inflation_factor(exog, exog_idx):\n",
        "    \"\"\"\n",
        "    Calculate the variance inflation factor (VIF) for a given exogenous variable.\n",
        "\n",
        "    Parameters:\n",
        "    exog (np.ndarray): The exogenous data matrix.\n",
        "    exog_idx (int): The index of the exogenous variable to calculate VIF for.\n",
        "\n",
        "    Returns:\n",
        "    float: The VIF value.\n",
        "    \"\"\"\n",
        "    # Extract the variable of interest and the remaining variables\n",
        "    x_i = exog[:, exog_idx]\n",
        "    x_not_i = np.delete(exog, exog_idx, axis=1)\n",
        "    model = sm.OLS(x_i, x_not_i).fit()\n",
        "    r_squared_i = model.rsquared\n",
        "    vif = 1 / (1 - r_squared_i)\n",
        "    print(f\"VIF for {X.columns[exog_idx]}: {vif}\")  # Afficher le VIF pour chaque variable\n",
        "    return vif\n",
        "\n",
        "# Assuming 'data' is your DataFrame containing 'Env Awareness', 'Log_Income', 'Log_Income_Awareness'\n",
        "X = data[['Log_Income', 'Log_Income_Awareness', 'Env Awareness']]\n",
        "# Drop rows with missing or infinite values before adding a constant\n",
        "X = X.replace([np.inf, -np.inf], np.nan).dropna()\n",
        "X = sm.add_constant(X)  # Add a constant term (required for VIF calculation)\n",
        "\n",
        "# Calculate VIF for each variable in X (excluding the constant)\n",
        "vif_data = pd.DataFrame()\n",
        "vif_data[\"Variable\"] = X.columns[1:] # Exclude the constant term from the variable names\n",
        "# Calcul et attribution des valeurs VIF :\n",
        "vif_values = [variance_inflation_factor(X.values, i) for i in range(1, X.shape[1])]\n",
        "vif_data[\"VIF\"] = vif_values # Attribuer les valeurs VIF à la colonne \"VIF\"\n",
        "\n",
        "\n",
        "print(vif_data)\n"
      ],
      "cell_type": "code",
      "metadata": {
        "id": "HyC_vw1J3GQr",
        "outputId": "febf6663-e421-4a66-fc10-64f1e54288d0",
        "colab": {
          "base_uri": "https://localhost:8080/"
        }
      },
      "execution_count": null,
      "outputs": [
        {
          "output_type": "stream",
          "name": "stdout",
          "text": [
            "VIF for Log_Income: 842.7800319231774\n",
            "VIF for Log_Income_Awareness: 1340.7078542126003\n",
            "VIF for Env Awareness: 190.37593287457597\n",
            "               Variable          VIF\n",
            "0            Log_Income   842.780032\n",
            "1  Log_Income_Awareness  1340.707854\n",
            "2         Env Awareness   190.375933\n"
          ]
        }
      ]
    },
    {
      "cell_type": "markdown",
      "source": [
        "# Heterogeneity"
      ],
      "metadata": {
        "id": "tyl6Qi4b3fEY"
      }
    },
    {
      "cell_type": "code",
      "source": [
        "#Choix du threshold\n",
        "\n",
        "import matplotlib.pyplot as plt\n",
        "\n",
        "# Filtrer les données pour chaque année\n",
        "data_2014 = env_awareness_data[env_awareness_data['Year'] == 2014]['Env Awareness']\n",
        "data_2017 = env_awareness_data[env_awareness_data['Year'] == 2017]['Env Awareness']\n",
        "data_2020 = env_awareness_data[env_awareness_data['Year'] == 2020]['Env Awareness']\n",
        "\n",
        "plt.hist(data_2014, bins=10, alpha=0.5, label='2014')\n",
        "plt.hist(data_2017, bins=10, alpha=0.5, label='2017')\n",
        "plt.hist(data_2020, bins=10, alpha=0.5, label='2020')\n",
        "\n",
        "plt.xlabel(\"Percentage 'Important'\")\n",
        "plt.ylabel(\"Number of countries\")\n",
        "plt.title(\"Distribution of Env Awareness per year\")\n",
        "plt.legend(loc='upper right')\n",
        "plt.show()"
      ],
      "metadata": {
        "id": "aDoBTfMrGeDQ",
        "outputId": "b20359d3-afaa-42cd-f612-89667a24c2b8",
        "colab": {
          "base_uri": "https://localhost:8080/",
          "height": 472
        }
      },
      "execution_count": null,
      "outputs": [
        {
          "output_type": "display_data",
          "data": {
            "text/plain": [
              "<Figure size 640x480 with 1 Axes>"
            ],
            "image/png": "[encoded data removed]"
          },
          "metadata": {}
        }
      ]
    },
    {
      "cell_type": "code",
      "source": [
        "#The distribution is symetrical in this range. We could use the median as a threshold.\n",
        "#Extraire la colonne 'Env Awareness'\n",
        "env_awareness_values = env_awareness_data['Env Awareness']\n",
        "\n",
        "# Calculer le threshold\n",
        "threshold = np.median(env_awareness_values)\n",
        "print(f\"The median of 'Env Awareness' is: {threshold}\")"
      ],
      "metadata": {
        "id": "lBQCyywlJVew",
        "outputId": "bdbac0c2-0786-4e85-fbb9-59cad08d213b",
        "colab": {
          "base_uri": "https://localhost:8080/"
        }
      },
      "execution_count": null,
      "outputs": [
        {
          "output_type": "stream",
          "name": "stdout",
          "text": [
            "The median of 'Env Awareness' is: 0.95\n"
          ]
        }
      ]
    },
    {
      "source": [
        "# Inspecter les premières lignes pour comprendre la structure des données\n",
        "#print(env_awareness_data.head())"
      ],
      "cell_type": "code",
      "metadata": {
        "id": "862MULLvFg-r"
      },
      "execution_count": null,
      "outputs": []
    },
    {
      "source": [
        "# Créer la variable dummy\n",
        "env_awareness_data['Env Awareness Dummy'] = (env_awareness_data['Env Awareness'] >= threshold).astype(int)"
      ],
      "cell_type": "code",
      "metadata": {
        "id": "QUqTAcHOFi4v"
      },
      "execution_count": null,
      "outputs": []
    },
    {
      "source": [
        "# Fusionner les DataFrames en utilisant 'Country' et 'Year' comme clés\n",
        "data = pd.merge(data, env_awareness_data[['Country', 'Year', 'Env Awareness Dummy']], on=['Country', 'Year'], how='left')"
      ],
      "cell_type": "code",
      "metadata": {
        "id": "T9dcJ-JsFjby"
      },
      "execution_count": null,
      "outputs": []
    },
    {
      "source": [
        "import seaborn as sns\n",
        "import statsmodels.formula.api as smf # Import the necessary module and alias it as smf\n",
        "\n",
        "# Régression pour dummy = 0\n",
        "filtered_data_0 = data[data['Env Awareness Dummy'] == 0]\n",
        "if len(filtered_data_0['Waste'].unique()) > 1 and len(filtered_data_0['Log_Income'].unique()) > 1:\n",
        "    model_0 = smf.ols('Waste ~ Log_Income', data=filtered_data_0).fit()\n",
        "else:\n",
        "    print(\"Not enough unique values in data for dummy = 0 to perform regression.\")\n",
        "\n",
        "# Régression pour dummy = 1\n",
        "filtered_data_1 = data[data['Env Awareness Dummy'] == 1]\n",
        "if len(filtered_data_1['Waste'].unique()) > 1 and len(filtered_data_1['Log_Income'].unique()) > 1:\n",
        "    model_1 = smf.ols('Waste ~ Log_Income', data=filtered_data_1).fit()\n",
        "else:\n",
        "    print(\"Not enough unique values in data for dummy = 1 to perform regression.\")\n",
        "\n",
        "# Créer le graphique\n",
        "plt.figure(figsize=(10, 6))  # Ajuster la taille du graphique si nécessaire\n",
        "\n",
        "# Use specified colors and limit x-axis\n",
        "sns.regplot(x='Log_Income', y='Waste', data=filtered_data_0, label=\"Low level of environment awareness\", scatter_kws={'alpha':0.5}, color='skyblue')\n",
        "sns.regplot(x='Log_Income', y='Waste', data=filtered_data_1, label=\"High level of environment awareness\", scatter_kws={'alpha':0.5}, color='lightcoral')\n",
        "\n",
        "plt.xlabel(\"Median Net Income (euros)\")\n",
        "plt.ylabel(\"Waste per capita (kg)\")\n",
        "plt.title(\"Relationship between Income and Waste production depending on the level of environment awareness\")\n",
        "plt.legend()  # Afficher la légende pour identifier les deux régressions\n",
        "\n",
        "# Limit x-axis\n",
        "plt.xlim(data['Log_Income'].min() - 0.5, data['Log_Income'].max() + 0.5)  # Adjust values as needed\n",
        "\n",
        "plt.show()\n",
        "\n",
        "# Créer un DataFrame pour stocker les résultats\n",
        "results_df = pd.DataFrame({\n",
        "    'Env Awareness Dummy': [0, 1],\n",
        "    'Intercept': [model_0.params['Intercept'], model_1.params['Intercept']],\n",
        "    'Log_Income Coefficient': [model_0.params['Log_Income'], model_1.params['Log_Income']], # This is the column name you used\n",
        "    'P-value (Log_Income)': [model_0.pvalues['Log_Income'], model_1.pvalues['Log_Income']],\n",
        "    'R-squared': [model_0.rsquared, model_1.rsquared]\n",
        "})\n",
        "\n",
        "# Afficher le DataFrame\n",
        "print(results_df)\n",
        "\n",
        "# Analyse des résultats\n",
        "print(\"\\nAnalyse de l'hétérogénéité:\")\n",
        "print(\"---------------------------\")\n",
        "# Use 'Log_Income Coefficient' instead of 'Income Coefficient'\n",
        "if results_df.loc[0, 'Log_Income Coefficient'] > results_df.loc[1, 'Log_Income Coefficient']:\n",
        "    print(\"L'effet de l'Income sur Waste est plus fort lorsque la 'Env Awareness Dummy' est à 0.\")\n",
        "else:\n",
        "    print(\"L'effet de l'Income sur Waste est plus fort lorsque la 'Env Awareness Dummy' est à 1.\")\n",
        "\n",
        "# Use 'Log_Income Coefficient' instead of 'Income Coefficient'\n",
        "print(f\"La différence entre les coefficients d'Income est de {results_df.loc[0, 'Log_Income Coefficient'] - results_df.loc[1, 'Log_Income Coefficient']:.4f}.\")\n",
        "\n",
        "print(\"La significativité statistique du coefficient d'Income varie également selon la valeur de la dummy :\")\n",
        "print(f\"- Dummy = 0: p-value = {results_df.loc[0, 'P-value (Log_Income)']:.4f}\")\n",
        "print(f\"- Dummy = 1: p-value = {results_df.loc[1, 'P-value (Log_Income)']:.4f}\")"
      ],
      "cell_type": "code",
      "metadata": {
        "id": "l5XmDl4tFj7D",
        "outputId": "8b3eac38-683c-45cd-f783-10d0ab122dc7",
        "colab": {
          "base_uri": "https://localhost:8080/",
          "height": 825
        }
      },
      "execution_count": null,
      "outputs": [
        {
          "output_type": "display_data",
          "data": {
            "text/plain": [
              "<Figure size 1000x600 with 1 Axes>"
            ],
            "image/png": "[encoded data removed]"
          },
          "metadata": {}
        },
        {
          "output_type": "stream",
          "name": "stdout",
          "text": [
            "   Env Awareness Dummy   Intercept  Log_Income Coefficient  \\\n",
            "0                    0 -327.458232               77.777966   \n",
            "1                    1   32.885185               40.863465   \n",
            "\n",
            "   P-value (Log_Income)  R-squared  \n",
            "0              0.000277   0.342551  \n",
            "1              0.161707   0.053658  \n",
            "\n",
            "Analyse de l'hétérogénéité:\n",
            "---------------------------\n",
            "L'effet de l'Income sur Waste est plus fort lorsque la 'Env Awareness Dummy' est à 0.\n",
            "La différence entre les coefficients d'Income est de 36.9145.\n",
            "La significativité statistique du coefficient d'Income varie également selon la valeur de la dummy :\n",
            "- Dummy = 0: p-value = 0.0003\n",
            "- Dummy = 1: p-value = 0.1617\n"
          ]
        }
      ]
    },
    {
      "source": [
        "#Coefficients OLS\n",
        "\n",
        "url = \"https://raw.githubusercontent.com/ChacoGolden/Stat-Data-Science/refs/heads/main/Environment_awareness_long.csv\"  # Remplacer par l'URL de votre fichier CSV sur GitHub\n",
        "env_awareness_data = pd.read_csv(url)\n",
        "# Merge data_copy with env_awareness_data to add 'Env Awareness' column before using it\n",
        "data_copy = pd.merge(data_copy, env_awareness_data[['Country', 'Year', 'Env Awareness']], on=['Country', 'Year'], how='left')# Inspect the first few rows of the data\n",
        "data_copy['Income_Awareness'] = data_copy['Income'] * data_copy['Env Awareness']\n",
        "data_copy['Log_Income'] = np.log(data_copy['Income'])\n",
        "data_copy['Log_Income_Awareness'] = data_copy['Log_Income'] * data_copy['Env Awareness']\n",
        "\n",
        "# Convert 'Country' and 'Year' to categorical variables (if not already)\n",
        "data_copy['Country'] = data_copy['Country'].astype('category')\n",
        "data_copy['Year'] = data_copy['Year'].astype(int)  # Or float if years are not integers\n",
        "# Set 'Country' and 'Year' as index to create a MultiIndex\n",
        "data_copy = data_copy.set_index(['Country', 'Year'])\n",
        "\n",
        "# Define the dependent variable (Y) and independent variables (X)\n",
        "Y = data_copy['Waste']\n",
        "X = data_copy[['Log_Income', 'Env Awareness', 'Education', 'Age', 'Women', 'Urban', 'Household', 'Log_Income_Awareness']]\n",
        "\n",
        "# Add a constant term to the independent variables\n",
        "X = add_constant(X)\n"
      ],
      "cell_type": "code",
      "metadata": {
        "id": "vNlw5089nMvB"
      },
      "execution_count": null,
      "outputs": []
    },
    {
      "cell_type": "code",
      "source": [
        "# Extraire les coefficients et les intervalles de confiance\n",
        "coefs = results.params  # Access parameters from the results object\n",
        "conf_ints = results.conf_int()\n",
        "\n",
        "# Créer un graphique des coefficients\n",
        "plt.figure(figsize=(10, 6))\n",
        "# Access confidence intervals using column names 'lower' and 'upper'\n",
        "lower_error = coefs - conf_ints['lower']  # Changed from conf_ints[0]\n",
        "upper_error = conf_ints['upper'] - coefs  # Changed from conf_ints[1]\n",
        "yerr = np.vstack([lower_error, upper_error])  # Combine lower and upper errors for errorbar\n",
        "\n",
        "plt.errorbar(coefs.index, coefs.values, yerr=yerr, fmt='o', capsize=5)\n",
        "plt.axhline(0, color='gray', linestyle='--')\n",
        "plt.xticks(rotation=45, ha='right')\n",
        "plt.xlabel('Variables')\n",
        "plt.ylabel('Coefficients Log_Income')\n",
        "plt.title('Coefficients of OLS Regression')\n",
        "plt.show()\n",
        "\n",
        "# Créer un DataFrame des résultats\n",
        "results_df = pd.DataFrame({\n",
        "    'Variable': coefs.index,\n",
        "    'Coefficient': coefs.values,\n",
        "    'Lower CI': conf_ints['lower'], # Changed from conf_ints[0]\n",
        "    'Upper CI': conf_ints['upper']  # Changed from conf_ints[1]\n",
        "})\n",
        "\n",
        "# Afficher les résultats pour 'Income' dans chaque groupe de la dummy\n",
        "print(results_df[results_df['Variable'].isin(['Log_Income', 'Q(\"Env Awareness Dummy\")'])])"
      ],
      "metadata": {
        "id": "YkVK7oK8nl6-",
        "outputId": "50616863-f629-4a3c-9679-f354040c10f6",
        "colab": {
          "base_uri": "https://localhost:8080/",
          "height": 711
        }
      },
      "execution_count": null,
      "outputs": [
        {
          "output_type": "display_data",
          "data": {
            "text/plain": [
              "<Figure size 1000x600 with 1 Axes>"
            ],
            "image/png": "[encoded data removed]"
          },
          "metadata": {}
        },
        {
          "output_type": "stream",
          "name": "stdout",
          "text": [
            "              Variable  Coefficient    Lower CI    Upper CI\n",
            "Log_Income  Log_Income   870.147313 -382.669855  2122.96448\n"
          ]
        }
      ]
    },
    {
      "source": [
        "# Régression pour dummy = 0 (low awareness)\n",
        "filtered_data_0 = data[data['Env Awareness Dummy'] == 0]\n",
        "if len(filtered_data_0['Waste'].unique()) > 1 and len(filtered_data_0['Log_Income'].unique()) > 1:\n",
        "    model_0 = smf.ols('Waste ~ Log_Income', data=filtered_data_0).fit()\n",
        "    income_coef_0 = model_0.params['Log_Income']  # Extract Income coefficient for low awareness group\n",
        "    conf_int_0 = model_0.conf_int().loc['Log_Income']  # Get confidence intervals for Income\n",
        "else:\n",
        "    print(\"Not enough unique values in data for dummy = 0 to perform regression.\")\n",
        "    income_coef_0 = None  # Assign None if regression cannot be performed\n",
        "    conf_int_0 = None  # Assign None if regression cannot be performed\n",
        "\n",
        "# Régression pour dummy = 1 (high awareness)\n",
        "filtered_data_1 = data[data['Env Awareness Dummy'] == 1]\n",
        "if len(filtered_data_1['Waste'].unique()) > 1 and len(filtered_data_1['Income'].unique()) > 1:\n",
        "    model_1 = smf.ols('Waste ~ Log_Income', data=filtered_data_1).fit()\n",
        "    income_coef_1 = model_1.params['Log_Income']  # Extract Income coefficient for high awareness group\n",
        "    conf_int_1 = model_1.conf_int().loc['Log_Income']  # Get confidence intervals for Income\n",
        "else:\n",
        "    print(\"Not enough unique values in data for dummy = 1 to perform regression.\")\n",
        "    income_coef_1 = None  # Assign None if regression cannot be performed\n",
        "    conf_int_1 = None  # Assign None if regression cannot be performed\n",
        "\n",
        "# Afficher les coefficients\n",
        "print(f\"OLS Coefficient for Income (Low Awareness): {income_coef_0}\")\n",
        "print(f\"OLS Coefficient for Income (High Awareness): {income_coef_1}\")\n",
        "\n",
        "# Plotting the coefficients using plt.errorbar\n",
        "groups = ['Low Awareness', 'High Awareness']\n",
        "coefficients = [income_coef_0, income_coef_1]\n",
        "conf_intervals = [model_0.conf_int().loc['Log_Income'], model_1.conf_int().loc['Log_Income']]\n",
        "colors = ['lightblue', 'lightcoral']  # Colors for low and high awareness\n",
        "\n",
        "plt.figure(figsize=(8, 6))\n",
        "\n",
        "for i, group in enumerate(groups):\n",
        "    plt.errorbar(\n",
        "        i,\n",
        "        coefficients[i],\n",
        "        yerr=[[coefficients[i] - conf_intervals[i][0]], [conf_intervals[i][1] - coefficients[i]]],\n",
        "        fmt='o',\n",
        "        capsize=5,\n",
        "        label=group,\n",
        "        color=colors[i]  # Apply the desired color\n",
        "    )\n",
        "\n",
        "plt.xticks(range(len(groups)), groups)  # Set x-axis ticks to group names\n",
        "plt.ylabel('OLS Coefficient for Log(Income)')\n",
        "plt.title('Comparison of Log(Income) Coefficients for Low and High Awareness Groups')\n",
        "plt.legend()  # Show legend\n",
        "plt.xlim(-0.5, 1.5)\n",
        "plt.show()"
      ],
      "cell_type": "code",
      "metadata": {
        "id": "Yc1hDUdIs7ev",
        "outputId": "6ecf3a8f-a2a4-4410-dd27-7dc076552d9b",
        "colab": {
          "base_uri": "https://localhost:8080/",
          "height": 580
        }
      },
      "execution_count": null,
      "outputs": [
        {
          "output_type": "stream",
          "name": "stdout",
          "text": [
            "OLS Coefficient for Income (Low Awareness): 77.77796632757719\n",
            "OLS Coefficient for Income (High Awareness): 40.86346490366997\n"
          ]
        },
        {
          "output_type": "display_data",
          "data": {
            "text/plain": [
              "<Figure size 800x600 with 1 Axes>"
            ],
            "image/png": "[encoded data removed]"
          },
          "metadata": {}
        }
      ]
    }
  ]
}